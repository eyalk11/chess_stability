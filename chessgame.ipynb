{
 "cells": [
  {
   "cell_type": "markdown",
   "id": "0c8dd292-906b-425d-a559-c58399613fca",
   "metadata": {},
   "source": [
    "## init "
   ]
  },
  {
   "cell_type": "code",
   "execution_count": 1,
   "id": "193c46d7-97a8-4ca5-877d-b554a8cbf05f",
   "metadata": {
    "ExecuteTime": {
     "end_time": "2023-12-06T23:06:31.759346400Z",
     "start_time": "2023-12-06T23:06:31.578343200Z"
    },
    "tags": []
   },
   "outputs": [],
   "source": [
    "%load_ext autoreload\n",
    "%autoreload 2\n",
    "\n",
    "import chess\n",
    "import ipywidgets as widgets\n",
    "import chess.pgn\n",
    "import numpy as np\n",
    "import io\n",
    "import sys\n",
    "\n",
    "\n",
    "\n",
    "if sys.platform=='win32':\n",
    "    STOCKFISHPATH=r'c:/gitproj/stockfish/stockfish-windows-x86-64-avx2.exe'\n",
    "else:\n",
    "    STOCKFISHPATH='/home/jovyan/stockfish/src/stockfish'\n",
    "\n",
    "engine = chess.engine.SimpleEngine.popen_uci(STOCKFISHPATH)\n",
    "\n",
    "#this after engine\n",
    "import nest_asyncio\n",
    "nest_asyncio.apply()\n",
    "\n",
    "from ipywidgets import interact, interactive, fixed, interact_manual, SelectMultiple, Combobox, HBox, VBox\n",
    "import ipywidgets as widgets\n",
    "import chess.engine\n",
    "mycalc=None\n",
    "global mycalc\n",
    "\n",
    "from calc import Calculator\n",
    "class GameDispCalc(Calculator):    \n",
    "    def __init__(self,pgn):\n",
    "        Calculator.__init__(self, *self.eng_from_engine_path(STOCKFISHPATH))\n",
    "        self.pgn=pgn\n",
    "        \n",
    "    @staticmethod\n",
    "    def get_game(pgn):\n",
    "        p=chess.pgn.read_game(io.StringIO(pgn))\n",
    "        gam=p.game()\n",
    "\n",
    "        return gam \n",
    "    \n",
    "    def display_game(self):      \n",
    "        pgn=self.pgn\n",
    "        def rev(x):\n",
    "            a.value=(a.value-1)\n",
    "        def adv(x):\n",
    "            a.value=(a.value+1)\n",
    "\n",
    "        from ipywidgets import Layout, Button, Box, FloatText, Textarea, Dropdown, Label, IntSlider\n",
    "        gam = GameDispCalc.get_game(pgn)\n",
    "\n",
    "        butl=Layout(width='35px',justify_content='center')\n",
    "        ba=widgets.Button(description='<',layout=butl)\n",
    "        ba.on_click(rev)\n",
    "        ne=widgets.Button(description='>',layout=butl)\n",
    "        ne.on_click(adv)\n",
    "        mmax=len(list(gam.mainline_moves()))\n",
    "        a = widgets.IntSlider(value=0, min=0, max=mmax)\n",
    "        items = [ba,ne, widgets.Button(description='R',layout=butl),a]\n",
    "\n",
    "\n",
    "        gb2 = widgets.HBox(items,layout=Layout(display='flex',\n",
    "                flex_flow='row',\n",
    "                align_items='stretch',\n",
    "                width='100%'))\n",
    "        def f2(a):\n",
    "            #update game progress\n",
    "            cur=gam\n",
    "            for k in range(a):\n",
    "                cur=cur.next()\n",
    "            display( widgets.HTML(str(cur.board()._repr_svg_())))\n",
    "\n",
    "\n",
    "        def f3(a):\n",
    "            #update stability calc\n",
    "            cur=gam\n",
    "            for k in range(a):\n",
    "                cur=cur.next()\n",
    "\n",
    "            iswhite= (a%2 ==0)\n",
    "\n",
    "            curb=cur.board()\n",
    "            #display(list(curb.generate_legal_moves()))\n",
    "\n",
    "            self.print_stats(curb,iswhite,full=(a>5))\n",
    "\n",
    "        return VBox([gb2,widgets.interactive_output(f2,{'a':a}),widgets.interactive_output(f3,{'a':a})],layout=Layout(\n",
    "            display='flex',\n",
    "            flex_flow='column',\n",
    "            align_items='stretch',\n",
    "            width='90%'\n",
    "        ) )\n",
    "def display_game(pgn):\n",
    "    return GameDispCalc(pgn).display_game()\n",
    "\n",
    "def display_board(fen,iswhite=None,simp=False):\n",
    "    mycalc=Calculator.from_engine_path(STOCKFISHPATH)\n",
    "    b=chess.Board(fen)\n",
    "    if iswhite is None:\n",
    "        iswhite= b.turn\n",
    "    display( widgets.HTML(str(b._repr_svg_())))\n",
    "    if not simp:\n",
    "        mycalc.print_stats(b,iswhite)\n",
    "    \n",
    "    \n",
    "fen='r2Rr1k1/pp3pp1/2p2bbp/4n3/4pBP1/2Q1P1NP/PPP2P2/1K3B1R b - - 0 17'\n",
    "#mycalc=Calculator(engine,None)\n",
    "b=chess.Board(fen)\n"
   ]
  },
  {
   "cell_type": "code",
   "execution_count": 2,
   "id": "5d7515dd-a965-4f03-bea1-18a694eb0335",
   "metadata": {
    "tags": []
   },
   "outputs": [
    {
     "ename": "SyntaxError",
     "evalue": "unterminated string literal (detected at line 1) (717828725.py, line 1)",
     "output_type": "error",
     "traceback": [
      "\u001b[1;36m  Cell \u001b[1;32mIn[2], line 1\u001b[1;36m\u001b[0m\n\u001b[1;33m    display_board('r2r2k1/pp3pp1/2p2bbp/4n3/4NBP1/2Q1P2P/PPP2P2/1K3B1R b - - 0 18)\u001b[0m\n\u001b[1;37m                  ^\u001b[0m\n\u001b[1;31mSyntaxError\u001b[0m\u001b[1;31m:\u001b[0m unterminated string literal (detected at line 1)\n"
     ]
    }
   ],
   "source": [
    "display_board('r2r2k1/pp3pp1/2p2bbp/4n3/4NBP1/2Q1P2P/PPP2P2/1K3B1R b - - 0 18)"
   ]
  },
  {
   "cell_type": "code",
   "execution_count": 7,
   "id": "656ec84d-cbf5-491b-a6c7-5bb3e929341c",
   "metadata": {
    "tags": []
   },
   "outputs": [
    {
     "data": {
      "application/vnd.jupyter.widget-view+json": {
       "model_id": "33cb5a9899db4a9588575ffc76cc0f80",
       "version_major": 2,
       "version_minor": 0
      },
      "text/plain": [
       "HTML(value='<svg xmlns=\"http://www.w3.org/2000/svg\" xmlns:xlink=\"http://www.w3.org/1999/xlink\" viewBox=\"0 0 39…"
      ]
     },
     "metadata": {},
     "output_type": "display_data"
    },
    {
     "name": "stdout",
     "output_type": "stream",
     "text": [
      "score: -3.36\n",
      "stability factor: 37.60%\n",
      "num of reasonable moves: 7\n",
      "max(score) of reasonable: 1.22\n",
      "min(score)  of reasonable: -1.56\n",
      "faraction method: True\n",
      "moves by depth: {1: {('Raxd8', -403, 32), ('Rexd8', -518, -83)}, 2: {('Raxd8;Be2', -388, 15), ('Raxd8;Bc4', -356, 47), ('Raxd8;Bg2', -335, 68), ('Raxd8;a4', -318, 85), ('Raxd8;a3', -316, 87)}, 3: {('Raxd8;Bc4;a6', -414, -58), ('Raxd8;Bg2;c5', -420, -85), ('Raxd8;Bc4;b6', -399, -43), ('Raxd8;a3;b5', -389, -73), ('Raxd8;a3;a5', -409, -93), ('Raxd8;a3;Rd1+', -316, 0), ('Raxd8;Bc4;c5', -431, -75), ('Raxd8;Be2;h5', -488, -100), ('Raxd8;Bc4;Bh7', -416, -60), ('Raxd8;Bg2;h5', -417, -82), ('Raxd8;Bg2;b5', -411, -76), ('Raxd8;Bg2;a5', -422, -87), ('Raxd8;Bc4;a5', -399, -43), ('Raxd8;Bc4;h5', -410, -54)}, 4: {('Raxd8;Bg2;c5;g5', -325, 62), ('Raxd8;Bg2;b5;Qc5', -320, 97), ('Raxd8;a3;Rd1+;Ka2', -214, 0), ('Raxd8;Bg2;h5;g5', -492, 64), ('Raxd8;a3;b5;Qc5', -325, 39), ('Raxd8;a3;a5;Qc5', -321, 99), ('Raxd8;Bg2;b5;g5', -356, 61)}}\n"
     ]
    }
   ],
   "source": [
    "display_board(fen)"
   ]
  },
  {
   "cell_type": "code",
   "execution_count": 3,
   "id": "a238db56-e19f-45b0-bc5d-6e873fe5d5c3",
   "metadata": {
    "tags": []
   },
   "outputs": [],
   "source": [
    "ff='3rr1k1/pp3pp1/2p2bbp/4n3/4pBP1/2Q1P1NP/PPP2P2/1K3B1R w - - 0 18'"
   ]
  },
  {
   "cell_type": "code",
   "execution_count": 4,
   "id": "41aba06c-bbaa-4980-9e5c-28ed90465e2f",
   "metadata": {
    "tags": []
   },
   "outputs": [
    {
     "data": {
      "image/svg+xml": [
       "<svg xmlns=\"http://www.w3.org/2000/svg\" xmlns:xlink=\"http://www.w3.org/1999/xlink\" viewBox=\"0 0 390 390\" width=\"390\" height=\"390\"><desc><pre>. . . r r . k .\n",
       "p p . . . p p .\n",
       ". . p . . b b p\n",
       ". . . . n . . .\n",
       ". . . . p B P .\n",
       ". . Q . P . N P\n",
       "P P P . . P . .\n",
       ". K . . . B . R</pre></desc><defs><g id=\"white-pawn\" class=\"white pawn\"><path d=\"M22.5 9c-2.21 0-4 1.79-4 4 0 .89.29 1.71.78 2.38C17.33 16.5 16 18.59 16 21c0 2.03.94 3.84 2.41 5.03-3 1.06-7.41 5.55-7.41 13.47h23c0-7.92-4.41-12.41-7.41-13.47 1.47-1.19 2.41-3 2.41-5.03 0-2.41-1.33-4.5-3.28-5.62.49-.67.78-1.49.78-2.38 0-2.21-1.79-4-4-4z\" fill=\"#fff\" stroke=\"#000\" stroke-width=\"1.5\" stroke-linecap=\"round\" /></g><g id=\"white-knight\" class=\"white knight\" fill=\"none\" fill-rule=\"evenodd\" stroke=\"#000\" stroke-width=\"1.5\" stroke-linecap=\"round\" stroke-linejoin=\"round\"><path d=\"M 22,10 C 32.5,11 38.5,18 38,39 L 15,39 C 15,30 25,32.5 23,18\" style=\"fill:#ffffff; stroke:#000000;\" /><path d=\"M 24,18 C 24.38,20.91 18.45,25.37 16,27 C 13,29 13.18,31.34 11,31 C 9.958,30.06 12.41,27.96 11,28 C 10,28 11.19,29.23 10,30 C 9,30 5.997,31 6,26 C 6,24 12,14 12,14 C 12,14 13.89,12.1 14,10.5 C 13.27,9.506 13.5,8.5 13.5,7.5 C 14.5,6.5 16.5,10 16.5,10 L 18.5,10 C 18.5,10 19.28,8.008 21,7 C 22,7 22,10 22,10\" style=\"fill:#ffffff; stroke:#000000;\" /><path d=\"M 9.5 25.5 A 0.5 0.5 0 1 1 8.5,25.5 A 0.5 0.5 0 1 1 9.5 25.5 z\" style=\"fill:#000000; stroke:#000000;\" /><path d=\"M 15 15.5 A 0.5 1.5 0 1 1 14,15.5 A 0.5 1.5 0 1 1 15 15.5 z\" transform=\"matrix(0.866,0.5,-0.5,0.866,9.693,-5.173)\" style=\"fill:#000000; stroke:#000000;\" /></g><g id=\"white-bishop\" class=\"white bishop\" fill=\"none\" fill-rule=\"evenodd\" stroke=\"#000\" stroke-width=\"1.5\" stroke-linecap=\"round\" stroke-linejoin=\"round\"><g fill=\"#fff\" stroke-linecap=\"butt\"><path d=\"M9 36c3.39-.97 10.11.43 13.5-2 3.39 2.43 10.11 1.03 13.5 2 0 0 1.65.54 3 2-.68.97-1.65.99-3 .5-3.39-.97-10.11.46-13.5-1-3.39 1.46-10.11.03-13.5 1-1.354.49-2.323.47-3-.5 1.354-1.94 3-2 3-2zM15 32c2.5 2.5 12.5 2.5 15 0 .5-1.5 0-2 0-2 0-2.5-2.5-4-2.5-4 5.5-1.5 6-11.5-5-15.5-11 4-10.5 14-5 15.5 0 0-2.5 1.5-2.5 4 0 0-.5.5 0 2zM25 8a2.5 2.5 0 1 1-5 0 2.5 2.5 0 1 1 5 0z\" /></g><path d=\"M17.5 26h10M15 30h15m-7.5-14.5v5M20 18h5\" stroke-linejoin=\"miter\" /></g><g id=\"white-rook\" class=\"white rook\" fill=\"#fff\" fill-rule=\"evenodd\" stroke=\"#000\" stroke-width=\"1.5\" stroke-linecap=\"round\" stroke-linejoin=\"round\"><path d=\"M9 39h27v-3H9v3zM12 36v-4h21v4H12zM11 14V9h4v2h5V9h5v2h5V9h4v5\" stroke-linecap=\"butt\" /><path d=\"M34 14l-3 3H14l-3-3\" /><path d=\"M31 17v12.5H14V17\" stroke-linecap=\"butt\" stroke-linejoin=\"miter\" /><path d=\"M31 29.5l1.5 2.5h-20l1.5-2.5\" /><path d=\"M11 14h23\" fill=\"none\" stroke-linejoin=\"miter\" /></g><g id=\"white-queen\" class=\"white queen\" fill=\"#fff\" fill-rule=\"evenodd\" stroke=\"#000\" stroke-width=\"1.5\" stroke-linecap=\"round\" stroke-linejoin=\"round\"><path d=\"M8 12a2 2 0 1 1-4 0 2 2 0 1 1 4 0zM24.5 7.5a2 2 0 1 1-4 0 2 2 0 1 1 4 0zM41 12a2 2 0 1 1-4 0 2 2 0 1 1 4 0zM16 8.5a2 2 0 1 1-4 0 2 2 0 1 1 4 0zM33 9a2 2 0 1 1-4 0 2 2 0 1 1 4 0z\" /><path d=\"M9 26c8.5-1.5 21-1.5 27 0l2-12-7 11V11l-5.5 13.5-3-15-3 15-5.5-14V25L7 14l2 12zM9 26c0 2 1.5 2 2.5 4 1 1.5 1 1 .5 3.5-1.5 1-1.5 2.5-1.5 2.5-1.5 1.5.5 2.5.5 2.5 6.5 1 16.5 1 23 0 0 0 1.5-1 0-2.5 0 0 .5-1.5-1-2.5-.5-2.5-.5-2 .5-3.5 1-2 2.5-2 2.5-4-8.5-1.5-18.5-1.5-27 0z\" stroke-linecap=\"butt\" /><path d=\"M11.5 30c3.5-1 18.5-1 22 0M12 33.5c6-1 15-1 21 0\" fill=\"none\" /></g><g id=\"white-king\" class=\"white king\" fill=\"none\" fill-rule=\"evenodd\" stroke=\"#000\" stroke-width=\"1.5\" stroke-linecap=\"round\" stroke-linejoin=\"round\"><path d=\"M22.5 11.63V6M20 8h5\" stroke-linejoin=\"miter\" /><path d=\"M22.5 25s4.5-7.5 3-10.5c0 0-1-2.5-3-2.5s-3 2.5-3 2.5c-1.5 3 3 10.5 3 10.5\" fill=\"#fff\" stroke-linecap=\"butt\" stroke-linejoin=\"miter\" /><path d=\"M11.5 37c5.5 3.5 15.5 3.5 21 0v-7s9-4.5 6-10.5c-4-6.5-13.5-3.5-16 4V27v-3.5c-3.5-7.5-13-10.5-16-4-3 6 5 10 5 10V37z\" fill=\"#fff\" /><path d=\"M11.5 30c5.5-3 15.5-3 21 0m-21 3.5c5.5-3 15.5-3 21 0m-21 3.5c5.5-3 15.5-3 21 0\" /></g><g id=\"black-pawn\" class=\"black pawn\"><path d=\"M22.5 9c-2.21 0-4 1.79-4 4 0 .89.29 1.71.78 2.38C17.33 16.5 16 18.59 16 21c0 2.03.94 3.84 2.41 5.03-3 1.06-7.41 5.55-7.41 13.47h23c0-7.92-4.41-12.41-7.41-13.47 1.47-1.19 2.41-3 2.41-5.03 0-2.41-1.33-4.5-3.28-5.62.49-.67.78-1.49.78-2.38 0-2.21-1.79-4-4-4z\" fill=\"#000\" stroke=\"#000\" stroke-width=\"1.5\" stroke-linecap=\"round\" /></g><g id=\"black-knight\" class=\"black knight\" fill=\"none\" fill-rule=\"evenodd\" stroke=\"#000\" stroke-width=\"1.5\" stroke-linecap=\"round\" stroke-linejoin=\"round\"><path d=\"M 22,10 C 32.5,11 38.5,18 38,39 L 15,39 C 15,30 25,32.5 23,18\" style=\"fill:#000000; stroke:#000000;\" /><path d=\"M 24,18 C 24.38,20.91 18.45,25.37 16,27 C 13,29 13.18,31.34 11,31 C 9.958,30.06 12.41,27.96 11,28 C 10,28 11.19,29.23 10,30 C 9,30 5.997,31 6,26 C 6,24 12,14 12,14 C 12,14 13.89,12.1 14,10.5 C 13.27,9.506 13.5,8.5 13.5,7.5 C 14.5,6.5 16.5,10 16.5,10 L 18.5,10 C 18.5,10 19.28,8.008 21,7 C 22,7 22,10 22,10\" style=\"fill:#000000; stroke:#000000;\" /><path d=\"M 9.5 25.5 A 0.5 0.5 0 1 1 8.5,25.5 A 0.5 0.5 0 1 1 9.5 25.5 z\" style=\"fill:#ececec; stroke:#ececec;\" /><path d=\"M 15 15.5 A 0.5 1.5 0 1 1 14,15.5 A 0.5 1.5 0 1 1 15 15.5 z\" transform=\"matrix(0.866,0.5,-0.5,0.866,9.693,-5.173)\" style=\"fill:#ececec; stroke:#ececec;\" /><path d=\"M 24.55,10.4 L 24.1,11.85 L 24.6,12 C 27.75,13 30.25,14.49 32.5,18.75 C 34.75,23.01 35.75,29.06 35.25,39 L 35.2,39.5 L 37.45,39.5 L 37.5,39 C 38,28.94 36.62,22.15 34.25,17.66 C 31.88,13.17 28.46,11.02 25.06,10.5 L 24.55,10.4 z \" style=\"fill:#ececec; stroke:none;\" /></g><g id=\"black-bishop\" class=\"black bishop\" fill=\"none\" fill-rule=\"evenodd\" stroke=\"#000\" stroke-width=\"1.5\" stroke-linecap=\"round\" stroke-linejoin=\"round\"><path d=\"M9 36c3.39-.97 10.11.43 13.5-2 3.39 2.43 10.11 1.03 13.5 2 0 0 1.65.54 3 2-.68.97-1.65.99-3 .5-3.39-.97-10.11.46-13.5-1-3.39 1.46-10.11.03-13.5 1-1.354.49-2.323.47-3-.5 1.354-1.94 3-2 3-2zm6-4c2.5 2.5 12.5 2.5 15 0 .5-1.5 0-2 0-2 0-2.5-2.5-4-2.5-4 5.5-1.5 6-11.5-5-15.5-11 4-10.5 14-5 15.5 0 0-2.5 1.5-2.5 4 0 0-.5.5 0 2zM25 8a2.5 2.5 0 1 1-5 0 2.5 2.5 0 1 1 5 0z\" fill=\"#000\" stroke-linecap=\"butt\" /><path d=\"M17.5 26h10M15 30h15m-7.5-14.5v5M20 18h5\" stroke=\"#fff\" stroke-linejoin=\"miter\" /></g><g id=\"black-rook\" class=\"black rook\" fill=\"#000\" fill-rule=\"evenodd\" stroke=\"#000\" stroke-width=\"1.5\" stroke-linecap=\"round\" stroke-linejoin=\"round\"><path d=\"M9 39h27v-3H9v3zM12.5 32l1.5-2.5h17l1.5 2.5h-20zM12 36v-4h21v4H12z\" stroke-linecap=\"butt\" /><path d=\"M14 29.5v-13h17v13H14z\" stroke-linecap=\"butt\" stroke-linejoin=\"miter\" /><path d=\"M14 16.5L11 14h23l-3 2.5H14zM11 14V9h4v2h5V9h5v2h5V9h4v5H11z\" stroke-linecap=\"butt\" /><path d=\"M12 35.5h21M13 31.5h19M14 29.5h17M14 16.5h17M11 14h23\" fill=\"none\" stroke=\"#fff\" stroke-width=\"1\" stroke-linejoin=\"miter\" /></g><g id=\"black-king\" class=\"black king\" fill=\"none\" fill-rule=\"evenodd\" stroke=\"#000\" stroke-width=\"1.5\" stroke-linecap=\"round\" stroke-linejoin=\"round\"><path d=\"M22.5 11.63V6\" stroke-linejoin=\"miter\" /><path d=\"M22.5 25s4.5-7.5 3-10.5c0 0-1-2.5-3-2.5s-3 2.5-3 2.5c-1.5 3 3 10.5 3 10.5\" fill=\"#000\" stroke-linecap=\"butt\" stroke-linejoin=\"miter\" /><path d=\"M11.5 37c5.5 3.5 15.5 3.5 21 0v-7s9-4.5 6-10.5c-4-6.5-13.5-3.5-16 4V27v-3.5c-3.5-7.5-13-10.5-16-4-3 6 5 10 5 10V37z\" fill=\"#000\" /><path d=\"M20 8h5\" stroke-linejoin=\"miter\" /><path d=\"M32 29.5s8.5-4 6.03-9.65C34.15 14 25 18 22.5 24.5l.01 2.1-.01-2.1C20 18 9.906 14 6.997 19.85c-2.497 5.65 4.853 9 4.853 9M11.5 30c5.5-3 15.5-3 21 0m-21 3.5c5.5-3 15.5-3 21 0m-21 3.5c5.5-3 15.5-3 21 0\" stroke=\"#fff\" /></g></defs><rect x=\"7.5\" y=\"7.5\" width=\"375\" height=\"375\" fill=\"none\" stroke=\"#212121\" stroke-width=\"15\" /><g transform=\"translate(20, 1) scale(0.75, 0.75)\" fill=\"#e5e5e5\" stroke=\"#e5e5e5\"><path d=\"M23.328 10.016q-1.742 0-2.414.398-.672.398-.672 1.36 0 .765.5 1.218.508.445 1.375.445 1.196 0 1.914-.843.727-.852.727-2.258v-.32zm2.867-.594v4.992h-1.437v-1.328q-.492.797-1.227 1.18-.734.375-1.797.375-1.343 0-2.14-.75-.79-.758-.79-2.024 0-1.476.985-2.226.992-.75 2.953-.75h2.016V8.75q0-.992-.656-1.531-.649-.547-1.829-.547-.75 0-1.46.18-.711.18-1.368.539V6.062q.79-.304 1.532-.453.742-.156 1.445-.156 1.898 0 2.836.984.937.985.937 2.985z\" /></g><g transform=\"translate(20, 375) scale(0.75, 0.75)\" fill=\"#e5e5e5\" stroke=\"#e5e5e5\"><path d=\"M23.328 10.016q-1.742 0-2.414.398-.672.398-.672 1.36 0 .765.5 1.218.508.445 1.375.445 1.196 0 1.914-.843.727-.852.727-2.258v-.32zm2.867-.594v4.992h-1.437v-1.328q-.492.797-1.227 1.18-.734.375-1.797.375-1.343 0-2.14-.75-.79-.758-.79-2.024 0-1.476.985-2.226.992-.75 2.953-.75h2.016V8.75q0-.992-.656-1.531-.649-.547-1.829-.547-.75 0-1.46.18-.711.18-1.368.539V6.062q.79-.304 1.532-.453.742-.156 1.445-.156 1.898 0 2.836.984.937.985.937 2.985z\" /></g><g transform=\"translate(65, 1) scale(0.75, 0.75)\" fill=\"#e5e5e5\" stroke=\"#e5e5e5\"><path d=\"M24.922 10.047q0-1.586-.656-2.485-.649-.906-1.79-.906-1.14 0-1.796.906-.649.899-.649 2.485 0 1.586.649 2.492.656.898 1.797.898 1.14 0 1.789-.898.656-.906.656-2.492zm-4.89-3.055q.452-.781 1.14-1.156.695-.383 1.656-.383 1.594 0 2.586 1.266 1 1.265 1 3.328 0 2.062-1 3.328-.992 1.266-2.586 1.266-.96 0-1.656-.375-.688-.383-1.14-1.164v1.312h-1.446V2.258h1.445z\" /></g><g transform=\"translate(65, 375) scale(0.75, 0.75)\" fill=\"#e5e5e5\" stroke=\"#e5e5e5\"><path d=\"M24.922 10.047q0-1.586-.656-2.485-.649-.906-1.79-.906-1.14 0-1.796.906-.649.899-.649 2.485 0 1.586.649 2.492.656.898 1.797.898 1.14 0 1.789-.898.656-.906.656-2.492zm-4.89-3.055q.452-.781 1.14-1.156.695-.383 1.656-.383 1.594 0 2.586 1.266 1 1.265 1 3.328 0 2.062-1 3.328-.992 1.266-2.586 1.266-.96 0-1.656-.375-.688-.383-1.14-1.164v1.312h-1.446V2.258h1.445z\" /></g><g transform=\"translate(110, 1) scale(0.75, 0.75)\" fill=\"#e5e5e5\" stroke=\"#e5e5e5\"><path d=\"M25.96 6v1.344q-.608-.336-1.226-.5-.609-.172-1.234-.172-1.398 0-2.172.89-.773.883-.773 2.485 0 1.601.773 2.492.774.883 2.172.883.625 0 1.234-.164.618-.172 1.227-.508v1.328q-.602.281-1.25.422-.64.14-1.367.14-1.977 0-3.14-1.242-1.165-1.242-1.165-3.351 0-2.14 1.172-3.367 1.18-1.227 3.227-1.227.664 0 1.296.14.633.134 1.227.407z\" /></g><g transform=\"translate(110, 375) scale(0.75, 0.75)\" fill=\"#e5e5e5\" stroke=\"#e5e5e5\"><path d=\"M25.96 6v1.344q-.608-.336-1.226-.5-.609-.172-1.234-.172-1.398 0-2.172.89-.773.883-.773 2.485 0 1.601.773 2.492.774.883 2.172.883.625 0 1.234-.164.618-.172 1.227-.508v1.328q-.602.281-1.25.422-.64.14-1.367.14-1.977 0-3.14-1.242-1.165-1.242-1.165-3.351 0-2.14 1.172-3.367 1.18-1.227 3.227-1.227.664 0 1.296.14.633.134 1.227.407z\" /></g><g transform=\"translate(155, 1) scale(0.75, 0.75)\" fill=\"#e5e5e5\" stroke=\"#e5e5e5\"><path d=\"M24.973 6.992V2.258h1.437v12.156h-1.437v-1.312q-.453.78-1.149 1.164-.687.375-1.656.375-1.586 0-2.586-1.266-.992-1.266-.992-3.328 0-2.063.992-3.328 1-1.266 2.586-1.266.969 0 1.656.383.696.375 1.149 1.156zm-4.899 3.055q0 1.586.649 2.492.656.898 1.797.898 1.14 0 1.796-.898.657-.906.657-2.492 0-1.586-.657-2.485-.656-.906-1.796-.906-1.141 0-1.797.906-.649.899-.649 2.485z\" /></g><g transform=\"translate(155, 375) scale(0.75, 0.75)\" fill=\"#e5e5e5\" stroke=\"#e5e5e5\"><path d=\"M24.973 6.992V2.258h1.437v12.156h-1.437v-1.312q-.453.78-1.149 1.164-.687.375-1.656.375-1.586 0-2.586-1.266-.992-1.266-.992-3.328 0-2.063.992-3.328 1-1.266 2.586-1.266.969 0 1.656.383.696.375 1.149 1.156zm-4.899 3.055q0 1.586.649 2.492.656.898 1.797.898 1.14 0 1.796-.898.657-.906.657-2.492 0-1.586-.657-2.485-.656-.906-1.796-.906-1.141 0-1.797.906-.649.899-.649 2.485z\" /></g><g transform=\"translate(200, 1) scale(0.75, 0.75)\" fill=\"#e5e5e5\" stroke=\"#e5e5e5\"><path d=\"M26.555 9.68v.703h-6.61q.094 1.484.89 2.265.806.774 2.235.774.828 0 1.602-.203.781-.203 1.547-.61v1.36q-.774.328-1.586.5-.813.172-1.649.172-2.093 0-3.32-1.22-1.219-1.218-1.219-3.296 0-2.148 1.157-3.406 1.164-1.266 3.132-1.266 1.766 0 2.79 1.14 1.03 1.134 1.03 3.087zm-1.438-.422q-.015-1.18-.664-1.883-.64-.703-1.703-.703-1.203 0-1.93.68-.718.68-.828 1.914z\" /></g><g transform=\"translate(200, 375) scale(0.75, 0.75)\" fill=\"#e5e5e5\" stroke=\"#e5e5e5\"><path d=\"M26.555 9.68v.703h-6.61q.094 1.484.89 2.265.806.774 2.235.774.828 0 1.602-.203.781-.203 1.547-.61v1.36q-.774.328-1.586.5-.813.172-1.649.172-2.093 0-3.32-1.22-1.219-1.218-1.219-3.296 0-2.148 1.157-3.406 1.164-1.266 3.132-1.266 1.766 0 2.79 1.14 1.03 1.134 1.03 3.087zm-1.438-.422q-.015-1.18-.664-1.883-.64-.703-1.703-.703-1.203 0-1.93.68-.718.68-.828 1.914z\" /></g><g transform=\"translate(245, 1) scale(0.75, 0.75)\" fill=\"#e5e5e5\" stroke=\"#e5e5e5\"><path d=\"M25.285 2.258v1.195H23.91q-.773 0-1.078.313-.297.312-.297 1.125v.773h2.367v1.117h-2.367v7.633H21.09V6.781h-1.375V5.664h1.375v-.61q0-1.46.68-2.124.68-.672 2.156-.672z\" /></g><g transform=\"translate(245, 375) scale(0.75, 0.75)\" fill=\"#e5e5e5\" stroke=\"#e5e5e5\"><path d=\"M25.285 2.258v1.195H23.91q-.773 0-1.078.313-.297.312-.297 1.125v.773h2.367v1.117h-2.367v7.633H21.09V6.781h-1.375V5.664h1.375v-.61q0-1.46.68-2.124.68-.672 2.156-.672z\" /></g><g transform=\"translate(290, 1) scale(0.75, 0.75)\" fill=\"#e5e5e5\" stroke=\"#e5e5e5\"><path d=\"M24.973 9.937q0-1.562-.649-2.421-.64-.86-1.804-.86-1.157 0-1.805.86-.64.859-.64 2.421 0 1.555.64 2.415.648.859 1.805.859 1.164 0 1.804-.86.649-.859.649-2.414zm1.437 3.391q0 2.234-.992 3.32-.992 1.094-3.04 1.094-.757 0-1.429-.117-.672-.11-1.304-.344v-1.398q.632.344 1.25.508.617.164 1.257.164 1.414 0 2.118-.743.703-.734.703-2.226v-.711q-.446.773-1.141 1.156-.695.383-1.664.383-1.61 0-2.594-1.227-.984-1.226-.984-3.25 0-2.03.984-3.257.985-1.227 2.594-1.227.969 0 1.664.383t1.14 1.156V5.664h1.438z\" /></g><g transform=\"translate(290, 375) scale(0.75, 0.75)\" fill=\"#e5e5e5\" stroke=\"#e5e5e5\"><path d=\"M24.973 9.937q0-1.562-.649-2.421-.64-.86-1.804-.86-1.157 0-1.805.86-.64.859-.64 2.421 0 1.555.64 2.415.648.859 1.805.859 1.164 0 1.804-.86.649-.859.649-2.414zm1.437 3.391q0 2.234-.992 3.32-.992 1.094-3.04 1.094-.757 0-1.429-.117-.672-.11-1.304-.344v-1.398q.632.344 1.25.508.617.164 1.257.164 1.414 0 2.118-.743.703-.734.703-2.226v-.711q-.446.773-1.141 1.156-.695.383-1.664.383-1.61 0-2.594-1.227-.984-1.226-.984-3.25 0-2.03.984-3.257.985-1.227 2.594-1.227.969 0 1.664.383t1.14 1.156V5.664h1.438z\" /></g><g transform=\"translate(335, 1) scale(0.75, 0.75)\" fill=\"#e5e5e5\" stroke=\"#e5e5e5\"><path d=\"M26.164 9.133v5.281h-1.437V9.18q0-1.243-.485-1.86-.484-.617-1.453-.617-1.164 0-1.836.742-.672.742-.672 2.024v4.945h-1.445V2.258h1.445v4.765q.516-.789 1.211-1.18.703-.39 1.617-.39 1.508 0 2.282.938.773.93.773 2.742z\" /></g><g transform=\"translate(335, 375) scale(0.75, 0.75)\" fill=\"#e5e5e5\" stroke=\"#e5e5e5\"><path d=\"M26.164 9.133v5.281h-1.437V9.18q0-1.243-.485-1.86-.484-.617-1.453-.617-1.164 0-1.836.742-.672.742-.672 2.024v4.945h-1.445V2.258h1.445v4.765q.516-.789 1.211-1.18.703-.39 1.617-.39 1.508 0 2.282.938.773.93.773 2.742z\" /></g><g transform=\"translate(0, 335) scale(0.75, 0.75)\" fill=\"#e5e5e5\" stroke=\"#e5e5e5\"><path d=\"M6.754 26.996h2.578v-8.898l-2.805.562v-1.437l2.79-.563h1.578v10.336h2.578v1.328h-6.72z\" /></g><g transform=\"translate(375, 335) scale(0.75, 0.75)\" fill=\"#e5e5e5\" stroke=\"#e5e5e5\"><path d=\"M6.754 26.996h2.578v-8.898l-2.805.562v-1.437l2.79-.563h1.578v10.336h2.578v1.328h-6.72z\" /></g><g transform=\"translate(0, 290) scale(0.75, 0.75)\" fill=\"#e5e5e5\" stroke=\"#e5e5e5\"><path d=\"M8.195 26.996h5.508v1.328H6.297v-1.328q.898-.93 2.445-2.492 1.555-1.57 1.953-2.024.758-.851 1.055-1.437.305-.594.305-1.164 0-.93-.657-1.516-.648-.586-1.695-.586-.742 0-1.57.258-.82.258-1.758.781v-1.593q.953-.383 1.781-.578.828-.196 1.516-.196 1.812 0 2.89.906 1.079.907 1.079 2.422 0 .72-.274 1.368-.265.64-.976 1.515-.196.227-1.243 1.313-1.046 1.078-2.953 3.023z\" /></g><g transform=\"translate(375, 290) scale(0.75, 0.75)\" fill=\"#e5e5e5\" stroke=\"#e5e5e5\"><path d=\"M8.195 26.996h5.508v1.328H6.297v-1.328q.898-.93 2.445-2.492 1.555-1.57 1.953-2.024.758-.851 1.055-1.437.305-.594.305-1.164 0-.93-.657-1.516-.648-.586-1.695-.586-.742 0-1.57.258-.82.258-1.758.781v-1.593q.953-.383 1.781-.578.828-.196 1.516-.196 1.812 0 2.89.906 1.079.907 1.079 2.422 0 .72-.274 1.368-.265.64-.976 1.515-.196.227-1.243 1.313-1.046 1.078-2.953 3.023z\" /></g><g transform=\"translate(0, 245) scale(0.75, 0.75)\" fill=\"#e5e5e5\" stroke=\"#e5e5e5\"><path d=\"M11.434 22.035q1.132.242 1.765 1.008.64.766.64 1.89 0 1.727-1.187 2.672-1.187.946-3.375.946-.734 0-1.515-.149-.774-.14-1.602-.43V26.45q.656.383 1.438.578.78.196 1.632.196 1.485 0 2.258-.586.782-.586.782-1.703 0-1.032-.727-1.61-.719-.586-2.008-.586h-1.36v-1.297h1.423q1.164 0 1.78-.46.618-.47.618-1.344 0-.899-.64-1.375-.633-.485-1.82-.485-.65 0-1.391.141-.743.14-1.633.437V16.95q.898-.25 1.68-.375.788-.125 1.484-.125 1.797 0 2.844.82 1.046.813 1.046 2.204 0 .968-.554 1.64-.555.664-1.578.922z\" /></g><g transform=\"translate(375, 245) scale(0.75, 0.75)\" fill=\"#e5e5e5\" stroke=\"#e5e5e5\"><path d=\"M11.434 22.035q1.132.242 1.765 1.008.64.766.64 1.89 0 1.727-1.187 2.672-1.187.946-3.375.946-.734 0-1.515-.149-.774-.14-1.602-.43V26.45q.656.383 1.438.578.78.196 1.632.196 1.485 0 2.258-.586.782-.586.782-1.703 0-1.032-.727-1.61-.719-.586-2.008-.586h-1.36v-1.297h1.423q1.164 0 1.78-.46.618-.47.618-1.344 0-.899-.64-1.375-.633-.485-1.82-.485-.65 0-1.391.141-.743.14-1.633.437V16.95q.898-.25 1.68-.375.788-.125 1.484-.125 1.797 0 2.844.82 1.046.813 1.046 2.204 0 .968-.554 1.64-.555.664-1.578.922z\" /></g><g transform=\"translate(0, 200) scale(0.75, 0.75)\" fill=\"#e5e5e5\" stroke=\"#e5e5e5\"><path d=\"M11.016 18.035L7.03 24.262h3.985zm-.414-1.375h1.984v7.602h1.664v1.312h-1.664v2.75h-1.57v-2.75H5.75v-1.523z\" /></g><g transform=\"translate(375, 200) scale(0.75, 0.75)\" fill=\"#e5e5e5\" stroke=\"#e5e5e5\"><path d=\"M11.016 18.035L7.03 24.262h3.985zm-.414-1.375h1.984v7.602h1.664v1.312h-1.664v2.75h-1.57v-2.75H5.75v-1.523z\" /></g><g transform=\"translate(0, 155) scale(0.75, 0.75)\" fill=\"#e5e5e5\" stroke=\"#e5e5e5\"><path d=\"M6.719 16.66h6.195v1.328h-4.75v2.86q.344-.118.688-.172.343-.063.687-.063 1.953 0 3.094 1.07 1.14 1.07 1.14 2.899 0 1.883-1.171 2.93-1.172 1.039-3.305 1.039-.735 0-1.5-.125-.758-.125-1.57-.375v-1.586q.703.383 1.453.57.75.188 1.586.188 1.351 0 2.14-.711.79-.711.79-1.93 0-1.219-.79-1.93-.789-.71-2.14-.71-.633 0-1.266.14-.625.14-1.281.438z\" /></g><g transform=\"translate(375, 155) scale(0.75, 0.75)\" fill=\"#e5e5e5\" stroke=\"#e5e5e5\"><path d=\"M6.719 16.66h6.195v1.328h-4.75v2.86q.344-.118.688-.172.343-.063.687-.063 1.953 0 3.094 1.07 1.14 1.07 1.14 2.899 0 1.883-1.171 2.93-1.172 1.039-3.305 1.039-.735 0-1.5-.125-.758-.125-1.57-.375v-1.586q.703.383 1.453.57.75.188 1.586.188 1.351 0 2.14-.711.79-.711.79-1.93 0-1.219-.79-1.93-.789-.71-2.14-.71-.633 0-1.266.14-.625.14-1.281.438z\" /></g><g transform=\"translate(0, 110) scale(0.75, 0.75)\" fill=\"#e5e5e5\" stroke=\"#e5e5e5\"><path d=\"M10.137 21.863q-1.063 0-1.688.727-.617.726-.617 1.992 0 1.258.617 1.992.625.727 1.688.727 1.062 0 1.68-.727.624-.734.624-1.992 0-1.266-.625-1.992-.617-.727-1.68-.727zm3.133-4.945v1.437q-.594-.28-1.204-.43-.601-.148-1.195-.148-1.562 0-2.39 1.055-.82 1.055-.938 3.188.46-.68 1.156-1.04.696-.367 1.531-.367 1.758 0 2.774 1.07 1.023 1.063 1.023 2.899 0 1.797-1.062 2.883-1.063 1.086-2.828 1.086-2.024 0-3.094-1.547-1.07-1.555-1.07-4.5 0-2.766 1.312-4.406 1.313-1.649 3.524-1.649.593 0 1.195.117.61.118 1.266.352z\" /></g><g transform=\"translate(375, 110) scale(0.75, 0.75)\" fill=\"#e5e5e5\" stroke=\"#e5e5e5\"><path d=\"M10.137 21.863q-1.063 0-1.688.727-.617.726-.617 1.992 0 1.258.617 1.992.625.727 1.688.727 1.062 0 1.68-.727.624-.734.624-1.992 0-1.266-.625-1.992-.617-.727-1.68-.727zm3.133-4.945v1.437q-.594-.28-1.204-.43-.601-.148-1.195-.148-1.562 0-2.39 1.055-.82 1.055-.938 3.188.46-.68 1.156-1.04.696-.367 1.531-.367 1.758 0 2.774 1.07 1.023 1.063 1.023 2.899 0 1.797-1.062 2.883-1.063 1.086-2.828 1.086-2.024 0-3.094-1.547-1.07-1.555-1.07-4.5 0-2.766 1.312-4.406 1.313-1.649 3.524-1.649.593 0 1.195.117.61.118 1.266.352z\" /></g><g transform=\"translate(0, 65) scale(0.75, 0.75)\" fill=\"#e5e5e5\" stroke=\"#e5e5e5\"><path d=\"M6.25 16.66h7.5v.672L9.516 28.324H7.867l3.985-10.336H6.25z\" /></g><g transform=\"translate(375, 65) scale(0.75, 0.75)\" fill=\"#e5e5e5\" stroke=\"#e5e5e5\"><path d=\"M6.25 16.66h7.5v.672L9.516 28.324H7.867l3.985-10.336H6.25z\" /></g><g transform=\"translate(0, 20) scale(0.75, 0.75)\" fill=\"#e5e5e5\" stroke=\"#e5e5e5\"><path d=\"M10 22.785q-1.125 0-1.773.602-.641.601-.641 1.656t.64 1.656q.649.602 1.774.602t1.773-.602q.649-.61.649-1.656 0-1.055-.649-1.656-.64-.602-1.773-.602zm-1.578-.672q-1.016-.25-1.586-.945-.563-.695-.563-1.695 0-1.399.993-2.211 1-.813 2.734-.813 1.742 0 2.734.813.993.812.993 2.21 0 1-.57 1.696-.563.695-1.571.945 1.14.266 1.773 1.04.641.773.641 1.89 0 1.695-1.04 2.602-1.03.906-2.96.906t-2.969-.906Q6 26.738 6 25.043q0-1.117.64-1.89.641-.774 1.782-1.04zm-.578-2.492q0 .906.562 1.414.57.508 1.594.508 1.016 0 1.586-.508.578-.508.578-1.414 0-.906-.578-1.414-.57-.508-1.586-.508-1.023 0-1.594.508-.562.508-.562 1.414z\" /></g><g transform=\"translate(375, 20) scale(0.75, 0.75)\" fill=\"#e5e5e5\" stroke=\"#e5e5e5\"><path d=\"M10 22.785q-1.125 0-1.773.602-.641.601-.641 1.656t.64 1.656q.649.602 1.774.602t1.773-.602q.649-.61.649-1.656 0-1.055-.649-1.656-.64-.602-1.773-.602zm-1.578-.672q-1.016-.25-1.586-.945-.563-.695-.563-1.695 0-1.399.993-2.211 1-.813 2.734-.813 1.742 0 2.734.813.993.812.993 2.21 0 1-.57 1.696-.563.695-1.571.945 1.14.266 1.773 1.04.641.773.641 1.89 0 1.695-1.04 2.602-1.03.906-2.96.906t-2.969-.906Q6 26.738 6 25.043q0-1.117.64-1.89.641-.774 1.782-1.04zm-.578-2.492q0 .906.562 1.414.57.508 1.594.508 1.016 0 1.586-.508.578-.508.578-1.414 0-.906-.578-1.414-.57-.508-1.586-.508-1.023 0-1.594.508-.562.508-.562 1.414z\" /></g><rect x=\"15\" y=\"330\" width=\"45\" height=\"45\" class=\"square dark a1\" stroke=\"none\" fill=\"#d18b47\" /><rect x=\"60\" y=\"330\" width=\"45\" height=\"45\" class=\"square light b1\" stroke=\"none\" fill=\"#ffce9e\" /><rect x=\"105\" y=\"330\" width=\"45\" height=\"45\" class=\"square dark c1\" stroke=\"none\" fill=\"#d18b47\" /><rect x=\"150\" y=\"330\" width=\"45\" height=\"45\" class=\"square light d1\" stroke=\"none\" fill=\"#ffce9e\" /><rect x=\"195\" y=\"330\" width=\"45\" height=\"45\" class=\"square dark e1\" stroke=\"none\" fill=\"#d18b47\" /><rect x=\"240\" y=\"330\" width=\"45\" height=\"45\" class=\"square light f1\" stroke=\"none\" fill=\"#ffce9e\" /><rect x=\"285\" y=\"330\" width=\"45\" height=\"45\" class=\"square dark g1\" stroke=\"none\" fill=\"#d18b47\" /><rect x=\"330\" y=\"330\" width=\"45\" height=\"45\" class=\"square light h1\" stroke=\"none\" fill=\"#ffce9e\" /><rect x=\"15\" y=\"285\" width=\"45\" height=\"45\" class=\"square light a2\" stroke=\"none\" fill=\"#ffce9e\" /><rect x=\"60\" y=\"285\" width=\"45\" height=\"45\" class=\"square dark b2\" stroke=\"none\" fill=\"#d18b47\" /><rect x=\"105\" y=\"285\" width=\"45\" height=\"45\" class=\"square light c2\" stroke=\"none\" fill=\"#ffce9e\" /><rect x=\"150\" y=\"285\" width=\"45\" height=\"45\" class=\"square dark d2\" stroke=\"none\" fill=\"#d18b47\" /><rect x=\"195\" y=\"285\" width=\"45\" height=\"45\" class=\"square light e2\" stroke=\"none\" fill=\"#ffce9e\" /><rect x=\"240\" y=\"285\" width=\"45\" height=\"45\" class=\"square dark f2\" stroke=\"none\" fill=\"#d18b47\" /><rect x=\"285\" y=\"285\" width=\"45\" height=\"45\" class=\"square light g2\" stroke=\"none\" fill=\"#ffce9e\" /><rect x=\"330\" y=\"285\" width=\"45\" height=\"45\" class=\"square dark h2\" stroke=\"none\" fill=\"#d18b47\" /><rect x=\"15\" y=\"240\" width=\"45\" height=\"45\" class=\"square dark a3\" stroke=\"none\" fill=\"#d18b47\" /><rect x=\"60\" y=\"240\" width=\"45\" height=\"45\" class=\"square light b3\" stroke=\"none\" fill=\"#ffce9e\" /><rect x=\"105\" y=\"240\" width=\"45\" height=\"45\" class=\"square dark c3\" stroke=\"none\" fill=\"#d18b47\" /><rect x=\"150\" y=\"240\" width=\"45\" height=\"45\" class=\"square light d3\" stroke=\"none\" fill=\"#ffce9e\" /><rect x=\"195\" y=\"240\" width=\"45\" height=\"45\" class=\"square dark e3\" stroke=\"none\" fill=\"#d18b47\" /><rect x=\"240\" y=\"240\" width=\"45\" height=\"45\" class=\"square light f3\" stroke=\"none\" fill=\"#ffce9e\" /><rect x=\"285\" y=\"240\" width=\"45\" height=\"45\" class=\"square dark g3\" stroke=\"none\" fill=\"#d18b47\" /><rect x=\"330\" y=\"240\" width=\"45\" height=\"45\" class=\"square light h3\" stroke=\"none\" fill=\"#ffce9e\" /><rect x=\"15\" y=\"195\" width=\"45\" height=\"45\" class=\"square light a4\" stroke=\"none\" fill=\"#ffce9e\" /><rect x=\"60\" y=\"195\" width=\"45\" height=\"45\" class=\"square dark b4\" stroke=\"none\" fill=\"#d18b47\" /><rect x=\"105\" y=\"195\" width=\"45\" height=\"45\" class=\"square light c4\" stroke=\"none\" fill=\"#ffce9e\" /><rect x=\"150\" y=\"195\" width=\"45\" height=\"45\" class=\"square dark d4\" stroke=\"none\" fill=\"#d18b47\" /><rect x=\"195\" y=\"195\" width=\"45\" height=\"45\" class=\"square light e4\" stroke=\"none\" fill=\"#ffce9e\" /><rect x=\"240\" y=\"195\" width=\"45\" height=\"45\" class=\"square dark f4\" stroke=\"none\" fill=\"#d18b47\" /><rect x=\"285\" y=\"195\" width=\"45\" height=\"45\" class=\"square light g4\" stroke=\"none\" fill=\"#ffce9e\" /><rect x=\"330\" y=\"195\" width=\"45\" height=\"45\" class=\"square dark h4\" stroke=\"none\" fill=\"#d18b47\" /><rect x=\"15\" y=\"150\" width=\"45\" height=\"45\" class=\"square dark a5\" stroke=\"none\" fill=\"#d18b47\" /><rect x=\"60\" y=\"150\" width=\"45\" height=\"45\" class=\"square light b5\" stroke=\"none\" fill=\"#ffce9e\" /><rect x=\"105\" y=\"150\" width=\"45\" height=\"45\" class=\"square dark c5\" stroke=\"none\" fill=\"#d18b47\" /><rect x=\"150\" y=\"150\" width=\"45\" height=\"45\" class=\"square light d5\" stroke=\"none\" fill=\"#ffce9e\" /><rect x=\"195\" y=\"150\" width=\"45\" height=\"45\" class=\"square dark e5\" stroke=\"none\" fill=\"#d18b47\" /><rect x=\"240\" y=\"150\" width=\"45\" height=\"45\" class=\"square light f5\" stroke=\"none\" fill=\"#ffce9e\" /><rect x=\"285\" y=\"150\" width=\"45\" height=\"45\" class=\"square dark g5\" stroke=\"none\" fill=\"#d18b47\" /><rect x=\"330\" y=\"150\" width=\"45\" height=\"45\" class=\"square light h5\" stroke=\"none\" fill=\"#ffce9e\" /><rect x=\"15\" y=\"105\" width=\"45\" height=\"45\" class=\"square light a6\" stroke=\"none\" fill=\"#ffce9e\" /><rect x=\"60\" y=\"105\" width=\"45\" height=\"45\" class=\"square dark b6\" stroke=\"none\" fill=\"#d18b47\" /><rect x=\"105\" y=\"105\" width=\"45\" height=\"45\" class=\"square light c6\" stroke=\"none\" fill=\"#ffce9e\" /><rect x=\"150\" y=\"105\" width=\"45\" height=\"45\" class=\"square dark d6\" stroke=\"none\" fill=\"#d18b47\" /><rect x=\"195\" y=\"105\" width=\"45\" height=\"45\" class=\"square light e6\" stroke=\"none\" fill=\"#ffce9e\" /><rect x=\"240\" y=\"105\" width=\"45\" height=\"45\" class=\"square dark f6\" stroke=\"none\" fill=\"#d18b47\" /><rect x=\"285\" y=\"105\" width=\"45\" height=\"45\" class=\"square light g6\" stroke=\"none\" fill=\"#ffce9e\" /><rect x=\"330\" y=\"105\" width=\"45\" height=\"45\" class=\"square dark h6\" stroke=\"none\" fill=\"#d18b47\" /><rect x=\"15\" y=\"60\" width=\"45\" height=\"45\" class=\"square dark a7\" stroke=\"none\" fill=\"#d18b47\" /><rect x=\"60\" y=\"60\" width=\"45\" height=\"45\" class=\"square light b7\" stroke=\"none\" fill=\"#ffce9e\" /><rect x=\"105\" y=\"60\" width=\"45\" height=\"45\" class=\"square dark c7\" stroke=\"none\" fill=\"#d18b47\" /><rect x=\"150\" y=\"60\" width=\"45\" height=\"45\" class=\"square light d7\" stroke=\"none\" fill=\"#ffce9e\" /><rect x=\"195\" y=\"60\" width=\"45\" height=\"45\" class=\"square dark e7\" stroke=\"none\" fill=\"#d18b47\" /><rect x=\"240\" y=\"60\" width=\"45\" height=\"45\" class=\"square light f7\" stroke=\"none\" fill=\"#ffce9e\" /><rect x=\"285\" y=\"60\" width=\"45\" height=\"45\" class=\"square dark g7\" stroke=\"none\" fill=\"#d18b47\" /><rect x=\"330\" y=\"60\" width=\"45\" height=\"45\" class=\"square light h7\" stroke=\"none\" fill=\"#ffce9e\" /><rect x=\"15\" y=\"15\" width=\"45\" height=\"45\" class=\"square light a8\" stroke=\"none\" fill=\"#ffce9e\" /><rect x=\"60\" y=\"15\" width=\"45\" height=\"45\" class=\"square dark b8\" stroke=\"none\" fill=\"#d18b47\" /><rect x=\"105\" y=\"15\" width=\"45\" height=\"45\" class=\"square light c8\" stroke=\"none\" fill=\"#ffce9e\" /><rect x=\"150\" y=\"15\" width=\"45\" height=\"45\" class=\"square dark d8\" stroke=\"none\" fill=\"#d18b47\" /><rect x=\"195\" y=\"15\" width=\"45\" height=\"45\" class=\"square light e8\" stroke=\"none\" fill=\"#ffce9e\" /><rect x=\"240\" y=\"15\" width=\"45\" height=\"45\" class=\"square dark f8\" stroke=\"none\" fill=\"#d18b47\" /><rect x=\"285\" y=\"15\" width=\"45\" height=\"45\" class=\"square light g8\" stroke=\"none\" fill=\"#ffce9e\" /><rect x=\"330\" y=\"15\" width=\"45\" height=\"45\" class=\"square dark h8\" stroke=\"none\" fill=\"#d18b47\" /><use href=\"#white-king\" xlink:href=\"#white-king\" transform=\"translate(60, 330)\" /><use href=\"#white-bishop\" xlink:href=\"#white-bishop\" transform=\"translate(240, 330)\" /><use href=\"#white-rook\" xlink:href=\"#white-rook\" transform=\"translate(330, 330)\" /><use href=\"#white-pawn\" xlink:href=\"#white-pawn\" transform=\"translate(15, 285)\" /><use href=\"#white-pawn\" xlink:href=\"#white-pawn\" transform=\"translate(60, 285)\" /><use href=\"#white-pawn\" xlink:href=\"#white-pawn\" transform=\"translate(105, 285)\" /><use href=\"#white-pawn\" xlink:href=\"#white-pawn\" transform=\"translate(240, 285)\" /><use href=\"#white-queen\" xlink:href=\"#white-queen\" transform=\"translate(105, 240)\" /><use href=\"#white-pawn\" xlink:href=\"#white-pawn\" transform=\"translate(195, 240)\" /><use href=\"#white-knight\" xlink:href=\"#white-knight\" transform=\"translate(285, 240)\" /><use href=\"#white-pawn\" xlink:href=\"#white-pawn\" transform=\"translate(330, 240)\" /><use href=\"#black-pawn\" xlink:href=\"#black-pawn\" transform=\"translate(195, 195)\" /><use href=\"#white-bishop\" xlink:href=\"#white-bishop\" transform=\"translate(240, 195)\" /><use href=\"#white-pawn\" xlink:href=\"#white-pawn\" transform=\"translate(285, 195)\" /><use href=\"#black-knight\" xlink:href=\"#black-knight\" transform=\"translate(195, 150)\" /><use href=\"#black-pawn\" xlink:href=\"#black-pawn\" transform=\"translate(105, 105)\" /><use href=\"#black-bishop\" xlink:href=\"#black-bishop\" transform=\"translate(240, 105)\" /><use href=\"#black-bishop\" xlink:href=\"#black-bishop\" transform=\"translate(285, 105)\" /><use href=\"#black-pawn\" xlink:href=\"#black-pawn\" transform=\"translate(330, 105)\" /><use href=\"#black-pawn\" xlink:href=\"#black-pawn\" transform=\"translate(15, 60)\" /><use href=\"#black-pawn\" xlink:href=\"#black-pawn\" transform=\"translate(60, 60)\" /><use href=\"#black-pawn\" xlink:href=\"#black-pawn\" transform=\"translate(240, 60)\" /><use href=\"#black-pawn\" xlink:href=\"#black-pawn\" transform=\"translate(285, 60)\" /><use href=\"#black-rook\" xlink:href=\"#black-rook\" transform=\"translate(150, 15)\" /><use href=\"#black-rook\" xlink:href=\"#black-rook\" transform=\"translate(195, 15)\" /><use href=\"#black-king\" xlink:href=\"#black-king\" transform=\"translate(285, 15)\" /></svg>"
      ],
      "text/plain": [
       "Board('3rr1k1/pp3pp1/2p2bbp/4n3/4pBP1/2Q1P1NP/PPP2P2/1K3B1R w - - 0 18')"
      ]
     },
     "execution_count": 4,
     "metadata": {},
     "output_type": "execute_result"
    }
   ],
   "source": [
    "chess.Board(ff)"
   ]
  },
  {
   "cell_type": "code",
   "execution_count": 12,
   "id": "01811a77-cbfc-4a6c-bc9e-172d193f9d32",
   "metadata": {
    "tags": []
   },
   "outputs": [
    {
     "data": {
      "image/svg+xml": [
       "<svg xmlns=\"http://www.w3.org/2000/svg\" xmlns:xlink=\"http://www.w3.org/1999/xlink\" viewBox=\"0 0 390 390\" width=\"390\" height=\"390\"><desc><pre>r . . R r . k .\n",
       "p p . . . p p .\n",
       ". . p . . b b p\n",
       ". . . . n . . .\n",
       ". . . . p B P .\n",
       ". . Q . P . N P\n",
       "P P P . . P . .\n",
       ". K . . . B . R</pre></desc><defs><g id=\"white-pawn\" class=\"white pawn\"><path d=\"M22.5 9c-2.21 0-4 1.79-4 4 0 .89.29 1.71.78 2.38C17.33 16.5 16 18.59 16 21c0 2.03.94 3.84 2.41 5.03-3 1.06-7.41 5.55-7.41 13.47h23c0-7.92-4.41-12.41-7.41-13.47 1.47-1.19 2.41-3 2.41-5.03 0-2.41-1.33-4.5-3.28-5.62.49-.67.78-1.49.78-2.38 0-2.21-1.79-4-4-4z\" fill=\"#fff\" stroke=\"#000\" stroke-width=\"1.5\" stroke-linecap=\"round\" /></g><g id=\"white-knight\" class=\"white knight\" fill=\"none\" fill-rule=\"evenodd\" stroke=\"#000\" stroke-width=\"1.5\" stroke-linecap=\"round\" stroke-linejoin=\"round\"><path d=\"M 22,10 C 32.5,11 38.5,18 38,39 L 15,39 C 15,30 25,32.5 23,18\" style=\"fill:#ffffff; stroke:#000000;\" /><path d=\"M 24,18 C 24.38,20.91 18.45,25.37 16,27 C 13,29 13.18,31.34 11,31 C 9.958,30.06 12.41,27.96 11,28 C 10,28 11.19,29.23 10,30 C 9,30 5.997,31 6,26 C 6,24 12,14 12,14 C 12,14 13.89,12.1 14,10.5 C 13.27,9.506 13.5,8.5 13.5,7.5 C 14.5,6.5 16.5,10 16.5,10 L 18.5,10 C 18.5,10 19.28,8.008 21,7 C 22,7 22,10 22,10\" style=\"fill:#ffffff; stroke:#000000;\" /><path d=\"M 9.5 25.5 A 0.5 0.5 0 1 1 8.5,25.5 A 0.5 0.5 0 1 1 9.5 25.5 z\" style=\"fill:#000000; stroke:#000000;\" /><path d=\"M 15 15.5 A 0.5 1.5 0 1 1 14,15.5 A 0.5 1.5 0 1 1 15 15.5 z\" transform=\"matrix(0.866,0.5,-0.5,0.866,9.693,-5.173)\" style=\"fill:#000000; stroke:#000000;\" /></g><g id=\"white-bishop\" class=\"white bishop\" fill=\"none\" fill-rule=\"evenodd\" stroke=\"#000\" stroke-width=\"1.5\" stroke-linecap=\"round\" stroke-linejoin=\"round\"><g fill=\"#fff\" stroke-linecap=\"butt\"><path d=\"M9 36c3.39-.97 10.11.43 13.5-2 3.39 2.43 10.11 1.03 13.5 2 0 0 1.65.54 3 2-.68.97-1.65.99-3 .5-3.39-.97-10.11.46-13.5-1-3.39 1.46-10.11.03-13.5 1-1.354.49-2.323.47-3-.5 1.354-1.94 3-2 3-2zM15 32c2.5 2.5 12.5 2.5 15 0 .5-1.5 0-2 0-2 0-2.5-2.5-4-2.5-4 5.5-1.5 6-11.5-5-15.5-11 4-10.5 14-5 15.5 0 0-2.5 1.5-2.5 4 0 0-.5.5 0 2zM25 8a2.5 2.5 0 1 1-5 0 2.5 2.5 0 1 1 5 0z\" /></g><path d=\"M17.5 26h10M15 30h15m-7.5-14.5v5M20 18h5\" stroke-linejoin=\"miter\" /></g><g id=\"white-rook\" class=\"white rook\" fill=\"#fff\" fill-rule=\"evenodd\" stroke=\"#000\" stroke-width=\"1.5\" stroke-linecap=\"round\" stroke-linejoin=\"round\"><path d=\"M9 39h27v-3H9v3zM12 36v-4h21v4H12zM11 14V9h4v2h5V9h5v2h5V9h4v5\" stroke-linecap=\"butt\" /><path d=\"M34 14l-3 3H14l-3-3\" /><path d=\"M31 17v12.5H14V17\" stroke-linecap=\"butt\" stroke-linejoin=\"miter\" /><path d=\"M31 29.5l1.5 2.5h-20l1.5-2.5\" /><path d=\"M11 14h23\" fill=\"none\" stroke-linejoin=\"miter\" /></g><g id=\"white-queen\" class=\"white queen\" fill=\"#fff\" fill-rule=\"evenodd\" stroke=\"#000\" stroke-width=\"1.5\" stroke-linecap=\"round\" stroke-linejoin=\"round\"><path d=\"M8 12a2 2 0 1 1-4 0 2 2 0 1 1 4 0zM24.5 7.5a2 2 0 1 1-4 0 2 2 0 1 1 4 0zM41 12a2 2 0 1 1-4 0 2 2 0 1 1 4 0zM16 8.5a2 2 0 1 1-4 0 2 2 0 1 1 4 0zM33 9a2 2 0 1 1-4 0 2 2 0 1 1 4 0z\" /><path d=\"M9 26c8.5-1.5 21-1.5 27 0l2-12-7 11V11l-5.5 13.5-3-15-3 15-5.5-14V25L7 14l2 12zM9 26c0 2 1.5 2 2.5 4 1 1.5 1 1 .5 3.5-1.5 1-1.5 2.5-1.5 2.5-1.5 1.5.5 2.5.5 2.5 6.5 1 16.5 1 23 0 0 0 1.5-1 0-2.5 0 0 .5-1.5-1-2.5-.5-2.5-.5-2 .5-3.5 1-2 2.5-2 2.5-4-8.5-1.5-18.5-1.5-27 0z\" stroke-linecap=\"butt\" /><path d=\"M11.5 30c3.5-1 18.5-1 22 0M12 33.5c6-1 15-1 21 0\" fill=\"none\" /></g><g id=\"white-king\" class=\"white king\" fill=\"none\" fill-rule=\"evenodd\" stroke=\"#000\" stroke-width=\"1.5\" stroke-linecap=\"round\" stroke-linejoin=\"round\"><path d=\"M22.5 11.63V6M20 8h5\" stroke-linejoin=\"miter\" /><path d=\"M22.5 25s4.5-7.5 3-10.5c0 0-1-2.5-3-2.5s-3 2.5-3 2.5c-1.5 3 3 10.5 3 10.5\" fill=\"#fff\" stroke-linecap=\"butt\" stroke-linejoin=\"miter\" /><path d=\"M11.5 37c5.5 3.5 15.5 3.5 21 0v-7s9-4.5 6-10.5c-4-6.5-13.5-3.5-16 4V27v-3.5c-3.5-7.5-13-10.5-16-4-3 6 5 10 5 10V37z\" fill=\"#fff\" /><path d=\"M11.5 30c5.5-3 15.5-3 21 0m-21 3.5c5.5-3 15.5-3 21 0m-21 3.5c5.5-3 15.5-3 21 0\" /></g><g id=\"black-pawn\" class=\"black pawn\"><path d=\"M22.5 9c-2.21 0-4 1.79-4 4 0 .89.29 1.71.78 2.38C17.33 16.5 16 18.59 16 21c0 2.03.94 3.84 2.41 5.03-3 1.06-7.41 5.55-7.41 13.47h23c0-7.92-4.41-12.41-7.41-13.47 1.47-1.19 2.41-3 2.41-5.03 0-2.41-1.33-4.5-3.28-5.62.49-.67.78-1.49.78-2.38 0-2.21-1.79-4-4-4z\" fill=\"#000\" stroke=\"#000\" stroke-width=\"1.5\" stroke-linecap=\"round\" /></g><g id=\"black-knight\" class=\"black knight\" fill=\"none\" fill-rule=\"evenodd\" stroke=\"#000\" stroke-width=\"1.5\" stroke-linecap=\"round\" stroke-linejoin=\"round\"><path d=\"M 22,10 C 32.5,11 38.5,18 38,39 L 15,39 C 15,30 25,32.5 23,18\" style=\"fill:#000000; stroke:#000000;\" /><path d=\"M 24,18 C 24.38,20.91 18.45,25.37 16,27 C 13,29 13.18,31.34 11,31 C 9.958,30.06 12.41,27.96 11,28 C 10,28 11.19,29.23 10,30 C 9,30 5.997,31 6,26 C 6,24 12,14 12,14 C 12,14 13.89,12.1 14,10.5 C 13.27,9.506 13.5,8.5 13.5,7.5 C 14.5,6.5 16.5,10 16.5,10 L 18.5,10 C 18.5,10 19.28,8.008 21,7 C 22,7 22,10 22,10\" style=\"fill:#000000; stroke:#000000;\" /><path d=\"M 9.5 25.5 A 0.5 0.5 0 1 1 8.5,25.5 A 0.5 0.5 0 1 1 9.5 25.5 z\" style=\"fill:#ececec; stroke:#ececec;\" /><path d=\"M 15 15.5 A 0.5 1.5 0 1 1 14,15.5 A 0.5 1.5 0 1 1 15 15.5 z\" transform=\"matrix(0.866,0.5,-0.5,0.866,9.693,-5.173)\" style=\"fill:#ececec; stroke:#ececec;\" /><path d=\"M 24.55,10.4 L 24.1,11.85 L 24.6,12 C 27.75,13 30.25,14.49 32.5,18.75 C 34.75,23.01 35.75,29.06 35.25,39 L 35.2,39.5 L 37.45,39.5 L 37.5,39 C 38,28.94 36.62,22.15 34.25,17.66 C 31.88,13.17 28.46,11.02 25.06,10.5 L 24.55,10.4 z \" style=\"fill:#ececec; stroke:none;\" /></g><g id=\"black-bishop\" class=\"black bishop\" fill=\"none\" fill-rule=\"evenodd\" stroke=\"#000\" stroke-width=\"1.5\" stroke-linecap=\"round\" stroke-linejoin=\"round\"><path d=\"M9 36c3.39-.97 10.11.43 13.5-2 3.39 2.43 10.11 1.03 13.5 2 0 0 1.65.54 3 2-.68.97-1.65.99-3 .5-3.39-.97-10.11.46-13.5-1-3.39 1.46-10.11.03-13.5 1-1.354.49-2.323.47-3-.5 1.354-1.94 3-2 3-2zm6-4c2.5 2.5 12.5 2.5 15 0 .5-1.5 0-2 0-2 0-2.5-2.5-4-2.5-4 5.5-1.5 6-11.5-5-15.5-11 4-10.5 14-5 15.5 0 0-2.5 1.5-2.5 4 0 0-.5.5 0 2zM25 8a2.5 2.5 0 1 1-5 0 2.5 2.5 0 1 1 5 0z\" fill=\"#000\" stroke-linecap=\"butt\" /><path d=\"M17.5 26h10M15 30h15m-7.5-14.5v5M20 18h5\" stroke=\"#fff\" stroke-linejoin=\"miter\" /></g><g id=\"black-rook\" class=\"black rook\" fill=\"#000\" fill-rule=\"evenodd\" stroke=\"#000\" stroke-width=\"1.5\" stroke-linecap=\"round\" stroke-linejoin=\"round\"><path d=\"M9 39h27v-3H9v3zM12.5 32l1.5-2.5h17l1.5 2.5h-20zM12 36v-4h21v4H12z\" stroke-linecap=\"butt\" /><path d=\"M14 29.5v-13h17v13H14z\" stroke-linecap=\"butt\" stroke-linejoin=\"miter\" /><path d=\"M14 16.5L11 14h23l-3 2.5H14zM11 14V9h4v2h5V9h5v2h5V9h4v5H11z\" stroke-linecap=\"butt\" /><path d=\"M12 35.5h21M13 31.5h19M14 29.5h17M14 16.5h17M11 14h23\" fill=\"none\" stroke=\"#fff\" stroke-width=\"1\" stroke-linejoin=\"miter\" /></g><g id=\"black-king\" class=\"black king\" fill=\"none\" fill-rule=\"evenodd\" stroke=\"#000\" stroke-width=\"1.5\" stroke-linecap=\"round\" stroke-linejoin=\"round\"><path d=\"M22.5 11.63V6\" stroke-linejoin=\"miter\" /><path d=\"M22.5 25s4.5-7.5 3-10.5c0 0-1-2.5-3-2.5s-3 2.5-3 2.5c-1.5 3 3 10.5 3 10.5\" fill=\"#000\" stroke-linecap=\"butt\" stroke-linejoin=\"miter\" /><path d=\"M11.5 37c5.5 3.5 15.5 3.5 21 0v-7s9-4.5 6-10.5c-4-6.5-13.5-3.5-16 4V27v-3.5c-3.5-7.5-13-10.5-16-4-3 6 5 10 5 10V37z\" fill=\"#000\" /><path d=\"M20 8h5\" stroke-linejoin=\"miter\" /><path d=\"M32 29.5s8.5-4 6.03-9.65C34.15 14 25 18 22.5 24.5l.01 2.1-.01-2.1C20 18 9.906 14 6.997 19.85c-2.497 5.65 4.853 9 4.853 9M11.5 30c5.5-3 15.5-3 21 0m-21 3.5c5.5-3 15.5-3 21 0m-21 3.5c5.5-3 15.5-3 21 0\" stroke=\"#fff\" /></g></defs><rect x=\"7.5\" y=\"7.5\" width=\"375\" height=\"375\" fill=\"none\" stroke=\"#212121\" stroke-width=\"15\" /><g transform=\"translate(20, 1) scale(0.75, 0.75)\" fill=\"#e5e5e5\" stroke=\"#e5e5e5\"><path d=\"M23.328 10.016q-1.742 0-2.414.398-.672.398-.672 1.36 0 .765.5 1.218.508.445 1.375.445 1.196 0 1.914-.843.727-.852.727-2.258v-.32zm2.867-.594v4.992h-1.437v-1.328q-.492.797-1.227 1.18-.734.375-1.797.375-1.343 0-2.14-.75-.79-.758-.79-2.024 0-1.476.985-2.226.992-.75 2.953-.75h2.016V8.75q0-.992-.656-1.531-.649-.547-1.829-.547-.75 0-1.46.18-.711.18-1.368.539V6.062q.79-.304 1.532-.453.742-.156 1.445-.156 1.898 0 2.836.984.937.985.937 2.985z\" /></g><g transform=\"translate(20, 375) scale(0.75, 0.75)\" fill=\"#e5e5e5\" stroke=\"#e5e5e5\"><path d=\"M23.328 10.016q-1.742 0-2.414.398-.672.398-.672 1.36 0 .765.5 1.218.508.445 1.375.445 1.196 0 1.914-.843.727-.852.727-2.258v-.32zm2.867-.594v4.992h-1.437v-1.328q-.492.797-1.227 1.18-.734.375-1.797.375-1.343 0-2.14-.75-.79-.758-.79-2.024 0-1.476.985-2.226.992-.75 2.953-.75h2.016V8.75q0-.992-.656-1.531-.649-.547-1.829-.547-.75 0-1.46.18-.711.18-1.368.539V6.062q.79-.304 1.532-.453.742-.156 1.445-.156 1.898 0 2.836.984.937.985.937 2.985z\" /></g><g transform=\"translate(65, 1) scale(0.75, 0.75)\" fill=\"#e5e5e5\" stroke=\"#e5e5e5\"><path d=\"M24.922 10.047q0-1.586-.656-2.485-.649-.906-1.79-.906-1.14 0-1.796.906-.649.899-.649 2.485 0 1.586.649 2.492.656.898 1.797.898 1.14 0 1.789-.898.656-.906.656-2.492zm-4.89-3.055q.452-.781 1.14-1.156.695-.383 1.656-.383 1.594 0 2.586 1.266 1 1.265 1 3.328 0 2.062-1 3.328-.992 1.266-2.586 1.266-.96 0-1.656-.375-.688-.383-1.14-1.164v1.312h-1.446V2.258h1.445z\" /></g><g transform=\"translate(65, 375) scale(0.75, 0.75)\" fill=\"#e5e5e5\" stroke=\"#e5e5e5\"><path d=\"M24.922 10.047q0-1.586-.656-2.485-.649-.906-1.79-.906-1.14 0-1.796.906-.649.899-.649 2.485 0 1.586.649 2.492.656.898 1.797.898 1.14 0 1.789-.898.656-.906.656-2.492zm-4.89-3.055q.452-.781 1.14-1.156.695-.383 1.656-.383 1.594 0 2.586 1.266 1 1.265 1 3.328 0 2.062-1 3.328-.992 1.266-2.586 1.266-.96 0-1.656-.375-.688-.383-1.14-1.164v1.312h-1.446V2.258h1.445z\" /></g><g transform=\"translate(110, 1) scale(0.75, 0.75)\" fill=\"#e5e5e5\" stroke=\"#e5e5e5\"><path d=\"M25.96 6v1.344q-.608-.336-1.226-.5-.609-.172-1.234-.172-1.398 0-2.172.89-.773.883-.773 2.485 0 1.601.773 2.492.774.883 2.172.883.625 0 1.234-.164.618-.172 1.227-.508v1.328q-.602.281-1.25.422-.64.14-1.367.14-1.977 0-3.14-1.242-1.165-1.242-1.165-3.351 0-2.14 1.172-3.367 1.18-1.227 3.227-1.227.664 0 1.296.14.633.134 1.227.407z\" /></g><g transform=\"translate(110, 375) scale(0.75, 0.75)\" fill=\"#e5e5e5\" stroke=\"#e5e5e5\"><path d=\"M25.96 6v1.344q-.608-.336-1.226-.5-.609-.172-1.234-.172-1.398 0-2.172.89-.773.883-.773 2.485 0 1.601.773 2.492.774.883 2.172.883.625 0 1.234-.164.618-.172 1.227-.508v1.328q-.602.281-1.25.422-.64.14-1.367.14-1.977 0-3.14-1.242-1.165-1.242-1.165-3.351 0-2.14 1.172-3.367 1.18-1.227 3.227-1.227.664 0 1.296.14.633.134 1.227.407z\" /></g><g transform=\"translate(155, 1) scale(0.75, 0.75)\" fill=\"#e5e5e5\" stroke=\"#e5e5e5\"><path d=\"M24.973 6.992V2.258h1.437v12.156h-1.437v-1.312q-.453.78-1.149 1.164-.687.375-1.656.375-1.586 0-2.586-1.266-.992-1.266-.992-3.328 0-2.063.992-3.328 1-1.266 2.586-1.266.969 0 1.656.383.696.375 1.149 1.156zm-4.899 3.055q0 1.586.649 2.492.656.898 1.797.898 1.14 0 1.796-.898.657-.906.657-2.492 0-1.586-.657-2.485-.656-.906-1.796-.906-1.141 0-1.797.906-.649.899-.649 2.485z\" /></g><g transform=\"translate(155, 375) scale(0.75, 0.75)\" fill=\"#e5e5e5\" stroke=\"#e5e5e5\"><path d=\"M24.973 6.992V2.258h1.437v12.156h-1.437v-1.312q-.453.78-1.149 1.164-.687.375-1.656.375-1.586 0-2.586-1.266-.992-1.266-.992-3.328 0-2.063.992-3.328 1-1.266 2.586-1.266.969 0 1.656.383.696.375 1.149 1.156zm-4.899 3.055q0 1.586.649 2.492.656.898 1.797.898 1.14 0 1.796-.898.657-.906.657-2.492 0-1.586-.657-2.485-.656-.906-1.796-.906-1.141 0-1.797.906-.649.899-.649 2.485z\" /></g><g transform=\"translate(200, 1) scale(0.75, 0.75)\" fill=\"#e5e5e5\" stroke=\"#e5e5e5\"><path d=\"M26.555 9.68v.703h-6.61q.094 1.484.89 2.265.806.774 2.235.774.828 0 1.602-.203.781-.203 1.547-.61v1.36q-.774.328-1.586.5-.813.172-1.649.172-2.093 0-3.32-1.22-1.219-1.218-1.219-3.296 0-2.148 1.157-3.406 1.164-1.266 3.132-1.266 1.766 0 2.79 1.14 1.03 1.134 1.03 3.087zm-1.438-.422q-.015-1.18-.664-1.883-.64-.703-1.703-.703-1.203 0-1.93.68-.718.68-.828 1.914z\" /></g><g transform=\"translate(200, 375) scale(0.75, 0.75)\" fill=\"#e5e5e5\" stroke=\"#e5e5e5\"><path d=\"M26.555 9.68v.703h-6.61q.094 1.484.89 2.265.806.774 2.235.774.828 0 1.602-.203.781-.203 1.547-.61v1.36q-.774.328-1.586.5-.813.172-1.649.172-2.093 0-3.32-1.22-1.219-1.218-1.219-3.296 0-2.148 1.157-3.406 1.164-1.266 3.132-1.266 1.766 0 2.79 1.14 1.03 1.134 1.03 3.087zm-1.438-.422q-.015-1.18-.664-1.883-.64-.703-1.703-.703-1.203 0-1.93.68-.718.68-.828 1.914z\" /></g><g transform=\"translate(245, 1) scale(0.75, 0.75)\" fill=\"#e5e5e5\" stroke=\"#e5e5e5\"><path d=\"M25.285 2.258v1.195H23.91q-.773 0-1.078.313-.297.312-.297 1.125v.773h2.367v1.117h-2.367v7.633H21.09V6.781h-1.375V5.664h1.375v-.61q0-1.46.68-2.124.68-.672 2.156-.672z\" /></g><g transform=\"translate(245, 375) scale(0.75, 0.75)\" fill=\"#e5e5e5\" stroke=\"#e5e5e5\"><path d=\"M25.285 2.258v1.195H23.91q-.773 0-1.078.313-.297.312-.297 1.125v.773h2.367v1.117h-2.367v7.633H21.09V6.781h-1.375V5.664h1.375v-.61q0-1.46.68-2.124.68-.672 2.156-.672z\" /></g><g transform=\"translate(290, 1) scale(0.75, 0.75)\" fill=\"#e5e5e5\" stroke=\"#e5e5e5\"><path d=\"M24.973 9.937q0-1.562-.649-2.421-.64-.86-1.804-.86-1.157 0-1.805.86-.64.859-.64 2.421 0 1.555.64 2.415.648.859 1.805.859 1.164 0 1.804-.86.649-.859.649-2.414zm1.437 3.391q0 2.234-.992 3.32-.992 1.094-3.04 1.094-.757 0-1.429-.117-.672-.11-1.304-.344v-1.398q.632.344 1.25.508.617.164 1.257.164 1.414 0 2.118-.743.703-.734.703-2.226v-.711q-.446.773-1.141 1.156-.695.383-1.664.383-1.61 0-2.594-1.227-.984-1.226-.984-3.25 0-2.03.984-3.257.985-1.227 2.594-1.227.969 0 1.664.383t1.14 1.156V5.664h1.438z\" /></g><g transform=\"translate(290, 375) scale(0.75, 0.75)\" fill=\"#e5e5e5\" stroke=\"#e5e5e5\"><path d=\"M24.973 9.937q0-1.562-.649-2.421-.64-.86-1.804-.86-1.157 0-1.805.86-.64.859-.64 2.421 0 1.555.64 2.415.648.859 1.805.859 1.164 0 1.804-.86.649-.859.649-2.414zm1.437 3.391q0 2.234-.992 3.32-.992 1.094-3.04 1.094-.757 0-1.429-.117-.672-.11-1.304-.344v-1.398q.632.344 1.25.508.617.164 1.257.164 1.414 0 2.118-.743.703-.734.703-2.226v-.711q-.446.773-1.141 1.156-.695.383-1.664.383-1.61 0-2.594-1.227-.984-1.226-.984-3.25 0-2.03.984-3.257.985-1.227 2.594-1.227.969 0 1.664.383t1.14 1.156V5.664h1.438z\" /></g><g transform=\"translate(335, 1) scale(0.75, 0.75)\" fill=\"#e5e5e5\" stroke=\"#e5e5e5\"><path d=\"M26.164 9.133v5.281h-1.437V9.18q0-1.243-.485-1.86-.484-.617-1.453-.617-1.164 0-1.836.742-.672.742-.672 2.024v4.945h-1.445V2.258h1.445v4.765q.516-.789 1.211-1.18.703-.39 1.617-.39 1.508 0 2.282.938.773.93.773 2.742z\" /></g><g transform=\"translate(335, 375) scale(0.75, 0.75)\" fill=\"#e5e5e5\" stroke=\"#e5e5e5\"><path d=\"M26.164 9.133v5.281h-1.437V9.18q0-1.243-.485-1.86-.484-.617-1.453-.617-1.164 0-1.836.742-.672.742-.672 2.024v4.945h-1.445V2.258h1.445v4.765q.516-.789 1.211-1.18.703-.39 1.617-.39 1.508 0 2.282.938.773.93.773 2.742z\" /></g><g transform=\"translate(0, 335) scale(0.75, 0.75)\" fill=\"#e5e5e5\" stroke=\"#e5e5e5\"><path d=\"M6.754 26.996h2.578v-8.898l-2.805.562v-1.437l2.79-.563h1.578v10.336h2.578v1.328h-6.72z\" /></g><g transform=\"translate(375, 335) scale(0.75, 0.75)\" fill=\"#e5e5e5\" stroke=\"#e5e5e5\"><path d=\"M6.754 26.996h2.578v-8.898l-2.805.562v-1.437l2.79-.563h1.578v10.336h2.578v1.328h-6.72z\" /></g><g transform=\"translate(0, 290) scale(0.75, 0.75)\" fill=\"#e5e5e5\" stroke=\"#e5e5e5\"><path d=\"M8.195 26.996h5.508v1.328H6.297v-1.328q.898-.93 2.445-2.492 1.555-1.57 1.953-2.024.758-.851 1.055-1.437.305-.594.305-1.164 0-.93-.657-1.516-.648-.586-1.695-.586-.742 0-1.57.258-.82.258-1.758.781v-1.593q.953-.383 1.781-.578.828-.196 1.516-.196 1.812 0 2.89.906 1.079.907 1.079 2.422 0 .72-.274 1.368-.265.64-.976 1.515-.196.227-1.243 1.313-1.046 1.078-2.953 3.023z\" /></g><g transform=\"translate(375, 290) scale(0.75, 0.75)\" fill=\"#e5e5e5\" stroke=\"#e5e5e5\"><path d=\"M8.195 26.996h5.508v1.328H6.297v-1.328q.898-.93 2.445-2.492 1.555-1.57 1.953-2.024.758-.851 1.055-1.437.305-.594.305-1.164 0-.93-.657-1.516-.648-.586-1.695-.586-.742 0-1.57.258-.82.258-1.758.781v-1.593q.953-.383 1.781-.578.828-.196 1.516-.196 1.812 0 2.89.906 1.079.907 1.079 2.422 0 .72-.274 1.368-.265.64-.976 1.515-.196.227-1.243 1.313-1.046 1.078-2.953 3.023z\" /></g><g transform=\"translate(0, 245) scale(0.75, 0.75)\" fill=\"#e5e5e5\" stroke=\"#e5e5e5\"><path d=\"M11.434 22.035q1.132.242 1.765 1.008.64.766.64 1.89 0 1.727-1.187 2.672-1.187.946-3.375.946-.734 0-1.515-.149-.774-.14-1.602-.43V26.45q.656.383 1.438.578.78.196 1.632.196 1.485 0 2.258-.586.782-.586.782-1.703 0-1.032-.727-1.61-.719-.586-2.008-.586h-1.36v-1.297h1.423q1.164 0 1.78-.46.618-.47.618-1.344 0-.899-.64-1.375-.633-.485-1.82-.485-.65 0-1.391.141-.743.14-1.633.437V16.95q.898-.25 1.68-.375.788-.125 1.484-.125 1.797 0 2.844.82 1.046.813 1.046 2.204 0 .968-.554 1.64-.555.664-1.578.922z\" /></g><g transform=\"translate(375, 245) scale(0.75, 0.75)\" fill=\"#e5e5e5\" stroke=\"#e5e5e5\"><path d=\"M11.434 22.035q1.132.242 1.765 1.008.64.766.64 1.89 0 1.727-1.187 2.672-1.187.946-3.375.946-.734 0-1.515-.149-.774-.14-1.602-.43V26.45q.656.383 1.438.578.78.196 1.632.196 1.485 0 2.258-.586.782-.586.782-1.703 0-1.032-.727-1.61-.719-.586-2.008-.586h-1.36v-1.297h1.423q1.164 0 1.78-.46.618-.47.618-1.344 0-.899-.64-1.375-.633-.485-1.82-.485-.65 0-1.391.141-.743.14-1.633.437V16.95q.898-.25 1.68-.375.788-.125 1.484-.125 1.797 0 2.844.82 1.046.813 1.046 2.204 0 .968-.554 1.64-.555.664-1.578.922z\" /></g><g transform=\"translate(0, 200) scale(0.75, 0.75)\" fill=\"#e5e5e5\" stroke=\"#e5e5e5\"><path d=\"M11.016 18.035L7.03 24.262h3.985zm-.414-1.375h1.984v7.602h1.664v1.312h-1.664v2.75h-1.57v-2.75H5.75v-1.523z\" /></g><g transform=\"translate(375, 200) scale(0.75, 0.75)\" fill=\"#e5e5e5\" stroke=\"#e5e5e5\"><path d=\"M11.016 18.035L7.03 24.262h3.985zm-.414-1.375h1.984v7.602h1.664v1.312h-1.664v2.75h-1.57v-2.75H5.75v-1.523z\" /></g><g transform=\"translate(0, 155) scale(0.75, 0.75)\" fill=\"#e5e5e5\" stroke=\"#e5e5e5\"><path d=\"M6.719 16.66h6.195v1.328h-4.75v2.86q.344-.118.688-.172.343-.063.687-.063 1.953 0 3.094 1.07 1.14 1.07 1.14 2.899 0 1.883-1.171 2.93-1.172 1.039-3.305 1.039-.735 0-1.5-.125-.758-.125-1.57-.375v-1.586q.703.383 1.453.57.75.188 1.586.188 1.351 0 2.14-.711.79-.711.79-1.93 0-1.219-.79-1.93-.789-.71-2.14-.71-.633 0-1.266.14-.625.14-1.281.438z\" /></g><g transform=\"translate(375, 155) scale(0.75, 0.75)\" fill=\"#e5e5e5\" stroke=\"#e5e5e5\"><path d=\"M6.719 16.66h6.195v1.328h-4.75v2.86q.344-.118.688-.172.343-.063.687-.063 1.953 0 3.094 1.07 1.14 1.07 1.14 2.899 0 1.883-1.171 2.93-1.172 1.039-3.305 1.039-.735 0-1.5-.125-.758-.125-1.57-.375v-1.586q.703.383 1.453.57.75.188 1.586.188 1.351 0 2.14-.711.79-.711.79-1.93 0-1.219-.79-1.93-.789-.71-2.14-.71-.633 0-1.266.14-.625.14-1.281.438z\" /></g><g transform=\"translate(0, 110) scale(0.75, 0.75)\" fill=\"#e5e5e5\" stroke=\"#e5e5e5\"><path d=\"M10.137 21.863q-1.063 0-1.688.727-.617.726-.617 1.992 0 1.258.617 1.992.625.727 1.688.727 1.062 0 1.68-.727.624-.734.624-1.992 0-1.266-.625-1.992-.617-.727-1.68-.727zm3.133-4.945v1.437q-.594-.28-1.204-.43-.601-.148-1.195-.148-1.562 0-2.39 1.055-.82 1.055-.938 3.188.46-.68 1.156-1.04.696-.367 1.531-.367 1.758 0 2.774 1.07 1.023 1.063 1.023 2.899 0 1.797-1.062 2.883-1.063 1.086-2.828 1.086-2.024 0-3.094-1.547-1.07-1.555-1.07-4.5 0-2.766 1.312-4.406 1.313-1.649 3.524-1.649.593 0 1.195.117.61.118 1.266.352z\" /></g><g transform=\"translate(375, 110) scale(0.75, 0.75)\" fill=\"#e5e5e5\" stroke=\"#e5e5e5\"><path d=\"M10.137 21.863q-1.063 0-1.688.727-.617.726-.617 1.992 0 1.258.617 1.992.625.727 1.688.727 1.062 0 1.68-.727.624-.734.624-1.992 0-1.266-.625-1.992-.617-.727-1.68-.727zm3.133-4.945v1.437q-.594-.28-1.204-.43-.601-.148-1.195-.148-1.562 0-2.39 1.055-.82 1.055-.938 3.188.46-.68 1.156-1.04.696-.367 1.531-.367 1.758 0 2.774 1.07 1.023 1.063 1.023 2.899 0 1.797-1.062 2.883-1.063 1.086-2.828 1.086-2.024 0-3.094-1.547-1.07-1.555-1.07-4.5 0-2.766 1.312-4.406 1.313-1.649 3.524-1.649.593 0 1.195.117.61.118 1.266.352z\" /></g><g transform=\"translate(0, 65) scale(0.75, 0.75)\" fill=\"#e5e5e5\" stroke=\"#e5e5e5\"><path d=\"M6.25 16.66h7.5v.672L9.516 28.324H7.867l3.985-10.336H6.25z\" /></g><g transform=\"translate(375, 65) scale(0.75, 0.75)\" fill=\"#e5e5e5\" stroke=\"#e5e5e5\"><path d=\"M6.25 16.66h7.5v.672L9.516 28.324H7.867l3.985-10.336H6.25z\" /></g><g transform=\"translate(0, 20) scale(0.75, 0.75)\" fill=\"#e5e5e5\" stroke=\"#e5e5e5\"><path d=\"M10 22.785q-1.125 0-1.773.602-.641.601-.641 1.656t.64 1.656q.649.602 1.774.602t1.773-.602q.649-.61.649-1.656 0-1.055-.649-1.656-.64-.602-1.773-.602zm-1.578-.672q-1.016-.25-1.586-.945-.563-.695-.563-1.695 0-1.399.993-2.211 1-.813 2.734-.813 1.742 0 2.734.813.993.812.993 2.21 0 1-.57 1.696-.563.695-1.571.945 1.14.266 1.773 1.04.641.773.641 1.89 0 1.695-1.04 2.602-1.03.906-2.96.906t-2.969-.906Q6 26.738 6 25.043q0-1.117.64-1.89.641-.774 1.782-1.04zm-.578-2.492q0 .906.562 1.414.57.508 1.594.508 1.016 0 1.586-.508.578-.508.578-1.414 0-.906-.578-1.414-.57-.508-1.586-.508-1.023 0-1.594.508-.562.508-.562 1.414z\" /></g><g transform=\"translate(375, 20) scale(0.75, 0.75)\" fill=\"#e5e5e5\" stroke=\"#e5e5e5\"><path d=\"M10 22.785q-1.125 0-1.773.602-.641.601-.641 1.656t.64 1.656q.649.602 1.774.602t1.773-.602q.649-.61.649-1.656 0-1.055-.649-1.656-.64-.602-1.773-.602zm-1.578-.672q-1.016-.25-1.586-.945-.563-.695-.563-1.695 0-1.399.993-2.211 1-.813 2.734-.813 1.742 0 2.734.813.993.812.993 2.21 0 1-.57 1.696-.563.695-1.571.945 1.14.266 1.773 1.04.641.773.641 1.89 0 1.695-1.04 2.602-1.03.906-2.96.906t-2.969-.906Q6 26.738 6 25.043q0-1.117.64-1.89.641-.774 1.782-1.04zm-.578-2.492q0 .906.562 1.414.57.508 1.594.508 1.016 0 1.586-.508.578-.508.578-1.414 0-.906-.578-1.414-.57-.508-1.586-.508-1.023 0-1.594.508-.562.508-.562 1.414z\" /></g><rect x=\"15\" y=\"330\" width=\"45\" height=\"45\" class=\"square dark a1\" stroke=\"none\" fill=\"#d18b47\" /><rect x=\"60\" y=\"330\" width=\"45\" height=\"45\" class=\"square light b1\" stroke=\"none\" fill=\"#ffce9e\" /><rect x=\"105\" y=\"330\" width=\"45\" height=\"45\" class=\"square dark c1\" stroke=\"none\" fill=\"#d18b47\" /><rect x=\"150\" y=\"330\" width=\"45\" height=\"45\" class=\"square light d1\" stroke=\"none\" fill=\"#ffce9e\" /><rect x=\"195\" y=\"330\" width=\"45\" height=\"45\" class=\"square dark e1\" stroke=\"none\" fill=\"#d18b47\" /><rect x=\"240\" y=\"330\" width=\"45\" height=\"45\" class=\"square light f1\" stroke=\"none\" fill=\"#ffce9e\" /><rect x=\"285\" y=\"330\" width=\"45\" height=\"45\" class=\"square dark g1\" stroke=\"none\" fill=\"#d18b47\" /><rect x=\"330\" y=\"330\" width=\"45\" height=\"45\" class=\"square light h1\" stroke=\"none\" fill=\"#ffce9e\" /><rect x=\"15\" y=\"285\" width=\"45\" height=\"45\" class=\"square light a2\" stroke=\"none\" fill=\"#ffce9e\" /><rect x=\"60\" y=\"285\" width=\"45\" height=\"45\" class=\"square dark b2\" stroke=\"none\" fill=\"#d18b47\" /><rect x=\"105\" y=\"285\" width=\"45\" height=\"45\" class=\"square light c2\" stroke=\"none\" fill=\"#ffce9e\" /><rect x=\"150\" y=\"285\" width=\"45\" height=\"45\" class=\"square dark d2\" stroke=\"none\" fill=\"#d18b47\" /><rect x=\"195\" y=\"285\" width=\"45\" height=\"45\" class=\"square light e2\" stroke=\"none\" fill=\"#ffce9e\" /><rect x=\"240\" y=\"285\" width=\"45\" height=\"45\" class=\"square dark f2\" stroke=\"none\" fill=\"#d18b47\" /><rect x=\"285\" y=\"285\" width=\"45\" height=\"45\" class=\"square light g2\" stroke=\"none\" fill=\"#ffce9e\" /><rect x=\"330\" y=\"285\" width=\"45\" height=\"45\" class=\"square dark h2\" stroke=\"none\" fill=\"#d18b47\" /><rect x=\"15\" y=\"240\" width=\"45\" height=\"45\" class=\"square dark a3\" stroke=\"none\" fill=\"#d18b47\" /><rect x=\"60\" y=\"240\" width=\"45\" height=\"45\" class=\"square light b3\" stroke=\"none\" fill=\"#ffce9e\" /><rect x=\"105\" y=\"240\" width=\"45\" height=\"45\" class=\"square dark c3\" stroke=\"none\" fill=\"#d18b47\" /><rect x=\"150\" y=\"240\" width=\"45\" height=\"45\" class=\"square light d3\" stroke=\"none\" fill=\"#ffce9e\" /><rect x=\"195\" y=\"240\" width=\"45\" height=\"45\" class=\"square dark e3\" stroke=\"none\" fill=\"#d18b47\" /><rect x=\"240\" y=\"240\" width=\"45\" height=\"45\" class=\"square light f3\" stroke=\"none\" fill=\"#ffce9e\" /><rect x=\"285\" y=\"240\" width=\"45\" height=\"45\" class=\"square dark g3\" stroke=\"none\" fill=\"#d18b47\" /><rect x=\"330\" y=\"240\" width=\"45\" height=\"45\" class=\"square light h3\" stroke=\"none\" fill=\"#ffce9e\" /><rect x=\"15\" y=\"195\" width=\"45\" height=\"45\" class=\"square light a4\" stroke=\"none\" fill=\"#ffce9e\" /><rect x=\"60\" y=\"195\" width=\"45\" height=\"45\" class=\"square dark b4\" stroke=\"none\" fill=\"#d18b47\" /><rect x=\"105\" y=\"195\" width=\"45\" height=\"45\" class=\"square light c4\" stroke=\"none\" fill=\"#ffce9e\" /><rect x=\"150\" y=\"195\" width=\"45\" height=\"45\" class=\"square dark d4\" stroke=\"none\" fill=\"#d18b47\" /><rect x=\"195\" y=\"195\" width=\"45\" height=\"45\" class=\"square light e4\" stroke=\"none\" fill=\"#ffce9e\" /><rect x=\"240\" y=\"195\" width=\"45\" height=\"45\" class=\"square dark f4\" stroke=\"none\" fill=\"#d18b47\" /><rect x=\"285\" y=\"195\" width=\"45\" height=\"45\" class=\"square light g4\" stroke=\"none\" fill=\"#ffce9e\" /><rect x=\"330\" y=\"195\" width=\"45\" height=\"45\" class=\"square dark h4\" stroke=\"none\" fill=\"#d18b47\" /><rect x=\"15\" y=\"150\" width=\"45\" height=\"45\" class=\"square dark a5\" stroke=\"none\" fill=\"#d18b47\" /><rect x=\"60\" y=\"150\" width=\"45\" height=\"45\" class=\"square light b5\" stroke=\"none\" fill=\"#ffce9e\" /><rect x=\"105\" y=\"150\" width=\"45\" height=\"45\" class=\"square dark c5\" stroke=\"none\" fill=\"#d18b47\" /><rect x=\"150\" y=\"150\" width=\"45\" height=\"45\" class=\"square light d5\" stroke=\"none\" fill=\"#ffce9e\" /><rect x=\"195\" y=\"150\" width=\"45\" height=\"45\" class=\"square dark e5\" stroke=\"none\" fill=\"#d18b47\" /><rect x=\"240\" y=\"150\" width=\"45\" height=\"45\" class=\"square light f5\" stroke=\"none\" fill=\"#ffce9e\" /><rect x=\"285\" y=\"150\" width=\"45\" height=\"45\" class=\"square dark g5\" stroke=\"none\" fill=\"#d18b47\" /><rect x=\"330\" y=\"150\" width=\"45\" height=\"45\" class=\"square light h5\" stroke=\"none\" fill=\"#ffce9e\" /><rect x=\"15\" y=\"105\" width=\"45\" height=\"45\" class=\"square light a6\" stroke=\"none\" fill=\"#ffce9e\" /><rect x=\"60\" y=\"105\" width=\"45\" height=\"45\" class=\"square dark b6\" stroke=\"none\" fill=\"#d18b47\" /><rect x=\"105\" y=\"105\" width=\"45\" height=\"45\" class=\"square light c6\" stroke=\"none\" fill=\"#ffce9e\" /><rect x=\"150\" y=\"105\" width=\"45\" height=\"45\" class=\"square dark d6\" stroke=\"none\" fill=\"#d18b47\" /><rect x=\"195\" y=\"105\" width=\"45\" height=\"45\" class=\"square light e6\" stroke=\"none\" fill=\"#ffce9e\" /><rect x=\"240\" y=\"105\" width=\"45\" height=\"45\" class=\"square dark f6\" stroke=\"none\" fill=\"#d18b47\" /><rect x=\"285\" y=\"105\" width=\"45\" height=\"45\" class=\"square light g6\" stroke=\"none\" fill=\"#ffce9e\" /><rect x=\"330\" y=\"105\" width=\"45\" height=\"45\" class=\"square dark h6\" stroke=\"none\" fill=\"#d18b47\" /><rect x=\"15\" y=\"60\" width=\"45\" height=\"45\" class=\"square dark a7\" stroke=\"none\" fill=\"#d18b47\" /><rect x=\"60\" y=\"60\" width=\"45\" height=\"45\" class=\"square light b7\" stroke=\"none\" fill=\"#ffce9e\" /><rect x=\"105\" y=\"60\" width=\"45\" height=\"45\" class=\"square dark c7\" stroke=\"none\" fill=\"#d18b47\" /><rect x=\"150\" y=\"60\" width=\"45\" height=\"45\" class=\"square light d7\" stroke=\"none\" fill=\"#ffce9e\" /><rect x=\"195\" y=\"60\" width=\"45\" height=\"45\" class=\"square dark e7\" stroke=\"none\" fill=\"#d18b47\" /><rect x=\"240\" y=\"60\" width=\"45\" height=\"45\" class=\"square light f7\" stroke=\"none\" fill=\"#ffce9e\" /><rect x=\"285\" y=\"60\" width=\"45\" height=\"45\" class=\"square dark g7\" stroke=\"none\" fill=\"#d18b47\" /><rect x=\"330\" y=\"60\" width=\"45\" height=\"45\" class=\"square light h7\" stroke=\"none\" fill=\"#ffce9e\" /><rect x=\"15\" y=\"15\" width=\"45\" height=\"45\" class=\"square light a8\" stroke=\"none\" fill=\"#ffce9e\" /><rect x=\"60\" y=\"15\" width=\"45\" height=\"45\" class=\"square dark b8\" stroke=\"none\" fill=\"#d18b47\" /><rect x=\"105\" y=\"15\" width=\"45\" height=\"45\" class=\"square light c8\" stroke=\"none\" fill=\"#ffce9e\" /><rect x=\"150\" y=\"15\" width=\"45\" height=\"45\" class=\"square dark d8\" stroke=\"none\" fill=\"#d18b47\" /><rect x=\"195\" y=\"15\" width=\"45\" height=\"45\" class=\"square light e8\" stroke=\"none\" fill=\"#ffce9e\" /><rect x=\"240\" y=\"15\" width=\"45\" height=\"45\" class=\"square dark f8\" stroke=\"none\" fill=\"#d18b47\" /><rect x=\"285\" y=\"15\" width=\"45\" height=\"45\" class=\"square light g8\" stroke=\"none\" fill=\"#ffce9e\" /><rect x=\"330\" y=\"15\" width=\"45\" height=\"45\" class=\"square dark h8\" stroke=\"none\" fill=\"#d18b47\" /><use href=\"#white-king\" xlink:href=\"#white-king\" transform=\"translate(60, 330)\" /><use href=\"#white-bishop\" xlink:href=\"#white-bishop\" transform=\"translate(240, 330)\" /><use href=\"#white-rook\" xlink:href=\"#white-rook\" transform=\"translate(330, 330)\" /><use href=\"#white-pawn\" xlink:href=\"#white-pawn\" transform=\"translate(15, 285)\" /><use href=\"#white-pawn\" xlink:href=\"#white-pawn\" transform=\"translate(60, 285)\" /><use href=\"#white-pawn\" xlink:href=\"#white-pawn\" transform=\"translate(105, 285)\" /><use href=\"#white-pawn\" xlink:href=\"#white-pawn\" transform=\"translate(240, 285)\" /><use href=\"#white-queen\" xlink:href=\"#white-queen\" transform=\"translate(105, 240)\" /><use href=\"#white-pawn\" xlink:href=\"#white-pawn\" transform=\"translate(195, 240)\" /><use href=\"#white-knight\" xlink:href=\"#white-knight\" transform=\"translate(285, 240)\" /><use href=\"#white-pawn\" xlink:href=\"#white-pawn\" transform=\"translate(330, 240)\" /><use href=\"#black-pawn\" xlink:href=\"#black-pawn\" transform=\"translate(195, 195)\" /><use href=\"#white-bishop\" xlink:href=\"#white-bishop\" transform=\"translate(240, 195)\" /><use href=\"#white-pawn\" xlink:href=\"#white-pawn\" transform=\"translate(285, 195)\" /><use href=\"#black-knight\" xlink:href=\"#black-knight\" transform=\"translate(195, 150)\" /><use href=\"#black-pawn\" xlink:href=\"#black-pawn\" transform=\"translate(105, 105)\" /><use href=\"#black-bishop\" xlink:href=\"#black-bishop\" transform=\"translate(240, 105)\" /><use href=\"#black-bishop\" xlink:href=\"#black-bishop\" transform=\"translate(285, 105)\" /><use href=\"#black-pawn\" xlink:href=\"#black-pawn\" transform=\"translate(330, 105)\" /><use href=\"#black-pawn\" xlink:href=\"#black-pawn\" transform=\"translate(15, 60)\" /><use href=\"#black-pawn\" xlink:href=\"#black-pawn\" transform=\"translate(60, 60)\" /><use href=\"#black-pawn\" xlink:href=\"#black-pawn\" transform=\"translate(240, 60)\" /><use href=\"#black-pawn\" xlink:href=\"#black-pawn\" transform=\"translate(285, 60)\" /><use href=\"#black-rook\" xlink:href=\"#black-rook\" transform=\"translate(15, 15)\" /><use href=\"#white-rook\" xlink:href=\"#white-rook\" transform=\"translate(150, 15)\" /><use href=\"#black-rook\" xlink:href=\"#black-rook\" transform=\"translate(195, 15)\" /><use href=\"#black-king\" xlink:href=\"#black-king\" transform=\"translate(285, 15)\" /></svg>"
      ],
      "text/plain": [
       "Board('r2Rr1k1/pp3pp1/2p2bbp/4n3/4pBP1/2Q1P1NP/PPP2P2/1K3B1R b - - 0 17')"
      ]
     },
     "execution_count": 12,
     "metadata": {},
     "output_type": "execute_result"
    }
   ],
   "source": [
    "b"
   ]
  },
  {
   "cell_type": "code",
   "execution_count": 10,
   "id": "56cdfa80-7e7c-4717-b049-95894f2b2006",
   "metadata": {
    "tags": []
   },
   "outputs": [
    {
     "data": {
      "text/plain": [
       "{'string': 'NNUE evaluation using nn-5af11540bbfe.nnue enabled',\n",
       " 'depth': 3,\n",
       " 'seldepth': 2,\n",
       " 'multipv': 1,\n",
       " 'score': PovScore(Cp(-435), BLACK),\n",
       " 'nodes': 94,\n",
       " 'nps': 94000,\n",
       " 'hashfull': 0,\n",
       " 'tbhits': 0,\n",
       " 'time': 0.001,\n",
       " 'pv': [Move.from_uci('a8d8')]}"
      ]
     },
     "execution_count": 10,
     "metadata": {},
     "output_type": "execute_result"
    }
   ],
   "source": [
    "deprel=1/3\n",
    "f= 2** (-10* deprel)\n",
    "l=chess.engine.Limit(depth=3, time=0.001 * f * 1000  ,nodes=800 * f * 1000)\n",
    "engine.analyse(b,l)"
   ]
  },
  {
   "cell_type": "code",
   "execution_count": 11,
   "id": "ddb6ca24-081b-45e2-9908-2260120571cf",
   "metadata": {
    "tags": []
   },
   "outputs": [
    {
     "data": {
      "text/plain": [
       "{'string': 'NNUE evaluation using nn-5af11540bbfe.nnue enabled',\n",
       " 'depth': 3,\n",
       " 'seldepth': 2,\n",
       " 'multipv': 1,\n",
       " 'score': PovScore(Cp(+403), WHITE),\n",
       " 'nodes': 115,\n",
       " 'nps': 115000,\n",
       " 'hashfull': 0,\n",
       " 'tbhits': 0,\n",
       " 'time': 0.001,\n",
       " 'pv': [Move.from_uci('f1e2')]}"
      ]
     },
     "execution_count": 11,
     "metadata": {},
     "output_type": "execute_result"
    }
   ],
   "source": [
    "deprel=1/3\n",
    "f= 2** (-10* deprel)\n",
    "l=chess.engine.Limit(depth=3, time=0.001 * f * 1000  ,nodes=800 * f * 1000)\n",
    "engine.analyse(chess.Board(ff),l)"
   ]
  },
  {
   "cell_type": "code",
   "execution_count": 11,
   "id": "64db3f9b-f13f-44b7-8aac-b97689b71061",
   "metadata": {
    "tags": []
   },
   "outputs": [
    {
     "name": "stderr",
     "output_type": "stream",
     "text": [
      "[autoreload of calc failed: Traceback (most recent call last):\n",
      "  File \"C:\\Users\\ekarni\\.pyenv\\pyenv-win\\versions\\3.10\\lib\\site-packages\\IPython\\extensions\\autoreload.py\", line 276, in check\n",
      "    superreload(m, reload, self.old_objects)\n",
      "  File \"C:\\Users\\ekarni\\.pyenv\\pyenv-win\\versions\\3.10\\lib\\site-packages\\IPython\\extensions\\autoreload.py\", line 500, in superreload\n",
      "    update_generic(old_obj, new_obj)\n",
      "  File \"C:\\Users\\ekarni\\.pyenv\\pyenv-win\\versions\\3.10\\lib\\site-packages\\IPython\\extensions\\autoreload.py\", line 397, in update_generic\n",
      "    update(a, b)\n",
      "  File \"C:\\Users\\ekarni\\.pyenv\\pyenv-win\\versions\\3.10\\lib\\site-packages\\IPython\\extensions\\autoreload.py\", line 349, in update_class\n",
      "    if update_generic(old_obj, new_obj):\n",
      "  File \"C:\\Users\\ekarni\\.pyenv\\pyenv-win\\versions\\3.10\\lib\\site-packages\\IPython\\extensions\\autoreload.py\", line 397, in update_generic\n",
      "    update(a, b)\n",
      "  File \"C:\\Users\\ekarni\\.pyenv\\pyenv-win\\versions\\3.10\\lib\\site-packages\\IPython\\extensions\\autoreload.py\", line 309, in update_function\n",
      "    setattr(old, name, getattr(new, name))\n",
      "ValueError: get_score() requires a code object with 10 free vars, not 0\n",
      "]\n"
     ]
    },
    {
     "ename": "NameError",
     "evalue": "name 'uci' is not defined",
     "output_type": "error",
     "traceback": [
      "\u001b[1;31m---------------------------------------------------------------------------\u001b[0m",
      "\u001b[1;31mNameError\u001b[0m                                 Traceback (most recent call last)",
      "Cell \u001b[1;32mIn[11], line 1\u001b[0m\n\u001b[1;32m----> 1\u001b[0m \u001b[43muci\u001b[49m\u001b[38;5;241m.\u001b[39mfrom_fen(\u001b[38;5;241m*\u001b[39mfen\u001b[38;5;241m.\u001b[39msplit(\u001b[38;5;124m\"\u001b[39m\u001b[38;5;124m \u001b[39m\u001b[38;5;124m\"\u001b[39m))\n",
      "\u001b[1;31mNameError\u001b[0m: name 'uci' is not defined"
     ]
    }
   ],
   "source": [
    "uci.from_fen(*fen.split(\" \"))"
   ]
  },
  {
   "cell_type": "code",
   "execution_count": 9,
   "id": "a2aab435-c1c0-470a-acdd-1e50c18162b0",
   "metadata": {
    "tags": []
   },
   "outputs": [
    {
     "data": {
      "text/plain": [
       "False"
      ]
     },
     "execution_count": 9,
     "metadata": {},
     "output_type": "execute_result"
    }
   ],
   "source": [
    "fen =='r3R1k1/pp3pp1/2p2bbp/8/4pBP1/2Q1P1NP/PPP2P2/1K2nB1R w - - 1 17'"
   ]
  },
  {
   "cell_type": "code",
   "execution_count": 14,
   "id": "8d28305c-ec63-4c7e-897f-7c060f821496",
   "metadata": {
    "tags": []
   },
   "outputs": [
    {
     "name": "stderr",
     "output_type": "stream",
     "text": [
      "[autoreload of calc failed: Traceback (most recent call last):\n",
      "  File \"C:\\Users\\ekarni\\.pyenv\\pyenv-win\\versions\\3.10\\lib\\site-packages\\IPython\\extensions\\autoreload.py\", line 276, in check\n",
      "    superreload(m, reload, self.old_objects)\n",
      "  File \"C:\\Users\\ekarni\\.pyenv\\pyenv-win\\versions\\3.10\\lib\\site-packages\\IPython\\extensions\\autoreload.py\", line 500, in superreload\n",
      "    update_generic(old_obj, new_obj)\n",
      "  File \"C:\\Users\\ekarni\\.pyenv\\pyenv-win\\versions\\3.10\\lib\\site-packages\\IPython\\extensions\\autoreload.py\", line 397, in update_generic\n",
      "    update(a, b)\n",
      "  File \"C:\\Users\\ekarni\\.pyenv\\pyenv-win\\versions\\3.10\\lib\\site-packages\\IPython\\extensions\\autoreload.py\", line 349, in update_class\n",
      "    if update_generic(old_obj, new_obj):\n",
      "  File \"C:\\Users\\ekarni\\.pyenv\\pyenv-win\\versions\\3.10\\lib\\site-packages\\IPython\\extensions\\autoreload.py\", line 397, in update_generic\n",
      "    update(a, b)\n",
      "  File \"C:\\Users\\ekarni\\.pyenv\\pyenv-win\\versions\\3.10\\lib\\site-packages\\IPython\\extensions\\autoreload.py\", line 309, in update_function\n",
      "    setattr(old, name, getattr(new, name))\n",
      "ValueError: get_score() requires a code object with 10 free vars, not 0\n",
      "]\n"
     ]
    },
    {
     "data": {
      "image/svg+xml": [
       "<svg xmlns=\"http://www.w3.org/2000/svg\" xmlns:xlink=\"http://www.w3.org/1999/xlink\" viewBox=\"0 0 390 390\" width=\"390\" height=\"390\"><desc><pre>r . . R r . k .\n",
       "p p . . . p p .\n",
       ". . p . . b b p\n",
       ". . . . n . . .\n",
       ". . . . p B P .\n",
       ". . Q . P . N P\n",
       "P P P . . P . .\n",
       ". K . . . B . R</pre></desc><defs><g id=\"white-pawn\" class=\"white pawn\"><path d=\"M22.5 9c-2.21 0-4 1.79-4 4 0 .89.29 1.71.78 2.38C17.33 16.5 16 18.59 16 21c0 2.03.94 3.84 2.41 5.03-3 1.06-7.41 5.55-7.41 13.47h23c0-7.92-4.41-12.41-7.41-13.47 1.47-1.19 2.41-3 2.41-5.03 0-2.41-1.33-4.5-3.28-5.62.49-.67.78-1.49.78-2.38 0-2.21-1.79-4-4-4z\" fill=\"#fff\" stroke=\"#000\" stroke-width=\"1.5\" stroke-linecap=\"round\" /></g><g id=\"white-knight\" class=\"white knight\" fill=\"none\" fill-rule=\"evenodd\" stroke=\"#000\" stroke-width=\"1.5\" stroke-linecap=\"round\" stroke-linejoin=\"round\"><path d=\"M 22,10 C 32.5,11 38.5,18 38,39 L 15,39 C 15,30 25,32.5 23,18\" style=\"fill:#ffffff; stroke:#000000;\" /><path d=\"M 24,18 C 24.38,20.91 18.45,25.37 16,27 C 13,29 13.18,31.34 11,31 C 9.958,30.06 12.41,27.96 11,28 C 10,28 11.19,29.23 10,30 C 9,30 5.997,31 6,26 C 6,24 12,14 12,14 C 12,14 13.89,12.1 14,10.5 C 13.27,9.506 13.5,8.5 13.5,7.5 C 14.5,6.5 16.5,10 16.5,10 L 18.5,10 C 18.5,10 19.28,8.008 21,7 C 22,7 22,10 22,10\" style=\"fill:#ffffff; stroke:#000000;\" /><path d=\"M 9.5 25.5 A 0.5 0.5 0 1 1 8.5,25.5 A 0.5 0.5 0 1 1 9.5 25.5 z\" style=\"fill:#000000; stroke:#000000;\" /><path d=\"M 15 15.5 A 0.5 1.5 0 1 1 14,15.5 A 0.5 1.5 0 1 1 15 15.5 z\" transform=\"matrix(0.866,0.5,-0.5,0.866,9.693,-5.173)\" style=\"fill:#000000; stroke:#000000;\" /></g><g id=\"white-bishop\" class=\"white bishop\" fill=\"none\" fill-rule=\"evenodd\" stroke=\"#000\" stroke-width=\"1.5\" stroke-linecap=\"round\" stroke-linejoin=\"round\"><g fill=\"#fff\" stroke-linecap=\"butt\"><path d=\"M9 36c3.39-.97 10.11.43 13.5-2 3.39 2.43 10.11 1.03 13.5 2 0 0 1.65.54 3 2-.68.97-1.65.99-3 .5-3.39-.97-10.11.46-13.5-1-3.39 1.46-10.11.03-13.5 1-1.354.49-2.323.47-3-.5 1.354-1.94 3-2 3-2zM15 32c2.5 2.5 12.5 2.5 15 0 .5-1.5 0-2 0-2 0-2.5-2.5-4-2.5-4 5.5-1.5 6-11.5-5-15.5-11 4-10.5 14-5 15.5 0 0-2.5 1.5-2.5 4 0 0-.5.5 0 2zM25 8a2.5 2.5 0 1 1-5 0 2.5 2.5 0 1 1 5 0z\" /></g><path d=\"M17.5 26h10M15 30h15m-7.5-14.5v5M20 18h5\" stroke-linejoin=\"miter\" /></g><g id=\"white-rook\" class=\"white rook\" fill=\"#fff\" fill-rule=\"evenodd\" stroke=\"#000\" stroke-width=\"1.5\" stroke-linecap=\"round\" stroke-linejoin=\"round\"><path d=\"M9 39h27v-3H9v3zM12 36v-4h21v4H12zM11 14V9h4v2h5V9h5v2h5V9h4v5\" stroke-linecap=\"butt\" /><path d=\"M34 14l-3 3H14l-3-3\" /><path d=\"M31 17v12.5H14V17\" stroke-linecap=\"butt\" stroke-linejoin=\"miter\" /><path d=\"M31 29.5l1.5 2.5h-20l1.5-2.5\" /><path d=\"M11 14h23\" fill=\"none\" stroke-linejoin=\"miter\" /></g><g id=\"white-queen\" class=\"white queen\" fill=\"#fff\" fill-rule=\"evenodd\" stroke=\"#000\" stroke-width=\"1.5\" stroke-linecap=\"round\" stroke-linejoin=\"round\"><path d=\"M8 12a2 2 0 1 1-4 0 2 2 0 1 1 4 0zM24.5 7.5a2 2 0 1 1-4 0 2 2 0 1 1 4 0zM41 12a2 2 0 1 1-4 0 2 2 0 1 1 4 0zM16 8.5a2 2 0 1 1-4 0 2 2 0 1 1 4 0zM33 9a2 2 0 1 1-4 0 2 2 0 1 1 4 0z\" /><path d=\"M9 26c8.5-1.5 21-1.5 27 0l2-12-7 11V11l-5.5 13.5-3-15-3 15-5.5-14V25L7 14l2 12zM9 26c0 2 1.5 2 2.5 4 1 1.5 1 1 .5 3.5-1.5 1-1.5 2.5-1.5 2.5-1.5 1.5.5 2.5.5 2.5 6.5 1 16.5 1 23 0 0 0 1.5-1 0-2.5 0 0 .5-1.5-1-2.5-.5-2.5-.5-2 .5-3.5 1-2 2.5-2 2.5-4-8.5-1.5-18.5-1.5-27 0z\" stroke-linecap=\"butt\" /><path d=\"M11.5 30c3.5-1 18.5-1 22 0M12 33.5c6-1 15-1 21 0\" fill=\"none\" /></g><g id=\"white-king\" class=\"white king\" fill=\"none\" fill-rule=\"evenodd\" stroke=\"#000\" stroke-width=\"1.5\" stroke-linecap=\"round\" stroke-linejoin=\"round\"><path d=\"M22.5 11.63V6M20 8h5\" stroke-linejoin=\"miter\" /><path d=\"M22.5 25s4.5-7.5 3-10.5c0 0-1-2.5-3-2.5s-3 2.5-3 2.5c-1.5 3 3 10.5 3 10.5\" fill=\"#fff\" stroke-linecap=\"butt\" stroke-linejoin=\"miter\" /><path d=\"M11.5 37c5.5 3.5 15.5 3.5 21 0v-7s9-4.5 6-10.5c-4-6.5-13.5-3.5-16 4V27v-3.5c-3.5-7.5-13-10.5-16-4-3 6 5 10 5 10V37z\" fill=\"#fff\" /><path d=\"M11.5 30c5.5-3 15.5-3 21 0m-21 3.5c5.5-3 15.5-3 21 0m-21 3.5c5.5-3 15.5-3 21 0\" /></g><g id=\"black-pawn\" class=\"black pawn\"><path d=\"M22.5 9c-2.21 0-4 1.79-4 4 0 .89.29 1.71.78 2.38C17.33 16.5 16 18.59 16 21c0 2.03.94 3.84 2.41 5.03-3 1.06-7.41 5.55-7.41 13.47h23c0-7.92-4.41-12.41-7.41-13.47 1.47-1.19 2.41-3 2.41-5.03 0-2.41-1.33-4.5-3.28-5.62.49-.67.78-1.49.78-2.38 0-2.21-1.79-4-4-4z\" fill=\"#000\" stroke=\"#000\" stroke-width=\"1.5\" stroke-linecap=\"round\" /></g><g id=\"black-knight\" class=\"black knight\" fill=\"none\" fill-rule=\"evenodd\" stroke=\"#000\" stroke-width=\"1.5\" stroke-linecap=\"round\" stroke-linejoin=\"round\"><path d=\"M 22,10 C 32.5,11 38.5,18 38,39 L 15,39 C 15,30 25,32.5 23,18\" style=\"fill:#000000; stroke:#000000;\" /><path d=\"M 24,18 C 24.38,20.91 18.45,25.37 16,27 C 13,29 13.18,31.34 11,31 C 9.958,30.06 12.41,27.96 11,28 C 10,28 11.19,29.23 10,30 C 9,30 5.997,31 6,26 C 6,24 12,14 12,14 C 12,14 13.89,12.1 14,10.5 C 13.27,9.506 13.5,8.5 13.5,7.5 C 14.5,6.5 16.5,10 16.5,10 L 18.5,10 C 18.5,10 19.28,8.008 21,7 C 22,7 22,10 22,10\" style=\"fill:#000000; stroke:#000000;\" /><path d=\"M 9.5 25.5 A 0.5 0.5 0 1 1 8.5,25.5 A 0.5 0.5 0 1 1 9.5 25.5 z\" style=\"fill:#ececec; stroke:#ececec;\" /><path d=\"M 15 15.5 A 0.5 1.5 0 1 1 14,15.5 A 0.5 1.5 0 1 1 15 15.5 z\" transform=\"matrix(0.866,0.5,-0.5,0.866,9.693,-5.173)\" style=\"fill:#ececec; stroke:#ececec;\" /><path d=\"M 24.55,10.4 L 24.1,11.85 L 24.6,12 C 27.75,13 30.25,14.49 32.5,18.75 C 34.75,23.01 35.75,29.06 35.25,39 L 35.2,39.5 L 37.45,39.5 L 37.5,39 C 38,28.94 36.62,22.15 34.25,17.66 C 31.88,13.17 28.46,11.02 25.06,10.5 L 24.55,10.4 z \" style=\"fill:#ececec; stroke:none;\" /></g><g id=\"black-bishop\" class=\"black bishop\" fill=\"none\" fill-rule=\"evenodd\" stroke=\"#000\" stroke-width=\"1.5\" stroke-linecap=\"round\" stroke-linejoin=\"round\"><path d=\"M9 36c3.39-.97 10.11.43 13.5-2 3.39 2.43 10.11 1.03 13.5 2 0 0 1.65.54 3 2-.68.97-1.65.99-3 .5-3.39-.97-10.11.46-13.5-1-3.39 1.46-10.11.03-13.5 1-1.354.49-2.323.47-3-.5 1.354-1.94 3-2 3-2zm6-4c2.5 2.5 12.5 2.5 15 0 .5-1.5 0-2 0-2 0-2.5-2.5-4-2.5-4 5.5-1.5 6-11.5-5-15.5-11 4-10.5 14-5 15.5 0 0-2.5 1.5-2.5 4 0 0-.5.5 0 2zM25 8a2.5 2.5 0 1 1-5 0 2.5 2.5 0 1 1 5 0z\" fill=\"#000\" stroke-linecap=\"butt\" /><path d=\"M17.5 26h10M15 30h15m-7.5-14.5v5M20 18h5\" stroke=\"#fff\" stroke-linejoin=\"miter\" /></g><g id=\"black-rook\" class=\"black rook\" fill=\"#000\" fill-rule=\"evenodd\" stroke=\"#000\" stroke-width=\"1.5\" stroke-linecap=\"round\" stroke-linejoin=\"round\"><path d=\"M9 39h27v-3H9v3zM12.5 32l1.5-2.5h17l1.5 2.5h-20zM12 36v-4h21v4H12z\" stroke-linecap=\"butt\" /><path d=\"M14 29.5v-13h17v13H14z\" stroke-linecap=\"butt\" stroke-linejoin=\"miter\" /><path d=\"M14 16.5L11 14h23l-3 2.5H14zM11 14V9h4v2h5V9h5v2h5V9h4v5H11z\" stroke-linecap=\"butt\" /><path d=\"M12 35.5h21M13 31.5h19M14 29.5h17M14 16.5h17M11 14h23\" fill=\"none\" stroke=\"#fff\" stroke-width=\"1\" stroke-linejoin=\"miter\" /></g><g id=\"black-king\" class=\"black king\" fill=\"none\" fill-rule=\"evenodd\" stroke=\"#000\" stroke-width=\"1.5\" stroke-linecap=\"round\" stroke-linejoin=\"round\"><path d=\"M22.5 11.63V6\" stroke-linejoin=\"miter\" /><path d=\"M22.5 25s4.5-7.5 3-10.5c0 0-1-2.5-3-2.5s-3 2.5-3 2.5c-1.5 3 3 10.5 3 10.5\" fill=\"#000\" stroke-linecap=\"butt\" stroke-linejoin=\"miter\" /><path d=\"M11.5 37c5.5 3.5 15.5 3.5 21 0v-7s9-4.5 6-10.5c-4-6.5-13.5-3.5-16 4V27v-3.5c-3.5-7.5-13-10.5-16-4-3 6 5 10 5 10V37z\" fill=\"#000\" /><path d=\"M20 8h5\" stroke-linejoin=\"miter\" /><path d=\"M32 29.5s8.5-4 6.03-9.65C34.15 14 25 18 22.5 24.5l.01 2.1-.01-2.1C20 18 9.906 14 6.997 19.85c-2.497 5.65 4.853 9 4.853 9M11.5 30c5.5-3 15.5-3 21 0m-21 3.5c5.5-3 15.5-3 21 0m-21 3.5c5.5-3 15.5-3 21 0\" stroke=\"#fff\" /></g></defs><rect x=\"7.5\" y=\"7.5\" width=\"375\" height=\"375\" fill=\"none\" stroke=\"#212121\" stroke-width=\"15\" /><g transform=\"translate(20, 1) scale(0.75, 0.75)\" fill=\"#e5e5e5\" stroke=\"#e5e5e5\"><path d=\"M23.328 10.016q-1.742 0-2.414.398-.672.398-.672 1.36 0 .765.5 1.218.508.445 1.375.445 1.196 0 1.914-.843.727-.852.727-2.258v-.32zm2.867-.594v4.992h-1.437v-1.328q-.492.797-1.227 1.18-.734.375-1.797.375-1.343 0-2.14-.75-.79-.758-.79-2.024 0-1.476.985-2.226.992-.75 2.953-.75h2.016V8.75q0-.992-.656-1.531-.649-.547-1.829-.547-.75 0-1.46.18-.711.18-1.368.539V6.062q.79-.304 1.532-.453.742-.156 1.445-.156 1.898 0 2.836.984.937.985.937 2.985z\" /></g><g transform=\"translate(20, 375) scale(0.75, 0.75)\" fill=\"#e5e5e5\" stroke=\"#e5e5e5\"><path d=\"M23.328 10.016q-1.742 0-2.414.398-.672.398-.672 1.36 0 .765.5 1.218.508.445 1.375.445 1.196 0 1.914-.843.727-.852.727-2.258v-.32zm2.867-.594v4.992h-1.437v-1.328q-.492.797-1.227 1.18-.734.375-1.797.375-1.343 0-2.14-.75-.79-.758-.79-2.024 0-1.476.985-2.226.992-.75 2.953-.75h2.016V8.75q0-.992-.656-1.531-.649-.547-1.829-.547-.75 0-1.46.18-.711.18-1.368.539V6.062q.79-.304 1.532-.453.742-.156 1.445-.156 1.898 0 2.836.984.937.985.937 2.985z\" /></g><g transform=\"translate(65, 1) scale(0.75, 0.75)\" fill=\"#e5e5e5\" stroke=\"#e5e5e5\"><path d=\"M24.922 10.047q0-1.586-.656-2.485-.649-.906-1.79-.906-1.14 0-1.796.906-.649.899-.649 2.485 0 1.586.649 2.492.656.898 1.797.898 1.14 0 1.789-.898.656-.906.656-2.492zm-4.89-3.055q.452-.781 1.14-1.156.695-.383 1.656-.383 1.594 0 2.586 1.266 1 1.265 1 3.328 0 2.062-1 3.328-.992 1.266-2.586 1.266-.96 0-1.656-.375-.688-.383-1.14-1.164v1.312h-1.446V2.258h1.445z\" /></g><g transform=\"translate(65, 375) scale(0.75, 0.75)\" fill=\"#e5e5e5\" stroke=\"#e5e5e5\"><path d=\"M24.922 10.047q0-1.586-.656-2.485-.649-.906-1.79-.906-1.14 0-1.796.906-.649.899-.649 2.485 0 1.586.649 2.492.656.898 1.797.898 1.14 0 1.789-.898.656-.906.656-2.492zm-4.89-3.055q.452-.781 1.14-1.156.695-.383 1.656-.383 1.594 0 2.586 1.266 1 1.265 1 3.328 0 2.062-1 3.328-.992 1.266-2.586 1.266-.96 0-1.656-.375-.688-.383-1.14-1.164v1.312h-1.446V2.258h1.445z\" /></g><g transform=\"translate(110, 1) scale(0.75, 0.75)\" fill=\"#e5e5e5\" stroke=\"#e5e5e5\"><path d=\"M25.96 6v1.344q-.608-.336-1.226-.5-.609-.172-1.234-.172-1.398 0-2.172.89-.773.883-.773 2.485 0 1.601.773 2.492.774.883 2.172.883.625 0 1.234-.164.618-.172 1.227-.508v1.328q-.602.281-1.25.422-.64.14-1.367.14-1.977 0-3.14-1.242-1.165-1.242-1.165-3.351 0-2.14 1.172-3.367 1.18-1.227 3.227-1.227.664 0 1.296.14.633.134 1.227.407z\" /></g><g transform=\"translate(110, 375) scale(0.75, 0.75)\" fill=\"#e5e5e5\" stroke=\"#e5e5e5\"><path d=\"M25.96 6v1.344q-.608-.336-1.226-.5-.609-.172-1.234-.172-1.398 0-2.172.89-.773.883-.773 2.485 0 1.601.773 2.492.774.883 2.172.883.625 0 1.234-.164.618-.172 1.227-.508v1.328q-.602.281-1.25.422-.64.14-1.367.14-1.977 0-3.14-1.242-1.165-1.242-1.165-3.351 0-2.14 1.172-3.367 1.18-1.227 3.227-1.227.664 0 1.296.14.633.134 1.227.407z\" /></g><g transform=\"translate(155, 1) scale(0.75, 0.75)\" fill=\"#e5e5e5\" stroke=\"#e5e5e5\"><path d=\"M24.973 6.992V2.258h1.437v12.156h-1.437v-1.312q-.453.78-1.149 1.164-.687.375-1.656.375-1.586 0-2.586-1.266-.992-1.266-.992-3.328 0-2.063.992-3.328 1-1.266 2.586-1.266.969 0 1.656.383.696.375 1.149 1.156zm-4.899 3.055q0 1.586.649 2.492.656.898 1.797.898 1.14 0 1.796-.898.657-.906.657-2.492 0-1.586-.657-2.485-.656-.906-1.796-.906-1.141 0-1.797.906-.649.899-.649 2.485z\" /></g><g transform=\"translate(155, 375) scale(0.75, 0.75)\" fill=\"#e5e5e5\" stroke=\"#e5e5e5\"><path d=\"M24.973 6.992V2.258h1.437v12.156h-1.437v-1.312q-.453.78-1.149 1.164-.687.375-1.656.375-1.586 0-2.586-1.266-.992-1.266-.992-3.328 0-2.063.992-3.328 1-1.266 2.586-1.266.969 0 1.656.383.696.375 1.149 1.156zm-4.899 3.055q0 1.586.649 2.492.656.898 1.797.898 1.14 0 1.796-.898.657-.906.657-2.492 0-1.586-.657-2.485-.656-.906-1.796-.906-1.141 0-1.797.906-.649.899-.649 2.485z\" /></g><g transform=\"translate(200, 1) scale(0.75, 0.75)\" fill=\"#e5e5e5\" stroke=\"#e5e5e5\"><path d=\"M26.555 9.68v.703h-6.61q.094 1.484.89 2.265.806.774 2.235.774.828 0 1.602-.203.781-.203 1.547-.61v1.36q-.774.328-1.586.5-.813.172-1.649.172-2.093 0-3.32-1.22-1.219-1.218-1.219-3.296 0-2.148 1.157-3.406 1.164-1.266 3.132-1.266 1.766 0 2.79 1.14 1.03 1.134 1.03 3.087zm-1.438-.422q-.015-1.18-.664-1.883-.64-.703-1.703-.703-1.203 0-1.93.68-.718.68-.828 1.914z\" /></g><g transform=\"translate(200, 375) scale(0.75, 0.75)\" fill=\"#e5e5e5\" stroke=\"#e5e5e5\"><path d=\"M26.555 9.68v.703h-6.61q.094 1.484.89 2.265.806.774 2.235.774.828 0 1.602-.203.781-.203 1.547-.61v1.36q-.774.328-1.586.5-.813.172-1.649.172-2.093 0-3.32-1.22-1.219-1.218-1.219-3.296 0-2.148 1.157-3.406 1.164-1.266 3.132-1.266 1.766 0 2.79 1.14 1.03 1.134 1.03 3.087zm-1.438-.422q-.015-1.18-.664-1.883-.64-.703-1.703-.703-1.203 0-1.93.68-.718.68-.828 1.914z\" /></g><g transform=\"translate(245, 1) scale(0.75, 0.75)\" fill=\"#e5e5e5\" stroke=\"#e5e5e5\"><path d=\"M25.285 2.258v1.195H23.91q-.773 0-1.078.313-.297.312-.297 1.125v.773h2.367v1.117h-2.367v7.633H21.09V6.781h-1.375V5.664h1.375v-.61q0-1.46.68-2.124.68-.672 2.156-.672z\" /></g><g transform=\"translate(245, 375) scale(0.75, 0.75)\" fill=\"#e5e5e5\" stroke=\"#e5e5e5\"><path d=\"M25.285 2.258v1.195H23.91q-.773 0-1.078.313-.297.312-.297 1.125v.773h2.367v1.117h-2.367v7.633H21.09V6.781h-1.375V5.664h1.375v-.61q0-1.46.68-2.124.68-.672 2.156-.672z\" /></g><g transform=\"translate(290, 1) scale(0.75, 0.75)\" fill=\"#e5e5e5\" stroke=\"#e5e5e5\"><path d=\"M24.973 9.937q0-1.562-.649-2.421-.64-.86-1.804-.86-1.157 0-1.805.86-.64.859-.64 2.421 0 1.555.64 2.415.648.859 1.805.859 1.164 0 1.804-.86.649-.859.649-2.414zm1.437 3.391q0 2.234-.992 3.32-.992 1.094-3.04 1.094-.757 0-1.429-.117-.672-.11-1.304-.344v-1.398q.632.344 1.25.508.617.164 1.257.164 1.414 0 2.118-.743.703-.734.703-2.226v-.711q-.446.773-1.141 1.156-.695.383-1.664.383-1.61 0-2.594-1.227-.984-1.226-.984-3.25 0-2.03.984-3.257.985-1.227 2.594-1.227.969 0 1.664.383t1.14 1.156V5.664h1.438z\" /></g><g transform=\"translate(290, 375) scale(0.75, 0.75)\" fill=\"#e5e5e5\" stroke=\"#e5e5e5\"><path d=\"M24.973 9.937q0-1.562-.649-2.421-.64-.86-1.804-.86-1.157 0-1.805.86-.64.859-.64 2.421 0 1.555.64 2.415.648.859 1.805.859 1.164 0 1.804-.86.649-.859.649-2.414zm1.437 3.391q0 2.234-.992 3.32-.992 1.094-3.04 1.094-.757 0-1.429-.117-.672-.11-1.304-.344v-1.398q.632.344 1.25.508.617.164 1.257.164 1.414 0 2.118-.743.703-.734.703-2.226v-.711q-.446.773-1.141 1.156-.695.383-1.664.383-1.61 0-2.594-1.227-.984-1.226-.984-3.25 0-2.03.984-3.257.985-1.227 2.594-1.227.969 0 1.664.383t1.14 1.156V5.664h1.438z\" /></g><g transform=\"translate(335, 1) scale(0.75, 0.75)\" fill=\"#e5e5e5\" stroke=\"#e5e5e5\"><path d=\"M26.164 9.133v5.281h-1.437V9.18q0-1.243-.485-1.86-.484-.617-1.453-.617-1.164 0-1.836.742-.672.742-.672 2.024v4.945h-1.445V2.258h1.445v4.765q.516-.789 1.211-1.18.703-.39 1.617-.39 1.508 0 2.282.938.773.93.773 2.742z\" /></g><g transform=\"translate(335, 375) scale(0.75, 0.75)\" fill=\"#e5e5e5\" stroke=\"#e5e5e5\"><path d=\"M26.164 9.133v5.281h-1.437V9.18q0-1.243-.485-1.86-.484-.617-1.453-.617-1.164 0-1.836.742-.672.742-.672 2.024v4.945h-1.445V2.258h1.445v4.765q.516-.789 1.211-1.18.703-.39 1.617-.39 1.508 0 2.282.938.773.93.773 2.742z\" /></g><g transform=\"translate(0, 335) scale(0.75, 0.75)\" fill=\"#e5e5e5\" stroke=\"#e5e5e5\"><path d=\"M6.754 26.996h2.578v-8.898l-2.805.562v-1.437l2.79-.563h1.578v10.336h2.578v1.328h-6.72z\" /></g><g transform=\"translate(375, 335) scale(0.75, 0.75)\" fill=\"#e5e5e5\" stroke=\"#e5e5e5\"><path d=\"M6.754 26.996h2.578v-8.898l-2.805.562v-1.437l2.79-.563h1.578v10.336h2.578v1.328h-6.72z\" /></g><g transform=\"translate(0, 290) scale(0.75, 0.75)\" fill=\"#e5e5e5\" stroke=\"#e5e5e5\"><path d=\"M8.195 26.996h5.508v1.328H6.297v-1.328q.898-.93 2.445-2.492 1.555-1.57 1.953-2.024.758-.851 1.055-1.437.305-.594.305-1.164 0-.93-.657-1.516-.648-.586-1.695-.586-.742 0-1.57.258-.82.258-1.758.781v-1.593q.953-.383 1.781-.578.828-.196 1.516-.196 1.812 0 2.89.906 1.079.907 1.079 2.422 0 .72-.274 1.368-.265.64-.976 1.515-.196.227-1.243 1.313-1.046 1.078-2.953 3.023z\" /></g><g transform=\"translate(375, 290) scale(0.75, 0.75)\" fill=\"#e5e5e5\" stroke=\"#e5e5e5\"><path d=\"M8.195 26.996h5.508v1.328H6.297v-1.328q.898-.93 2.445-2.492 1.555-1.57 1.953-2.024.758-.851 1.055-1.437.305-.594.305-1.164 0-.93-.657-1.516-.648-.586-1.695-.586-.742 0-1.57.258-.82.258-1.758.781v-1.593q.953-.383 1.781-.578.828-.196 1.516-.196 1.812 0 2.89.906 1.079.907 1.079 2.422 0 .72-.274 1.368-.265.64-.976 1.515-.196.227-1.243 1.313-1.046 1.078-2.953 3.023z\" /></g><g transform=\"translate(0, 245) scale(0.75, 0.75)\" fill=\"#e5e5e5\" stroke=\"#e5e5e5\"><path d=\"M11.434 22.035q1.132.242 1.765 1.008.64.766.64 1.89 0 1.727-1.187 2.672-1.187.946-3.375.946-.734 0-1.515-.149-.774-.14-1.602-.43V26.45q.656.383 1.438.578.78.196 1.632.196 1.485 0 2.258-.586.782-.586.782-1.703 0-1.032-.727-1.61-.719-.586-2.008-.586h-1.36v-1.297h1.423q1.164 0 1.78-.46.618-.47.618-1.344 0-.899-.64-1.375-.633-.485-1.82-.485-.65 0-1.391.141-.743.14-1.633.437V16.95q.898-.25 1.68-.375.788-.125 1.484-.125 1.797 0 2.844.82 1.046.813 1.046 2.204 0 .968-.554 1.64-.555.664-1.578.922z\" /></g><g transform=\"translate(375, 245) scale(0.75, 0.75)\" fill=\"#e5e5e5\" stroke=\"#e5e5e5\"><path d=\"M11.434 22.035q1.132.242 1.765 1.008.64.766.64 1.89 0 1.727-1.187 2.672-1.187.946-3.375.946-.734 0-1.515-.149-.774-.14-1.602-.43V26.45q.656.383 1.438.578.78.196 1.632.196 1.485 0 2.258-.586.782-.586.782-1.703 0-1.032-.727-1.61-.719-.586-2.008-.586h-1.36v-1.297h1.423q1.164 0 1.78-.46.618-.47.618-1.344 0-.899-.64-1.375-.633-.485-1.82-.485-.65 0-1.391.141-.743.14-1.633.437V16.95q.898-.25 1.68-.375.788-.125 1.484-.125 1.797 0 2.844.82 1.046.813 1.046 2.204 0 .968-.554 1.64-.555.664-1.578.922z\" /></g><g transform=\"translate(0, 200) scale(0.75, 0.75)\" fill=\"#e5e5e5\" stroke=\"#e5e5e5\"><path d=\"M11.016 18.035L7.03 24.262h3.985zm-.414-1.375h1.984v7.602h1.664v1.312h-1.664v2.75h-1.57v-2.75H5.75v-1.523z\" /></g><g transform=\"translate(375, 200) scale(0.75, 0.75)\" fill=\"#e5e5e5\" stroke=\"#e5e5e5\"><path d=\"M11.016 18.035L7.03 24.262h3.985zm-.414-1.375h1.984v7.602h1.664v1.312h-1.664v2.75h-1.57v-2.75H5.75v-1.523z\" /></g><g transform=\"translate(0, 155) scale(0.75, 0.75)\" fill=\"#e5e5e5\" stroke=\"#e5e5e5\"><path d=\"M6.719 16.66h6.195v1.328h-4.75v2.86q.344-.118.688-.172.343-.063.687-.063 1.953 0 3.094 1.07 1.14 1.07 1.14 2.899 0 1.883-1.171 2.93-1.172 1.039-3.305 1.039-.735 0-1.5-.125-.758-.125-1.57-.375v-1.586q.703.383 1.453.57.75.188 1.586.188 1.351 0 2.14-.711.79-.711.79-1.93 0-1.219-.79-1.93-.789-.71-2.14-.71-.633 0-1.266.14-.625.14-1.281.438z\" /></g><g transform=\"translate(375, 155) scale(0.75, 0.75)\" fill=\"#e5e5e5\" stroke=\"#e5e5e5\"><path d=\"M6.719 16.66h6.195v1.328h-4.75v2.86q.344-.118.688-.172.343-.063.687-.063 1.953 0 3.094 1.07 1.14 1.07 1.14 2.899 0 1.883-1.171 2.93-1.172 1.039-3.305 1.039-.735 0-1.5-.125-.758-.125-1.57-.375v-1.586q.703.383 1.453.57.75.188 1.586.188 1.351 0 2.14-.711.79-.711.79-1.93 0-1.219-.79-1.93-.789-.71-2.14-.71-.633 0-1.266.14-.625.14-1.281.438z\" /></g><g transform=\"translate(0, 110) scale(0.75, 0.75)\" fill=\"#e5e5e5\" stroke=\"#e5e5e5\"><path d=\"M10.137 21.863q-1.063 0-1.688.727-.617.726-.617 1.992 0 1.258.617 1.992.625.727 1.688.727 1.062 0 1.68-.727.624-.734.624-1.992 0-1.266-.625-1.992-.617-.727-1.68-.727zm3.133-4.945v1.437q-.594-.28-1.204-.43-.601-.148-1.195-.148-1.562 0-2.39 1.055-.82 1.055-.938 3.188.46-.68 1.156-1.04.696-.367 1.531-.367 1.758 0 2.774 1.07 1.023 1.063 1.023 2.899 0 1.797-1.062 2.883-1.063 1.086-2.828 1.086-2.024 0-3.094-1.547-1.07-1.555-1.07-4.5 0-2.766 1.312-4.406 1.313-1.649 3.524-1.649.593 0 1.195.117.61.118 1.266.352z\" /></g><g transform=\"translate(375, 110) scale(0.75, 0.75)\" fill=\"#e5e5e5\" stroke=\"#e5e5e5\"><path d=\"M10.137 21.863q-1.063 0-1.688.727-.617.726-.617 1.992 0 1.258.617 1.992.625.727 1.688.727 1.062 0 1.68-.727.624-.734.624-1.992 0-1.266-.625-1.992-.617-.727-1.68-.727zm3.133-4.945v1.437q-.594-.28-1.204-.43-.601-.148-1.195-.148-1.562 0-2.39 1.055-.82 1.055-.938 3.188.46-.68 1.156-1.04.696-.367 1.531-.367 1.758 0 2.774 1.07 1.023 1.063 1.023 2.899 0 1.797-1.062 2.883-1.063 1.086-2.828 1.086-2.024 0-3.094-1.547-1.07-1.555-1.07-4.5 0-2.766 1.312-4.406 1.313-1.649 3.524-1.649.593 0 1.195.117.61.118 1.266.352z\" /></g><g transform=\"translate(0, 65) scale(0.75, 0.75)\" fill=\"#e5e5e5\" stroke=\"#e5e5e5\"><path d=\"M6.25 16.66h7.5v.672L9.516 28.324H7.867l3.985-10.336H6.25z\" /></g><g transform=\"translate(375, 65) scale(0.75, 0.75)\" fill=\"#e5e5e5\" stroke=\"#e5e5e5\"><path d=\"M6.25 16.66h7.5v.672L9.516 28.324H7.867l3.985-10.336H6.25z\" /></g><g transform=\"translate(0, 20) scale(0.75, 0.75)\" fill=\"#e5e5e5\" stroke=\"#e5e5e5\"><path d=\"M10 22.785q-1.125 0-1.773.602-.641.601-.641 1.656t.64 1.656q.649.602 1.774.602t1.773-.602q.649-.61.649-1.656 0-1.055-.649-1.656-.64-.602-1.773-.602zm-1.578-.672q-1.016-.25-1.586-.945-.563-.695-.563-1.695 0-1.399.993-2.211 1-.813 2.734-.813 1.742 0 2.734.813.993.812.993 2.21 0 1-.57 1.696-.563.695-1.571.945 1.14.266 1.773 1.04.641.773.641 1.89 0 1.695-1.04 2.602-1.03.906-2.96.906t-2.969-.906Q6 26.738 6 25.043q0-1.117.64-1.89.641-.774 1.782-1.04zm-.578-2.492q0 .906.562 1.414.57.508 1.594.508 1.016 0 1.586-.508.578-.508.578-1.414 0-.906-.578-1.414-.57-.508-1.586-.508-1.023 0-1.594.508-.562.508-.562 1.414z\" /></g><g transform=\"translate(375, 20) scale(0.75, 0.75)\" fill=\"#e5e5e5\" stroke=\"#e5e5e5\"><path d=\"M10 22.785q-1.125 0-1.773.602-.641.601-.641 1.656t.64 1.656q.649.602 1.774.602t1.773-.602q.649-.61.649-1.656 0-1.055-.649-1.656-.64-.602-1.773-.602zm-1.578-.672q-1.016-.25-1.586-.945-.563-.695-.563-1.695 0-1.399.993-2.211 1-.813 2.734-.813 1.742 0 2.734.813.993.812.993 2.21 0 1-.57 1.696-.563.695-1.571.945 1.14.266 1.773 1.04.641.773.641 1.89 0 1.695-1.04 2.602-1.03.906-2.96.906t-2.969-.906Q6 26.738 6 25.043q0-1.117.64-1.89.641-.774 1.782-1.04zm-.578-2.492q0 .906.562 1.414.57.508 1.594.508 1.016 0 1.586-.508.578-.508.578-1.414 0-.906-.578-1.414-.57-.508-1.586-.508-1.023 0-1.594.508-.562.508-.562 1.414z\" /></g><rect x=\"15\" y=\"330\" width=\"45\" height=\"45\" class=\"square dark a1\" stroke=\"none\" fill=\"#d18b47\" /><rect x=\"60\" y=\"330\" width=\"45\" height=\"45\" class=\"square light b1\" stroke=\"none\" fill=\"#ffce9e\" /><rect x=\"105\" y=\"330\" width=\"45\" height=\"45\" class=\"square dark c1\" stroke=\"none\" fill=\"#d18b47\" /><rect x=\"150\" y=\"330\" width=\"45\" height=\"45\" class=\"square light d1\" stroke=\"none\" fill=\"#ffce9e\" /><rect x=\"195\" y=\"330\" width=\"45\" height=\"45\" class=\"square dark e1\" stroke=\"none\" fill=\"#d18b47\" /><rect x=\"240\" y=\"330\" width=\"45\" height=\"45\" class=\"square light f1\" stroke=\"none\" fill=\"#ffce9e\" /><rect x=\"285\" y=\"330\" width=\"45\" height=\"45\" class=\"square dark g1\" stroke=\"none\" fill=\"#d18b47\" /><rect x=\"330\" y=\"330\" width=\"45\" height=\"45\" class=\"square light h1\" stroke=\"none\" fill=\"#ffce9e\" /><rect x=\"15\" y=\"285\" width=\"45\" height=\"45\" class=\"square light a2\" stroke=\"none\" fill=\"#ffce9e\" /><rect x=\"60\" y=\"285\" width=\"45\" height=\"45\" class=\"square dark b2\" stroke=\"none\" fill=\"#d18b47\" /><rect x=\"105\" y=\"285\" width=\"45\" height=\"45\" class=\"square light c2\" stroke=\"none\" fill=\"#ffce9e\" /><rect x=\"150\" y=\"285\" width=\"45\" height=\"45\" class=\"square dark d2\" stroke=\"none\" fill=\"#d18b47\" /><rect x=\"195\" y=\"285\" width=\"45\" height=\"45\" class=\"square light e2\" stroke=\"none\" fill=\"#ffce9e\" /><rect x=\"240\" y=\"285\" width=\"45\" height=\"45\" class=\"square dark f2\" stroke=\"none\" fill=\"#d18b47\" /><rect x=\"285\" y=\"285\" width=\"45\" height=\"45\" class=\"square light g2\" stroke=\"none\" fill=\"#ffce9e\" /><rect x=\"330\" y=\"285\" width=\"45\" height=\"45\" class=\"square dark h2\" stroke=\"none\" fill=\"#d18b47\" /><rect x=\"15\" y=\"240\" width=\"45\" height=\"45\" class=\"square dark a3\" stroke=\"none\" fill=\"#d18b47\" /><rect x=\"60\" y=\"240\" width=\"45\" height=\"45\" class=\"square light b3\" stroke=\"none\" fill=\"#ffce9e\" /><rect x=\"105\" y=\"240\" width=\"45\" height=\"45\" class=\"square dark c3\" stroke=\"none\" fill=\"#d18b47\" /><rect x=\"150\" y=\"240\" width=\"45\" height=\"45\" class=\"square light d3\" stroke=\"none\" fill=\"#ffce9e\" /><rect x=\"195\" y=\"240\" width=\"45\" height=\"45\" class=\"square dark e3\" stroke=\"none\" fill=\"#d18b47\" /><rect x=\"240\" y=\"240\" width=\"45\" height=\"45\" class=\"square light f3\" stroke=\"none\" fill=\"#ffce9e\" /><rect x=\"285\" y=\"240\" width=\"45\" height=\"45\" class=\"square dark g3\" stroke=\"none\" fill=\"#d18b47\" /><rect x=\"330\" y=\"240\" width=\"45\" height=\"45\" class=\"square light h3\" stroke=\"none\" fill=\"#ffce9e\" /><rect x=\"15\" y=\"195\" width=\"45\" height=\"45\" class=\"square light a4\" stroke=\"none\" fill=\"#ffce9e\" /><rect x=\"60\" y=\"195\" width=\"45\" height=\"45\" class=\"square dark b4\" stroke=\"none\" fill=\"#d18b47\" /><rect x=\"105\" y=\"195\" width=\"45\" height=\"45\" class=\"square light c4\" stroke=\"none\" fill=\"#ffce9e\" /><rect x=\"150\" y=\"195\" width=\"45\" height=\"45\" class=\"square dark d4\" stroke=\"none\" fill=\"#d18b47\" /><rect x=\"195\" y=\"195\" width=\"45\" height=\"45\" class=\"square light e4\" stroke=\"none\" fill=\"#ffce9e\" /><rect x=\"240\" y=\"195\" width=\"45\" height=\"45\" class=\"square dark f4\" stroke=\"none\" fill=\"#d18b47\" /><rect x=\"285\" y=\"195\" width=\"45\" height=\"45\" class=\"square light g4\" stroke=\"none\" fill=\"#ffce9e\" /><rect x=\"330\" y=\"195\" width=\"45\" height=\"45\" class=\"square dark h4\" stroke=\"none\" fill=\"#d18b47\" /><rect x=\"15\" y=\"150\" width=\"45\" height=\"45\" class=\"square dark a5\" stroke=\"none\" fill=\"#d18b47\" /><rect x=\"60\" y=\"150\" width=\"45\" height=\"45\" class=\"square light b5\" stroke=\"none\" fill=\"#ffce9e\" /><rect x=\"105\" y=\"150\" width=\"45\" height=\"45\" class=\"square dark c5\" stroke=\"none\" fill=\"#d18b47\" /><rect x=\"150\" y=\"150\" width=\"45\" height=\"45\" class=\"square light d5\" stroke=\"none\" fill=\"#ffce9e\" /><rect x=\"195\" y=\"150\" width=\"45\" height=\"45\" class=\"square dark e5\" stroke=\"none\" fill=\"#d18b47\" /><rect x=\"240\" y=\"150\" width=\"45\" height=\"45\" class=\"square light f5\" stroke=\"none\" fill=\"#ffce9e\" /><rect x=\"285\" y=\"150\" width=\"45\" height=\"45\" class=\"square dark g5\" stroke=\"none\" fill=\"#d18b47\" /><rect x=\"330\" y=\"150\" width=\"45\" height=\"45\" class=\"square light h5\" stroke=\"none\" fill=\"#ffce9e\" /><rect x=\"15\" y=\"105\" width=\"45\" height=\"45\" class=\"square light a6\" stroke=\"none\" fill=\"#ffce9e\" /><rect x=\"60\" y=\"105\" width=\"45\" height=\"45\" class=\"square dark b6\" stroke=\"none\" fill=\"#d18b47\" /><rect x=\"105\" y=\"105\" width=\"45\" height=\"45\" class=\"square light c6\" stroke=\"none\" fill=\"#ffce9e\" /><rect x=\"150\" y=\"105\" width=\"45\" height=\"45\" class=\"square dark d6\" stroke=\"none\" fill=\"#d18b47\" /><rect x=\"195\" y=\"105\" width=\"45\" height=\"45\" class=\"square light e6\" stroke=\"none\" fill=\"#ffce9e\" /><rect x=\"240\" y=\"105\" width=\"45\" height=\"45\" class=\"square dark f6\" stroke=\"none\" fill=\"#d18b47\" /><rect x=\"285\" y=\"105\" width=\"45\" height=\"45\" class=\"square light g6\" stroke=\"none\" fill=\"#ffce9e\" /><rect x=\"330\" y=\"105\" width=\"45\" height=\"45\" class=\"square dark h6\" stroke=\"none\" fill=\"#d18b47\" /><rect x=\"15\" y=\"60\" width=\"45\" height=\"45\" class=\"square dark a7\" stroke=\"none\" fill=\"#d18b47\" /><rect x=\"60\" y=\"60\" width=\"45\" height=\"45\" class=\"square light b7\" stroke=\"none\" fill=\"#ffce9e\" /><rect x=\"105\" y=\"60\" width=\"45\" height=\"45\" class=\"square dark c7\" stroke=\"none\" fill=\"#d18b47\" /><rect x=\"150\" y=\"60\" width=\"45\" height=\"45\" class=\"square light d7\" stroke=\"none\" fill=\"#ffce9e\" /><rect x=\"195\" y=\"60\" width=\"45\" height=\"45\" class=\"square dark e7\" stroke=\"none\" fill=\"#d18b47\" /><rect x=\"240\" y=\"60\" width=\"45\" height=\"45\" class=\"square light f7\" stroke=\"none\" fill=\"#ffce9e\" /><rect x=\"285\" y=\"60\" width=\"45\" height=\"45\" class=\"square dark g7\" stroke=\"none\" fill=\"#d18b47\" /><rect x=\"330\" y=\"60\" width=\"45\" height=\"45\" class=\"square light h7\" stroke=\"none\" fill=\"#ffce9e\" /><rect x=\"15\" y=\"15\" width=\"45\" height=\"45\" class=\"square light a8\" stroke=\"none\" fill=\"#ffce9e\" /><rect x=\"60\" y=\"15\" width=\"45\" height=\"45\" class=\"square dark b8\" stroke=\"none\" fill=\"#d18b47\" /><rect x=\"105\" y=\"15\" width=\"45\" height=\"45\" class=\"square light c8\" stroke=\"none\" fill=\"#ffce9e\" /><rect x=\"150\" y=\"15\" width=\"45\" height=\"45\" class=\"square dark d8\" stroke=\"none\" fill=\"#d18b47\" /><rect x=\"195\" y=\"15\" width=\"45\" height=\"45\" class=\"square light e8\" stroke=\"none\" fill=\"#ffce9e\" /><rect x=\"240\" y=\"15\" width=\"45\" height=\"45\" class=\"square dark f8\" stroke=\"none\" fill=\"#d18b47\" /><rect x=\"285\" y=\"15\" width=\"45\" height=\"45\" class=\"square light g8\" stroke=\"none\" fill=\"#ffce9e\" /><rect x=\"330\" y=\"15\" width=\"45\" height=\"45\" class=\"square dark h8\" stroke=\"none\" fill=\"#d18b47\" /><use href=\"#white-king\" xlink:href=\"#white-king\" transform=\"translate(60, 330)\" /><use href=\"#white-bishop\" xlink:href=\"#white-bishop\" transform=\"translate(240, 330)\" /><use href=\"#white-rook\" xlink:href=\"#white-rook\" transform=\"translate(330, 330)\" /><use href=\"#white-pawn\" xlink:href=\"#white-pawn\" transform=\"translate(15, 285)\" /><use href=\"#white-pawn\" xlink:href=\"#white-pawn\" transform=\"translate(60, 285)\" /><use href=\"#white-pawn\" xlink:href=\"#white-pawn\" transform=\"translate(105, 285)\" /><use href=\"#white-pawn\" xlink:href=\"#white-pawn\" transform=\"translate(240, 285)\" /><use href=\"#white-queen\" xlink:href=\"#white-queen\" transform=\"translate(105, 240)\" /><use href=\"#white-pawn\" xlink:href=\"#white-pawn\" transform=\"translate(195, 240)\" /><use href=\"#white-knight\" xlink:href=\"#white-knight\" transform=\"translate(285, 240)\" /><use href=\"#white-pawn\" xlink:href=\"#white-pawn\" transform=\"translate(330, 240)\" /><use href=\"#black-pawn\" xlink:href=\"#black-pawn\" transform=\"translate(195, 195)\" /><use href=\"#white-bishop\" xlink:href=\"#white-bishop\" transform=\"translate(240, 195)\" /><use href=\"#white-pawn\" xlink:href=\"#white-pawn\" transform=\"translate(285, 195)\" /><use href=\"#black-knight\" xlink:href=\"#black-knight\" transform=\"translate(195, 150)\" /><use href=\"#black-pawn\" xlink:href=\"#black-pawn\" transform=\"translate(105, 105)\" /><use href=\"#black-bishop\" xlink:href=\"#black-bishop\" transform=\"translate(240, 105)\" /><use href=\"#black-bishop\" xlink:href=\"#black-bishop\" transform=\"translate(285, 105)\" /><use href=\"#black-pawn\" xlink:href=\"#black-pawn\" transform=\"translate(330, 105)\" /><use href=\"#black-pawn\" xlink:href=\"#black-pawn\" transform=\"translate(15, 60)\" /><use href=\"#black-pawn\" xlink:href=\"#black-pawn\" transform=\"translate(60, 60)\" /><use href=\"#black-pawn\" xlink:href=\"#black-pawn\" transform=\"translate(240, 60)\" /><use href=\"#black-pawn\" xlink:href=\"#black-pawn\" transform=\"translate(285, 60)\" /><use href=\"#black-rook\" xlink:href=\"#black-rook\" transform=\"translate(15, 15)\" /><use href=\"#white-rook\" xlink:href=\"#white-rook\" transform=\"translate(150, 15)\" /><use href=\"#black-rook\" xlink:href=\"#black-rook\" transform=\"translate(195, 15)\" /><use href=\"#black-king\" xlink:href=\"#black-king\" transform=\"translate(285, 15)\" /></svg>"
      ],
      "text/plain": [
       "Board('r2Rr1k1/pp3pp1/2p2bbp/4n3/4pBP1/2Q1P1NP/PPP2P2/1K3B1R b - - 0 17')"
      ]
     },
     "execution_count": 14,
     "metadata": {},
     "output_type": "execute_result"
    }
   ],
   "source": [
    "b"
   ]
  },
  {
   "cell_type": "code",
   "execution_count": 13,
   "id": "bc6de26b-6ed4-4aee-ad7f-adfb5df59e31",
   "metadata": {
    "tags": []
   },
   "outputs": [
    {
     "data": {
      "application/vnd.jupyter.widget-view+json": {
       "model_id": "96673f262df44ce188664a7760cc1dd1",
       "version_major": 2,
       "version_minor": 0
      },
      "text/plain": [
       "HTML(value='<svg xmlns=\"http://www.w3.org/2000/svg\" xmlns:xlink=\"http://www.w3.org/1999/xlink\" viewBox=\"0 0 39…"
      ]
     },
     "metadata": {},
     "output_type": "display_data"
    }
   ],
   "source": [
    "display_board ('r3R1k1/pp3pp1/2p2bbp/8/4pBP1/2Q1P1NP/PnP2P2/1K3B1R w - - 0 19',simp=True)"
   ]
  },
  {
   "cell_type": "code",
   "execution_count": 7,
   "id": "b115af7a-a233-4a95-824d-e451ddbef9b9",
   "metadata": {
    "tags": []
   },
   "outputs": [
    {
     "data": {
      "application/vnd.jupyter.widget-view+json": {
       "model_id": "8f4ec0de654243069fedfb7d622318b5",
       "version_major": 2,
       "version_minor": 0
      },
      "text/plain": [
       "HTML(value='<svg xmlns=\"http://www.w3.org/2000/svg\" xmlns:xlink=\"http://www.w3.org/1999/xlink\" viewBox=\"0 0 39…"
      ]
     },
     "metadata": {},
     "output_type": "display_data"
    }
   ],
   "source": [
    "display_board('r2R2k1/pp2rpp1/2p2bbp/4n3/4pBP1/2Q1P1NP/PPP2P2/1K3B1R w - - 1 18',simp=True)"
   ]
  },
  {
   "cell_type": "code",
   "execution_count": 6,
   "id": "e3e5a10c-61bb-4a0b-8ff2-6a0771b32746",
   "metadata": {
    "tags": []
   },
   "outputs": [
    {
     "data": {
      "application/vnd.jupyter.widget-view+json": {
       "model_id": "a3a00c3420fa4e47bd1813df80209f8e",
       "version_major": 2,
       "version_minor": 0
      },
      "text/plain": [
       "HTML(value='<svg xmlns=\"http://www.w3.org/2000/svg\" xmlns:xlink=\"http://www.w3.org/1999/xlink\" viewBox=\"0 0 39…"
      ]
     },
     "metadata": {},
     "output_type": "display_data"
    },
    {
     "name": "stderr",
     "output_type": "stream",
     "text": [
      "Exception parsing pv from info: 'depth 1 seldepth 1 multipv 1 score cp 35 nodes 43 nps 43000 hashfull 0 tbhits 0 time 1 pv e4d3', position at root: r2R2k1/pp2rppb/2p2b1p/4n3/4pBP1/3QP1NP/PPP2P2/1K3B1R w - - 3 19\n",
      "Exception parsing pv from info: 'depth 2 seldepth 2 multipv 1 score cp 57 nodes 85 nps 85000 hashfull 0 tbhits 0 time 1 pv e4d3', position at root: r2R2k1/pp2rppb/2p2b1p/4n3/4pBP1/3QP1NP/PPP2P2/1K3B1R w - - 3 19\n",
      "Exception parsing pv from info: 'depth 3 seldepth 3 multipv 1 score cp 88 nodes 145 nps 145000 hashfull 0 tbhits 0 time 1 pv e4d3', position at root: r2R2k1/pp2rppb/2p2b1p/4n3/4pBP1/3QP1NP/PPP2P2/1K3B1R w - - 3 19\n",
      "Exception parsing pv from info: 'depth 4 seldepth 4 multipv 1 score cp 35 nodes 225 nps 225000 hashfull 0 tbhits 0 time 1 pv e4d3 d8e8 a8e8 g3f5', position at root: r2R2k1/pp2rppb/2p2b1p/4n3/4pBP1/3QP1NP/PPP2P2/1K3B1R w - - 3 19\n",
      "Exception parsing pv from info: 'depth 5 seldepth 5 multipv 1 score cp 35 nodes 301 nps 301000 hashfull 0 tbhits 0 time 1 pv e4d3 d8e8 a8e8 g3f5 h7f5', position at root: r2R2k1/pp2rppb/2p2b1p/4n3/4pBP1/3QP1NP/PPP2P2/1K3B1R w - - 3 19\n",
      "Exception parsing pv from info: 'depth 6 seldepth 6 multipv 1 score cp 35 nodes 346 nps 346000 hashfull 0 tbhits 0 time 1 pv e4d3 d8e8 a8e8 g3f5 h7f5 g4f5', position at root: r2R2k1/pp2rppb/2p2b1p/4n3/4pBP1/3QP1NP/PPP2P2/1K3B1R w - - 3 19\n",
      "Exception parsing pv from info: 'depth 7 seldepth 7 multipv 1 score cp 35 nodes 403 nps 403000 hashfull 0 tbhits 0 time 1 pv e4d3 d8e8 a8e8 g3f5 h7f5 g4f5', position at root: r2R2k1/pp2rppb/2p2b1p/4n3/4pBP1/3QP1NP/PPP2P2/1K3B1R w - - 3 19\n",
      "Exception parsing pv from info: 'depth 8 seldepth 8 multipv 1 score cp 35 nodes 1248 nps 624000 hashfull 0 tbhits 0 time 2 pv e4d3 d8e8 a8e8 g3f5 d3c2 b1c2 f6h4', position at root: r2R2k1/pp2rppb/2p2b1p/4n3/4pBP1/3QP1NP/PPP2P2/1K3B1R w - - 3 19\n",
      "Exception parsing pv from info: 'depth 9 seldepth 8 multipv 1 score cp 35 nodes 1350 nps 675000 hashfull 0 tbhits 0 time 2 pv e4d3 d8e8 a8e8 g3f5 d3c2 b1c2 f6h4', position at root: r2R2k1/pp2rppb/2p2b1p/4n3/4pBP1/3QP1NP/PPP2P2/1K3B1R w - - 3 19\n",
      "Exception parsing pv from info: 'depth 10 seldepth 8 multipv 1 score cp 35 nodes 1484 nps 742000 hashfull 0 tbhits 0 time 2 pv e4d3 d8e8 a8e8 g3f5 d3c2 b1c2 f6h4', position at root: r2R2k1/pp2rppb/2p2b1p/4n3/4pBP1/3QP1NP/PPP2P2/1K3B1R w - - 3 19\n",
      "UciAnalysisCommand failed after returning preliminary result (<Future finished result=<chess.engine...002A04CB6E770>>)\n",
      "protocol: <UciProtocol (pid=58224)>\n",
      "transport: <_WindowsSubprocessTransport pid=58224 running stdin=<_ProactorWritePipeTransport fd=1628 read=<_OverlappedFuture pending overlapped=<pending, 0x2a04c96e9e0> cb=[_ProactorWritePipeTransport._pipe_closed()]>> stdout=<_ProactorReadPipeTransport fd=1680 read=<_OverlappedFuture pending overlapped=<pending, 0x2a027513e20> cb=[_ProactorReadPipeTransport._loop_reading()]>> stderr=<_ProactorReadPipeTransport fd=1828 read=<_OverlappedFuture pending overlapped=<pending, 0x2a04c96e200> cb=[_ProactorReadPipeTransport._loop_reading()]>>>\n",
      "Traceback (most recent call last):\n",
      "  File \"C:\\Users\\ekarni\\.pyenv\\pyenv-win\\versions\\3.10\\lib\\site-packages\\chess\\engine.py\", line 1965, in _parse_uci_bestmove\n",
      "    move = board.push_uci(tokens[0].lower())\n",
      "  File \"C:\\Users\\ekarni\\.pyenv\\pyenv-win\\versions\\3.10\\lib\\site-packages\\chess\\__init__.py\", line 3164, in push_uci\n",
      "    move = self.parse_uci(uci)\n",
      "  File \"C:\\Users\\ekarni\\.pyenv\\pyenv-win\\versions\\3.10\\lib\\site-packages\\chess\\__init__.py\", line 3147, in parse_uci\n",
      "    raise IllegalMoveError(f\"illegal uci: {uci!r} in {self.fen()}\")\n",
      "chess.IllegalMoveError: illegal uci: 'e4d3' in r2R2k1/pp2rppb/2p2b1p/4n3/4pBP1/3QP1NP/PPP2P2/1K3B1R w - - 3 19\n",
      "\n",
      "During handling of the above exception, another exception occurred:\n",
      "\n",
      "Traceback (most recent call last):\n",
      "  File \"C:\\Users\\ekarni\\.pyenv\\pyenv-win\\versions\\3.10\\lib\\site-packages\\chess\\engine.py\", line 1386, in _line_received\n",
      "    self.line_received(engine, line)\n",
      "  File \"C:\\Users\\ekarni\\.pyenv\\pyenv-win\\versions\\3.10\\lib\\site-packages\\chess\\engine.py\", line 1818, in line_received\n",
      "    self._bestmove(engine, line.split(\" \", 1)[1])\n",
      "  File \"C:\\Users\\ekarni\\.pyenv\\pyenv-win\\versions\\3.10\\lib\\site-packages\\chess\\engine.py\", line 1841, in _bestmove\n",
      "    best = _parse_uci_bestmove(engine.board, arg)\n",
      "  File \"C:\\Users\\ekarni\\.pyenv\\pyenv-win\\versions\\3.10\\lib\\site-packages\\chess\\engine.py\", line 1967, in _parse_uci_bestmove\n",
      "    raise EngineError(err)\n",
      "chess.engine.EngineError: illegal uci: 'e4d3' in r2R2k1/pp2rppb/2p2b1p/4n3/4pBP1/3QP1NP/PPP2P2/1K3B1R w - - 3 19\n"
     ]
    },
    {
     "name": "stdout",
     "output_type": "stream",
     "text": [
      "['Bh7', 'Qd3'] -35 -387\n"
     ]
    },
    {
     "name": "stderr",
     "output_type": "stream",
     "text": [
      "Exception parsing pv from info: 'depth 1 seldepth 1 multipv 1 score cp 35 nodes 40 nps 40000 hashfull 0 tbhits 0 time 1 pv e4d3', position at root: r2R2k1/pp3ppb/2p1rb1p/4n3/4pBP1/3QP1NP/PPP2P2/1K3B1R w - - 3 19\n",
      "Exception parsing pv from info: 'depth 2 seldepth 2 multipv 1 score cp 35 nodes 74 nps 74000 hashfull 0 tbhits 0 time 1 pv e4d3 d8e8 a8e8', position at root: r2R2k1/pp3ppb/2p1rb1p/4n3/4pBP1/3QP1NP/PPP2P2/1K3B1R w - - 3 19\n",
      "Exception parsing pv from info: 'depth 3 seldepth 3 multipv 1 score cp 35 nodes 108 nps 108000 hashfull 0 tbhits 0 time 1 pv e4d3 d8e8 a8e8', position at root: r2R2k1/pp3ppb/2p1rb1p/4n3/4pBP1/3QP1NP/PPP2P2/1K3B1R w - - 3 19\n",
      "Exception parsing pv from info: 'depth 4 seldepth 4 multipv 1 score cp 35 nodes 147 nps 147000 hashfull 0 tbhits 0 time 1 pv e4d3 d8e8 a8e8 g3f5', position at root: r2R2k1/pp3ppb/2p1rb1p/4n3/4pBP1/3QP1NP/PPP2P2/1K3B1R w - - 3 19\n",
      "Exception parsing pv from info: 'depth 5 seldepth 5 multipv 1 score cp 35 nodes 187 nps 187000 hashfull 0 tbhits 0 time 1 pv e4d3 d8e8 a8e8 g3f5 d3c2 b1c2', position at root: r2R2k1/pp3ppb/2p1rb1p/4n3/4pBP1/3QP1NP/PPP2P2/1K3B1R w - - 3 19\n",
      "Exception parsing pv from info: 'depth 6 seldepth 6 multipv 1 score cp 35 nodes 230 nps 230000 hashfull 0 tbhits 0 time 1 pv e4d3 d8e8 a8e8 g3f5 d3c2 b1c2', position at root: r2R2k1/pp3ppb/2p1rb1p/4n3/4pBP1/3QP1NP/PPP2P2/1K3B1R w - - 3 19\n",
      "Exception parsing pv from info: 'depth 7 seldepth 8 multipv 1 score cp 35 nodes 283 nps 283000 hashfull 0 tbhits 0 time 1 pv e4d3 d8e8 a8e8 g3f5 d3c2 b1c2 f6h4', position at root: r2R2k1/pp3ppb/2p1rb1p/4n3/4pBP1/3QP1NP/PPP2P2/1K3B1R w - - 3 19\n",
      "Exception parsing pv from info: 'depth 8 seldepth 8 multipv 1 score cp 35 nodes 362 nps 362000 hashfull 0 tbhits 0 time 1 pv e4d3 d8e8 a8e8 g3f5 d3c2 b1c2 f6h4', position at root: r2R2k1/pp3ppb/2p1rb1p/4n3/4pBP1/3QP1NP/PPP2P2/1K3B1R w - - 3 19\n",
      "Exception parsing pv from info: 'depth 9 seldepth 8 multipv 1 score cp 62 nodes 595 nps 595000 hashfull 0 tbhits 0 time 1 pv e4d3 d8e8 a8e8 g3f5 d3c2 b1c2', position at root: r2R2k1/pp3ppb/2p1rb1p/4n3/4pBP1/3QP1NP/PPP2P2/1K3B1R w - - 3 19\n",
      "Exception parsing pv from info: 'depth 10 seldepth 8 multipv 1 score cp 63 nodes 737 nps 737000 hashfull 0 tbhits 0 time 1 pv e4d3 d8e8 a8e8 g3f5 d3c2 b1c2 f6h4 f1e2', position at root: r2R2k1/pp3ppb/2p1rb1p/4n3/4pBP1/3QP1NP/PPP2P2/1K3B1R w - - 3 19\n",
      "UciAnalysisCommand failed after returning preliminary result (<Future finished result=<chess.engine...002A04CB6CF10>>)\n",
      "protocol: <UciProtocol (pid=58224)>\n",
      "transport: <_WindowsSubprocessTransport pid=58224 running stdin=<_ProactorWritePipeTransport fd=1628 read=<_OverlappedFuture pending overlapped=<pending, 0x2a04c96e9e0> cb=[_ProactorWritePipeTransport._pipe_closed()]>> stdout=<_ProactorReadPipeTransport fd=1680 read=<_OverlappedFuture pending overlapped=<pending, 0x2a02c038ca0> cb=[_ProactorReadPipeTransport._loop_reading()]>> stderr=<_ProactorReadPipeTransport fd=1828 read=<_OverlappedFuture pending overlapped=<pending, 0x2a04c96e200> cb=[_ProactorReadPipeTransport._loop_reading()]>>>\n",
      "Traceback (most recent call last):\n",
      "  File \"C:\\Users\\ekarni\\.pyenv\\pyenv-win\\versions\\3.10\\lib\\site-packages\\chess\\engine.py\", line 1965, in _parse_uci_bestmove\n",
      "    move = board.push_uci(tokens[0].lower())\n",
      "  File \"C:\\Users\\ekarni\\.pyenv\\pyenv-win\\versions\\3.10\\lib\\site-packages\\chess\\__init__.py\", line 3164, in push_uci\n",
      "    move = self.parse_uci(uci)\n",
      "  File \"C:\\Users\\ekarni\\.pyenv\\pyenv-win\\versions\\3.10\\lib\\site-packages\\chess\\__init__.py\", line 3147, in parse_uci\n",
      "    raise IllegalMoveError(f\"illegal uci: {uci!r} in {self.fen()}\")\n",
      "chess.IllegalMoveError: illegal uci: 'e4d3' in r2R2k1/pp3ppb/2p1rb1p/4n3/4pBP1/3QP1NP/PPP2P2/1K3B1R w - - 3 19\n",
      "\n",
      "During handling of the above exception, another exception occurred:\n",
      "\n",
      "Traceback (most recent call last):\n",
      "  File \"C:\\Users\\ekarni\\.pyenv\\pyenv-win\\versions\\3.10\\lib\\site-packages\\chess\\engine.py\", line 1386, in _line_received\n",
      "    self.line_received(engine, line)\n",
      "  File \"C:\\Users\\ekarni\\.pyenv\\pyenv-win\\versions\\3.10\\lib\\site-packages\\chess\\engine.py\", line 1818, in line_received\n",
      "    self._bestmove(engine, line.split(\" \", 1)[1])\n",
      "  File \"C:\\Users\\ekarni\\.pyenv\\pyenv-win\\versions\\3.10\\lib\\site-packages\\chess\\engine.py\", line 1841, in _bestmove\n",
      "    best = _parse_uci_bestmove(engine.board, arg)\n",
      "  File \"C:\\Users\\ekarni\\.pyenv\\pyenv-win\\versions\\3.10\\lib\\site-packages\\chess\\engine.py\", line 1967, in _parse_uci_bestmove\n",
      "    raise EngineError(err)\n",
      "chess.engine.EngineError: illegal uci: 'e4d3' in r2R2k1/pp3ppb/2p1rb1p/4n3/4pBP1/3QP1NP/PPP2P2/1K3B1R w - - 3 19\n"
     ]
    },
    {
     "name": "stdout",
     "output_type": "stream",
     "text": [
      "Traceback (most recent call last):\n",
      "  File \"C:\\Users\\ekarni\\.pyenv\\pyenv-win\\versions\\3.10\\lib\\asyncio\\tasks.py\", line 234, in __step\n",
      "    result = coro.throw(exc)\n",
      "  File \"C:\\Users\\ekarni\\.pyenv\\pyenv-win\\versions\\3.10\\lib\\site-packages\\chess\\engine.py\", line 1242, in analyse\n",
      "    await analysis.wait()\n",
      "  File \"C:\\Users\\ekarni\\.pyenv\\pyenv-win\\versions\\3.10\\lib\\site-packages\\chess\\engine.py\", line 2772, in wait\n",
      "    return await self._finished\n",
      "  File \"C:\\Users\\ekarni\\.pyenv\\pyenv-win\\versions\\3.10\\lib\\asyncio\\futures.py\", line 284, in __await__\n",
      "    yield self  # This tells Task to wait for completion.\n",
      "  File \"C:\\Users\\ekarni\\.pyenv\\pyenv-win\\versions\\3.10\\lib\\asyncio\\tasks.py\", line 304, in __wakeup\n",
      "    future.result()\n",
      "  File \"C:\\Users\\ekarni\\.pyenv\\pyenv-win\\versions\\3.10\\lib\\asyncio\\futures.py\", line 196, in result\n",
      "    raise exc\n",
      "asyncio.exceptions.CancelledError\n",
      "\n",
      "During handling of the above exception, another exception occurred:\n",
      "\n",
      "Traceback (most recent call last):\n",
      "  File \"C:\\Users\\ekarni\\.pyenv\\pyenv-win\\versions\\3.10\\lib\\asyncio\\tasks.py\", line 458, in wait_for\n",
      "    fut.result()\n",
      "  File \"C:\\Users\\ekarni\\.pyenv\\pyenv-win\\versions\\3.10\\lib\\asyncio\\futures.py\", line 196, in result\n",
      "    raise exc\n",
      "asyncio.exceptions.CancelledError\n",
      "\n",
      "The above exception was the direct cause of the following exception:\n",
      "\n",
      "Traceback (most recent call last):\n",
      "  File \"C:\\gitproj\\chess_analyzer\\calc.py\", line 132, in calc_moves_score_int\n",
      "    ev = self.get_score(cur, not white, curdep != maxdepth)\n",
      "  File \"C:\\Users\\ekarni\\.pyenv\\pyenv-win\\versions\\3.10\\lib\\site-packages\\memoization\\caching\\plain_cache.py\", line 49, in wrapper\n",
      "    result = user_function(*args, **kwargs)\n",
      "  File \"C:\\gitproj\\chess_analyzer\\calc.py\", line 82, in get_score\n",
      "    cc = engine.analyse(b, limit, game=self.gameidf)[\"score\"]\n",
      "  File \"C:\\Users\\ekarni\\.pyenv\\pyenv-win\\versions\\3.10\\lib\\site-packages\\chess\\engine.py\", line 2997, in analyse\n",
      "    return future.result()\n",
      "  File \"C:\\Users\\ekarni\\.pyenv\\pyenv-win\\versions\\3.10\\lib\\concurrent\\futures\\_base.py\", line 445, in result\n",
      "    return self.__get_result()\n",
      "  File \"C:\\Users\\ekarni\\.pyenv\\pyenv-win\\versions\\3.10\\lib\\concurrent\\futures\\_base.py\", line 390, in __get_result\n",
      "    raise self._exception\n",
      "  File \"C:\\Users\\ekarni\\.pyenv\\pyenv-win\\versions\\3.10\\lib\\asyncio\\tasks.py\", line 232, in __step\n",
      "    result = coro.send(None)\n",
      "  File \"C:\\Users\\ekarni\\.pyenv\\pyenv-win\\versions\\3.10\\lib\\asyncio\\tasks.py\", line 460, in wait_for\n",
      "    raise exceptions.TimeoutError() from exc\n",
      "asyncio.exceptions.TimeoutError\n",
      "\n"
     ]
    },
    {
     "name": "stderr",
     "output_type": "stream",
     "text": [
      "Exception parsing pv from info: 'depth 1 seldepth 1 multipv 1 score cp -453 nodes 37 nps 37000 hashfull 1 tbhits 0 time 1 pv a8d8 f4e5 f6e5', position at root: r2Rrk2/pp3ppb/2p2b1p/4n3/4pBP1/Q3P1NP/PPP2P2/1K3B1R w - - 3 19\n",
      "Exception parsing pv from info: 'depth 2 seldepth 2 multipv 1 score cp -521 nodes 103 nps 103000 hashfull 1 tbhits 0 time 1 pv a8d8 f1e2', position at root: r2Rrk2/pp3ppb/2p2b1p/4n3/4pBP1/Q3P1NP/PPP2P2/1K3B1R w - - 3 19\n",
      "Exception parsing pv from info: 'depth 3 seldepth 3 multipv 1 score cp -521 nodes 132 nps 66000 hashfull 1 tbhits 0 time 2 pv a8d8 f1e2', position at root: r2Rrk2/pp3ppb/2p2b1p/4n3/4pBP1/Q3P1NP/PPP2P2/1K3B1R w - - 3 19\n",
      "Exception parsing pv from info: 'depth 4 seldepth 3 multipv 1 score cp -521 nodes 162 nps 81000 hashfull 1 tbhits 0 time 2 pv a8d8 f1e2', position at root: r2Rrk2/pp3ppb/2p2b1p/4n3/4pBP1/Q3P1NP/PPP2P2/1K3B1R w - - 3 19\n",
      "Exception parsing pv from info: 'depth 5 seldepth 3 multipv 1 score cp -504 nodes 201 nps 100500 hashfull 1 tbhits 0 time 2 pv a8d8 f1e2 g7g5', position at root: r2Rrk2/pp3ppb/2p2b1p/4n3/4pBP1/Q3P1NP/PPP2P2/1K3B1R w - - 3 19\n",
      "Exception parsing pv from info: 'depth 6 seldepth 4 multipv 1 score cp -441 nodes 281 nps 140500 hashfull 1 tbhits 0 time 2 pv a8d8 f1e2 g7g5', position at root: r2Rrk2/pp3ppb/2p2b1p/4n3/4pBP1/Q3P1NP/PPP2P2/1K3B1R w - - 3 19\n",
      "Exception parsing pv from info: 'depth 7 seldepth 5 multipv 1 score cp -467 nodes 360 nps 180000 hashfull 1 tbhits 0 time 2 pv a8d8 f1e2 e5d3', position at root: r2Rrk2/pp3ppb/2p2b1p/4n3/4pBP1/Q3P1NP/PPP2P2/1K3B1R w - - 3 19\n",
      "Exception parsing pv from info: 'depth 8 seldepth 6 multipv 1 score cp -434 nodes 528 nps 264000 hashfull 1 tbhits 0 time 2 pv a8d8 f1e2 g7g5 g3h5 f6e7', position at root: r2Rrk2/pp3ppb/2p2b1p/4n3/4pBP1/Q3P1NP/PPP2P2/1K3B1R w - - 3 19\n",
      "Exception parsing pv from info: 'depth 9 seldepth 7 multipv 1 score cp -409 nodes 1430 nps 476666 hashfull 1 tbhits 0 time 3 pv a8d8 b1c1 f6e7 a3b3 e7h4', position at root: r2Rrk2/pp3ppb/2p2b1p/4n3/4pBP1/Q3P1NP/PPP2P2/1K3B1R w - - 3 19\n",
      "Exception parsing pv from info: 'depth 10 seldepth 9 multipv 1 score cp -400 nodes 1911 nps 637000 hashfull 1 tbhits 0 time 3 pv a8d8 b1c1 e5d3 c2d3 e4d3 f1g2 d3d2 c1d1', position at root: r2Rrk2/pp3ppb/2p2b1p/4n3/4pBP1/Q3P1NP/PPP2P2/1K3B1R w - - 3 19\n",
      "UciAnalysisCommand failed after returning preliminary result (<Future finished result=<chess.engine...002A04D0F3CA0>>)\n",
      "protocol: <UciProtocol (pid=58224)>\n",
      "transport: <_WindowsSubprocessTransport pid=58224 running stdin=<_ProactorWritePipeTransport fd=1628 read=<_OverlappedFuture pending overlapped=<pending, 0x2a04c96e9e0> cb=[_ProactorWritePipeTransport._pipe_closed()]>> stdout=<_ProactorReadPipeTransport fd=1680 read=<_OverlappedFuture pending overlapped=<pending, 0x2a04c96ff40> cb=[_ProactorReadPipeTransport._loop_reading()]>> stderr=<_ProactorReadPipeTransport fd=1828 read=<_OverlappedFuture pending overlapped=<pending, 0x2a04c96e200> cb=[_ProactorReadPipeTransport._loop_reading()]>>>\n",
      "Traceback (most recent call last):\n",
      "  File \"C:\\Users\\ekarni\\.pyenv\\pyenv-win\\versions\\3.10\\lib\\site-packages\\chess\\engine.py\", line 1965, in _parse_uci_bestmove\n",
      "    move = board.push_uci(tokens[0].lower())\n",
      "  File \"C:\\Users\\ekarni\\.pyenv\\pyenv-win\\versions\\3.10\\lib\\site-packages\\chess\\__init__.py\", line 3164, in push_uci\n",
      "    move = self.parse_uci(uci)\n",
      "  File \"C:\\Users\\ekarni\\.pyenv\\pyenv-win\\versions\\3.10\\lib\\site-packages\\chess\\__init__.py\", line 3147, in parse_uci\n",
      "    raise IllegalMoveError(f\"illegal uci: {uci!r} in {self.fen()}\")\n",
      "chess.IllegalMoveError: illegal uci: 'a8d8' in r2Rrk2/pp3ppb/2p2b1p/4n3/4pBP1/Q3P1NP/PPP2P2/1K3B1R w - - 3 19\n",
      "\n",
      "During handling of the above exception, another exception occurred:\n",
      "\n",
      "Traceback (most recent call last):\n",
      "  File \"C:\\Users\\ekarni\\.pyenv\\pyenv-win\\versions\\3.10\\lib\\site-packages\\chess\\engine.py\", line 1386, in _line_received\n",
      "    self.line_received(engine, line)\n",
      "  File \"C:\\Users\\ekarni\\.pyenv\\pyenv-win\\versions\\3.10\\lib\\site-packages\\chess\\engine.py\", line 1818, in line_received\n",
      "    self._bestmove(engine, line.split(\" \", 1)[1])\n",
      "  File \"C:\\Users\\ekarni\\.pyenv\\pyenv-win\\versions\\3.10\\lib\\site-packages\\chess\\engine.py\", line 1841, in _bestmove\n",
      "    best = _parse_uci_bestmove(engine.board, arg)\n",
      "  File \"C:\\Users\\ekarni\\.pyenv\\pyenv-win\\versions\\3.10\\lib\\site-packages\\chess\\engine.py\", line 1967, in _parse_uci_bestmove\n",
      "    raise EngineError(err)\n",
      "chess.engine.EngineError: illegal uci: 'a8d8' in r2Rrk2/pp3ppb/2p2b1p/4n3/4pBP1/Q3P1NP/PPP2P2/1K3B1R w - - 3 19\n"
     ]
    },
    {
     "name": "stdout",
     "output_type": "stream",
     "text": [
      "Traceback (most recent call last):\n",
      "  File \"C:\\Users\\ekarni\\.pyenv\\pyenv-win\\versions\\3.10\\lib\\asyncio\\tasks.py\", line 234, in __step\n",
      "    result = coro.throw(exc)\n",
      "  File \"C:\\Users\\ekarni\\.pyenv\\pyenv-win\\versions\\3.10\\lib\\site-packages\\chess\\engine.py\", line 1242, in analyse\n",
      "    await analysis.wait()\n",
      "  File \"C:\\Users\\ekarni\\.pyenv\\pyenv-win\\versions\\3.10\\lib\\site-packages\\chess\\engine.py\", line 2772, in wait\n",
      "    return await self._finished\n",
      "  File \"C:\\Users\\ekarni\\.pyenv\\pyenv-win\\versions\\3.10\\lib\\asyncio\\futures.py\", line 284, in __await__\n",
      "    yield self  # This tells Task to wait for completion.\n",
      "  File \"C:\\Users\\ekarni\\.pyenv\\pyenv-win\\versions\\3.10\\lib\\asyncio\\tasks.py\", line 304, in __wakeup\n",
      "    future.result()\n",
      "  File \"C:\\Users\\ekarni\\.pyenv\\pyenv-win\\versions\\3.10\\lib\\asyncio\\futures.py\", line 196, in result\n",
      "    raise exc\n",
      "asyncio.exceptions.CancelledError\n",
      "\n",
      "During handling of the above exception, another exception occurred:\n",
      "\n",
      "Traceback (most recent call last):\n",
      "  File \"C:\\Users\\ekarni\\.pyenv\\pyenv-win\\versions\\3.10\\lib\\asyncio\\tasks.py\", line 458, in wait_for\n",
      "    fut.result()\n",
      "  File \"C:\\Users\\ekarni\\.pyenv\\pyenv-win\\versions\\3.10\\lib\\asyncio\\futures.py\", line 196, in result\n",
      "    raise exc\n",
      "asyncio.exceptions.CancelledError\n",
      "\n",
      "The above exception was the direct cause of the following exception:\n",
      "\n",
      "Traceback (most recent call last):\n",
      "  File \"C:\\gitproj\\chess_analyzer\\calc.py\", line 132, in calc_moves_score_int\n",
      "    ev = self.get_score(cur, not white, curdep != maxdepth)\n",
      "  File \"C:\\Users\\ekarni\\.pyenv\\pyenv-win\\versions\\3.10\\lib\\site-packages\\memoization\\caching\\plain_cache.py\", line 49, in wrapper\n",
      "    result = user_function(*args, **kwargs)\n",
      "  File \"C:\\gitproj\\chess_analyzer\\calc.py\", line 82, in get_score\n",
      "    cc = engine.analyse(b, limit, game=self.gameidf)[\"score\"]\n",
      "  File \"C:\\Users\\ekarni\\.pyenv\\pyenv-win\\versions\\3.10\\lib\\site-packages\\chess\\engine.py\", line 2997, in analyse\n",
      "    return future.result()\n",
      "  File \"C:\\Users\\ekarni\\.pyenv\\pyenv-win\\versions\\3.10\\lib\\concurrent\\futures\\_base.py\", line 445, in result\n",
      "    return self.__get_result()\n",
      "  File \"C:\\Users\\ekarni\\.pyenv\\pyenv-win\\versions\\3.10\\lib\\concurrent\\futures\\_base.py\", line 390, in __get_result\n",
      "    raise self._exception\n",
      "  File \"C:\\Users\\ekarni\\.pyenv\\pyenv-win\\versions\\3.10\\lib\\asyncio\\tasks.py\", line 232, in __step\n",
      "    result = coro.send(None)\n",
      "  File \"C:\\Users\\ekarni\\.pyenv\\pyenv-win\\versions\\3.10\\lib\\asyncio\\tasks.py\", line 460, in wait_for\n",
      "    raise exceptions.TimeoutError() from exc\n",
      "asyncio.exceptions.TimeoutError\n",
      "\n"
     ]
    },
    {
     "name": "stderr",
     "output_type": "stream",
     "text": [
      "Exception parsing pv from info: 'depth 1 seldepth 1 multipv 1 score cp -400 nodes 32 nps 16000 hashfull 2 tbhits 0 time 2 pv a8d8', position at root: r2R2k1/pp2rppb/2p2b1p/4n3/4pBP1/Q3P1NP/PPP2P2/1K3B1R w - - 3 19\n",
      "Exception parsing pv from info: 'depth 2 seldepth 2 multipv 1 score cp -400 nodes 62 nps 31000 hashfull 2 tbhits 0 time 2 pv a8d8 b1c1', position at root: r2R2k1/pp2rppb/2p2b1p/4n3/4pBP1/Q3P1NP/PPP2P2/1K3B1R w - - 3 19\n",
      "Exception parsing pv from info: 'depth 3 seldepth 4 multipv 1 score cp -400 nodes 101 nps 50500 hashfull 2 tbhits 0 time 2 pv a8d8 b1c1 e5d3 c2d3', position at root: r2R2k1/pp2rppb/2p2b1p/4n3/4pBP1/Q3P1NP/PPP2P2/1K3B1R w - - 3 19\n",
      "Exception parsing pv from info: 'depth 4 seldepth 4 multipv 1 score cp -400 nodes 140 nps 70000 hashfull 2 tbhits 0 time 2 pv a8d8 b1c1 e5d3 c2d3 e4d3', position at root: r2R2k1/pp2rppb/2p2b1p/4n3/4pBP1/Q3P1NP/PPP2P2/1K3B1R w - - 3 19\n",
      "Exception parsing pv from info: 'depth 5 seldepth 5 multipv 1 score cp -400 nodes 180 nps 90000 hashfull 2 tbhits 0 time 2 pv a8d8 b1c1 e5d3 c2d3 e4d3', position at root: r2R2k1/pp2rppb/2p2b1p/4n3/4pBP1/Q3P1NP/PPP2P2/1K3B1R w - - 3 19\n",
      "Exception parsing pv from info: 'depth 6 seldepth 6 multipv 1 score cp -400 nodes 235 nps 117500 hashfull 2 tbhits 0 time 2 pv a8d8 b1c1 e5d3 c2d3 e4d3 f1g2 d3d2 c1d1', position at root: r2R2k1/pp2rppb/2p2b1p/4n3/4pBP1/Q3P1NP/PPP2P2/1K3B1R w - - 3 19\n",
      "Exception parsing pv from info: 'depth 7 seldepth 8 multipv 1 score cp -400 nodes 299 nps 149500 hashfull 2 tbhits 0 time 2 pv a8d8 b1c1 e5d3 c2d3 e4d3 f1g2 d3d2 c1d1', position at root: r2R2k1/pp2rppb/2p2b1p/4n3/4pBP1/Q3P1NP/PPP2P2/1K3B1R w - - 3 19\n",
      "Exception parsing pv from info: 'depth 8 seldepth 9 multipv 1 score cp -400 nodes 400 nps 200000 hashfull 2 tbhits 0 time 2 pv a8d8 b1c1 e5d3 c2d3 e4d3 f1g2 d3d2 c1d1', position at root: r2R2k1/pp2rppb/2p2b1p/4n3/4pBP1/Q3P1NP/PPP2P2/1K3B1R w - - 3 19\n",
      "Exception parsing pv from info: 'depth 9 seldepth 10 multipv 1 score cp -410 nodes 1432 nps 477333 hashfull 2 tbhits 0 time 3 pv a8d8 b1c1 e5f3 f1e2 f3d2 a3a7 g7g5', position at root: r2R2k1/pp2rppb/2p2b1p/4n3/4pBP1/Q3P1NP/PPP2P2/1K3B1R w - - 3 19\n",
      "Exception parsing pv from info: 'depth 10 seldepth 15 multipv 1 score cp -431 nodes 2739 nps 684750 hashfull 3 tbhits 0 time 4 pv a8d8 b1c1 f6e7 a3a7 e5d3 c2d3 e4d3 e3e4', position at root: r2R2k1/pp2rppb/2p2b1p/4n3/4pBP1/Q3P1NP/PPP2P2/1K3B1R w - - 3 19\n",
      "UciAnalysisCommand failed after returning preliminary result (<Future finished result=<chess.engine...002A04D0FC490>>)\n",
      "protocol: <UciProtocol (pid=58224)>\n",
      "transport: <_WindowsSubprocessTransport pid=58224 running stdin=<_ProactorWritePipeTransport fd=1628 read=<_OverlappedFuture pending overlapped=<pending, 0x2a04c96e9e0> cb=[_ProactorWritePipeTransport._pipe_closed()]>> stdout=<_ProactorReadPipeTransport fd=1680 read=<_OverlappedFuture pending overlapped=<pending, 0x2a04c96ff40> cb=[_ProactorReadPipeTransport._loop_reading()]>> stderr=<_ProactorReadPipeTransport fd=1828 read=<_OverlappedFuture pending overlapped=<pending, 0x2a04c96e200> cb=[_ProactorReadPipeTransport._loop_reading()]>>>\n",
      "Traceback (most recent call last):\n",
      "  File \"C:\\Users\\ekarni\\.pyenv\\pyenv-win\\versions\\3.10\\lib\\site-packages\\chess\\engine.py\", line 1965, in _parse_uci_bestmove\n",
      "    move = board.push_uci(tokens[0].lower())\n",
      "  File \"C:\\Users\\ekarni\\.pyenv\\pyenv-win\\versions\\3.10\\lib\\site-packages\\chess\\__init__.py\", line 3164, in push_uci\n",
      "    move = self.parse_uci(uci)\n",
      "  File \"C:\\Users\\ekarni\\.pyenv\\pyenv-win\\versions\\3.10\\lib\\site-packages\\chess\\__init__.py\", line 3147, in parse_uci\n",
      "    raise IllegalMoveError(f\"illegal uci: {uci!r} in {self.fen()}\")\n",
      "chess.IllegalMoveError: illegal uci: 'a8d8' in r2R2k1/pp2rppb/2p2b1p/4n3/4pBP1/Q3P1NP/PPP2P2/1K3B1R w - - 3 19\n",
      "\n",
      "During handling of the above exception, another exception occurred:\n",
      "\n",
      "Traceback (most recent call last):\n",
      "  File \"C:\\Users\\ekarni\\.pyenv\\pyenv-win\\versions\\3.10\\lib\\site-packages\\chess\\engine.py\", line 1386, in _line_received\n",
      "    self.line_received(engine, line)\n",
      "  File \"C:\\Users\\ekarni\\.pyenv\\pyenv-win\\versions\\3.10\\lib\\site-packages\\chess\\engine.py\", line 1818, in line_received\n",
      "    self._bestmove(engine, line.split(\" \", 1)[1])\n",
      "  File \"C:\\Users\\ekarni\\.pyenv\\pyenv-win\\versions\\3.10\\lib\\site-packages\\chess\\engine.py\", line 1841, in _bestmove\n",
      "    best = _parse_uci_bestmove(engine.board, arg)\n",
      "  File \"C:\\Users\\ekarni\\.pyenv\\pyenv-win\\versions\\3.10\\lib\\site-packages\\chess\\engine.py\", line 1967, in _parse_uci_bestmove\n",
      "    raise EngineError(err)\n",
      "chess.engine.EngineError: illegal uci: 'a8d8' in r2R2k1/pp2rppb/2p2b1p/4n3/4pBP1/Q3P1NP/PPP2P2/1K3B1R w - - 3 19\n"
     ]
    },
    {
     "name": "stdout",
     "output_type": "stream",
     "text": [
      "Traceback (most recent call last):\n",
      "  File \"C:\\Users\\ekarni\\.pyenv\\pyenv-win\\versions\\3.10\\lib\\asyncio\\tasks.py\", line 234, in __step\n",
      "    result = coro.throw(exc)\n",
      "  File \"C:\\Users\\ekarni\\.pyenv\\pyenv-win\\versions\\3.10\\lib\\site-packages\\chess\\engine.py\", line 1242, in analyse\n",
      "    await analysis.wait()\n",
      "  File \"C:\\Users\\ekarni\\.pyenv\\pyenv-win\\versions\\3.10\\lib\\site-packages\\chess\\engine.py\", line 2772, in wait\n",
      "    return await self._finished\n",
      "  File \"C:\\Users\\ekarni\\.pyenv\\pyenv-win\\versions\\3.10\\lib\\asyncio\\futures.py\", line 284, in __await__\n",
      "    yield self  # This tells Task to wait for completion.\n",
      "  File \"C:\\Users\\ekarni\\.pyenv\\pyenv-win\\versions\\3.10\\lib\\asyncio\\tasks.py\", line 304, in __wakeup\n",
      "    future.result()\n",
      "  File \"C:\\Users\\ekarni\\.pyenv\\pyenv-win\\versions\\3.10\\lib\\asyncio\\futures.py\", line 196, in result\n",
      "    raise exc\n",
      "asyncio.exceptions.CancelledError\n",
      "\n",
      "During handling of the above exception, another exception occurred:\n",
      "\n",
      "Traceback (most recent call last):\n",
      "  File \"C:\\Users\\ekarni\\.pyenv\\pyenv-win\\versions\\3.10\\lib\\asyncio\\tasks.py\", line 458, in wait_for\n",
      "    fut.result()\n",
      "  File \"C:\\Users\\ekarni\\.pyenv\\pyenv-win\\versions\\3.10\\lib\\asyncio\\futures.py\", line 196, in result\n",
      "    raise exc\n",
      "asyncio.exceptions.CancelledError\n",
      "\n",
      "The above exception was the direct cause of the following exception:\n",
      "\n",
      "Traceback (most recent call last):\n",
      "  File \"C:\\gitproj\\chess_analyzer\\calc.py\", line 132, in calc_moves_score_int\n",
      "    ev = self.get_score(cur, not white, curdep != maxdepth)\n",
      "  File \"C:\\Users\\ekarni\\.pyenv\\pyenv-win\\versions\\3.10\\lib\\site-packages\\memoization\\caching\\plain_cache.py\", line 49, in wrapper\n",
      "    result = user_function(*args, **kwargs)\n",
      "  File \"C:\\gitproj\\chess_analyzer\\calc.py\", line 82, in get_score\n",
      "    cc = engine.analyse(b, limit, game=self.gameidf)[\"score\"]\n",
      "  File \"C:\\Users\\ekarni\\.pyenv\\pyenv-win\\versions\\3.10\\lib\\site-packages\\chess\\engine.py\", line 2997, in analyse\n",
      "    return future.result()\n",
      "  File \"C:\\Users\\ekarni\\.pyenv\\pyenv-win\\versions\\3.10\\lib\\concurrent\\futures\\_base.py\", line 445, in result\n",
      "    return self.__get_result()\n",
      "  File \"C:\\Users\\ekarni\\.pyenv\\pyenv-win\\versions\\3.10\\lib\\concurrent\\futures\\_base.py\", line 390, in __get_result\n",
      "    raise self._exception\n",
      "  File \"C:\\Users\\ekarni\\.pyenv\\pyenv-win\\versions\\3.10\\lib\\asyncio\\tasks.py\", line 232, in __step\n",
      "    result = coro.send(None)\n",
      "  File \"C:\\Users\\ekarni\\.pyenv\\pyenv-win\\versions\\3.10\\lib\\asyncio\\tasks.py\", line 460, in wait_for\n",
      "    raise exceptions.TimeoutError() from exc\n",
      "asyncio.exceptions.TimeoutError\n",
      "\n"
     ]
    },
    {
     "name": "stderr",
     "output_type": "stream",
     "text": [
      "Exception parsing pv from info: 'depth 1 seldepth 1 multipv 1 score cp -431 nodes 31 nps 15500 hashfull 0 tbhits 0 time 2 pv a8d8', position at root: r2R2k1/pp3ppb/2p1rb1p/4n3/4pBP1/Q3P1NP/PPP2P2/1K3B1R w - - 3 19\n",
      "Exception parsing pv from info: 'depth 2 seldepth 2 multipv 1 score cp -431 nodes 62 nps 31000 hashfull 0 tbhits 0 time 2 pv a8d8 b1c1', position at root: r2R2k1/pp3ppb/2p1rb1p/4n3/4pBP1/Q3P1NP/PPP2P2/1K3B1R w - - 3 19\n",
      "Exception parsing pv from info: 'depth 3 seldepth 4 multipv 1 score cp -431 nodes 98 nps 49000 hashfull 0 tbhits 0 time 2 pv a8d8 b1c1 f6e7 a3a7', position at root: r2R2k1/pp3ppb/2p1rb1p/4n3/4pBP1/Q3P1NP/PPP2P2/1K3B1R w - - 3 19\n",
      "Exception parsing pv from info: 'depth 4 seldepth 4 multipv 1 score cp -431 nodes 134 nps 67000 hashfull 0 tbhits 0 time 2 pv a8d8 b1c1 f6e7 a3a7', position at root: r2R2k1/pp3ppb/2p1rb1p/4n3/4pBP1/Q3P1NP/PPP2P2/1K3B1R w - - 3 19\n",
      "Exception parsing pv from info: 'depth 5 seldepth 5 multipv 1 score cp -431 nodes 175 nps 87500 hashfull 0 tbhits 0 time 2 pv a8d8 b1c1 f6e7 a3a7 e5d3 c2d3', position at root: r2R2k1/pp3ppb/2p1rb1p/4n3/4pBP1/Q3P1NP/PPP2P2/1K3B1R w - - 3 19\n",
      "Exception parsing pv from info: 'depth 6 seldepth 6 multipv 1 score cp -431 nodes 220 nps 110000 hashfull 0 tbhits 0 time 2 pv a8d8 b1c1 f6e7 a3a7 e5d3 c2d3 e4d3', position at root: r2R2k1/pp3ppb/2p1rb1p/4n3/4pBP1/Q3P1NP/PPP2P2/1K3B1R w - - 3 19\n",
      "Exception parsing pv from info: 'depth 7 seldepth 8 multipv 1 score cp -431 nodes 283 nps 141500 hashfull 0 tbhits 0 time 2 pv a8d8 b1c1 f6e7 a3a7 e5d3 c2d3 e4d3 e3e4', position at root: r2R2k1/pp3ppb/2p1rb1p/4n3/4pBP1/Q3P1NP/PPP2P2/1K3B1R w - - 3 19\n",
      "Exception parsing pv from info: 'depth 8 seldepth 9 multipv 1 score cp -446 nodes 842 nps 421000 hashfull 0 tbhits 0 time 2 pv a8d8 b1c1 f6e7 a3a4 e7h4 a4a7 h4g3 f2g3', position at root: r2R2k1/pp3ppb/2p1rb1p/4n3/4pBP1/Q3P1NP/PPP2P2/1K3B1R w - - 3 19\n",
      "Exception parsing pv from info: 'depth 9 seldepth 11 multipv 1 score cp -423 nodes 1433 nps 477666 hashfull 0 tbhits 0 time 3 pv a8d8 b1c1 f6h4 f4e5 e8e5 a3a7', position at root: r2R2k1/pp3ppb/2p1rb1p/4n3/4pBP1/Q3P1NP/PPP2P2/1K3B1R w - - 3 19\n",
      "Exception parsing pv from info: 'depth 10 seldepth 9 multipv 1 score cp -423 nodes 2151 nps 717000 hashfull 0 tbhits 0 time 3 pv a8d8 b1c1 f6e7 a3a7 e5d3 c2d3 e4d3', position at root: r2R2k1/pp3ppb/2p1rb1p/4n3/4pBP1/Q3P1NP/PPP2P2/1K3B1R w - - 3 19\n",
      "UciAnalysisCommand failed after returning preliminary result (<Future finished result=<chess.engine...002A04D0FD5D0>>)\n",
      "protocol: <UciProtocol (pid=58224)>\n",
      "transport: <_WindowsSubprocessTransport pid=58224 running stdin=<_ProactorWritePipeTransport fd=1628 read=<_OverlappedFuture pending overlapped=<pending, 0x2a04c96e9e0> cb=[_ProactorWritePipeTransport._pipe_closed()]>> stdout=<_ProactorReadPipeTransport fd=1680 read=<_OverlappedFuture pending overlapped=<pending, 0x2a04c96ff40> cb=[_ProactorReadPipeTransport._loop_reading()]>> stderr=<_ProactorReadPipeTransport fd=1828 read=<_OverlappedFuture pending overlapped=<pending, 0x2a04c96e200> cb=[_ProactorReadPipeTransport._loop_reading()]>>>\n",
      "Traceback (most recent call last):\n",
      "  File \"C:\\Users\\ekarni\\.pyenv\\pyenv-win\\versions\\3.10\\lib\\site-packages\\chess\\engine.py\", line 1965, in _parse_uci_bestmove\n",
      "    move = board.push_uci(tokens[0].lower())\n",
      "  File \"C:\\Users\\ekarni\\.pyenv\\pyenv-win\\versions\\3.10\\lib\\site-packages\\chess\\__init__.py\", line 3164, in push_uci\n",
      "    move = self.parse_uci(uci)\n",
      "  File \"C:\\Users\\ekarni\\.pyenv\\pyenv-win\\versions\\3.10\\lib\\site-packages\\chess\\__init__.py\", line 3147, in parse_uci\n",
      "    raise IllegalMoveError(f\"illegal uci: {uci!r} in {self.fen()}\")\n",
      "chess.IllegalMoveError: illegal uci: 'a8d8' in r2R2k1/pp3ppb/2p1rb1p/4n3/4pBP1/Q3P1NP/PPP2P2/1K3B1R w - - 3 19\n",
      "\n",
      "During handling of the above exception, another exception occurred:\n",
      "\n",
      "Traceback (most recent call last):\n",
      "  File \"C:\\Users\\ekarni\\.pyenv\\pyenv-win\\versions\\3.10\\lib\\site-packages\\chess\\engine.py\", line 1386, in _line_received\n",
      "    self.line_received(engine, line)\n",
      "  File \"C:\\Users\\ekarni\\.pyenv\\pyenv-win\\versions\\3.10\\lib\\site-packages\\chess\\engine.py\", line 1818, in line_received\n",
      "    self._bestmove(engine, line.split(\" \", 1)[1])\n",
      "  File \"C:\\Users\\ekarni\\.pyenv\\pyenv-win\\versions\\3.10\\lib\\site-packages\\chess\\engine.py\", line 1841, in _bestmove\n",
      "    best = _parse_uci_bestmove(engine.board, arg)\n",
      "  File \"C:\\Users\\ekarni\\.pyenv\\pyenv-win\\versions\\3.10\\lib\\site-packages\\chess\\engine.py\", line 1967, in _parse_uci_bestmove\n",
      "    raise EngineError(err)\n",
      "chess.engine.EngineError: illegal uci: 'a8d8' in r2R2k1/pp3ppb/2p1rb1p/4n3/4pBP1/Q3P1NP/PPP2P2/1K3B1R w - - 3 19\n"
     ]
    },
    {
     "name": "stdout",
     "output_type": "stream",
     "text": [
      "Traceback (most recent call last):\n",
      "  File \"C:\\Users\\ekarni\\.pyenv\\pyenv-win\\versions\\3.10\\lib\\asyncio\\tasks.py\", line 234, in __step\n",
      "    result = coro.throw(exc)\n",
      "  File \"C:\\Users\\ekarni\\.pyenv\\pyenv-win\\versions\\3.10\\lib\\site-packages\\chess\\engine.py\", line 1242, in analyse\n",
      "    await analysis.wait()\n",
      "  File \"C:\\Users\\ekarni\\.pyenv\\pyenv-win\\versions\\3.10\\lib\\site-packages\\chess\\engine.py\", line 2772, in wait\n",
      "    return await self._finished\n",
      "  File \"C:\\Users\\ekarni\\.pyenv\\pyenv-win\\versions\\3.10\\lib\\asyncio\\futures.py\", line 284, in __await__\n",
      "    yield self  # This tells Task to wait for completion.\n",
      "  File \"C:\\Users\\ekarni\\.pyenv\\pyenv-win\\versions\\3.10\\lib\\asyncio\\tasks.py\", line 304, in __wakeup\n",
      "    future.result()\n",
      "  File \"C:\\Users\\ekarni\\.pyenv\\pyenv-win\\versions\\3.10\\lib\\asyncio\\futures.py\", line 196, in result\n",
      "    raise exc\n",
      "asyncio.exceptions.CancelledError\n",
      "\n",
      "During handling of the above exception, another exception occurred:\n",
      "\n",
      "Traceback (most recent call last):\n",
      "  File \"C:\\Users\\ekarni\\.pyenv\\pyenv-win\\versions\\3.10\\lib\\asyncio\\tasks.py\", line 458, in wait_for\n",
      "    fut.result()\n",
      "  File \"C:\\Users\\ekarni\\.pyenv\\pyenv-win\\versions\\3.10\\lib\\asyncio\\futures.py\", line 196, in result\n",
      "    raise exc\n",
      "asyncio.exceptions.CancelledError\n",
      "\n",
      "The above exception was the direct cause of the following exception:\n",
      "\n",
      "Traceback (most recent call last):\n",
      "  File \"C:\\gitproj\\chess_analyzer\\calc.py\", line 132, in calc_moves_score_int\n",
      "    ev = self.get_score(cur, not white, curdep != maxdepth)\n",
      "  File \"C:\\Users\\ekarni\\.pyenv\\pyenv-win\\versions\\3.10\\lib\\site-packages\\memoization\\caching\\plain_cache.py\", line 49, in wrapper\n",
      "    result = user_function(*args, **kwargs)\n",
      "  File \"C:\\gitproj\\chess_analyzer\\calc.py\", line 82, in get_score\n",
      "    cc = engine.analyse(b, limit, game=self.gameidf)[\"score\"]\n",
      "  File \"C:\\Users\\ekarni\\.pyenv\\pyenv-win\\versions\\3.10\\lib\\site-packages\\chess\\engine.py\", line 2997, in analyse\n",
      "    return future.result()\n",
      "  File \"C:\\Users\\ekarni\\.pyenv\\pyenv-win\\versions\\3.10\\lib\\concurrent\\futures\\_base.py\", line 445, in result\n",
      "    return self.__get_result()\n",
      "  File \"C:\\Users\\ekarni\\.pyenv\\pyenv-win\\versions\\3.10\\lib\\concurrent\\futures\\_base.py\", line 390, in __get_result\n",
      "    raise self._exception\n",
      "  File \"C:\\Users\\ekarni\\.pyenv\\pyenv-win\\versions\\3.10\\lib\\asyncio\\tasks.py\", line 232, in __step\n",
      "    result = coro.send(None)\n",
      "  File \"C:\\Users\\ekarni\\.pyenv\\pyenv-win\\versions\\3.10\\lib\\asyncio\\tasks.py\", line 460, in wait_for\n",
      "    raise exceptions.TimeoutError() from exc\n",
      "asyncio.exceptions.TimeoutError\n",
      "\n"
     ]
    },
    {
     "name": "stderr",
     "output_type": "stream",
     "text": [
      "Exception parsing pv from info: 'depth 1 seldepth 1 multipv 1 score cp -76 nodes 40 nps 40000 hashfull 2 tbhits 0 time 1 pv a8d8', position at root: r2R2k1/pp2rppb/2p2b1p/4n3/3QpBP1/4P1NP/PPP2P2/1K3B1R w - - 3 19\n",
      "Exception parsing pv from info: 'depth 2 seldepth 2 multipv 1 score cp -76 nodes 68 nps 68000 hashfull 2 tbhits 0 time 1 pv a8d8', position at root: r2R2k1/pp2rppb/2p2b1p/4n3/3QpBP1/4P1NP/PPP2P2/1K3B1R w - - 3 19\n",
      "Exception parsing pv from info: 'depth 3 seldepth 2 multipv 1 score cp -76 nodes 96 nps 96000 hashfull 2 tbhits 0 time 1 pv a8d8', position at root: r2R2k1/pp2rppb/2p2b1p/4n3/3QpBP1/4P1NP/PPP2P2/1K3B1R w - - 3 19\n",
      "Exception parsing pv from info: 'depth 4 seldepth 2 multipv 1 score cp -65 nodes 126 nps 126000 hashfull 2 tbhits 0 time 1 pv a8d8', position at root: r2R2k1/pp2rppb/2p2b1p/4n3/3QpBP1/4P1NP/PPP2P2/1K3B1R w - - 3 19\n",
      "Exception parsing pv from info: 'depth 5 seldepth 3 multipv 1 score cp -65 nodes 158 nps 158000 hashfull 2 tbhits 0 time 1 pv a8d8 f4e5 f6e5', position at root: r2R2k1/pp2rppb/2p2b1p/4n3/3QpBP1/4P1NP/PPP2P2/1K3B1R w - - 3 19\n",
      "Exception parsing pv from info: 'depth 6 seldepth 4 multipv 1 score cp 26 nodes 342 nps 342000 hashfull 2 tbhits 0 time 1 pv a8d8 f4e5', position at root: r2R2k1/pp2rppb/2p2b1p/4n3/3QpBP1/4P1NP/PPP2P2/1K3B1R w - - 3 19\n",
      "Exception parsing pv from info: 'depth 7 seldepth 7 multipv 1 score cp -64 nodes 1027 nps 513500 hashfull 3 tbhits 0 time 2 pv e8d8 g3h5 e5f3 h5f6 g7f6', position at root: r2R2k1/pp2rppb/2p2b1p/4n3/3QpBP1/4P1NP/PPP2P2/1K3B1R w - - 3 19\n",
      "Exception parsing pv from info: 'depth 8 seldepth 7 multipv 1 score cp -67 nodes 1705 nps 568333 hashfull 3 tbhits 0 time 3 pv a8d8 g3h5 e5f3 h5f6 g7f6', position at root: r2R2k1/pp2rppb/2p2b1p/4n3/3QpBP1/4P1NP/PPP2P2/1K3B1R w - - 3 19\n",
      "Exception parsing pv from info: 'depth 9 seldepth 8 multipv 1 score cp -48 nodes 2866 nps 716500 hashfull 3 tbhits 0 time 4 pv a8d8 g3h5 e5f3 h5f6 g7f6', position at root: r2R2k1/pp2rppb/2p2b1p/4n3/3QpBP1/4P1NP/PPP2P2/1K3B1R w - - 3 19\n",
      "Exception parsing pv from info: 'depth 10 seldepth 8 multipv 1 score cp -34 nodes 3390 nps 678000 hashfull 3 tbhits 0 time 5 pv a8d8 g3h5 e5f3 h5f6 g7f6', position at root: r2R2k1/pp2rppb/2p2b1p/4n3/3QpBP1/4P1NP/PPP2P2/1K3B1R w - - 3 19\n",
      "UciAnalysisCommand failed after returning preliminary result (<Future finished result=<chess.engine...002A04CB30190>>)\n",
      "protocol: <UciProtocol (pid=58224)>\n",
      "transport: <_WindowsSubprocessTransport pid=58224 running stdin=<_ProactorWritePipeTransport fd=1628 read=<_OverlappedFuture pending overlapped=<pending, 0x2a04c96e9e0> cb=[_ProactorWritePipeTransport._pipe_closed()]>> stdout=<_ProactorReadPipeTransport fd=1680 read=<_OverlappedFuture pending overlapped=<pending, 0x2a04cb50670> cb=[_ProactorReadPipeTransport._loop_reading()]>> stderr=<_ProactorReadPipeTransport fd=1828 read=<_OverlappedFuture pending overlapped=<pending, 0x2a04c96e200> cb=[_ProactorReadPipeTransport._loop_reading()]>>>\n",
      "Traceback (most recent call last):\n",
      "  File \"C:\\Users\\ekarni\\.pyenv\\pyenv-win\\versions\\3.10\\lib\\site-packages\\chess\\engine.py\", line 1965, in _parse_uci_bestmove\n",
      "    move = board.push_uci(tokens[0].lower())\n",
      "  File \"C:\\Users\\ekarni\\.pyenv\\pyenv-win\\versions\\3.10\\lib\\site-packages\\chess\\__init__.py\", line 3164, in push_uci\n",
      "    move = self.parse_uci(uci)\n",
      "  File \"C:\\Users\\ekarni\\.pyenv\\pyenv-win\\versions\\3.10\\lib\\site-packages\\chess\\__init__.py\", line 3147, in parse_uci\n",
      "    raise IllegalMoveError(f\"illegal uci: {uci!r} in {self.fen()}\")\n",
      "chess.IllegalMoveError: illegal uci: 'a8d8' in r2R2k1/pp2rppb/2p2b1p/4n3/3QpBP1/4P1NP/PPP2P2/1K3B1R w - - 3 19\n",
      "\n",
      "During handling of the above exception, another exception occurred:\n",
      "\n",
      "Traceback (most recent call last):\n",
      "  File \"C:\\Users\\ekarni\\.pyenv\\pyenv-win\\versions\\3.10\\lib\\site-packages\\chess\\engine.py\", line 1386, in _line_received\n",
      "    self.line_received(engine, line)\n",
      "  File \"C:\\Users\\ekarni\\.pyenv\\pyenv-win\\versions\\3.10\\lib\\site-packages\\chess\\engine.py\", line 1818, in line_received\n",
      "    self._bestmove(engine, line.split(\" \", 1)[1])\n",
      "  File \"C:\\Users\\ekarni\\.pyenv\\pyenv-win\\versions\\3.10\\lib\\site-packages\\chess\\engine.py\", line 1841, in _bestmove\n",
      "    best = _parse_uci_bestmove(engine.board, arg)\n",
      "  File \"C:\\Users\\ekarni\\.pyenv\\pyenv-win\\versions\\3.10\\lib\\site-packages\\chess\\engine.py\", line 1967, in _parse_uci_bestmove\n",
      "    raise EngineError(err)\n",
      "chess.engine.EngineError: illegal uci: 'a8d8' in r2R2k1/pp2rppb/2p2b1p/4n3/3QpBP1/4P1NP/PPP2P2/1K3B1R w - - 3 19\n"
     ]
    },
    {
     "name": "stdout",
     "output_type": "stream",
     "text": [
      "Traceback (most recent call last):\n",
      "  File \"C:\\Users\\ekarni\\.pyenv\\pyenv-win\\versions\\3.10\\lib\\asyncio\\tasks.py\", line 234, in __step\n",
      "    result = coro.throw(exc)\n",
      "  File \"C:\\Users\\ekarni\\.pyenv\\pyenv-win\\versions\\3.10\\lib\\site-packages\\chess\\engine.py\", line 1242, in analyse\n",
      "    await analysis.wait()\n",
      "  File \"C:\\Users\\ekarni\\.pyenv\\pyenv-win\\versions\\3.10\\lib\\site-packages\\chess\\engine.py\", line 2772, in wait\n",
      "    return await self._finished\n",
      "  File \"C:\\Users\\ekarni\\.pyenv\\pyenv-win\\versions\\3.10\\lib\\asyncio\\futures.py\", line 284, in __await__\n",
      "    yield self  # This tells Task to wait for completion.\n",
      "  File \"C:\\Users\\ekarni\\.pyenv\\pyenv-win\\versions\\3.10\\lib\\asyncio\\tasks.py\", line 304, in __wakeup\n",
      "    future.result()\n",
      "  File \"C:\\Users\\ekarni\\.pyenv\\pyenv-win\\versions\\3.10\\lib\\asyncio\\futures.py\", line 196, in result\n",
      "    raise exc\n",
      "asyncio.exceptions.CancelledError\n",
      "\n",
      "During handling of the above exception, another exception occurred:\n",
      "\n",
      "Traceback (most recent call last):\n",
      "  File \"C:\\Users\\ekarni\\.pyenv\\pyenv-win\\versions\\3.10\\lib\\asyncio\\tasks.py\", line 458, in wait_for\n",
      "    fut.result()\n",
      "  File \"C:\\Users\\ekarni\\.pyenv\\pyenv-win\\versions\\3.10\\lib\\asyncio\\futures.py\", line 196, in result\n",
      "    raise exc\n",
      "asyncio.exceptions.CancelledError\n",
      "\n",
      "The above exception was the direct cause of the following exception:\n",
      "\n",
      "Traceback (most recent call last):\n",
      "  File \"C:\\gitproj\\chess_analyzer\\calc.py\", line 132, in calc_moves_score_int\n",
      "    ev = self.get_score(cur, not white, curdep != maxdepth)\n",
      "  File \"C:\\Users\\ekarni\\.pyenv\\pyenv-win\\versions\\3.10\\lib\\site-packages\\memoization\\caching\\plain_cache.py\", line 49, in wrapper\n",
      "    result = user_function(*args, **kwargs)\n",
      "  File \"C:\\gitproj\\chess_analyzer\\calc.py\", line 82, in get_score\n",
      "    cc = engine.analyse(b, limit, game=self.gameidf)[\"score\"]\n",
      "  File \"C:\\Users\\ekarni\\.pyenv\\pyenv-win\\versions\\3.10\\lib\\site-packages\\chess\\engine.py\", line 2997, in analyse\n",
      "    return future.result()\n",
      "  File \"C:\\Users\\ekarni\\.pyenv\\pyenv-win\\versions\\3.10\\lib\\concurrent\\futures\\_base.py\", line 445, in result\n",
      "    return self.__get_result()\n",
      "  File \"C:\\Users\\ekarni\\.pyenv\\pyenv-win\\versions\\3.10\\lib\\concurrent\\futures\\_base.py\", line 390, in __get_result\n",
      "    raise self._exception\n",
      "  File \"C:\\Users\\ekarni\\.pyenv\\pyenv-win\\versions\\3.10\\lib\\asyncio\\tasks.py\", line 232, in __step\n",
      "    result = coro.send(None)\n",
      "  File \"C:\\Users\\ekarni\\.pyenv\\pyenv-win\\versions\\3.10\\lib\\asyncio\\tasks.py\", line 460, in wait_for\n",
      "    raise exceptions.TimeoutError() from exc\n",
      "asyncio.exceptions.TimeoutError\n",
      "\n",
      "['Bh7', 'Qa3'] 5000 -435\n"
     ]
    },
    {
     "name": "stderr",
     "output_type": "stream",
     "text": [
      "Exception parsing pv from info: 'depth 1 seldepth 1 multipv 1 score cp -34 nodes 34 nps 34000 hashfull 1 tbhits 0 time 1 pv a8d8', position at root: r2R2k1/pp3ppb/2p1rb1p/4n3/3QpBP1/4P1NP/PPP2P2/1K3B1R w - - 3 19\n",
      "Exception parsing pv from info: 'depth 2 seldepth 2 multipv 1 score cp -34 nodes 65 nps 65000 hashfull 1 tbhits 0 time 1 pv a8d8 g3h5', position at root: r2R2k1/pp3ppb/2p1rb1p/4n3/3QpBP1/4P1NP/PPP2P2/1K3B1R w - - 3 19\n",
      "Exception parsing pv from info: 'depth 3 seldepth 3 multipv 1 score cp -34 nodes 99 nps 99000 hashfull 1 tbhits 0 time 1 pv a8d8 g3h5 e5f3', position at root: r2R2k1/pp3ppb/2p1rb1p/4n3/3QpBP1/4P1NP/PPP2P2/1K3B1R w - - 3 19\n",
      "Exception parsing pv from info: 'depth 4 seldepth 4 multipv 1 score cp -34 nodes 134 nps 134000 hashfull 1 tbhits 0 time 1 pv a8d8 g3h5 e5f3 h5f6 g7f6', position at root: r2R2k1/pp3ppb/2p1rb1p/4n3/3QpBP1/4P1NP/PPP2P2/1K3B1R w - - 3 19\n",
      "Exception parsing pv from info: 'depth 5 seldepth 5 multipv 1 score cp -34 nodes 169 nps 169000 hashfull 1 tbhits 0 time 1 pv a8d8 g3h5 e5f3 h5f6 g7f6', position at root: r2R2k1/pp3ppb/2p1rb1p/4n3/3QpBP1/4P1NP/PPP2P2/1K3B1R w - - 3 19\n",
      "Exception parsing pv from info: 'depth 6 seldepth 6 multipv 1 score cp -34 nodes 205 nps 205000 hashfull 1 tbhits 0 time 1 pv a8d8 g3h5 e5f3 h5f6 g7f6', position at root: r2R2k1/pp3ppb/2p1rb1p/4n3/3QpBP1/4P1NP/PPP2P2/1K3B1R w - - 3 19\n",
      "Exception parsing pv from info: 'depth 7 seldepth 6 multipv 1 score cp 23 nodes 382 nps 191000 hashfull 1 tbhits 0 time 2 pv a8d8 f4e5 f6e5', position at root: r2R2k1/pp3ppb/2p1rb1p/4n3/3QpBP1/4P1NP/PPP2P2/1K3B1R w - - 3 19\n",
      "Exception parsing pv from info: 'depth 8 seldepth 7 multipv 1 score cp 23 nodes 667 nps 333500 hashfull 1 tbhits 0 time 2 pv a8d8 f1e2 d8d4 e3d4 e5f3 c2c3', position at root: r2R2k1/pp3ppb/2p1rb1p/4n3/3QpBP1/4P1NP/PPP2P2/1K3B1R w - - 3 19\n",
      "Exception parsing pv from info: 'depth 9 seldepth 7 multipv 1 score cp 23 nodes 912 nps 456000 hashfull 1 tbhits 0 time 2 pv a8d8 f1e2 d8d4 e3d4 e5f3 c2c3', position at root: r2R2k1/pp3ppb/2p1rb1p/4n3/3QpBP1/4P1NP/PPP2P2/1K3B1R w - - 3 19\n",
      "Exception parsing pv from info: 'depth 10 seldepth 10 multipv 1 score cp -1 nodes 7179 nps 897375 hashfull 4 tbhits 0 time 8 pv a8d8 g3h5 e5f3 h5f6 g7f6 d4d8 e8d8 f1e2 d8d2', position at root: r2R2k1/pp3ppb/2p1rb1p/4n3/3QpBP1/4P1NP/PPP2P2/1K3B1R w - - 3 19\n",
      "UciAnalysisCommand failed after returning preliminary result (<Future finished result=<chess.engine...002A04CB337F0>>)\n",
      "protocol: <UciProtocol (pid=58224)>\n",
      "transport: <_WindowsSubprocessTransport pid=58224 running stdin=<_ProactorWritePipeTransport fd=1628 read=<_OverlappedFuture pending overlapped=<pending, 0x2a04c96e9e0> cb=[_ProactorWritePipeTransport._pipe_closed()]>> stdout=<_ProactorReadPipeTransport fd=1680 read=<_OverlappedFuture pending overlapped=<pending, 0x2a04cb50670> cb=[_ProactorReadPipeTransport._loop_reading()]>> stderr=<_ProactorReadPipeTransport fd=1828 read=<_OverlappedFuture pending overlapped=<pending, 0x2a04c96e200> cb=[_ProactorReadPipeTransport._loop_reading()]>>>\n",
      "Traceback (most recent call last):\n",
      "  File \"C:\\Users\\ekarni\\.pyenv\\pyenv-win\\versions\\3.10\\lib\\site-packages\\chess\\engine.py\", line 1965, in _parse_uci_bestmove\n",
      "    move = board.push_uci(tokens[0].lower())\n",
      "  File \"C:\\Users\\ekarni\\.pyenv\\pyenv-win\\versions\\3.10\\lib\\site-packages\\chess\\__init__.py\", line 3164, in push_uci\n",
      "    move = self.parse_uci(uci)\n",
      "  File \"C:\\Users\\ekarni\\.pyenv\\pyenv-win\\versions\\3.10\\lib\\site-packages\\chess\\__init__.py\", line 3147, in parse_uci\n",
      "    raise IllegalMoveError(f\"illegal uci: {uci!r} in {self.fen()}\")\n",
      "chess.IllegalMoveError: illegal uci: 'a8d8' in r2R2k1/pp3ppb/2p1rb1p/4n3/3QpBP1/4P1NP/PPP2P2/1K3B1R w - - 3 19\n",
      "\n",
      "During handling of the above exception, another exception occurred:\n",
      "\n",
      "Traceback (most recent call last):\n",
      "  File \"C:\\Users\\ekarni\\.pyenv\\pyenv-win\\versions\\3.10\\lib\\site-packages\\chess\\engine.py\", line 1386, in _line_received\n",
      "    self.line_received(engine, line)\n",
      "  File \"C:\\Users\\ekarni\\.pyenv\\pyenv-win\\versions\\3.10\\lib\\site-packages\\chess\\engine.py\", line 1818, in line_received\n",
      "    self._bestmove(engine, line.split(\" \", 1)[1])\n",
      "  File \"C:\\Users\\ekarni\\.pyenv\\pyenv-win\\versions\\3.10\\lib\\site-packages\\chess\\engine.py\", line 1841, in _bestmove\n",
      "    best = _parse_uci_bestmove(engine.board, arg)\n",
      "  File \"C:\\Users\\ekarni\\.pyenv\\pyenv-win\\versions\\3.10\\lib\\site-packages\\chess\\engine.py\", line 1967, in _parse_uci_bestmove\n",
      "    raise EngineError(err)\n",
      "chess.engine.EngineError: illegal uci: 'a8d8' in r2R2k1/pp3ppb/2p1rb1p/4n3/3QpBP1/4P1NP/PPP2P2/1K3B1R w - - 3 19\n"
     ]
    },
    {
     "name": "stdout",
     "output_type": "stream",
     "text": [
      "Traceback (most recent call last):\n",
      "  File \"C:\\Users\\ekarni\\.pyenv\\pyenv-win\\versions\\3.10\\lib\\asyncio\\tasks.py\", line 234, in __step\n",
      "    result = coro.throw(exc)\n",
      "  File \"C:\\Users\\ekarni\\.pyenv\\pyenv-win\\versions\\3.10\\lib\\site-packages\\chess\\engine.py\", line 1242, in analyse\n",
      "    await analysis.wait()\n",
      "  File \"C:\\Users\\ekarni\\.pyenv\\pyenv-win\\versions\\3.10\\lib\\site-packages\\chess\\engine.py\", line 2772, in wait\n",
      "    return await self._finished\n",
      "  File \"C:\\Users\\ekarni\\.pyenv\\pyenv-win\\versions\\3.10\\lib\\asyncio\\futures.py\", line 284, in __await__\n",
      "    yield self  # This tells Task to wait for completion.\n",
      "  File \"C:\\Users\\ekarni\\.pyenv\\pyenv-win\\versions\\3.10\\lib\\asyncio\\tasks.py\", line 304, in __wakeup\n",
      "    future.result()\n",
      "  File \"C:\\Users\\ekarni\\.pyenv\\pyenv-win\\versions\\3.10\\lib\\asyncio\\futures.py\", line 196, in result\n",
      "    raise exc\n",
      "asyncio.exceptions.CancelledError\n",
      "\n",
      "During handling of the above exception, another exception occurred:\n",
      "\n",
      "Traceback (most recent call last):\n",
      "  File \"C:\\Users\\ekarni\\.pyenv\\pyenv-win\\versions\\3.10\\lib\\asyncio\\tasks.py\", line 458, in wait_for\n",
      "    fut.result()\n",
      "  File \"C:\\Users\\ekarni\\.pyenv\\pyenv-win\\versions\\3.10\\lib\\asyncio\\futures.py\", line 196, in result\n",
      "    raise exc\n",
      "asyncio.exceptions.CancelledError\n",
      "\n",
      "The above exception was the direct cause of the following exception:\n",
      "\n",
      "Traceback (most recent call last):\n",
      "  File \"C:\\gitproj\\chess_analyzer\\calc.py\", line 132, in calc_moves_score_int\n",
      "    ev = self.get_score(cur, not white, curdep != maxdepth)\n",
      "  File \"C:\\Users\\ekarni\\.pyenv\\pyenv-win\\versions\\3.10\\lib\\site-packages\\memoization\\caching\\plain_cache.py\", line 49, in wrapper\n",
      "    result = user_function(*args, **kwargs)\n",
      "  File \"C:\\gitproj\\chess_analyzer\\calc.py\", line 82, in get_score\n",
      "    cc = engine.analyse(b, limit, game=self.gameidf)[\"score\"]\n",
      "  File \"C:\\Users\\ekarni\\.pyenv\\pyenv-win\\versions\\3.10\\lib\\site-packages\\chess\\engine.py\", line 2997, in analyse\n",
      "    return future.result()\n",
      "  File \"C:\\Users\\ekarni\\.pyenv\\pyenv-win\\versions\\3.10\\lib\\concurrent\\futures\\_base.py\", line 445, in result\n",
      "    return self.__get_result()\n",
      "  File \"C:\\Users\\ekarni\\.pyenv\\pyenv-win\\versions\\3.10\\lib\\concurrent\\futures\\_base.py\", line 390, in __get_result\n",
      "    raise self._exception\n",
      "  File \"C:\\Users\\ekarni\\.pyenv\\pyenv-win\\versions\\3.10\\lib\\asyncio\\tasks.py\", line 232, in __step\n",
      "    result = coro.send(None)\n",
      "  File \"C:\\Users\\ekarni\\.pyenv\\pyenv-win\\versions\\3.10\\lib\\asyncio\\tasks.py\", line 460, in wait_for\n",
      "    raise exceptions.TimeoutError() from exc\n",
      "asyncio.exceptions.TimeoutError\n",
      "\n"
     ]
    },
    {
     "name": "stderr",
     "output_type": "stream",
     "text": [
      "Exception parsing pv from info: 'depth 1 seldepth 1 multipv 1 score cp -279 nodes 33 nps 33000 hashfull 3 tbhits 0 time 1 pv a8d8', position at root: r2R2k1/pp2rppb/2p2b1p/Q3n3/4pBP1/4P1NP/PPP2P2/1K3B1R w - - 3 19\n",
      "Exception parsing pv from info: 'depth 2 seldepth 2 multipv 1 score cp -279 nodes 60 nps 60000 hashfull 3 tbhits 0 time 1 pv a8d8', position at root: r2R2k1/pp2rppb/2p2b1p/Q3n3/4pBP1/4P1NP/PPP2P2/1K3B1R w - - 3 19\n",
      "Exception parsing pv from info: 'depth 3 seldepth 2 multipv 1 score cp -279 nodes 87 nps 87000 hashfull 3 tbhits 0 time 1 pv a8d8', position at root: r2R2k1/pp2rppb/2p2b1p/Q3n3/4pBP1/4P1NP/PPP2P2/1K3B1R w - - 3 19\n",
      "Exception parsing pv from info: 'depth 4 seldepth 3 multipv 1 score cp -460 nodes 209 nps 209000 hashfull 3 tbhits 0 time 1 pv a8d8 f1e2', position at root: r2R2k1/pp2rppb/2p2b1p/Q3n3/4pBP1/4P1NP/PPP2P2/1K3B1R w - - 3 19\n",
      "Exception parsing pv from info: 'depth 5 seldepth 3 multipv 1 score cp -442 nodes 239 nps 239000 hashfull 3 tbhits 0 time 1 pv a8d8 f1e2 e5f3', position at root: r2R2k1/pp2rppb/2p2b1p/Q3n3/4pBP1/4P1NP/PPP2P2/1K3B1R w - - 3 19\n",
      "Exception parsing pv from info: 'depth 6 seldepth 4 multipv 1 score cp -442 nodes 276 nps 276000 hashfull 3 tbhits 0 time 1 pv a8d8 f1e2 e5f3 e2f3', position at root: r2R2k1/pp2rppb/2p2b1p/Q3n3/4pBP1/4P1NP/PPP2P2/1K3B1R w - - 3 19\n",
      "Exception parsing pv from info: 'depth 7 seldepth 6 multipv 1 score cp -456 nodes 393 nps 393000 hashfull 3 tbhits 0 time 1 pv a8d8 f1e2 e5f3 e2f3 e4f3', position at root: r2R2k1/pp2rppb/2p2b1p/Q3n3/4pBP1/4P1NP/PPP2P2/1K3B1R w - - 3 19\n",
      "Exception parsing pv from info: 'depth 8 seldepth 7 multipv 1 score cp -462 nodes 655 nps 327500 hashfull 4 tbhits 0 time 2 pv a8d8 f1e2 e5f3 h1d1 d8d1 e2d1', position at root: r2R2k1/pp2rppb/2p2b1p/Q3n3/4pBP1/4P1NP/PPP2P2/1K3B1R w - - 3 19\n",
      "Exception parsing pv from info: 'depth 9 seldepth 10 multipv 1 score cp -414 nodes 1619 nps 539666 hashfull 4 tbhits 0 time 3 pv a8d8 f1e2 e5d3 c2d3 e4d3 e2d1 d3d2 g3f5 h7f5 g4f5', position at root: r2R2k1/pp2rppb/2p2b1p/Q3n3/4pBP1/4P1NP/PPP2P2/1K3B1R w - - 3 19\n",
      "Exception parsing pv from info: 'depth 10 seldepth 11 multipv 1 score cp -434 nodes 2389 nps 597250 hashfull 4 tbhits 0 time 4 pv a8d8 f1e2 e5d3 g3h5 d3f4 h5f4', position at root: r2R2k1/pp2rppb/2p2b1p/Q3n3/4pBP1/4P1NP/PPP2P2/1K3B1R w - - 3 19\n",
      "UciAnalysisCommand failed after returning preliminary result (<Future finished result=<chess.engine...002A04D0EE1D0>>)\n",
      "protocol: <UciProtocol (pid=58224)>\n",
      "transport: <_WindowsSubprocessTransport pid=58224 running stdin=<_ProactorWritePipeTransport fd=1628 read=<_OverlappedFuture pending overlapped=<pending, 0x2a04c96e9e0> cb=[_ProactorWritePipeTransport._pipe_closed()]>> stdout=<_ProactorReadPipeTransport fd=1680 read=<_OverlappedFuture pending overlapped=<pending, 0x2a04cbafeb0> cb=[_ProactorReadPipeTransport._loop_reading()]>> stderr=<_ProactorReadPipeTransport fd=1828 read=<_OverlappedFuture pending overlapped=<pending, 0x2a04c96e200> cb=[_ProactorReadPipeTransport._loop_reading()]>>>\n",
      "Traceback (most recent call last):\n",
      "  File \"C:\\Users\\ekarni\\.pyenv\\pyenv-win\\versions\\3.10\\lib\\site-packages\\chess\\engine.py\", line 1965, in _parse_uci_bestmove\n",
      "    move = board.push_uci(tokens[0].lower())\n",
      "  File \"C:\\Users\\ekarni\\.pyenv\\pyenv-win\\versions\\3.10\\lib\\site-packages\\chess\\__init__.py\", line 3164, in push_uci\n",
      "    move = self.parse_uci(uci)\n",
      "  File \"C:\\Users\\ekarni\\.pyenv\\pyenv-win\\versions\\3.10\\lib\\site-packages\\chess\\__init__.py\", line 3147, in parse_uci\n",
      "    raise IllegalMoveError(f\"illegal uci: {uci!r} in {self.fen()}\")\n",
      "chess.IllegalMoveError: illegal uci: 'a8d8' in r2R2k1/pp2rppb/2p2b1p/Q3n3/4pBP1/4P1NP/PPP2P2/1K3B1R w - - 3 19\n",
      "\n",
      "During handling of the above exception, another exception occurred:\n",
      "\n",
      "Traceback (most recent call last):\n",
      "  File \"C:\\Users\\ekarni\\.pyenv\\pyenv-win\\versions\\3.10\\lib\\site-packages\\chess\\engine.py\", line 1386, in _line_received\n",
      "    self.line_received(engine, line)\n",
      "  File \"C:\\Users\\ekarni\\.pyenv\\pyenv-win\\versions\\3.10\\lib\\site-packages\\chess\\engine.py\", line 1818, in line_received\n",
      "    self._bestmove(engine, line.split(\" \", 1)[1])\n",
      "  File \"C:\\Users\\ekarni\\.pyenv\\pyenv-win\\versions\\3.10\\lib\\site-packages\\chess\\engine.py\", line 1841, in _bestmove\n",
      "    best = _parse_uci_bestmove(engine.board, arg)\n",
      "  File \"C:\\Users\\ekarni\\.pyenv\\pyenv-win\\versions\\3.10\\lib\\site-packages\\chess\\engine.py\", line 1967, in _parse_uci_bestmove\n",
      "    raise EngineError(err)\n",
      "chess.engine.EngineError: illegal uci: 'a8d8' in r2R2k1/pp2rppb/2p2b1p/Q3n3/4pBP1/4P1NP/PPP2P2/1K3B1R w - - 3 19\n"
     ]
    },
    {
     "name": "stdout",
     "output_type": "stream",
     "text": [
      "Traceback (most recent call last):\n",
      "  File \"C:\\Users\\ekarni\\.pyenv\\pyenv-win\\versions\\3.10\\lib\\asyncio\\tasks.py\", line 234, in __step\n",
      "    result = coro.throw(exc)\n",
      "  File \"C:\\Users\\ekarni\\.pyenv\\pyenv-win\\versions\\3.10\\lib\\site-packages\\chess\\engine.py\", line 1242, in analyse\n",
      "    await analysis.wait()\n",
      "  File \"C:\\Users\\ekarni\\.pyenv\\pyenv-win\\versions\\3.10\\lib\\site-packages\\chess\\engine.py\", line 2772, in wait\n",
      "    return await self._finished\n",
      "  File \"C:\\Users\\ekarni\\.pyenv\\pyenv-win\\versions\\3.10\\lib\\asyncio\\futures.py\", line 284, in __await__\n",
      "    yield self  # This tells Task to wait for completion.\n",
      "  File \"C:\\Users\\ekarni\\.pyenv\\pyenv-win\\versions\\3.10\\lib\\asyncio\\tasks.py\", line 304, in __wakeup\n",
      "    future.result()\n",
      "  File \"C:\\Users\\ekarni\\.pyenv\\pyenv-win\\versions\\3.10\\lib\\asyncio\\futures.py\", line 196, in result\n",
      "    raise exc\n",
      "asyncio.exceptions.CancelledError\n",
      "\n",
      "During handling of the above exception, another exception occurred:\n",
      "\n",
      "Traceback (most recent call last):\n",
      "  File \"C:\\Users\\ekarni\\.pyenv\\pyenv-win\\versions\\3.10\\lib\\asyncio\\tasks.py\", line 458, in wait_for\n",
      "    fut.result()\n",
      "  File \"C:\\Users\\ekarni\\.pyenv\\pyenv-win\\versions\\3.10\\lib\\asyncio\\futures.py\", line 196, in result\n",
      "    raise exc\n",
      "asyncio.exceptions.CancelledError\n",
      "\n",
      "The above exception was the direct cause of the following exception:\n",
      "\n",
      "Traceback (most recent call last):\n",
      "  File \"C:\\gitproj\\chess_analyzer\\calc.py\", line 132, in calc_moves_score_int\n",
      "    ev = self.get_score(cur, not white, curdep != maxdepth)\n",
      "  File \"C:\\Users\\ekarni\\.pyenv\\pyenv-win\\versions\\3.10\\lib\\site-packages\\memoization\\caching\\plain_cache.py\", line 49, in wrapper\n",
      "    result = user_function(*args, **kwargs)\n",
      "  File \"C:\\gitproj\\chess_analyzer\\calc.py\", line 82, in get_score\n",
      "    cc = engine.analyse(b, limit, game=self.gameidf)[\"score\"]\n",
      "  File \"C:\\Users\\ekarni\\.pyenv\\pyenv-win\\versions\\3.10\\lib\\site-packages\\chess\\engine.py\", line 2997, in analyse\n",
      "    return future.result()\n",
      "  File \"C:\\Users\\ekarni\\.pyenv\\pyenv-win\\versions\\3.10\\lib\\concurrent\\futures\\_base.py\", line 445, in result\n",
      "    return self.__get_result()\n",
      "  File \"C:\\Users\\ekarni\\.pyenv\\pyenv-win\\versions\\3.10\\lib\\concurrent\\futures\\_base.py\", line 390, in __get_result\n",
      "    raise self._exception\n",
      "  File \"C:\\Users\\ekarni\\.pyenv\\pyenv-win\\versions\\3.10\\lib\\asyncio\\tasks.py\", line 232, in __step\n",
      "    result = coro.send(None)\n",
      "  File \"C:\\Users\\ekarni\\.pyenv\\pyenv-win\\versions\\3.10\\lib\\asyncio\\tasks.py\", line 460, in wait_for\n",
      "    raise exceptions.TimeoutError() from exc\n",
      "asyncio.exceptions.TimeoutError\n",
      "\n",
      "['Bh7', 'Qd4'] 32 -515\n",
      "['Bh7', 'Qd4'] 32 -515\n"
     ]
    },
    {
     "name": "stderr",
     "output_type": "stream",
     "text": [
      "Exception parsing pv from info: 'depth 1 seldepth 1 multipv 1 score cp -434 nodes 31 nps 31000 hashfull 3 tbhits 0 time 1 pv a8d8', position at root: r2R2k1/pp3ppb/2p1rb1p/Q3n3/4pBP1/4P1NP/PPP2P2/1K3B1R w - - 3 19\n",
      "Exception parsing pv from info: 'depth 2 seldepth 2 multipv 1 score cp -434 nodes 58 nps 58000 hashfull 3 tbhits 0 time 1 pv a8d8 f1e2', position at root: r2R2k1/pp3ppb/2p1rb1p/Q3n3/4pBP1/4P1NP/PPP2P2/1K3B1R w - - 3 19\n",
      "Exception parsing pv from info: 'depth 3 seldepth 4 multipv 1 score cp -434 nodes 93 nps 93000 hashfull 3 tbhits 0 time 1 pv a8d8 f1e2 e5d3 g3h5', position at root: r2R2k1/pp3ppb/2p1rb1p/Q3n3/4pBP1/4P1NP/PPP2P2/1K3B1R w - - 3 19\n",
      "Exception parsing pv from info: 'depth 4 seldepth 4 multipv 1 score cp -434 nodes 128 nps 128000 hashfull 3 tbhits 0 time 1 pv a8d8 f1e2 e5d3 g3h5', position at root: r2R2k1/pp3ppb/2p1rb1p/Q3n3/4pBP1/4P1NP/PPP2P2/1K3B1R w - - 3 19\n",
      "Exception parsing pv from info: 'depth 5 seldepth 5 multipv 1 score cp -434 nodes 167 nps 167000 hashfull 3 tbhits 0 time 1 pv a8d8 f1e2 e5d3 g3h5 d3f4 h5f4', position at root: r2R2k1/pp3ppb/2p1rb1p/Q3n3/4pBP1/4P1NP/PPP2P2/1K3B1R w - - 3 19\n",
      "Exception parsing pv from info: 'depth 6 seldepth 6 multipv 1 score cp -434 nodes 207 nps 207000 hashfull 3 tbhits 0 time 1 pv a8d8 f1e2 e5d3 g3h5 d3f4 h5f4', position at root: r2R2k1/pp3ppb/2p1rb1p/Q3n3/4pBP1/4P1NP/PPP2P2/1K3B1R w - - 3 19\n",
      "Exception parsing pv from info: 'depth 7 seldepth 7 multipv 1 score cp -434 nodes 254 nps 254000 hashfull 3 tbhits 0 time 1 pv a8d8 f1e2 e5d3 g3h5 d3f4 h5f4', position at root: r2R2k1/pp3ppb/2p1rb1p/Q3n3/4pBP1/4P1NP/PPP2P2/1K3B1R w - - 3 19\n",
      "Exception parsing pv from info: 'depth 8 seldepth 9 multipv 1 score cp -437 nodes 400 nps 400000 hashfull 3 tbhits 0 time 1 pv a8d8 f1e2 e5d3 g3h5 f6h4', position at root: r2R2k1/pp3ppb/2p1rb1p/Q3n3/4pBP1/4P1NP/PPP2P2/1K3B1R w - - 3 19\n",
      "Exception parsing pv from info: 'depth 9 seldepth 9 multipv 1 score cp -408 nodes 777 nps 388500 hashfull 4 tbhits 0 time 2 pv a8d8 f1e2 e5d3 g3h5 d8d5 h5f6 g7f6', position at root: r2R2k1/pp3ppb/2p1rb1p/Q3n3/4pBP1/4P1NP/PPP2P2/1K3B1R w - - 3 19\n",
      "Exception parsing pv from info: 'depth 10 seldepth 10 multipv 1 score cp -428 nodes 1633 nps 544333 hashfull 5 tbhits 0 time 3 pv a8d8 f1e2 e5d3 c2d3 e4d3 e2d1 d3d2 g3f5 d8d5 a5a4', position at root: r2R2k1/pp3ppb/2p1rb1p/Q3n3/4pBP1/4P1NP/PPP2P2/1K3B1R w - - 3 19\n",
      "UciAnalysisCommand failed after returning preliminary result (<Future finished result=<chess.engine...002A04D0ECC70>>)\n",
      "protocol: <UciProtocol (pid=58224)>\n",
      "transport: <_WindowsSubprocessTransport pid=58224 running stdin=<_ProactorWritePipeTransport fd=1628 read=<_OverlappedFuture pending overlapped=<pending, 0x2a04c96e9e0> cb=[_ProactorWritePipeTransport._pipe_closed()]>> stdout=<_ProactorReadPipeTransport fd=1680 read=<_OverlappedFuture pending overlapped=<pending, 0x2a04cbae7a0> cb=[_ProactorReadPipeTransport._loop_reading()]>> stderr=<_ProactorReadPipeTransport fd=1828 read=<_OverlappedFuture pending overlapped=<pending, 0x2a04c96e200> cb=[_ProactorReadPipeTransport._loop_reading()]>>>\n",
      "Traceback (most recent call last):\n",
      "  File \"C:\\Users\\ekarni\\.pyenv\\pyenv-win\\versions\\3.10\\lib\\site-packages\\chess\\engine.py\", line 1965, in _parse_uci_bestmove\n",
      "    move = board.push_uci(tokens[0].lower())\n",
      "  File \"C:\\Users\\ekarni\\.pyenv\\pyenv-win\\versions\\3.10\\lib\\site-packages\\chess\\__init__.py\", line 3164, in push_uci\n",
      "    move = self.parse_uci(uci)\n",
      "  File \"C:\\Users\\ekarni\\.pyenv\\pyenv-win\\versions\\3.10\\lib\\site-packages\\chess\\__init__.py\", line 3147, in parse_uci\n",
      "    raise IllegalMoveError(f\"illegal uci: {uci!r} in {self.fen()}\")\n",
      "chess.IllegalMoveError: illegal uci: 'a8d8' in r2R2k1/pp3ppb/2p1rb1p/Q3n3/4pBP1/4P1NP/PPP2P2/1K3B1R w - - 3 19\n",
      "\n",
      "During handling of the above exception, another exception occurred:\n",
      "\n",
      "Traceback (most recent call last):\n",
      "  File \"C:\\Users\\ekarni\\.pyenv\\pyenv-win\\versions\\3.10\\lib\\site-packages\\chess\\engine.py\", line 1386, in _line_received\n",
      "    self.line_received(engine, line)\n",
      "  File \"C:\\Users\\ekarni\\.pyenv\\pyenv-win\\versions\\3.10\\lib\\site-packages\\chess\\engine.py\", line 1818, in line_received\n",
      "    self._bestmove(engine, line.split(\" \", 1)[1])\n",
      "  File \"C:\\Users\\ekarni\\.pyenv\\pyenv-win\\versions\\3.10\\lib\\site-packages\\chess\\engine.py\", line 1841, in _bestmove\n",
      "    best = _parse_uci_bestmove(engine.board, arg)\n",
      "  File \"C:\\Users\\ekarni\\.pyenv\\pyenv-win\\versions\\3.10\\lib\\site-packages\\chess\\engine.py\", line 1967, in _parse_uci_bestmove\n",
      "    raise EngineError(err)\n",
      "chess.engine.EngineError: illegal uci: 'a8d8' in r2R2k1/pp3ppb/2p1rb1p/Q3n3/4pBP1/4P1NP/PPP2P2/1K3B1R w - - 3 19\n"
     ]
    },
    {
     "name": "stdout",
     "output_type": "stream",
     "text": [
      "Traceback (most recent call last):\n",
      "  File \"C:\\Users\\ekarni\\.pyenv\\pyenv-win\\versions\\3.10\\lib\\asyncio\\tasks.py\", line 234, in __step\n",
      "    result = coro.throw(exc)\n",
      "  File \"C:\\Users\\ekarni\\.pyenv\\pyenv-win\\versions\\3.10\\lib\\site-packages\\chess\\engine.py\", line 1242, in analyse\n",
      "    await analysis.wait()\n",
      "  File \"C:\\Users\\ekarni\\.pyenv\\pyenv-win\\versions\\3.10\\lib\\site-packages\\chess\\engine.py\", line 2772, in wait\n",
      "    return await self._finished\n",
      "  File \"C:\\Users\\ekarni\\.pyenv\\pyenv-win\\versions\\3.10\\lib\\asyncio\\futures.py\", line 284, in __await__\n",
      "    yield self  # This tells Task to wait for completion.\n",
      "  File \"C:\\Users\\ekarni\\.pyenv\\pyenv-win\\versions\\3.10\\lib\\asyncio\\tasks.py\", line 304, in __wakeup\n",
      "    future.result()\n",
      "  File \"C:\\Users\\ekarni\\.pyenv\\pyenv-win\\versions\\3.10\\lib\\asyncio\\futures.py\", line 196, in result\n",
      "    raise exc\n",
      "asyncio.exceptions.CancelledError\n",
      "\n",
      "During handling of the above exception, another exception occurred:\n",
      "\n",
      "Traceback (most recent call last):\n",
      "  File \"C:\\Users\\ekarni\\.pyenv\\pyenv-win\\versions\\3.10\\lib\\asyncio\\tasks.py\", line 458, in wait_for\n",
      "    fut.result()\n",
      "  File \"C:\\Users\\ekarni\\.pyenv\\pyenv-win\\versions\\3.10\\lib\\asyncio\\futures.py\", line 196, in result\n",
      "    raise exc\n",
      "asyncio.exceptions.CancelledError\n",
      "\n",
      "The above exception was the direct cause of the following exception:\n",
      "\n",
      "Traceback (most recent call last):\n",
      "  File \"C:\\gitproj\\chess_analyzer\\calc.py\", line 132, in calc_moves_score_int\n",
      "    ev = self.get_score(cur, not white, curdep != maxdepth)\n",
      "  File \"C:\\Users\\ekarni\\.pyenv\\pyenv-win\\versions\\3.10\\lib\\site-packages\\memoization\\caching\\plain_cache.py\", line 49, in wrapper\n",
      "    result = user_function(*args, **kwargs)\n",
      "  File \"C:\\gitproj\\chess_analyzer\\calc.py\", line 82, in get_score\n",
      "    cc = engine.analyse(b, limit, game=self.gameidf)[\"score\"]\n",
      "  File \"C:\\Users\\ekarni\\.pyenv\\pyenv-win\\versions\\3.10\\lib\\site-packages\\chess\\engine.py\", line 2997, in analyse\n",
      "    return future.result()\n",
      "  File \"C:\\Users\\ekarni\\.pyenv\\pyenv-win\\versions\\3.10\\lib\\concurrent\\futures\\_base.py\", line 445, in result\n",
      "    return self.__get_result()\n",
      "  File \"C:\\Users\\ekarni\\.pyenv\\pyenv-win\\versions\\3.10\\lib\\concurrent\\futures\\_base.py\", line 390, in __get_result\n",
      "    raise self._exception\n",
      "  File \"C:\\Users\\ekarni\\.pyenv\\pyenv-win\\versions\\3.10\\lib\\asyncio\\tasks.py\", line 232, in __step\n",
      "    result = coro.send(None)\n",
      "  File \"C:\\Users\\ekarni\\.pyenv\\pyenv-win\\versions\\3.10\\lib\\asyncio\\tasks.py\", line 460, in wait_for\n",
      "    raise exceptions.TimeoutError() from exc\n",
      "asyncio.exceptions.TimeoutError\n",
      "\n"
     ]
    },
    {
     "name": "stderr",
     "output_type": "stream",
     "text": [
      "Exception parsing pv from info: 'depth 1 seldepth 1 multipv 1 score cp -564 nodes 33 nps 16500 hashfull 3 tbhits 0 time 2 pv a8d8', position at root: r2R2k1/pp2rppb/2p2b1p/4n3/4pBP1/2Q1P1NP/PPP1BP2/1K5R w - - 3 19\n",
      "Exception parsing pv from info: 'depth 2 seldepth 2 multipv 1 score cp -564 nodes 61 nps 30500 hashfull 3 tbhits 0 time 2 pv a8d8', position at root: r2R2k1/pp2rppb/2p2b1p/4n3/4pBP1/2Q1P1NP/PPP1BP2/1K5R w - - 3 19\n",
      "Exception parsing pv from info: 'depth 3 seldepth 2 multipv 1 score cp -564 nodes 89 nps 44500 hashfull 3 tbhits 0 time 2 pv a8d8', position at root: r2R2k1/pp2rppb/2p2b1p/4n3/4pBP1/2Q1P1NP/PPP1BP2/1K5R w - - 3 19\n",
      "Exception parsing pv from info: 'depth 4 seldepth 2 multipv 1 score cp -456 nodes 121 nps 60500 hashfull 3 tbhits 0 time 2 pv a8d8', position at root: r2R2k1/pp2rppb/2p2b1p/4n3/4pBP1/2Q1P1NP/PPP1BP2/1K5R w - - 3 19\n",
      "Exception parsing pv from info: 'depth 5 seldepth 3 multipv 1 score cp -436 nodes 155 nps 77500 hashfull 3 tbhits 0 time 2 pv a8d8 h1d1', position at root: r2R2k1/pp2rppb/2p2b1p/4n3/4pBP1/2Q1P1NP/PPP1BP2/1K5R w - - 3 19\n",
      "Exception parsing pv from info: 'depth 6 seldepth 6 multipv 1 score cp -539 nodes 242 nps 121000 hashfull 3 tbhits 0 time 2 pv a8d8 g3h5 e5f3 h5f6 g7f6 b1c1', position at root: r2R2k1/pp2rppb/2p2b1p/4n3/4pBP1/2Q1P1NP/PPP1BP2/1K5R w - - 3 19\n",
      "Exception parsing pv from info: 'depth 7 seldepth 7 multipv 1 score cp -539 nodes 310 nps 155000 hashfull 3 tbhits 0 time 2 pv a8d8 g3h5 e5f3 h5f6 g7f6 b1c1', position at root: r2R2k1/pp2rppb/2p2b1p/4n3/4pBP1/2Q1P1NP/PPP1BP2/1K5R w - - 3 19\n",
      "Exception parsing pv from info: 'depth 8 seldepth 8 multipv 1 score cp -580 nodes 494 nps 247000 hashfull 3 tbhits 0 time 2 pv a8d8 g3h5 e5f3 h5f6 g7f6 b1c1 d8d5', position at root: r2R2k1/pp2rppb/2p2b1p/4n3/4pBP1/2Q1P1NP/PPP1BP2/1K5R w - - 3 19\n",
      "Exception parsing pv from info: 'depth 9 seldepth 9 multipv 1 score cp -550 nodes 996 nps 332000 hashfull 3 tbhits 0 time 3 pv a8d8 g3h5 h7g6 h5f6 g7f6 b2b3', position at root: r2R2k1/pp2rppb/2p2b1p/4n3/4pBP1/2Q1P1NP/PPP1BP2/1K5R w - - 3 19\n",
      "Exception parsing pv from info: 'depth 10 seldepth 9 multipv 1 score cp -552 nodes 1380 nps 460000 hashfull 3 tbhits 0 time 3 pv e8d8 g3h5 e5d3 h5f6 g7f6 c2d3 e4d3', position at root: r2R2k1/pp2rppb/2p2b1p/4n3/4pBP1/2Q1P1NP/PPP1BP2/1K5R w - - 3 19\n",
      "UciAnalysisCommand failed after returning preliminary result (<Future finished result=<chess.engine...002A04CB6AC80>>)\n",
      "protocol: <UciProtocol (pid=58224)>\n",
      "transport: <_WindowsSubprocessTransport pid=58224 running stdin=<_ProactorWritePipeTransport fd=1628 read=<_OverlappedFuture pending overlapped=<pending, 0x2a04c96e9e0> cb=[_ProactorWritePipeTransport._pipe_closed()]>> stdout=<_ProactorReadPipeTransport fd=1680 read=<_OverlappedFuture pending overlapped=<pending, 0x2a04c96fc70> cb=[_ProactorReadPipeTransport._loop_reading()]>> stderr=<_ProactorReadPipeTransport fd=1828 read=<_OverlappedFuture pending overlapped=<pending, 0x2a04c96e200> cb=[_ProactorReadPipeTransport._loop_reading()]>>>\n",
      "Traceback (most recent call last):\n",
      "  File \"C:\\Users\\ekarni\\.pyenv\\pyenv-win\\versions\\3.10\\lib\\site-packages\\chess\\engine.py\", line 1965, in _parse_uci_bestmove\n",
      "    move = board.push_uci(tokens[0].lower())\n",
      "  File \"C:\\Users\\ekarni\\.pyenv\\pyenv-win\\versions\\3.10\\lib\\site-packages\\chess\\__init__.py\", line 3164, in push_uci\n",
      "    move = self.parse_uci(uci)\n",
      "  File \"C:\\Users\\ekarni\\.pyenv\\pyenv-win\\versions\\3.10\\lib\\site-packages\\chess\\__init__.py\", line 3147, in parse_uci\n",
      "    raise IllegalMoveError(f\"illegal uci: {uci!r} in {self.fen()}\")\n",
      "chess.IllegalMoveError: illegal uci: 'e8d8' in r2R2k1/pp2rppb/2p2b1p/4n3/4pBP1/2Q1P1NP/PPP1BP2/1K5R w - - 3 19\n",
      "\n",
      "During handling of the above exception, another exception occurred:\n",
      "\n",
      "Traceback (most recent call last):\n",
      "  File \"C:\\Users\\ekarni\\.pyenv\\pyenv-win\\versions\\3.10\\lib\\site-packages\\chess\\engine.py\", line 1386, in _line_received\n",
      "    self.line_received(engine, line)\n",
      "  File \"C:\\Users\\ekarni\\.pyenv\\pyenv-win\\versions\\3.10\\lib\\site-packages\\chess\\engine.py\", line 1818, in line_received\n",
      "    self._bestmove(engine, line.split(\" \", 1)[1])\n",
      "  File \"C:\\Users\\ekarni\\.pyenv\\pyenv-win\\versions\\3.10\\lib\\site-packages\\chess\\engine.py\", line 1841, in _bestmove\n",
      "    best = _parse_uci_bestmove(engine.board, arg)\n",
      "  File \"C:\\Users\\ekarni\\.pyenv\\pyenv-win\\versions\\3.10\\lib\\site-packages\\chess\\engine.py\", line 1967, in _parse_uci_bestmove\n",
      "    raise EngineError(err)\n",
      "chess.engine.EngineError: illegal uci: 'e8d8' in r2R2k1/pp2rppb/2p2b1p/4n3/4pBP1/2Q1P1NP/PPP1BP2/1K5R w - - 3 19\n"
     ]
    },
    {
     "name": "stdout",
     "output_type": "stream",
     "text": [
      "Traceback (most recent call last):\n",
      "  File \"C:\\Users\\ekarni\\.pyenv\\pyenv-win\\versions\\3.10\\lib\\asyncio\\tasks.py\", line 234, in __step\n",
      "    result = coro.throw(exc)\n",
      "  File \"C:\\Users\\ekarni\\.pyenv\\pyenv-win\\versions\\3.10\\lib\\site-packages\\chess\\engine.py\", line 1242, in analyse\n",
      "    await analysis.wait()\n",
      "  File \"C:\\Users\\ekarni\\.pyenv\\pyenv-win\\versions\\3.10\\lib\\site-packages\\chess\\engine.py\", line 2772, in wait\n",
      "    return await self._finished\n",
      "  File \"C:\\Users\\ekarni\\.pyenv\\pyenv-win\\versions\\3.10\\lib\\asyncio\\futures.py\", line 284, in __await__\n",
      "    yield self  # This tells Task to wait for completion.\n",
      "  File \"C:\\Users\\ekarni\\.pyenv\\pyenv-win\\versions\\3.10\\lib\\asyncio\\tasks.py\", line 304, in __wakeup\n",
      "    future.result()\n",
      "  File \"C:\\Users\\ekarni\\.pyenv\\pyenv-win\\versions\\3.10\\lib\\asyncio\\futures.py\", line 196, in result\n",
      "    raise exc\n",
      "asyncio.exceptions.CancelledError\n",
      "\n",
      "During handling of the above exception, another exception occurred:\n",
      "\n",
      "Traceback (most recent call last):\n",
      "  File \"C:\\Users\\ekarni\\.pyenv\\pyenv-win\\versions\\3.10\\lib\\asyncio\\tasks.py\", line 458, in wait_for\n",
      "    fut.result()\n",
      "  File \"C:\\Users\\ekarni\\.pyenv\\pyenv-win\\versions\\3.10\\lib\\asyncio\\futures.py\", line 196, in result\n",
      "    raise exc\n",
      "asyncio.exceptions.CancelledError\n",
      "\n",
      "The above exception was the direct cause of the following exception:\n",
      "\n",
      "Traceback (most recent call last):\n",
      "  File \"C:\\gitproj\\chess_analyzer\\calc.py\", line 132, in calc_moves_score_int\n",
      "    ev = self.get_score(cur, not white, curdep != maxdepth)\n",
      "  File \"C:\\Users\\ekarni\\.pyenv\\pyenv-win\\versions\\3.10\\lib\\site-packages\\memoization\\caching\\plain_cache.py\", line 49, in wrapper\n",
      "    result = user_function(*args, **kwargs)\n",
      "  File \"C:\\gitproj\\chess_analyzer\\calc.py\", line 82, in get_score\n",
      "    cc = engine.analyse(b, limit, game=self.gameidf)[\"score\"]\n",
      "  File \"C:\\Users\\ekarni\\.pyenv\\pyenv-win\\versions\\3.10\\lib\\site-packages\\chess\\engine.py\", line 2997, in analyse\n",
      "    return future.result()\n",
      "  File \"C:\\Users\\ekarni\\.pyenv\\pyenv-win\\versions\\3.10\\lib\\concurrent\\futures\\_base.py\", line 445, in result\n",
      "    return self.__get_result()\n",
      "  File \"C:\\Users\\ekarni\\.pyenv\\pyenv-win\\versions\\3.10\\lib\\concurrent\\futures\\_base.py\", line 390, in __get_result\n",
      "    raise self._exception\n",
      "  File \"C:\\Users\\ekarni\\.pyenv\\pyenv-win\\versions\\3.10\\lib\\asyncio\\tasks.py\", line 232, in __step\n",
      "    result = coro.send(None)\n",
      "  File \"C:\\Users\\ekarni\\.pyenv\\pyenv-win\\versions\\3.10\\lib\\asyncio\\tasks.py\", line 460, in wait_for\n",
      "    raise exceptions.TimeoutError() from exc\n",
      "asyncio.exceptions.TimeoutError\n",
      "\n"
     ]
    },
    {
     "name": "stderr",
     "output_type": "stream",
     "text": [
      "Exception parsing pv from info: 'depth 1 seldepth 1 multipv 1 score cp -552 nodes 33 nps 16500 hashfull 4 tbhits 0 time 2 pv e8d8', position at root: r2R2k1/pp3ppb/2p1rb1p/4n3/4pBP1/2Q1P1NP/PPP1BP2/1K5R w - - 3 19\n",
      "Exception parsing pv from info: 'depth 2 seldepth 2 multipv 1 score cp -552 nodes 62 nps 31000 hashfull 4 tbhits 0 time 2 pv e8d8 g3h5', position at root: r2R2k1/pp3ppb/2p1rb1p/4n3/4pBP1/2Q1P1NP/PPP1BP2/1K5R w - - 3 19\n",
      "Exception parsing pv from info: 'depth 3 seldepth 3 multipv 1 score cp -552 nodes 100 nps 50000 hashfull 4 tbhits 0 time 2 pv e8d8 g3h5 e5d3', position at root: r2R2k1/pp3ppb/2p1rb1p/4n3/4pBP1/2Q1P1NP/PPP1BP2/1K5R w - - 3 19\n",
      "Exception parsing pv from info: 'depth 4 seldepth 4 multipv 1 score cp -552 nodes 136 nps 68000 hashfull 4 tbhits 0 time 2 pv e8d8 g3h5 e5d3 h5f6 g7f6', position at root: r2R2k1/pp3ppb/2p1rb1p/4n3/4pBP1/2Q1P1NP/PPP1BP2/1K5R w - - 3 19\n",
      "Exception parsing pv from info: 'depth 5 seldepth 5 multipv 1 score cp -552 nodes 172 nps 86000 hashfull 4 tbhits 0 time 2 pv e8d8 g3h5 e5d3 h5f6 g7f6', position at root: r2R2k1/pp3ppb/2p1rb1p/4n3/4pBP1/2Q1P1NP/PPP1BP2/1K5R w - - 3 19\n",
      "Exception parsing pv from info: 'depth 6 seldepth 6 multipv 1 score cp -552 nodes 211 nps 105500 hashfull 4 tbhits 0 time 2 pv e8d8 g3h5 e5d3 h5f6 g7f6 c2d3', position at root: r2R2k1/pp3ppb/2p1rb1p/4n3/4pBP1/2Q1P1NP/PPP1BP2/1K5R w - - 3 19\n",
      "Exception parsing pv from info: 'depth 7 seldepth 7 multipv 1 score cp -552 nodes 259 nps 129500 hashfull 4 tbhits 0 time 2 pv e8d8 g3h5 e5d3 h5f6 g7f6 c2d3 e4d3', position at root: r2R2k1/pp3ppb/2p1rb1p/4n3/4pBP1/2Q1P1NP/PPP1BP2/1K5R w - - 3 19\n",
      "Exception parsing pv from info: 'depth 8 seldepth 8 multipv 1 score cp -552 nodes 341 nps 170500 hashfull 4 tbhits 0 time 2 pv e8d8 g3h5 e5d3 h5f6 g7f6 c2d3 e4d3', position at root: r2R2k1/pp3ppb/2p1rb1p/4n3/4pBP1/2Q1P1NP/PPP1BP2/1K5R w - - 3 19\n",
      "Exception parsing pv from info: 'depth 9 seldepth 8 multipv 1 score cp -572 nodes 497 nps 248500 hashfull 4 tbhits 0 time 2 pv e8d8 g3h5 e5f3 h5f6 g7f6', position at root: r2R2k1/pp3ppb/2p1rb1p/4n3/4pBP1/2Q1P1NP/PPP1BP2/1K5R w - - 3 19\n",
      "Exception parsing pv from info: 'depth 10 seldepth 9 multipv 1 score cp -573 nodes 1389 nps 463000 hashfull 4 tbhits 0 time 3 pv a8d8 g3h5 e5d3 h5f6 g7f6 c2d3 e4d3', position at root: r2R2k1/pp3ppb/2p1rb1p/4n3/4pBP1/2Q1P1NP/PPP1BP2/1K5R w - - 3 19\n",
      "UciAnalysisCommand failed after returning preliminary result (<Future finished result=<chess.engine...002A04D0F1600>>)\n",
      "protocol: <UciProtocol (pid=58224)>\n",
      "transport: <_WindowsSubprocessTransport pid=58224 running stdin=<_ProactorWritePipeTransport fd=1628 read=<_OverlappedFuture pending overlapped=<pending, 0x2a04c96e9e0> cb=[_ProactorWritePipeTransport._pipe_closed()]>> stdout=<_ProactorReadPipeTransport fd=1680 read=<_OverlappedFuture pending overlapped=<pending, 0x2a04c96f640> cb=[_ProactorReadPipeTransport._loop_reading()]>> stderr=<_ProactorReadPipeTransport fd=1828 read=<_OverlappedFuture pending overlapped=<pending, 0x2a04c96e200> cb=[_ProactorReadPipeTransport._loop_reading()]>>>\n",
      "Traceback (most recent call last):\n",
      "  File \"C:\\Users\\ekarni\\.pyenv\\pyenv-win\\versions\\3.10\\lib\\site-packages\\chess\\engine.py\", line 1965, in _parse_uci_bestmove\n",
      "    move = board.push_uci(tokens[0].lower())\n",
      "  File \"C:\\Users\\ekarni\\.pyenv\\pyenv-win\\versions\\3.10\\lib\\site-packages\\chess\\__init__.py\", line 3164, in push_uci\n",
      "    move = self.parse_uci(uci)\n",
      "  File \"C:\\Users\\ekarni\\.pyenv\\pyenv-win\\versions\\3.10\\lib\\site-packages\\chess\\__init__.py\", line 3147, in parse_uci\n",
      "    raise IllegalMoveError(f\"illegal uci: {uci!r} in {self.fen()}\")\n",
      "chess.IllegalMoveError: illegal uci: 'a8d8' in r2R2k1/pp3ppb/2p1rb1p/4n3/4pBP1/2Q1P1NP/PPP1BP2/1K5R w - - 3 19\n",
      "\n",
      "During handling of the above exception, another exception occurred:\n",
      "\n",
      "Traceback (most recent call last):\n",
      "  File \"C:\\Users\\ekarni\\.pyenv\\pyenv-win\\versions\\3.10\\lib\\site-packages\\chess\\engine.py\", line 1386, in _line_received\n",
      "    self.line_received(engine, line)\n",
      "  File \"C:\\Users\\ekarni\\.pyenv\\pyenv-win\\versions\\3.10\\lib\\site-packages\\chess\\engine.py\", line 1818, in line_received\n",
      "    self._bestmove(engine, line.split(\" \", 1)[1])\n",
      "  File \"C:\\Users\\ekarni\\.pyenv\\pyenv-win\\versions\\3.10\\lib\\site-packages\\chess\\engine.py\", line 1841, in _bestmove\n",
      "    best = _parse_uci_bestmove(engine.board, arg)\n",
      "  File \"C:\\Users\\ekarni\\.pyenv\\pyenv-win\\versions\\3.10\\lib\\site-packages\\chess\\engine.py\", line 1967, in _parse_uci_bestmove\n",
      "    raise EngineError(err)\n",
      "chess.engine.EngineError: illegal uci: 'a8d8' in r2R2k1/pp3ppb/2p1rb1p/4n3/4pBP1/2Q1P1NP/PPP1BP2/1K5R w - - 3 19\n"
     ]
    },
    {
     "name": "stdout",
     "output_type": "stream",
     "text": [
      "Traceback (most recent call last):\n",
      "  File \"C:\\Users\\ekarni\\.pyenv\\pyenv-win\\versions\\3.10\\lib\\asyncio\\tasks.py\", line 234, in __step\n",
      "    result = coro.throw(exc)\n",
      "  File \"C:\\Users\\ekarni\\.pyenv\\pyenv-win\\versions\\3.10\\lib\\site-packages\\chess\\engine.py\", line 1242, in analyse\n",
      "    await analysis.wait()\n",
      "  File \"C:\\Users\\ekarni\\.pyenv\\pyenv-win\\versions\\3.10\\lib\\site-packages\\chess\\engine.py\", line 2772, in wait\n",
      "    return await self._finished\n",
      "  File \"C:\\Users\\ekarni\\.pyenv\\pyenv-win\\versions\\3.10\\lib\\asyncio\\futures.py\", line 284, in __await__\n",
      "    yield self  # This tells Task to wait for completion.\n",
      "  File \"C:\\Users\\ekarni\\.pyenv\\pyenv-win\\versions\\3.10\\lib\\asyncio\\tasks.py\", line 304, in __wakeup\n",
      "    future.result()\n",
      "  File \"C:\\Users\\ekarni\\.pyenv\\pyenv-win\\versions\\3.10\\lib\\asyncio\\futures.py\", line 196, in result\n",
      "    raise exc\n",
      "asyncio.exceptions.CancelledError\n",
      "\n",
      "During handling of the above exception, another exception occurred:\n",
      "\n",
      "Traceback (most recent call last):\n",
      "  File \"C:\\Users\\ekarni\\.pyenv\\pyenv-win\\versions\\3.10\\lib\\asyncio\\tasks.py\", line 458, in wait_for\n",
      "    fut.result()\n",
      "  File \"C:\\Users\\ekarni\\.pyenv\\pyenv-win\\versions\\3.10\\lib\\asyncio\\futures.py\", line 196, in result\n",
      "    raise exc\n",
      "asyncio.exceptions.CancelledError\n",
      "\n",
      "The above exception was the direct cause of the following exception:\n",
      "\n",
      "Traceback (most recent call last):\n",
      "  File \"C:\\gitproj\\chess_analyzer\\calc.py\", line 132, in calc_moves_score_int\n",
      "    ev = self.get_score(cur, not white, curdep != maxdepth)\n",
      "  File \"C:\\Users\\ekarni\\.pyenv\\pyenv-win\\versions\\3.10\\lib\\site-packages\\memoization\\caching\\plain_cache.py\", line 49, in wrapper\n",
      "    result = user_function(*args, **kwargs)\n",
      "  File \"C:\\gitproj\\chess_analyzer\\calc.py\", line 82, in get_score\n",
      "    cc = engine.analyse(b, limit, game=self.gameidf)[\"score\"]\n",
      "  File \"C:\\Users\\ekarni\\.pyenv\\pyenv-win\\versions\\3.10\\lib\\site-packages\\chess\\engine.py\", line 2997, in analyse\n",
      "    return future.result()\n",
      "  File \"C:\\Users\\ekarni\\.pyenv\\pyenv-win\\versions\\3.10\\lib\\concurrent\\futures\\_base.py\", line 445, in result\n",
      "    return self.__get_result()\n",
      "  File \"C:\\Users\\ekarni\\.pyenv\\pyenv-win\\versions\\3.10\\lib\\concurrent\\futures\\_base.py\", line 390, in __get_result\n",
      "    raise self._exception\n",
      "  File \"C:\\Users\\ekarni\\.pyenv\\pyenv-win\\versions\\3.10\\lib\\asyncio\\tasks.py\", line 232, in __step\n",
      "    result = coro.send(None)\n",
      "  File \"C:\\Users\\ekarni\\.pyenv\\pyenv-win\\versions\\3.10\\lib\\asyncio\\tasks.py\", line 460, in wait_for\n",
      "    raise exceptions.TimeoutError() from exc\n",
      "asyncio.exceptions.TimeoutError\n",
      "\n"
     ]
    },
    {
     "name": "stderr",
     "output_type": "stream",
     "text": [
      "Exception parsing pv from info: 'depth 1 seldepth 1 multipv 1 score cp -476 nodes 34 nps 34000 hashfull 6 tbhits 0 time 1 pv a8d8', position at root: r2R2k1/pp2rppb/B1p2b1p/4n3/4pBP1/2Q1P1NP/PPP2P2/1K5R w - - 3 19\n",
      "Exception parsing pv from info: 'depth 2 seldepth 2 multipv 1 score cp -476 nodes 61 nps 61000 hashfull 6 tbhits 0 time 1 pv a8d8', position at root: r2R2k1/pp2rppb/B1p2b1p/4n3/4pBP1/2Q1P1NP/PPP2P2/1K5R w - - 3 19\n",
      "Exception parsing pv from info: 'depth 3 seldepth 2 multipv 1 score cp -476 nodes 88 nps 88000 hashfull 6 tbhits 0 time 1 pv a8d8', position at root: r2R2k1/pp2rppb/B1p2b1p/4n3/4pBP1/2Q1P1NP/PPP2P2/1K5R w - - 3 19\n",
      "Exception parsing pv from info: 'depth 4 seldepth 2 multipv 1 score cp -448 nodes 115 nps 115000 hashfull 6 tbhits 0 time 1 pv a8d8 a6e2', position at root: r2R2k1/pp2rppb/B1p2b1p/4n3/4pBP1/2Q1P1NP/PPP2P2/1K5R w - - 3 19\n",
      "Exception parsing pv from info: 'depth 5 seldepth 4 multipv 1 score cp -454 nodes 144 nps 144000 hashfull 6 tbhits 0 time 1 pv a8d8 a6e2 e5g6', position at root: r2R2k1/pp2rppb/B1p2b1p/4n3/4pBP1/2Q1P1NP/PPP2P2/1K5R w - - 3 19\n",
      "Exception parsing pv from info: 'depth 6 seldepth 5 multipv 1 score cp -447 nodes 211 nps 211000 hashfull 6 tbhits 0 time 1 pv a8d8 g3h5', position at root: r2R2k1/pp2rppb/B1p2b1p/4n3/4pBP1/2Q1P1NP/PPP2P2/1K5R w - - 3 19\n",
      "Exception parsing pv from info: 'depth 7 seldepth 6 multipv 1 score cp -447 nodes 247 nps 247000 hashfull 6 tbhits 0 time 1 pv a8d8 g3h5 b7a6 h5f6 g7f6', position at root: r2R2k1/pp2rppb/B1p2b1p/4n3/4pBP1/2Q1P1NP/PPP2P2/1K5R w - - 3 19\n",
      "Exception parsing pv from info: 'depth 8 seldepth 7 multipv 1 score cp -309 nodes 765 nps 382500 hashfull 7 tbhits 0 time 2 pv a8d8 g3h5 b7a6 h5f6 g7f6', position at root: r2R2k1/pp2rppb/B1p2b1p/4n3/4pBP1/2Q1P1NP/PPP2P2/1K5R w - - 3 19\n",
      "Exception parsing pv from info: 'depth 9 seldepth 8 multipv 1 score cp -365 nodes 1265 nps 632500 hashfull 7 tbhits 0 time 2 pv a8d8 a6e2 e5d3 c3a3', position at root: r2R2k1/pp2rppb/B1p2b1p/4n3/4pBP1/2Q1P1NP/PPP2P2/1K5R w - - 3 19\n",
      "Exception parsing pv from info: 'depth 10 seldepth 10 multipv 1 score cp -389 nodes 5439 nps 906500 hashfull 9 tbhits 0 time 6 pv a8d8 g3h5 b7a6 h5f6 g7f6 b2b3', position at root: r2R2k1/pp2rppb/B1p2b1p/4n3/4pBP1/2Q1P1NP/PPP2P2/1K5R w - - 3 19\n",
      "UciAnalysisCommand failed after returning preliminary result (<Future finished result=<chess.engine...002A04CB6D3C0>>)\n",
      "protocol: <UciProtocol (pid=58224)>\n",
      "transport: <_WindowsSubprocessTransport pid=58224 running stdin=<_ProactorWritePipeTransport fd=1628 read=<_OverlappedFuture pending overlapped=<pending, 0x2a04c96e9e0> cb=[_ProactorWritePipeTransport._pipe_closed()]>> stdout=<_ProactorReadPipeTransport fd=1680 read=<_OverlappedFuture pending overlapped=<pending, 0x2a04c96edd0> cb=[_ProactorReadPipeTransport._loop_reading()]>> stderr=<_ProactorReadPipeTransport fd=1828 read=<_OverlappedFuture pending overlapped=<pending, 0x2a04c96e200> cb=[_ProactorReadPipeTransport._loop_reading()]>>>\n",
      "Traceback (most recent call last):\n",
      "  File \"C:\\Users\\ekarni\\.pyenv\\pyenv-win\\versions\\3.10\\lib\\site-packages\\chess\\engine.py\", line 1965, in _parse_uci_bestmove\n",
      "    move = board.push_uci(tokens[0].lower())\n",
      "  File \"C:\\Users\\ekarni\\.pyenv\\pyenv-win\\versions\\3.10\\lib\\site-packages\\chess\\__init__.py\", line 3164, in push_uci\n",
      "    move = self.parse_uci(uci)\n",
      "  File \"C:\\Users\\ekarni\\.pyenv\\pyenv-win\\versions\\3.10\\lib\\site-packages\\chess\\__init__.py\", line 3147, in parse_uci\n",
      "    raise IllegalMoveError(f\"illegal uci: {uci!r} in {self.fen()}\")\n",
      "chess.IllegalMoveError: illegal uci: 'a8d8' in r2R2k1/pp2rppb/B1p2b1p/4n3/4pBP1/2Q1P1NP/PPP2P2/1K5R w - - 3 19\n",
      "\n",
      "During handling of the above exception, another exception occurred:\n",
      "\n",
      "Traceback (most recent call last):\n",
      "  File \"C:\\Users\\ekarni\\.pyenv\\pyenv-win\\versions\\3.10\\lib\\site-packages\\chess\\engine.py\", line 1386, in _line_received\n",
      "    self.line_received(engine, line)\n",
      "  File \"C:\\Users\\ekarni\\.pyenv\\pyenv-win\\versions\\3.10\\lib\\site-packages\\chess\\engine.py\", line 1818, in line_received\n",
      "    self._bestmove(engine, line.split(\" \", 1)[1])\n",
      "  File \"C:\\Users\\ekarni\\.pyenv\\pyenv-win\\versions\\3.10\\lib\\site-packages\\chess\\engine.py\", line 1841, in _bestmove\n",
      "    best = _parse_uci_bestmove(engine.board, arg)\n",
      "  File \"C:\\Users\\ekarni\\.pyenv\\pyenv-win\\versions\\3.10\\lib\\site-packages\\chess\\engine.py\", line 1967, in _parse_uci_bestmove\n",
      "    raise EngineError(err)\n",
      "chess.engine.EngineError: illegal uci: 'a8d8' in r2R2k1/pp2rppb/B1p2b1p/4n3/4pBP1/2Q1P1NP/PPP2P2/1K5R w - - 3 19\n"
     ]
    },
    {
     "name": "stdout",
     "output_type": "stream",
     "text": [
      "Traceback (most recent call last):\n",
      "  File \"C:\\Users\\ekarni\\.pyenv\\pyenv-win\\versions\\3.10\\lib\\asyncio\\tasks.py\", line 234, in __step\n",
      "    result = coro.throw(exc)\n",
      "  File \"C:\\Users\\ekarni\\.pyenv\\pyenv-win\\versions\\3.10\\lib\\site-packages\\chess\\engine.py\", line 1242, in analyse\n",
      "    await analysis.wait()\n",
      "  File \"C:\\Users\\ekarni\\.pyenv\\pyenv-win\\versions\\3.10\\lib\\site-packages\\chess\\engine.py\", line 2772, in wait\n",
      "    return await self._finished\n",
      "  File \"C:\\Users\\ekarni\\.pyenv\\pyenv-win\\versions\\3.10\\lib\\asyncio\\futures.py\", line 284, in __await__\n",
      "    yield self  # This tells Task to wait for completion.\n",
      "  File \"C:\\Users\\ekarni\\.pyenv\\pyenv-win\\versions\\3.10\\lib\\asyncio\\tasks.py\", line 304, in __wakeup\n",
      "    future.result()\n",
      "  File \"C:\\Users\\ekarni\\.pyenv\\pyenv-win\\versions\\3.10\\lib\\asyncio\\futures.py\", line 196, in result\n",
      "    raise exc\n",
      "asyncio.exceptions.CancelledError\n",
      "\n",
      "During handling of the above exception, another exception occurred:\n",
      "\n",
      "Traceback (most recent call last):\n",
      "  File \"C:\\Users\\ekarni\\.pyenv\\pyenv-win\\versions\\3.10\\lib\\asyncio\\tasks.py\", line 458, in wait_for\n",
      "    fut.result()\n",
      "  File \"C:\\Users\\ekarni\\.pyenv\\pyenv-win\\versions\\3.10\\lib\\asyncio\\futures.py\", line 196, in result\n",
      "    raise exc\n",
      "asyncio.exceptions.CancelledError\n",
      "\n",
      "The above exception was the direct cause of the following exception:\n",
      "\n",
      "Traceback (most recent call last):\n",
      "  File \"C:\\gitproj\\chess_analyzer\\calc.py\", line 132, in calc_moves_score_int\n",
      "    ev = self.get_score(cur, not white, curdep != maxdepth)\n",
      "  File \"C:\\Users\\ekarni\\.pyenv\\pyenv-win\\versions\\3.10\\lib\\site-packages\\memoization\\caching\\plain_cache.py\", line 49, in wrapper\n",
      "    result = user_function(*args, **kwargs)\n",
      "  File \"C:\\gitproj\\chess_analyzer\\calc.py\", line 82, in get_score\n",
      "    cc = engine.analyse(b, limit, game=self.gameidf)[\"score\"]\n",
      "  File \"C:\\Users\\ekarni\\.pyenv\\pyenv-win\\versions\\3.10\\lib\\site-packages\\chess\\engine.py\", line 2997, in analyse\n",
      "    return future.result()\n",
      "  File \"C:\\Users\\ekarni\\.pyenv\\pyenv-win\\versions\\3.10\\lib\\concurrent\\futures\\_base.py\", line 445, in result\n",
      "    return self.__get_result()\n",
      "  File \"C:\\Users\\ekarni\\.pyenv\\pyenv-win\\versions\\3.10\\lib\\concurrent\\futures\\_base.py\", line 390, in __get_result\n",
      "    raise self._exception\n",
      "  File \"C:\\Users\\ekarni\\.pyenv\\pyenv-win\\versions\\3.10\\lib\\asyncio\\tasks.py\", line 232, in __step\n",
      "    result = coro.send(None)\n",
      "  File \"C:\\Users\\ekarni\\.pyenv\\pyenv-win\\versions\\3.10\\lib\\asyncio\\tasks.py\", line 460, in wait_for\n",
      "    raise exceptions.TimeoutError() from exc\n",
      "asyncio.exceptions.TimeoutError\n",
      "\n"
     ]
    },
    {
     "name": "stderr",
     "output_type": "stream",
     "text": [
      "Exception parsing pv from info: 'depth 1 seldepth 1 multipv 1 score cp -389 nodes 33 nps 33000 hashfull 2 tbhits 0 time 1 pv a8d8', position at root: r2R2k1/pp3ppb/B1p1rb1p/4n3/4pBP1/2Q1P1NP/PPP2P2/1K5R w - - 3 19\n",
      "Exception parsing pv from info: 'depth 2 seldepth 2 multipv 1 score cp -389 nodes 63 nps 63000 hashfull 2 tbhits 0 time 1 pv a8d8 g3h5', position at root: r2R2k1/pp3ppb/B1p1rb1p/4n3/4pBP1/2Q1P1NP/PPP2P2/1K5R w - - 3 19\n",
      "Exception parsing pv from info: 'depth 3 seldepth 3 multipv 1 score cp -389 nodes 101 nps 101000 hashfull 2 tbhits 0 time 1 pv a8d8 g3h5 b7a6', position at root: r2R2k1/pp3ppb/B1p1rb1p/4n3/4pBP1/2Q1P1NP/PPP2P2/1K5R w - - 3 19\n",
      "Exception parsing pv from info: 'depth 4 seldepth 4 multipv 1 score cp -389 nodes 139 nps 139000 hashfull 2 tbhits 0 time 1 pv a8d8 g3h5 b7a6 h5f6 g7f6', position at root: r2R2k1/pp3ppb/B1p1rb1p/4n3/4pBP1/2Q1P1NP/PPP2P2/1K5R w - - 3 19\n",
      "Exception parsing pv from info: 'depth 5 seldepth 5 multipv 1 score cp -389 nodes 178 nps 178000 hashfull 2 tbhits 0 time 1 pv a8d8 g3h5 b7a6 h5f6 g7f6', position at root: r2R2k1/pp3ppb/B1p1rb1p/4n3/4pBP1/2Q1P1NP/PPP2P2/1K5R w - - 3 19\n",
      "Exception parsing pv from info: 'depth 6 seldepth 6 multipv 1 score cp -389 nodes 219 nps 219000 hashfull 2 tbhits 0 time 1 pv a8d8 g3h5 b7a6 h5f6 g7f6 b2b3', position at root: r2R2k1/pp3ppb/B1p1rb1p/4n3/4pBP1/2Q1P1NP/PPP2P2/1K5R w - - 3 19\n",
      "Exception parsing pv from info: 'depth 7 seldepth 7 multipv 1 score cp -389 nodes 273 nps 273000 hashfull 2 tbhits 0 time 1 pv a8d8 g3h5 b7a6 h5f6 g7f6 b2b3', position at root: r2R2k1/pp3ppb/B1p1rb1p/4n3/4pBP1/2Q1P1NP/PPP2P2/1K5R w - - 3 19\n",
      "Exception parsing pv from info: 'depth 8 seldepth 7 multipv 1 score cp -393 nodes 473 nps 473000 hashfull 2 tbhits 0 time 1 pv a8d8 g3h5 b7a6 b2b3', position at root: r2R2k1/pp3ppb/B1p1rb1p/4n3/4pBP1/2Q1P1NP/PPP2P2/1K5R w - - 3 19\n",
      "Exception parsing pv from info: 'depth 9 seldepth 8 multipv 1 score cp -444 nodes 1017 nps 508500 hashfull 3 tbhits 0 time 2 pv a8d8 g3h5 b7a6 h5f6 g7f6 b2b3 e5f3 c3f6', position at root: r2R2k1/pp3ppb/B1p1rb1p/4n3/4pBP1/2Q1P1NP/PPP2P2/1K5R w - - 3 19\n",
      "Exception parsing pv from info: 'depth 10 seldepth 11 multipv 1 score cp -415 nodes 3223 nps 805750 hashfull 3 tbhits 0 time 4 pv a8d8 a6e2 e5f3 c3b4 c6c5 b4b5 g7g5 f4c7', position at root: r2R2k1/pp3ppb/B1p1rb1p/4n3/4pBP1/2Q1P1NP/PPP2P2/1K5R w - - 3 19\n",
      "UciAnalysisCommand failed after returning preliminary result (<Future finished result=<chess.engine...002A04CB6A110>>)\n",
      "protocol: <UciProtocol (pid=58224)>\n",
      "transport: <_WindowsSubprocessTransport pid=58224 running stdin=<_ProactorWritePipeTransport fd=1628 read=<_OverlappedFuture pending overlapped=<pending, 0x2a04c96e9e0> cb=[_ProactorWritePipeTransport._pipe_closed()]>> stdout=<_ProactorReadPipeTransport fd=1680 read=<_OverlappedFuture pending overlapped=<pending, 0x2a04c96f9a0> cb=[_ProactorReadPipeTransport._loop_reading()]>> stderr=<_ProactorReadPipeTransport fd=1828 read=<_OverlappedFuture pending overlapped=<pending, 0x2a04c96e200> cb=[_ProactorReadPipeTransport._loop_reading()]>>>\n",
      "Traceback (most recent call last):\n",
      "  File \"C:\\Users\\ekarni\\.pyenv\\pyenv-win\\versions\\3.10\\lib\\site-packages\\chess\\engine.py\", line 1965, in _parse_uci_bestmove\n",
      "    move = board.push_uci(tokens[0].lower())\n",
      "  File \"C:\\Users\\ekarni\\.pyenv\\pyenv-win\\versions\\3.10\\lib\\site-packages\\chess\\__init__.py\", line 3164, in push_uci\n",
      "    move = self.parse_uci(uci)\n",
      "  File \"C:\\Users\\ekarni\\.pyenv\\pyenv-win\\versions\\3.10\\lib\\site-packages\\chess\\__init__.py\", line 3147, in parse_uci\n",
      "    raise IllegalMoveError(f\"illegal uci: {uci!r} in {self.fen()}\")\n",
      "chess.IllegalMoveError: illegal uci: 'a8d8' in r2R2k1/pp3ppb/B1p1rb1p/4n3/4pBP1/2Q1P1NP/PPP2P2/1K5R w - - 3 19\n",
      "\n",
      "During handling of the above exception, another exception occurred:\n",
      "\n",
      "Traceback (most recent call last):\n",
      "  File \"C:\\Users\\ekarni\\.pyenv\\pyenv-win\\versions\\3.10\\lib\\site-packages\\chess\\engine.py\", line 1386, in _line_received\n",
      "    self.line_received(engine, line)\n",
      "  File \"C:\\Users\\ekarni\\.pyenv\\pyenv-win\\versions\\3.10\\lib\\site-packages\\chess\\engine.py\", line 1818, in line_received\n",
      "    self._bestmove(engine, line.split(\" \", 1)[1])\n",
      "  File \"C:\\Users\\ekarni\\.pyenv\\pyenv-win\\versions\\3.10\\lib\\site-packages\\chess\\engine.py\", line 1841, in _bestmove\n",
      "    best = _parse_uci_bestmove(engine.board, arg)\n",
      "  File \"C:\\Users\\ekarni\\.pyenv\\pyenv-win\\versions\\3.10\\lib\\site-packages\\chess\\engine.py\", line 1967, in _parse_uci_bestmove\n",
      "    raise EngineError(err)\n",
      "chess.engine.EngineError: illegal uci: 'a8d8' in r2R2k1/pp3ppb/B1p1rb1p/4n3/4pBP1/2Q1P1NP/PPP2P2/1K5R w - - 3 19\n"
     ]
    },
    {
     "name": "stdout",
     "output_type": "stream",
     "text": [
      "Traceback (most recent call last):\n",
      "  File \"C:\\Users\\ekarni\\.pyenv\\pyenv-win\\versions\\3.10\\lib\\asyncio\\tasks.py\", line 234, in __step\n",
      "    result = coro.throw(exc)\n",
      "  File \"C:\\Users\\ekarni\\.pyenv\\pyenv-win\\versions\\3.10\\lib\\site-packages\\chess\\engine.py\", line 1242, in analyse\n",
      "    await analysis.wait()\n",
      "  File \"C:\\Users\\ekarni\\.pyenv\\pyenv-win\\versions\\3.10\\lib\\site-packages\\chess\\engine.py\", line 2772, in wait\n",
      "    return await self._finished\n",
      "  File \"C:\\Users\\ekarni\\.pyenv\\pyenv-win\\versions\\3.10\\lib\\asyncio\\futures.py\", line 284, in __await__\n",
      "    yield self  # This tells Task to wait for completion.\n",
      "  File \"C:\\Users\\ekarni\\.pyenv\\pyenv-win\\versions\\3.10\\lib\\asyncio\\tasks.py\", line 304, in __wakeup\n",
      "    future.result()\n",
      "  File \"C:\\Users\\ekarni\\.pyenv\\pyenv-win\\versions\\3.10\\lib\\asyncio\\futures.py\", line 196, in result\n",
      "    raise exc\n",
      "asyncio.exceptions.CancelledError\n",
      "\n",
      "During handling of the above exception, another exception occurred:\n",
      "\n",
      "Traceback (most recent call last):\n",
      "  File \"C:\\Users\\ekarni\\.pyenv\\pyenv-win\\versions\\3.10\\lib\\asyncio\\tasks.py\", line 458, in wait_for\n",
      "    fut.result()\n",
      "  File \"C:\\Users\\ekarni\\.pyenv\\pyenv-win\\versions\\3.10\\lib\\asyncio\\futures.py\", line 196, in result\n",
      "    raise exc\n",
      "asyncio.exceptions.CancelledError\n",
      "\n",
      "The above exception was the direct cause of the following exception:\n",
      "\n",
      "Traceback (most recent call last):\n",
      "  File \"C:\\gitproj\\chess_analyzer\\calc.py\", line 132, in calc_moves_score_int\n",
      "    ev = self.get_score(cur, not white, curdep != maxdepth)\n",
      "  File \"C:\\Users\\ekarni\\.pyenv\\pyenv-win\\versions\\3.10\\lib\\site-packages\\memoization\\caching\\plain_cache.py\", line 49, in wrapper\n",
      "    result = user_function(*args, **kwargs)\n",
      "  File \"C:\\gitproj\\chess_analyzer\\calc.py\", line 82, in get_score\n",
      "    cc = engine.analyse(b, limit, game=self.gameidf)[\"score\"]\n",
      "  File \"C:\\Users\\ekarni\\.pyenv\\pyenv-win\\versions\\3.10\\lib\\site-packages\\chess\\engine.py\", line 2997, in analyse\n",
      "    return future.result()\n",
      "  File \"C:\\Users\\ekarni\\.pyenv\\pyenv-win\\versions\\3.10\\lib\\concurrent\\futures\\_base.py\", line 445, in result\n",
      "    return self.__get_result()\n",
      "  File \"C:\\Users\\ekarni\\.pyenv\\pyenv-win\\versions\\3.10\\lib\\concurrent\\futures\\_base.py\", line 390, in __get_result\n",
      "    raise self._exception\n",
      "  File \"C:\\Users\\ekarni\\.pyenv\\pyenv-win\\versions\\3.10\\lib\\asyncio\\tasks.py\", line 232, in __step\n",
      "    result = coro.send(None)\n",
      "  File \"C:\\Users\\ekarni\\.pyenv\\pyenv-win\\versions\\3.10\\lib\\asyncio\\tasks.py\", line 460, in wait_for\n",
      "    raise exceptions.TimeoutError() from exc\n",
      "asyncio.exceptions.TimeoutError\n",
      "\n"
     ]
    },
    {
     "name": "stderr",
     "output_type": "stream",
     "text": [
      "Exception parsing pv from info: 'depth 1 seldepth 1 multipv 1 score cp -262 nodes 34 nps 34000 hashfull 4 tbhits 0 time 1 pv a8d8', position at root: r2R2k1/pp2rppb/2p2b1p/4n3/4pBP1/2Q1P1NP/PPP2P1R/1K3B2 w - - 3 19\n",
      "Exception parsing pv from info: 'depth 2 seldepth 2 multipv 1 score cp -262 nodes 62 nps 62000 hashfull 4 tbhits 0 time 1 pv a8d8', position at root: r2R2k1/pp2rppb/2p2b1p/4n3/4pBP1/2Q1P1NP/PPP2P1R/1K3B2 w - - 3 19\n",
      "Exception parsing pv from info: 'depth 3 seldepth 2 multipv 1 score cp -262 nodes 90 nps 90000 hashfull 4 tbhits 0 time 1 pv a8d8', position at root: r2R2k1/pp2rppb/2p2b1p/4n3/4pBP1/2Q1P1NP/PPP2P1R/1K3B2 w - - 3 19\n",
      "Exception parsing pv from info: 'depth 4 seldepth 2 multipv 1 score cp -245 nodes 139 nps 139000 hashfull 4 tbhits 0 time 1 pv e8d8', position at root: r2R2k1/pp2rppb/2p2b1p/4n3/4pBP1/2Q1P1NP/PPP2P1R/1K3B2 w - - 3 19\n",
      "Exception parsing pv from info: 'depth 5 seldepth 4 multipv 1 score cp -94 nodes 228 nps 228000 hashfull 4 tbhits 0 time 1 pv a8d8', position at root: r2R2k1/pp2rppb/2p2b1p/4n3/4pBP1/2Q1P1NP/PPP2P1R/1K3B2 w - - 3 19\n",
      "Exception parsing pv from info: 'depth 6 seldepth 5 multipv 1 score cp -130 nodes 344 nps 344000 hashfull 4 tbhits 0 time 1 pv a8d8 f1e2 e5f3 c3b4 f3h2', position at root: r2R2k1/pp2rppb/2p2b1p/4n3/4pBP1/2Q1P1NP/PPP2P1R/1K3B2 w - - 3 19\n",
      "Exception parsing pv from info: 'depth 7 seldepth 7 multipv 1 score cp -161 nodes 551 nps 551000 hashfull 5 tbhits 0 time 1 pv a8d8 f1e2 e5f3 c3b4 f3h2 b4b7', position at root: r2R2k1/pp2rppb/2p2b1p/4n3/4pBP1/2Q1P1NP/PPP2P1R/1K3B2 w - - 3 19\n",
      "Exception parsing pv from info: 'depth 8 seldepth 8 multipv 1 score cp -162 nodes 731 nps 731000 hashfull 5 tbhits 0 time 1 pv a8d8 f1e2 e5f3 c3b4 f3h2 g3h5', position at root: r2R2k1/pp2rppb/2p2b1p/4n3/4pBP1/2Q1P1NP/PPP2P1R/1K3B2 w - - 3 19\n",
      "Exception parsing pv from info: 'depth 9 seldepth 11 multipv 1 score cp -142 nodes 2044 nps 681333 hashfull 5 tbhits 0 time 3 pv a8d8 f1e2 e5f3 c3b4 f3h2 g3h5 h2f3 h5f6 g7f6 b4b7', position at root: r2R2k1/pp2rppb/2p2b1p/4n3/4pBP1/2Q1P1NP/PPP2P1R/1K3B2 w - - 3 19\n",
      "Exception parsing pv from info: 'depth 10 seldepth 13 multipv 1 score cp -134 nodes 5896 nps 982666 hashfull 7 tbhits 0 time 6 pv a8d8 f1e2 e5f3 c3a5 f3h2 g3h5 d8d5 a5a7', position at root: r2R2k1/pp2rppb/2p2b1p/4n3/4pBP1/2Q1P1NP/PPP2P1R/1K3B2 w - - 3 19\n",
      "UciAnalysisCommand failed after returning preliminary result (<Future finished result=<chess.engine...002A04D0F27A0>>)\n",
      "protocol: <UciProtocol (pid=58224)>\n",
      "transport: <_WindowsSubprocessTransport pid=58224 running stdin=<_ProactorWritePipeTransport fd=1628 read=<_OverlappedFuture pending overlapped=<pending, 0x2a04c96e9e0> cb=[_ProactorWritePipeTransport._pipe_closed()]>> stdout=<_ProactorReadPipeTransport fd=1680 read=<_OverlappedFuture pending overlapped=<pending, 0x2a04cbaf7f0> cb=[_ProactorReadPipeTransport._loop_reading()]>> stderr=<_ProactorReadPipeTransport fd=1828 read=<_OverlappedFuture pending overlapped=<pending, 0x2a04c96e200> cb=[_ProactorReadPipeTransport._loop_reading()]>>>\n",
      "Traceback (most recent call last):\n",
      "  File \"C:\\Users\\ekarni\\.pyenv\\pyenv-win\\versions\\3.10\\lib\\site-packages\\chess\\engine.py\", line 1965, in _parse_uci_bestmove\n",
      "    move = board.push_uci(tokens[0].lower())\n",
      "  File \"C:\\Users\\ekarni\\.pyenv\\pyenv-win\\versions\\3.10\\lib\\site-packages\\chess\\__init__.py\", line 3164, in push_uci\n",
      "    move = self.parse_uci(uci)\n",
      "  File \"C:\\Users\\ekarni\\.pyenv\\pyenv-win\\versions\\3.10\\lib\\site-packages\\chess\\__init__.py\", line 3147, in parse_uci\n",
      "    raise IllegalMoveError(f\"illegal uci: {uci!r} in {self.fen()}\")\n",
      "chess.IllegalMoveError: illegal uci: 'a8d8' in r2R2k1/pp2rppb/2p2b1p/4n3/4pBP1/2Q1P1NP/PPP2P1R/1K3B2 w - - 3 19\n",
      "\n",
      "During handling of the above exception, another exception occurred:\n",
      "\n",
      "Traceback (most recent call last):\n",
      "  File \"C:\\Users\\ekarni\\.pyenv\\pyenv-win\\versions\\3.10\\lib\\site-packages\\chess\\engine.py\", line 1386, in _line_received\n",
      "    self.line_received(engine, line)\n",
      "  File \"C:\\Users\\ekarni\\.pyenv\\pyenv-win\\versions\\3.10\\lib\\site-packages\\chess\\engine.py\", line 1818, in line_received\n",
      "    self._bestmove(engine, line.split(\" \", 1)[1])\n",
      "  File \"C:\\Users\\ekarni\\.pyenv\\pyenv-win\\versions\\3.10\\lib\\site-packages\\chess\\engine.py\", line 1841, in _bestmove\n",
      "    best = _parse_uci_bestmove(engine.board, arg)\n",
      "  File \"C:\\Users\\ekarni\\.pyenv\\pyenv-win\\versions\\3.10\\lib\\site-packages\\chess\\engine.py\", line 1967, in _parse_uci_bestmove\n",
      "    raise EngineError(err)\n",
      "chess.engine.EngineError: illegal uci: 'a8d8' in r2R2k1/pp2rppb/2p2b1p/4n3/4pBP1/2Q1P1NP/PPP2P1R/1K3B2 w - - 3 19\n"
     ]
    },
    {
     "name": "stdout",
     "output_type": "stream",
     "text": [
      "Traceback (most recent call last):\n",
      "  File \"C:\\Users\\ekarni\\.pyenv\\pyenv-win\\versions\\3.10\\lib\\asyncio\\tasks.py\", line 234, in __step\n",
      "    result = coro.throw(exc)\n",
      "  File \"C:\\Users\\ekarni\\.pyenv\\pyenv-win\\versions\\3.10\\lib\\site-packages\\chess\\engine.py\", line 1242, in analyse\n",
      "    await analysis.wait()\n",
      "  File \"C:\\Users\\ekarni\\.pyenv\\pyenv-win\\versions\\3.10\\lib\\site-packages\\chess\\engine.py\", line 2772, in wait\n",
      "    return await self._finished\n",
      "  File \"C:\\Users\\ekarni\\.pyenv\\pyenv-win\\versions\\3.10\\lib\\asyncio\\futures.py\", line 284, in __await__\n",
      "    yield self  # This tells Task to wait for completion.\n",
      "  File \"C:\\Users\\ekarni\\.pyenv\\pyenv-win\\versions\\3.10\\lib\\asyncio\\tasks.py\", line 304, in __wakeup\n",
      "    future.result()\n",
      "  File \"C:\\Users\\ekarni\\.pyenv\\pyenv-win\\versions\\3.10\\lib\\asyncio\\futures.py\", line 196, in result\n",
      "    raise exc\n",
      "asyncio.exceptions.CancelledError\n",
      "\n",
      "During handling of the above exception, another exception occurred:\n",
      "\n",
      "Traceback (most recent call last):\n",
      "  File \"C:\\Users\\ekarni\\.pyenv\\pyenv-win\\versions\\3.10\\lib\\asyncio\\tasks.py\", line 458, in wait_for\n",
      "    fut.result()\n",
      "  File \"C:\\Users\\ekarni\\.pyenv\\pyenv-win\\versions\\3.10\\lib\\asyncio\\futures.py\", line 196, in result\n",
      "    raise exc\n",
      "asyncio.exceptions.CancelledError\n",
      "\n",
      "The above exception was the direct cause of the following exception:\n",
      "\n",
      "Traceback (most recent call last):\n",
      "  File \"C:\\gitproj\\chess_analyzer\\calc.py\", line 132, in calc_moves_score_int\n",
      "    ev = self.get_score(cur, not white, curdep != maxdepth)\n",
      "  File \"C:\\Users\\ekarni\\.pyenv\\pyenv-win\\versions\\3.10\\lib\\site-packages\\memoization\\caching\\plain_cache.py\", line 49, in wrapper\n",
      "    result = user_function(*args, **kwargs)\n",
      "  File \"C:\\gitproj\\chess_analyzer\\calc.py\", line 82, in get_score\n",
      "    cc = engine.analyse(b, limit, game=self.gameidf)[\"score\"]\n",
      "  File \"C:\\Users\\ekarni\\.pyenv\\pyenv-win\\versions\\3.10\\lib\\site-packages\\chess\\engine.py\", line 2997, in analyse\n",
      "    return future.result()\n",
      "  File \"C:\\Users\\ekarni\\.pyenv\\pyenv-win\\versions\\3.10\\lib\\concurrent\\futures\\_base.py\", line 445, in result\n",
      "    return self.__get_result()\n",
      "  File \"C:\\Users\\ekarni\\.pyenv\\pyenv-win\\versions\\3.10\\lib\\concurrent\\futures\\_base.py\", line 390, in __get_result\n",
      "    raise self._exception\n",
      "  File \"C:\\Users\\ekarni\\.pyenv\\pyenv-win\\versions\\3.10\\lib\\asyncio\\tasks.py\", line 232, in __step\n",
      "    result = coro.send(None)\n",
      "  File \"C:\\Users\\ekarni\\.pyenv\\pyenv-win\\versions\\3.10\\lib\\asyncio\\tasks.py\", line 460, in wait_for\n",
      "    raise exceptions.TimeoutError() from exc\n",
      "asyncio.exceptions.TimeoutError\n",
      "\n"
     ]
    },
    {
     "name": "stderr",
     "output_type": "stream",
     "text": [
      "Exception parsing pv from info: 'depth 1 seldepth 1 multipv 1 score cp -134 nodes 34 nps 34000 hashfull 4 tbhits 0 time 1 pv a8d8', position at root: r2R2k1/pp3ppb/2p1rb1p/4n3/4pBP1/2Q1P1NP/PPP2P1R/1K3B2 w - - 3 19\n",
      "Exception parsing pv from info: 'depth 2 seldepth 2 multipv 1 score cp -134 nodes 64 nps 64000 hashfull 4 tbhits 0 time 1 pv a8d8 f1e2', position at root: r2R2k1/pp3ppb/2p1rb1p/4n3/4pBP1/2Q1P1NP/PPP2P1R/1K3B2 w - - 3 19\n",
      "Exception parsing pv from info: 'depth 3 seldepth 4 multipv 1 score cp -134 nodes 99 nps 99000 hashfull 4 tbhits 0 time 1 pv a8d8 f1e2 e5f3 c3a5', position at root: r2R2k1/pp3ppb/2p1rb1p/4n3/4pBP1/2Q1P1NP/PPP2P1R/1K3B2 w - - 3 19\n",
      "Exception parsing pv from info: 'depth 4 seldepth 5 multipv 1 score cp -134 nodes 137 nps 137000 hashfull 4 tbhits 0 time 1 pv a8d8 f1e2 e5f3 c3a5 f3h2', position at root: r2R2k1/pp3ppb/2p1rb1p/4n3/4pBP1/2Q1P1NP/PPP2P1R/1K3B2 w - - 3 19\n",
      "Exception parsing pv from info: 'depth 5 seldepth 6 multipv 1 score cp -134 nodes 179 nps 179000 hashfull 4 tbhits 0 time 1 pv a8d8 f1e2 e5f3 c3a5 f3h2 g3h5', position at root: r2R2k1/pp3ppb/2p1rb1p/4n3/4pBP1/2Q1P1NP/PPP2P1R/1K3B2 w - - 3 19\n",
      "Exception parsing pv from info: 'depth 6 seldepth 7 multipv 1 score cp -134 nodes 228 nps 228000 hashfull 4 tbhits 0 time 1 pv a8d8 f1e2 e5f3 c3a5 f3h2 g3h5 d8d5', position at root: r2R2k1/pp3ppb/2p1rb1p/4n3/4pBP1/2Q1P1NP/PPP2P1R/1K3B2 w - - 3 19\n",
      "Exception parsing pv from info: 'depth 7 seldepth 9 multipv 1 score cp -140 nodes 309 nps 309000 hashfull 4 tbhits 0 time 1 pv a8d8 f1e2 e5f3 c3a5 f3h2 g3h5 d8d5 a5a7 h2f3 a7b7 d5d2', position at root: r2R2k1/pp3ppb/2p1rb1p/4n3/4pBP1/2Q1P1NP/PPP2P1R/1K3B2 w - - 3 19\n",
      "Exception parsing pv from info: 'depth 8 seldepth 12 multipv 1 score cp -141 nodes 865 nps 432500 hashfull 4 tbhits 0 time 2 pv a8d8 f1e2 e5f3 c3b4 f3h2 g3h5 h2f3 h5f6 g7f6 b2b3 f3g1 b4e1', position at root: r2R2k1/pp3ppb/2p1rb1p/4n3/4pBP1/2Q1P1NP/PPP2P1R/1K3B2 w - - 3 19\n",
      "Exception parsing pv from info: 'depth 9 seldepth 14 multipv 1 score cp -141 nodes 1127 nps 563500 hashfull 4 tbhits 0 time 2 pv a8d8 f1e2 e5f3 c3b4 f3h2 g3h5 h2f3 h5f6 g7f6 b2b3 f3g1 b4e1 g1e2 e1e2', position at root: r2R2k1/pp3ppb/2p1rb1p/4n3/4pBP1/2Q1P1NP/PPP2P1R/1K3B2 w - - 3 19\n",
      "Exception parsing pv from info: 'depth 10 seldepth 15 multipv 1 score cp -141 nodes 1492 nps 746000 hashfull 4 tbhits 0 time 2 pv a8d8 f1e2 e5f3 c3b4 f3h2 g3h5 h2f3 h5f6 g7f6 b2b3 f3g1 b4e1 g1e2 e1e2', position at root: r2R2k1/pp3ppb/2p1rb1p/4n3/4pBP1/2Q1P1NP/PPP2P1R/1K3B2 w - - 3 19\n",
      "UciAnalysisCommand failed after returning preliminary result (<Future finished result=<chess.engine...002A04D10E5F0>>)\n",
      "protocol: <UciProtocol (pid=58224)>\n",
      "transport: <_WindowsSubprocessTransport pid=58224 running stdin=<_ProactorWritePipeTransport fd=1628 read=<_OverlappedFuture pending overlapped=<pending, 0x2a04c96e9e0> cb=[_ProactorWritePipeTransport._pipe_closed()]>> stdout=<_ProactorReadPipeTransport fd=1680 read=<_OverlappedFuture pending overlapped=<pending, 0x2a04cbadc60> cb=[_ProactorReadPipeTransport._loop_reading()]>> stderr=<_ProactorReadPipeTransport fd=1828 read=<_OverlappedFuture pending overlapped=<pending, 0x2a04c96e200> cb=[_ProactorReadPipeTransport._loop_reading()]>>>\n",
      "Traceback (most recent call last):\n",
      "  File \"C:\\Users\\ekarni\\.pyenv\\pyenv-win\\versions\\3.10\\lib\\site-packages\\chess\\engine.py\", line 1965, in _parse_uci_bestmove\n",
      "    move = board.push_uci(tokens[0].lower())\n",
      "  File \"C:\\Users\\ekarni\\.pyenv\\pyenv-win\\versions\\3.10\\lib\\site-packages\\chess\\__init__.py\", line 3164, in push_uci\n",
      "    move = self.parse_uci(uci)\n",
      "  File \"C:\\Users\\ekarni\\.pyenv\\pyenv-win\\versions\\3.10\\lib\\site-packages\\chess\\__init__.py\", line 3147, in parse_uci\n",
      "    raise IllegalMoveError(f\"illegal uci: {uci!r} in {self.fen()}\")\n",
      "chess.IllegalMoveError: illegal uci: 'a8d8' in r2R2k1/pp3ppb/2p1rb1p/4n3/4pBP1/2Q1P1NP/PPP2P1R/1K3B2 w - - 3 19\n",
      "\n",
      "During handling of the above exception, another exception occurred:\n",
      "\n",
      "Traceback (most recent call last):\n",
      "  File \"C:\\Users\\ekarni\\.pyenv\\pyenv-win\\versions\\3.10\\lib\\site-packages\\chess\\engine.py\", line 1386, in _line_received\n",
      "    self.line_received(engine, line)\n",
      "  File \"C:\\Users\\ekarni\\.pyenv\\pyenv-win\\versions\\3.10\\lib\\site-packages\\chess\\engine.py\", line 1818, in line_received\n",
      "    self._bestmove(engine, line.split(\" \", 1)[1])\n",
      "  File \"C:\\Users\\ekarni\\.pyenv\\pyenv-win\\versions\\3.10\\lib\\site-packages\\chess\\engine.py\", line 1841, in _bestmove\n",
      "    best = _parse_uci_bestmove(engine.board, arg)\n",
      "  File \"C:\\Users\\ekarni\\.pyenv\\pyenv-win\\versions\\3.10\\lib\\site-packages\\chess\\engine.py\", line 1967, in _parse_uci_bestmove\n",
      "    raise EngineError(err)\n",
      "chess.engine.EngineError: illegal uci: 'a8d8' in r2R2k1/pp3ppb/2p1rb1p/4n3/4pBP1/2Q1P1NP/PPP2P1R/1K3B2 w - - 3 19\n"
     ]
    },
    {
     "name": "stdout",
     "output_type": "stream",
     "text": [
      "Traceback (most recent call last):\n",
      "  File \"C:\\Users\\ekarni\\.pyenv\\pyenv-win\\versions\\3.10\\lib\\asyncio\\tasks.py\", line 234, in __step\n",
      "    result = coro.throw(exc)\n",
      "  File \"C:\\Users\\ekarni\\.pyenv\\pyenv-win\\versions\\3.10\\lib\\site-packages\\chess\\engine.py\", line 1242, in analyse\n",
      "    await analysis.wait()\n",
      "  File \"C:\\Users\\ekarni\\.pyenv\\pyenv-win\\versions\\3.10\\lib\\site-packages\\chess\\engine.py\", line 2772, in wait\n",
      "    return await self._finished\n",
      "  File \"C:\\Users\\ekarni\\.pyenv\\pyenv-win\\versions\\3.10\\lib\\asyncio\\futures.py\", line 284, in __await__\n",
      "    yield self  # This tells Task to wait for completion.\n",
      "  File \"C:\\Users\\ekarni\\.pyenv\\pyenv-win\\versions\\3.10\\lib\\asyncio\\tasks.py\", line 304, in __wakeup\n",
      "    future.result()\n",
      "  File \"C:\\Users\\ekarni\\.pyenv\\pyenv-win\\versions\\3.10\\lib\\asyncio\\futures.py\", line 196, in result\n",
      "    raise exc\n",
      "asyncio.exceptions.CancelledError\n",
      "\n",
      "During handling of the above exception, another exception occurred:\n",
      "\n",
      "Traceback (most recent call last):\n",
      "  File \"C:\\Users\\ekarni\\.pyenv\\pyenv-win\\versions\\3.10\\lib\\asyncio\\tasks.py\", line 458, in wait_for\n",
      "    fut.result()\n",
      "  File \"C:\\Users\\ekarni\\.pyenv\\pyenv-win\\versions\\3.10\\lib\\asyncio\\futures.py\", line 196, in result\n",
      "    raise exc\n",
      "asyncio.exceptions.CancelledError\n",
      "\n",
      "The above exception was the direct cause of the following exception:\n",
      "\n",
      "Traceback (most recent call last):\n",
      "  File \"C:\\gitproj\\chess_analyzer\\calc.py\", line 132, in calc_moves_score_int\n",
      "    ev = self.get_score(cur, not white, curdep != maxdepth)\n",
      "  File \"C:\\Users\\ekarni\\.pyenv\\pyenv-win\\versions\\3.10\\lib\\site-packages\\memoization\\caching\\plain_cache.py\", line 49, in wrapper\n",
      "    result = user_function(*args, **kwargs)\n",
      "  File \"C:\\gitproj\\chess_analyzer\\calc.py\", line 82, in get_score\n",
      "    cc = engine.analyse(b, limit, game=self.gameidf)[\"score\"]\n",
      "  File \"C:\\Users\\ekarni\\.pyenv\\pyenv-win\\versions\\3.10\\lib\\site-packages\\chess\\engine.py\", line 2997, in analyse\n",
      "    return future.result()\n",
      "  File \"C:\\Users\\ekarni\\.pyenv\\pyenv-win\\versions\\3.10\\lib\\concurrent\\futures\\_base.py\", line 445, in result\n",
      "    return self.__get_result()\n",
      "  File \"C:\\Users\\ekarni\\.pyenv\\pyenv-win\\versions\\3.10\\lib\\concurrent\\futures\\_base.py\", line 390, in __get_result\n",
      "    raise self._exception\n",
      "  File \"C:\\Users\\ekarni\\.pyenv\\pyenv-win\\versions\\3.10\\lib\\asyncio\\tasks.py\", line 232, in __step\n",
      "    result = coro.send(None)\n",
      "  File \"C:\\Users\\ekarni\\.pyenv\\pyenv-win\\versions\\3.10\\lib\\asyncio\\tasks.py\", line 460, in wait_for\n",
      "    raise exceptions.TimeoutError() from exc\n",
      "asyncio.exceptions.TimeoutError\n",
      "\n",
      "Traceback (most recent call last):\n",
      "  File \"C:\\Users\\ekarni\\.pyenv\\pyenv-win\\versions\\3.10\\lib\\asyncio\\tasks.py\", line 234, in __step\n",
      "    result = coro.throw(exc)\n",
      "  File \"C:\\Users\\ekarni\\.pyenv\\pyenv-win\\versions\\3.10\\lib\\site-packages\\chess\\engine.py\", line 1242, in analyse\n",
      "    await analysis.wait()\n",
      "  File \"C:\\Users\\ekarni\\.pyenv\\pyenv-win\\versions\\3.10\\lib\\site-packages\\chess\\engine.py\", line 2772, in wait\n",
      "    return await self._finished\n",
      "  File \"C:\\Users\\ekarni\\.pyenv\\pyenv-win\\versions\\3.10\\lib\\asyncio\\futures.py\", line 284, in __await__\n",
      "    yield self  # This tells Task to wait for completion.\n",
      "  File \"C:\\Users\\ekarni\\.pyenv\\pyenv-win\\versions\\3.10\\lib\\asyncio\\tasks.py\", line 304, in __wakeup\n",
      "    future.result()\n",
      "  File \"C:\\Users\\ekarni\\.pyenv\\pyenv-win\\versions\\3.10\\lib\\asyncio\\futures.py\", line 196, in result\n",
      "    raise exc\n",
      "asyncio.exceptions.CancelledError\n",
      "\n",
      "During handling of the above exception, another exception occurred:\n",
      "\n",
      "Traceback (most recent call last):\n",
      "  File \"C:\\Users\\ekarni\\.pyenv\\pyenv-win\\versions\\3.10\\lib\\asyncio\\tasks.py\", line 458, in wait_for\n",
      "    fut.result()\n",
      "  File \"C:\\Users\\ekarni\\.pyenv\\pyenv-win\\versions\\3.10\\lib\\asyncio\\futures.py\", line 196, in result\n",
      "    raise exc\n",
      "asyncio.exceptions.CancelledError\n",
      "\n",
      "The above exception was the direct cause of the following exception:\n",
      "\n",
      "Traceback (most recent call last):\n",
      "  File \"C:\\gitproj\\chess_analyzer\\calc.py\", line 132, in calc_moves_score_int\n",
      "    ev = self.get_score(cur, not white, curdep != maxdepth)\n",
      "  File \"C:\\Users\\ekarni\\.pyenv\\pyenv-win\\versions\\3.10\\lib\\site-packages\\memoization\\caching\\plain_cache.py\", line 49, in wrapper\n",
      "    result = user_function(*args, **kwargs)\n",
      "  File \"C:\\gitproj\\chess_analyzer\\calc.py\", line 82, in get_score\n",
      "    cc = engine.analyse(b, limit, game=self.gameidf)[\"score\"]\n",
      "  File \"C:\\Users\\ekarni\\.pyenv\\pyenv-win\\versions\\3.10\\lib\\site-packages\\chess\\engine.py\", line 2997, in analyse\n",
      "    return future.result()\n",
      "  File \"C:\\Users\\ekarni\\.pyenv\\pyenv-win\\versions\\3.10\\lib\\concurrent\\futures\\_base.py\", line 445, in result\n",
      "    return self.__get_result()\n",
      "  File \"C:\\Users\\ekarni\\.pyenv\\pyenv-win\\versions\\3.10\\lib\\concurrent\\futures\\_base.py\", line 390, in __get_result\n",
      "    raise self._exception\n",
      "  File \"C:\\Users\\ekarni\\.pyenv\\pyenv-win\\versions\\3.10\\lib\\asyncio\\tasks.py\", line 232, in __step\n",
      "    result = coro.send(None)\n",
      "  File \"C:\\Users\\ekarni\\.pyenv\\pyenv-win\\versions\\3.10\\lib\\asyncio\\tasks.py\", line 460, in wait_for\n",
      "    raise exceptions.TimeoutError() from exc\n",
      "asyncio.exceptions.TimeoutError\n",
      "\n"
     ]
    },
    {
     "name": "stderr",
     "output_type": "stream",
     "text": [
      "Exception parsing pv from info: 'depth 1 seldepth 1 multipv 1 score cp -779 nodes 36 nps 36000 hashfull 8 tbhits 0 time 1 pv a8d8 g5d8 e8d8 c3e5', position at root: r2R2k1/pp2rpp1/2p3bp/4n1B1/4p1P1/2Q1P1NP/PPP2P2/1K3B1R w - - 1 19\n",
      "Exception parsing pv from info: 'depth 2 seldepth 2 multipv 1 score cp -779 nodes 64 nps 64000 hashfull 8 tbhits 0 time 1 pv a8d8 g5d8 e8d8', position at root: r2R2k1/pp2rpp1/2p3bp/4n1B1/4p1P1/2Q1P1NP/PPP2P2/1K3B1R w - - 1 19\n",
      "Exception parsing pv from info: 'depth 3 seldepth 3 multipv 1 score cp -779 nodes 92 nps 92000 hashfull 8 tbhits 0 time 1 pv a8d8 g5d8 e8d8 c3e5', position at root: r2R2k1/pp2rpp1/2p3bp/4n1B1/4p1P1/2Q1P1NP/PPP2P2/1K3B1R w - - 1 19\n",
      "Exception parsing pv from info: 'depth 4 seldepth 4 multipv 1 score cp -619 nodes 141 nps 141000 hashfull 8 tbhits 0 time 1 pv a8d8 g5d8 e8d8', position at root: r2R2k1/pp2rpp1/2p3bp/4n1B1/4p1P1/2Q1P1NP/PPP2P2/1K3B1R w - - 1 19\n",
      "Exception parsing pv from info: 'depth 5 seldepth 5 multipv 1 score cp -630 nodes 179 nps 179000 hashfull 8 tbhits 0 time 1 pv a8d8 g5d8 e8d8 f1e2', position at root: r2R2k1/pp2rpp1/2p3bp/4n1B1/4p1P1/2Q1P1NP/PPP2P2/1K3B1R w - - 1 19\n",
      "Exception parsing pv from info: 'depth 6 seldepth 5 multipv 1 score cp -630 nodes 223 nps 223000 hashfull 8 tbhits 0 time 1 pv a8d8 g5d8 e8d8 f1e2', position at root: r2R2k1/pp2rpp1/2p3bp/4n1B1/4p1P1/2Q1P1NP/PPP2P2/1K3B1R w - - 1 19\n",
      "Exception parsing pv from info: 'depth 7 seldepth 6 multipv 1 score cp -624 nodes 274 nps 274000 hashfull 8 tbhits 0 time 1 pv a8d8 g5d8 e8d8 f1e2 e5f3', position at root: r2R2k1/pp2rpp1/2p3bp/4n1B1/4p1P1/2Q1P1NP/PPP2P2/1K3B1R w - - 1 19\n",
      "Exception parsing pv from info: 'depth 8 seldepth 8 multipv 1 score cp -624 nodes 452 nps 452000 hashfull 8 tbhits 0 time 1 pv a8d8 g5d8 e8d8 f1e2 e5f3 h3h4', position at root: r2R2k1/pp2rpp1/2p3bp/4n1B1/4p1P1/2Q1P1NP/PPP2P2/1K3B1R w - - 1 19\n",
      "Exception parsing pv from info: 'depth 9 seldepth 9 multipv 1 score cp -628 nodes 829 nps 829000 hashfull 9 tbhits 0 time 1 pv a8d8 g5d8 e8d8 f1e2 e5f3 c3b4', position at root: r2R2k1/pp2rpp1/2p3bp/4n1B1/4p1P1/2Q1P1NP/PPP2P2/1K3B1R w - - 1 19\n",
      "Exception parsing pv from info: 'depth 10 seldepth 11 multipv 1 score cp -630 nodes 2437 nps 1218500 hashfull 11 tbhits 0 time 2 pv a8d8 g5d8 e8d8 f1e2 d8e8 c3b4 b7b5 h3h4 e5f3', position at root: r2R2k1/pp2rpp1/2p3bp/4n1B1/4p1P1/2Q1P1NP/PPP2P2/1K3B1R w - - 1 19\n",
      "UciAnalysisCommand failed after returning preliminary result (<Future finished result=<chess.engine...002A04D10DFF0>>)\n",
      "protocol: <UciProtocol (pid=58224)>\n",
      "transport: <_WindowsSubprocessTransport pid=58224 running stdin=<_ProactorWritePipeTransport fd=1628 read=<_OverlappedFuture pending overlapped=<pending, 0x2a04c96e9e0> cb=[_ProactorWritePipeTransport._pipe_closed()]>> stdout=<_ProactorReadPipeTransport fd=1680 read=<_OverlappedFuture pending overlapped=<pending, 0x2a04cbae050> cb=[_ProactorReadPipeTransport._loop_reading()]>> stderr=<_ProactorReadPipeTransport fd=1828 read=<_OverlappedFuture pending overlapped=<pending, 0x2a04c96e200> cb=[_ProactorReadPipeTransport._loop_reading()]>>>\n",
      "Traceback (most recent call last):\n",
      "  File \"C:\\Users\\ekarni\\.pyenv\\pyenv-win\\versions\\3.10\\lib\\site-packages\\chess\\engine.py\", line 1965, in _parse_uci_bestmove\n",
      "    move = board.push_uci(tokens[0].lower())\n",
      "  File \"C:\\Users\\ekarni\\.pyenv\\pyenv-win\\versions\\3.10\\lib\\site-packages\\chess\\__init__.py\", line 3164, in push_uci\n",
      "    move = self.parse_uci(uci)\n",
      "  File \"C:\\Users\\ekarni\\.pyenv\\pyenv-win\\versions\\3.10\\lib\\site-packages\\chess\\__init__.py\", line 3147, in parse_uci\n",
      "    raise IllegalMoveError(f\"illegal uci: {uci!r} in {self.fen()}\")\n",
      "chess.IllegalMoveError: illegal uci: 'a8d8' in r2R2k1/pp2rpp1/2p3bp/4n1B1/4p1P1/2Q1P1NP/PPP2P2/1K3B1R w - - 1 19\n",
      "\n",
      "During handling of the above exception, another exception occurred:\n",
      "\n",
      "Traceback (most recent call last):\n",
      "  File \"C:\\Users\\ekarni\\.pyenv\\pyenv-win\\versions\\3.10\\lib\\site-packages\\chess\\engine.py\", line 1386, in _line_received\n",
      "    self.line_received(engine, line)\n",
      "  File \"C:\\Users\\ekarni\\.pyenv\\pyenv-win\\versions\\3.10\\lib\\site-packages\\chess\\engine.py\", line 1818, in line_received\n",
      "    self._bestmove(engine, line.split(\" \", 1)[1])\n",
      "  File \"C:\\Users\\ekarni\\.pyenv\\pyenv-win\\versions\\3.10\\lib\\site-packages\\chess\\engine.py\", line 1841, in _bestmove\n",
      "    best = _parse_uci_bestmove(engine.board, arg)\n",
      "  File \"C:\\Users\\ekarni\\.pyenv\\pyenv-win\\versions\\3.10\\lib\\site-packages\\chess\\engine.py\", line 1967, in _parse_uci_bestmove\n",
      "    raise EngineError(err)\n",
      "chess.engine.EngineError: illegal uci: 'a8d8' in r2R2k1/pp2rpp1/2p3bp/4n1B1/4p1P1/2Q1P1NP/PPP2P2/1K3B1R w - - 1 19\n",
      "Exception parsing pv from info: 'depth 1 seldepth 1 multipv 1 score cp -630 nodes 30 nps 30000 hashfull 4 tbhits 0 time 1 pv a8d8', position at root: r2R2k1/pp3pp1/2p1r1bp/4n1B1/4p1P1/2Q1P1NP/PPP2P2/1K3B1R w - - 1 19\n",
      "Exception parsing pv from info: 'depth 2 seldepth 2 multipv 1 score cp -630 nodes 58 nps 58000 hashfull 4 tbhits 0 time 1 pv a8d8 g5d8', position at root: r2R2k1/pp3pp1/2p1r1bp/4n1B1/4p1P1/2Q1P1NP/PPP2P2/1K3B1R w - - 1 19\n",
      "Exception parsing pv from info: 'depth 3 seldepth 3 multipv 1 score cp -630 nodes 88 nps 88000 hashfull 4 tbhits 0 time 1 pv a8d8 g5d8 e8d8', position at root: r2R2k1/pp3pp1/2p1r1bp/4n1B1/4p1P1/2Q1P1NP/PPP2P2/1K3B1R w - - 1 19\n",
      "Exception parsing pv from info: 'depth 4 seldepth 4 multipv 1 score cp -630 nodes 119 nps 119000 hashfull 4 tbhits 0 time 1 pv a8d8 g5d8 e8d8 f1e2', position at root: r2R2k1/pp3pp1/2p1r1bp/4n1B1/4p1P1/2Q1P1NP/PPP2P2/1K3B1R w - - 1 19\n",
      "Exception parsing pv from info: 'depth 5 seldepth 5 multipv 1 score cp -630 nodes 152 nps 152000 hashfull 4 tbhits 0 time 1 pv a8d8 g5d8 e8d8 f1e2 d8e8', position at root: r2R2k1/pp3pp1/2p1r1bp/4n1B1/4p1P1/2Q1P1NP/PPP2P2/1K3B1R w - - 1 19\n",
      "Exception parsing pv from info: 'depth 6 seldepth 6 multipv 1 score cp -630 nodes 189 nps 189000 hashfull 4 tbhits 0 time 1 pv a8d8 g5d8 e8d8 f1e2 d8e8 c3b4', position at root: r2R2k1/pp3pp1/2p1r1bp/4n1B1/4p1P1/2Q1P1NP/PPP2P2/1K3B1R w - - 1 19\n",
      "Exception parsing pv from info: 'depth 7 seldepth 8 multipv 1 score cp -630 nodes 243 nps 243000 hashfull 4 tbhits 0 time 1 pv a8d8 g5d8 e8d8 f1e2 d8e8 c3b4 b7b5 h3h4', position at root: r2R2k1/pp3pp1/2p1r1bp/4n1B1/4p1P1/2Q1P1NP/PPP2P2/1K3B1R w - - 1 19\n",
      "Exception parsing pv from info: 'depth 8 seldepth 10 multipv 1 score cp -633 nodes 325 nps 325000 hashfull 4 tbhits 0 time 1 pv a8d8 g5d8 e8d8 f1e2 e5f3 c3b4 d8d7 h3h4', position at root: r2R2k1/pp3pp1/2p1r1bp/4n1B1/4p1P1/2Q1P1NP/PPP2P2/1K3B1R w - - 1 19\n",
      "Exception parsing pv from info: 'depth 9 seldepth 10 multipv 1 score cp -625 nodes 533 nps 533000 hashfull 5 tbhits 0 time 1 pv a8d8 g5d8 e8d8 f1e2 e5f3 c3b4 d8d7 h3h4 f3d2 b1a1', position at root: r2R2k1/pp3pp1/2p1r1bp/4n1B1/4p1P1/2Q1P1NP/PPP2P2/1K3B1R w - - 1 19\n",
      "Exception parsing pv from info: 'depth 10 seldepth 14 multipv 1 score cp -660 nodes 1158 nps 579000 hashfull 5 tbhits 0 time 2 pv a8d8 g5d8 e8d8 f1e2 e5f3 c3b4 f3d2 b1c1 d8d7 b4c5 g8h7 c5a7', position at root: r2R2k1/pp3pp1/2p1r1bp/4n1B1/4p1P1/2Q1P1NP/PPP2P2/1K3B1R w - - 1 19\n",
      "UciAnalysisCommand failed after returning preliminary result (<Future finished result=<chess.engine...002A04D128460>>)\n",
      "protocol: <UciProtocol (pid=58224)>\n",
      "transport: <_WindowsSubprocessTransport pid=58224 running stdin=<_ProactorWritePipeTransport fd=1628 read=<_OverlappedFuture pending overlapped=<pending, 0x2a04c96e9e0> cb=[_ProactorWritePipeTransport._pipe_closed()]>> stdout=<_ProactorReadPipeTransport fd=1680 read=<_OverlappedFuture pending overlapped=<pending, 0x2a04cb52dd0> cb=[_ProactorReadPipeTransport._loop_reading()]>> stderr=<_ProactorReadPipeTransport fd=1828 read=<_OverlappedFuture pending overlapped=<pending, 0x2a04c96e200> cb=[_ProactorReadPipeTransport._loop_reading()]>>>\n",
      "Traceback (most recent call last):\n",
      "  File \"C:\\Users\\ekarni\\.pyenv\\pyenv-win\\versions\\3.10\\lib\\site-packages\\chess\\engine.py\", line 1965, in _parse_uci_bestmove\n",
      "    move = board.push_uci(tokens[0].lower())\n",
      "  File \"C:\\Users\\ekarni\\.pyenv\\pyenv-win\\versions\\3.10\\lib\\site-packages\\chess\\__init__.py\", line 3164, in push_uci\n",
      "    move = self.parse_uci(uci)\n",
      "  File \"C:\\Users\\ekarni\\.pyenv\\pyenv-win\\versions\\3.10\\lib\\site-packages\\chess\\__init__.py\", line 3147, in parse_uci\n",
      "    raise IllegalMoveError(f\"illegal uci: {uci!r} in {self.fen()}\")\n",
      "chess.IllegalMoveError: illegal uci: 'a8d8' in r2R2k1/pp3pp1/2p1r1bp/4n1B1/4p1P1/2Q1P1NP/PPP2P2/1K3B1R w - - 1 19\n",
      "\n",
      "During handling of the above exception, another exception occurred:\n",
      "\n",
      "Traceback (most recent call last):\n",
      "  File \"C:\\Users\\ekarni\\.pyenv\\pyenv-win\\versions\\3.10\\lib\\site-packages\\chess\\engine.py\", line 1386, in _line_received\n",
      "    self.line_received(engine, line)\n",
      "  File \"C:\\Users\\ekarni\\.pyenv\\pyenv-win\\versions\\3.10\\lib\\site-packages\\chess\\engine.py\", line 1818, in line_received\n",
      "    self._bestmove(engine, line.split(\" \", 1)[1])\n",
      "  File \"C:\\Users\\ekarni\\.pyenv\\pyenv-win\\versions\\3.10\\lib\\site-packages\\chess\\engine.py\", line 1841, in _bestmove\n",
      "    best = _parse_uci_bestmove(engine.board, arg)\n",
      "  File \"C:\\Users\\ekarni\\.pyenv\\pyenv-win\\versions\\3.10\\lib\\site-packages\\chess\\engine.py\", line 1967, in _parse_uci_bestmove\n",
      "    raise EngineError(err)\n",
      "chess.engine.EngineError: illegal uci: 'a8d8' in r2R2k1/pp3pp1/2p1r1bp/4n1B1/4p1P1/2Q1P1NP/PPP2P2/1K3B1R w - - 1 19\n"
     ]
    },
    {
     "name": "stdout",
     "output_type": "stream",
     "text": [
      "Traceback (most recent call last):\n",
      "  File \"C:\\Users\\ekarni\\.pyenv\\pyenv-win\\versions\\3.10\\lib\\asyncio\\tasks.py\", line 234, in __step\n",
      "    result = coro.throw(exc)\n",
      "  File \"C:\\Users\\ekarni\\.pyenv\\pyenv-win\\versions\\3.10\\lib\\site-packages\\chess\\engine.py\", line 1242, in analyse\n",
      "    await analysis.wait()\n",
      "  File \"C:\\Users\\ekarni\\.pyenv\\pyenv-win\\versions\\3.10\\lib\\site-packages\\chess\\engine.py\", line 2772, in wait\n",
      "    return await self._finished\n",
      "  File \"C:\\Users\\ekarni\\.pyenv\\pyenv-win\\versions\\3.10\\lib\\asyncio\\futures.py\", line 284, in __await__\n",
      "    yield self  # This tells Task to wait for completion.\n",
      "  File \"C:\\Users\\ekarni\\.pyenv\\pyenv-win\\versions\\3.10\\lib\\asyncio\\tasks.py\", line 304, in __wakeup\n",
      "    future.result()\n",
      "  File \"C:\\Users\\ekarni\\.pyenv\\pyenv-win\\versions\\3.10\\lib\\asyncio\\futures.py\", line 196, in result\n",
      "    raise exc\n",
      "asyncio.exceptions.CancelledError\n",
      "\n",
      "During handling of the above exception, another exception occurred:\n",
      "\n",
      "Traceback (most recent call last):\n",
      "  File \"C:\\Users\\ekarni\\.pyenv\\pyenv-win\\versions\\3.10\\lib\\asyncio\\tasks.py\", line 458, in wait_for\n",
      "    fut.result()\n",
      "  File \"C:\\Users\\ekarni\\.pyenv\\pyenv-win\\versions\\3.10\\lib\\asyncio\\futures.py\", line 196, in result\n",
      "    raise exc\n",
      "asyncio.exceptions.CancelledError\n",
      "\n",
      "The above exception was the direct cause of the following exception:\n",
      "\n",
      "Traceback (most recent call last):\n",
      "  File \"C:\\gitproj\\chess_analyzer\\calc.py\", line 132, in calc_moves_score_int\n",
      "    ev = self.get_score(cur, not white, curdep != maxdepth)\n",
      "  File \"C:\\Users\\ekarni\\.pyenv\\pyenv-win\\versions\\3.10\\lib\\site-packages\\memoization\\caching\\plain_cache.py\", line 49, in wrapper\n",
      "    result = user_function(*args, **kwargs)\n",
      "  File \"C:\\gitproj\\chess_analyzer\\calc.py\", line 82, in get_score\n",
      "    cc = engine.analyse(b, limit, game=self.gameidf)[\"score\"]\n",
      "  File \"C:\\Users\\ekarni\\.pyenv\\pyenv-win\\versions\\3.10\\lib\\site-packages\\chess\\engine.py\", line 2997, in analyse\n",
      "    return future.result()\n",
      "  File \"C:\\Users\\ekarni\\.pyenv\\pyenv-win\\versions\\3.10\\lib\\concurrent\\futures\\_base.py\", line 445, in result\n",
      "    return self.__get_result()\n",
      "  File \"C:\\Users\\ekarni\\.pyenv\\pyenv-win\\versions\\3.10\\lib\\concurrent\\futures\\_base.py\", line 390, in __get_result\n",
      "    raise self._exception\n",
      "  File \"C:\\Users\\ekarni\\.pyenv\\pyenv-win\\versions\\3.10\\lib\\asyncio\\tasks.py\", line 232, in __step\n",
      "    result = coro.send(None)\n",
      "  File \"C:\\Users\\ekarni\\.pyenv\\pyenv-win\\versions\\3.10\\lib\\asyncio\\tasks.py\", line 460, in wait_for\n",
      "    raise exceptions.TimeoutError() from exc\n",
      "asyncio.exceptions.TimeoutError\n",
      "\n"
     ]
    },
    {
     "name": "stderr",
     "output_type": "stream",
     "text": [
      "Exception parsing pv from info: 'depth 1 seldepth 1 multipv 1 score cp -521 nodes 38 nps 38000 hashfull 8 tbhits 0 time 1 pv a8d8', position at root: r2Rrk2/pp3pp1/2p3bp/4n1b1/1Q2pBP1/4P1NP/PPP2P2/1K3B1R w - - 3 19\n",
      "Exception parsing pv from info: 'depth 2 seldepth 2 multipv 1 score cp -521 nodes 68 nps 68000 hashfull 8 tbhits 0 time 1 pv a8d8', position at root: r2Rrk2/pp3pp1/2p3bp/4n1b1/1Q2pBP1/4P1NP/PPP2P2/1K3B1R w - - 3 19\n",
      "Exception parsing pv from info: 'depth 3 seldepth 2 multipv 1 score cp -521 nodes 98 nps 98000 hashfull 8 tbhits 0 time 1 pv a8d8', position at root: r2Rrk2/pp3pp1/2p3bp/4n1b1/1Q2pBP1/4P1NP/PPP2P2/1K3B1R w - - 3 19\n",
      "Exception parsing pv from info: 'depth 4 seldepth 2 multipv 1 score cp -382 nodes 136 nps 136000 hashfull 8 tbhits 0 time 1 pv a8d8', position at root: r2Rrk2/pp3pp1/2p3bp/4n1b1/1Q2pBP1/4P1NP/PPP2P2/1K3B1R w - - 3 19\n",
      "Exception parsing pv from info: 'depth 5 seldepth 5 multipv 1 score cp -344 nodes 233 nps 233000 hashfull 8 tbhits 0 time 1 pv a8d8 f1e2 g5f4 e3f4', position at root: r2Rrk2/pp3pp1/2p3bp/4n1b1/1Q2pBP1/4P1NP/PPP2P2/1K3B1R w - - 3 19\n",
      "Exception parsing pv from info: 'depth 6 seldepth 5 multipv 1 score cp -348 nodes 372 nps 372000 hashfull 8 tbhits 0 time 1 pv e8d8 f1e2 g5f4 e3f4', position at root: r2Rrk2/pp3pp1/2p3bp/4n1b1/1Q2pBP1/4P1NP/PPP2P2/1K3B1R w - - 3 19\n",
      "Exception parsing pv from info: 'depth 7 seldepth 6 multipv 1 score cp -363 nodes 702 nps 702000 hashfull 8 tbhits 0 time 1 pv e8d8 f1e2 a7a5 b4b7 g5f4 e3f4', position at root: r2Rrk2/pp3pp1/2p3bp/4n1b1/1Q2pBP1/4P1NP/PPP2P2/1K3B1R w - - 3 19\n",
      "Exception parsing pv from info: 'depth 8 seldepth 7 multipv 1 score cp -413 nodes 877 nps 438500 hashfull 8 tbhits 0 time 2 pv a8d8 f1e2 a7a5 b4a5 g5f4 e3f4', position at root: r2Rrk2/pp3pp1/2p3bp/4n1b1/1Q2pBP1/4P1NP/PPP2P2/1K3B1R w - - 3 19\n",
      "Exception parsing pv from info: 'depth 9 seldepth 11 multipv 1 score cp -472 nodes 3062 nps 1020666 hashfull 8 tbhits 0 time 3 pv a8d8 f1e2 g5h4 b4b7 e5f3', position at root: r2Rrk2/pp3pp1/2p3bp/4n1b1/1Q2pBP1/4P1NP/PPP2P2/1K3B1R w - - 3 19\n",
      "Exception parsing pv from info: 'depth 10 seldepth 7 multipv 1 score cp -484 nodes 3499 nps 874750 hashfull 9 tbhits 0 time 4 pv a8d8 f1e2 g5f6 a2a3 e5f3 e2f3 e4f3', position at root: r2Rrk2/pp3pp1/2p3bp/4n1b1/1Q2pBP1/4P1NP/PPP2P2/1K3B1R w - - 3 19\n",
      "UciAnalysisCommand failed after returning preliminary result (<Future finished result=<chess.engine...002A04D10CEE0>>)\n",
      "protocol: <UciProtocol (pid=58224)>\n",
      "transport: <_WindowsSubprocessTransport pid=58224 running stdin=<_ProactorWritePipeTransport fd=1628 read=<_OverlappedFuture pending overlapped=<pending, 0x2a04c96e9e0> cb=[_ProactorWritePipeTransport._pipe_closed()]>> stdout=<_ProactorReadPipeTransport fd=1680 read=<_OverlappedFuture pending overlapped=<pending, 0x2a04c96e290> cb=[_ProactorReadPipeTransport._loop_reading()]>> stderr=<_ProactorReadPipeTransport fd=1828 read=<_OverlappedFuture pending overlapped=<pending, 0x2a04c96e200> cb=[_ProactorReadPipeTransport._loop_reading()]>>>\n",
      "Traceback (most recent call last):\n",
      "  File \"C:\\Users\\ekarni\\.pyenv\\pyenv-win\\versions\\3.10\\lib\\site-packages\\chess\\engine.py\", line 1965, in _parse_uci_bestmove\n",
      "    move = board.push_uci(tokens[0].lower())\n",
      "  File \"C:\\Users\\ekarni\\.pyenv\\pyenv-win\\versions\\3.10\\lib\\site-packages\\chess\\__init__.py\", line 3164, in push_uci\n",
      "    move = self.parse_uci(uci)\n",
      "  File \"C:\\Users\\ekarni\\.pyenv\\pyenv-win\\versions\\3.10\\lib\\site-packages\\chess\\__init__.py\", line 3147, in parse_uci\n",
      "    raise IllegalMoveError(f\"illegal uci: {uci!r} in {self.fen()}\")\n",
      "chess.IllegalMoveError: illegal uci: 'a8d8' in r2Rrk2/pp3pp1/2p3bp/4n1b1/1Q2pBP1/4P1NP/PPP2P2/1K3B1R w - - 3 19\n",
      "\n",
      "During handling of the above exception, another exception occurred:\n",
      "\n",
      "Traceback (most recent call last):\n",
      "  File \"C:\\Users\\ekarni\\.pyenv\\pyenv-win\\versions\\3.10\\lib\\site-packages\\chess\\engine.py\", line 1386, in _line_received\n",
      "    self.line_received(engine, line)\n",
      "  File \"C:\\Users\\ekarni\\.pyenv\\pyenv-win\\versions\\3.10\\lib\\site-packages\\chess\\engine.py\", line 1818, in line_received\n",
      "    self._bestmove(engine, line.split(\" \", 1)[1])\n",
      "  File \"C:\\Users\\ekarni\\.pyenv\\pyenv-win\\versions\\3.10\\lib\\site-packages\\chess\\engine.py\", line 1841, in _bestmove\n",
      "    best = _parse_uci_bestmove(engine.board, arg)\n",
      "  File \"C:\\Users\\ekarni\\.pyenv\\pyenv-win\\versions\\3.10\\lib\\site-packages\\chess\\engine.py\", line 1967, in _parse_uci_bestmove\n",
      "    raise EngineError(err)\n",
      "chess.engine.EngineError: illegal uci: 'a8d8' in r2Rrk2/pp3pp1/2p3bp/4n1b1/1Q2pBP1/4P1NP/PPP2P2/1K3B1R w - - 3 19\n"
     ]
    },
    {
     "name": "stdout",
     "output_type": "stream",
     "text": [
      "Traceback (most recent call last):\n",
      "  File \"C:\\Users\\ekarni\\.pyenv\\pyenv-win\\versions\\3.10\\lib\\asyncio\\tasks.py\", line 234, in __step\n",
      "    result = coro.throw(exc)\n",
      "  File \"C:\\Users\\ekarni\\.pyenv\\pyenv-win\\versions\\3.10\\lib\\site-packages\\chess\\engine.py\", line 1242, in analyse\n",
      "    await analysis.wait()\n",
      "  File \"C:\\Users\\ekarni\\.pyenv\\pyenv-win\\versions\\3.10\\lib\\site-packages\\chess\\engine.py\", line 2772, in wait\n",
      "    return await self._finished\n",
      "  File \"C:\\Users\\ekarni\\.pyenv\\pyenv-win\\versions\\3.10\\lib\\asyncio\\futures.py\", line 284, in __await__\n",
      "    yield self  # This tells Task to wait for completion.\n",
      "  File \"C:\\Users\\ekarni\\.pyenv\\pyenv-win\\versions\\3.10\\lib\\asyncio\\tasks.py\", line 304, in __wakeup\n",
      "    future.result()\n",
      "  File \"C:\\Users\\ekarni\\.pyenv\\pyenv-win\\versions\\3.10\\lib\\asyncio\\futures.py\", line 196, in result\n",
      "    raise exc\n",
      "asyncio.exceptions.CancelledError\n",
      "\n",
      "During handling of the above exception, another exception occurred:\n",
      "\n",
      "Traceback (most recent call last):\n",
      "  File \"C:\\Users\\ekarni\\.pyenv\\pyenv-win\\versions\\3.10\\lib\\asyncio\\tasks.py\", line 458, in wait_for\n",
      "    fut.result()\n",
      "  File \"C:\\Users\\ekarni\\.pyenv\\pyenv-win\\versions\\3.10\\lib\\asyncio\\futures.py\", line 196, in result\n",
      "    raise exc\n",
      "asyncio.exceptions.CancelledError\n",
      "\n",
      "The above exception was the direct cause of the following exception:\n",
      "\n",
      "Traceback (most recent call last):\n",
      "  File \"C:\\gitproj\\chess_analyzer\\calc.py\", line 132, in calc_moves_score_int\n",
      "    ev = self.get_score(cur, not white, curdep != maxdepth)\n",
      "  File \"C:\\Users\\ekarni\\.pyenv\\pyenv-win\\versions\\3.10\\lib\\site-packages\\memoization\\caching\\plain_cache.py\", line 49, in wrapper\n",
      "    result = user_function(*args, **kwargs)\n",
      "  File \"C:\\gitproj\\chess_analyzer\\calc.py\", line 82, in get_score\n",
      "    cc = engine.analyse(b, limit, game=self.gameidf)[\"score\"]\n",
      "  File \"C:\\Users\\ekarni\\.pyenv\\pyenv-win\\versions\\3.10\\lib\\site-packages\\chess\\engine.py\", line 2997, in analyse\n",
      "    return future.result()\n",
      "  File \"C:\\Users\\ekarni\\.pyenv\\pyenv-win\\versions\\3.10\\lib\\concurrent\\futures\\_base.py\", line 445, in result\n",
      "    return self.__get_result()\n",
      "  File \"C:\\Users\\ekarni\\.pyenv\\pyenv-win\\versions\\3.10\\lib\\concurrent\\futures\\_base.py\", line 390, in __get_result\n",
      "    raise self._exception\n",
      "  File \"C:\\Users\\ekarni\\.pyenv\\pyenv-win\\versions\\3.10\\lib\\asyncio\\tasks.py\", line 232, in __step\n",
      "    result = coro.send(None)\n",
      "  File \"C:\\Users\\ekarni\\.pyenv\\pyenv-win\\versions\\3.10\\lib\\asyncio\\tasks.py\", line 460, in wait_for\n",
      "    raise exceptions.TimeoutError() from exc\n",
      "asyncio.exceptions.TimeoutError\n",
      "\n"
     ]
    },
    {
     "name": "stderr",
     "output_type": "stream",
     "text": [
      "Exception parsing pv from info: 'depth 1 seldepth 1 multipv 1 score cp -484 nodes 37 nps 37000 hashfull 8 tbhits 0 time 1 pv a8d8', position at root: r2R2k1/pp2rpp1/2p3bp/4n1b1/1Q2pBP1/4P1NP/PPP2P2/1K3B1R w - - 3 19\n",
      "Exception parsing pv from info: 'depth 2 seldepth 2 multipv 1 score cp -484 nodes 69 nps 69000 hashfull 8 tbhits 0 time 1 pv a8d8 f1e2', position at root: r2R2k1/pp2rpp1/2p3bp/4n1b1/1Q2pBP1/4P1NP/PPP2P2/1K3B1R w - - 3 19\n",
      "Exception parsing pv from info: 'depth 3 seldepth 4 multipv 1 score cp -484 nodes 108 nps 108000 hashfull 8 tbhits 0 time 1 pv a8d8 f1e2 g5f6 a2a3', position at root: r2R2k1/pp2rpp1/2p3bp/4n1b1/1Q2pBP1/4P1NP/PPP2P2/1K3B1R w - - 3 19\n",
      "Exception parsing pv from info: 'depth 4 seldepth 5 multipv 1 score cp -484 nodes 154 nps 154000 hashfull 8 tbhits 0 time 1 pv a8d8 f1e2 g5f6 a2a3 e5f3', position at root: r2R2k1/pp2rpp1/2p3bp/4n1b1/1Q2pBP1/4P1NP/PPP2P2/1K3B1R w - - 3 19\n",
      "Exception parsing pv from info: 'depth 5 seldepth 6 multipv 1 score cp -484 nodes 198 nps 198000 hashfull 8 tbhits 0 time 1 pv a8d8 f1e2 g5f6 a2a3 e5f3 e2f3', position at root: r2R2k1/pp2rpp1/2p3bp/4n1b1/1Q2pBP1/4P1NP/PPP2P2/1K3B1R w - - 3 19\n",
      "Exception parsing pv from info: 'depth 6 seldepth 7 multipv 1 score cp -484 nodes 247 nps 247000 hashfull 8 tbhits 0 time 1 pv a8d8 f1e2 g5f6 a2a3 e5f3 e2f3 e4f3', position at root: r2R2k1/pp2rpp1/2p3bp/4n1b1/1Q2pBP1/4P1NP/PPP2P2/1K3B1R w - - 3 19\n",
      "Exception parsing pv from info: 'depth 7 seldepth 8 multipv 1 score cp -484 nodes 314 nps 314000 hashfull 8 tbhits 0 time 1 pv a8d8 f1e2 g5f6 a2a3 e5f3 e2f3 e4f3', position at root: r2R2k1/pp2rpp1/2p3bp/4n1b1/1Q2pBP1/4P1NP/PPP2P2/1K3B1R w - - 3 19\n",
      "Exception parsing pv from info: 'depth 8 seldepth 9 multipv 1 score cp -500 nodes 457 nps 457000 hashfull 8 tbhits 0 time 1 pv a8d8 f1e2 g5h4 b4b7 e5f3 b7a7 h4g3 f2g3', position at root: r2R2k1/pp2rpp1/2p3bp/4n1b1/1Q2pBP1/4P1NP/PPP2P2/1K3B1R w - - 3 19\n",
      "Exception parsing pv from info: 'depth 9 seldepth 9 multipv 1 score cp -469 nodes 823 nps 823000 hashfull 8 tbhits 0 time 1 pv a8d8 f1e2 g5h4 b4b7 e5f3 b7b4', position at root: r2R2k1/pp2rpp1/2p3bp/4n1b1/1Q2pBP1/4P1NP/PPP2P2/1K3B1R w - - 3 19\n",
      "Exception parsing pv from info: 'depth 10 seldepth 10 multipv 1 score cp -463 nodes 1870 nps 935000 hashfull 9 tbhits 0 time 2 pv a8d8 f1e2 g5f6 a2a3 e5f3 b4b7 d8d2 b7a7', position at root: r2R2k1/pp2rpp1/2p3bp/4n1b1/1Q2pBP1/4P1NP/PPP2P2/1K3B1R w - - 3 19\n",
      "UciAnalysisCommand failed after returning preliminary result (<Future finished result=<chess.engine...002A04D0ED510>>)\n",
      "protocol: <UciProtocol (pid=58224)>\n",
      "transport: <_WindowsSubprocessTransport pid=58224 running stdin=<_ProactorWritePipeTransport fd=1628 read=<_OverlappedFuture pending overlapped=<pending, 0x2a04c96e9e0> cb=[_ProactorWritePipeTransport._pipe_closed()]>> stdout=<_ProactorReadPipeTransport fd=1680 read=<_OverlappedFuture pending overlapped=<pending, 0x2a04cbade10> cb=[_ProactorReadPipeTransport._loop_reading()]>> stderr=<_ProactorReadPipeTransport fd=1828 read=<_OverlappedFuture pending overlapped=<pending, 0x2a04c96e200> cb=[_ProactorReadPipeTransport._loop_reading()]>>>\n",
      "Traceback (most recent call last):\n",
      "  File \"C:\\Users\\ekarni\\.pyenv\\pyenv-win\\versions\\3.10\\lib\\site-packages\\chess\\engine.py\", line 1965, in _parse_uci_bestmove\n",
      "    move = board.push_uci(tokens[0].lower())\n",
      "  File \"C:\\Users\\ekarni\\.pyenv\\pyenv-win\\versions\\3.10\\lib\\site-packages\\chess\\__init__.py\", line 3164, in push_uci\n",
      "    move = self.parse_uci(uci)\n",
      "  File \"C:\\Users\\ekarni\\.pyenv\\pyenv-win\\versions\\3.10\\lib\\site-packages\\chess\\__init__.py\", line 3147, in parse_uci\n",
      "    raise IllegalMoveError(f\"illegal uci: {uci!r} in {self.fen()}\")\n",
      "chess.IllegalMoveError: illegal uci: 'a8d8' in r2R2k1/pp2rpp1/2p3bp/4n1b1/1Q2pBP1/4P1NP/PPP2P2/1K3B1R w - - 3 19\n",
      "\n",
      "During handling of the above exception, another exception occurred:\n",
      "\n",
      "Traceback (most recent call last):\n",
      "  File \"C:\\Users\\ekarni\\.pyenv\\pyenv-win\\versions\\3.10\\lib\\site-packages\\chess\\engine.py\", line 1386, in _line_received\n",
      "    self.line_received(engine, line)\n",
      "  File \"C:\\Users\\ekarni\\.pyenv\\pyenv-win\\versions\\3.10\\lib\\site-packages\\chess\\engine.py\", line 1818, in line_received\n",
      "    self._bestmove(engine, line.split(\" \", 1)[1])\n",
      "  File \"C:\\Users\\ekarni\\.pyenv\\pyenv-win\\versions\\3.10\\lib\\site-packages\\chess\\engine.py\", line 1841, in _bestmove\n",
      "    best = _parse_uci_bestmove(engine.board, arg)\n",
      "  File \"C:\\Users\\ekarni\\.pyenv\\pyenv-win\\versions\\3.10\\lib\\site-packages\\chess\\engine.py\", line 1967, in _parse_uci_bestmove\n",
      "    raise EngineError(err)\n",
      "chess.engine.EngineError: illegal uci: 'a8d8' in r2R2k1/pp2rpp1/2p3bp/4n1b1/1Q2pBP1/4P1NP/PPP2P2/1K3B1R w - - 3 19\n"
     ]
    },
    {
     "name": "stdout",
     "output_type": "stream",
     "text": [
      "Traceback (most recent call last):\n",
      "  File \"C:\\Users\\ekarni\\.pyenv\\pyenv-win\\versions\\3.10\\lib\\asyncio\\tasks.py\", line 234, in __step\n",
      "    result = coro.throw(exc)\n",
      "  File \"C:\\Users\\ekarni\\.pyenv\\pyenv-win\\versions\\3.10\\lib\\site-packages\\chess\\engine.py\", line 1242, in analyse\n",
      "    await analysis.wait()\n",
      "  File \"C:\\Users\\ekarni\\.pyenv\\pyenv-win\\versions\\3.10\\lib\\site-packages\\chess\\engine.py\", line 2772, in wait\n",
      "    return await self._finished\n",
      "  File \"C:\\Users\\ekarni\\.pyenv\\pyenv-win\\versions\\3.10\\lib\\asyncio\\futures.py\", line 284, in __await__\n",
      "    yield self  # This tells Task to wait for completion.\n",
      "  File \"C:\\Users\\ekarni\\.pyenv\\pyenv-win\\versions\\3.10\\lib\\asyncio\\tasks.py\", line 304, in __wakeup\n",
      "    future.result()\n",
      "  File \"C:\\Users\\ekarni\\.pyenv\\pyenv-win\\versions\\3.10\\lib\\asyncio\\futures.py\", line 196, in result\n",
      "    raise exc\n",
      "asyncio.exceptions.CancelledError\n",
      "\n",
      "During handling of the above exception, another exception occurred:\n",
      "\n",
      "Traceback (most recent call last):\n",
      "  File \"C:\\Users\\ekarni\\.pyenv\\pyenv-win\\versions\\3.10\\lib\\asyncio\\tasks.py\", line 458, in wait_for\n",
      "    fut.result()\n",
      "  File \"C:\\Users\\ekarni\\.pyenv\\pyenv-win\\versions\\3.10\\lib\\asyncio\\futures.py\", line 196, in result\n",
      "    raise exc\n",
      "asyncio.exceptions.CancelledError\n",
      "\n",
      "The above exception was the direct cause of the following exception:\n",
      "\n",
      "Traceback (most recent call last):\n",
      "  File \"C:\\gitproj\\chess_analyzer\\calc.py\", line 132, in calc_moves_score_int\n",
      "    ev = self.get_score(cur, not white, curdep != maxdepth)\n",
      "  File \"C:\\Users\\ekarni\\.pyenv\\pyenv-win\\versions\\3.10\\lib\\site-packages\\memoization\\caching\\plain_cache.py\", line 49, in wrapper\n",
      "    result = user_function(*args, **kwargs)\n",
      "  File \"C:\\gitproj\\chess_analyzer\\calc.py\", line 82, in get_score\n",
      "    cc = engine.analyse(b, limit, game=self.gameidf)[\"score\"]\n",
      "  File \"C:\\Users\\ekarni\\.pyenv\\pyenv-win\\versions\\3.10\\lib\\site-packages\\chess\\engine.py\", line 2997, in analyse\n",
      "    return future.result()\n",
      "  File \"C:\\Users\\ekarni\\.pyenv\\pyenv-win\\versions\\3.10\\lib\\concurrent\\futures\\_base.py\", line 445, in result\n",
      "    return self.__get_result()\n",
      "  File \"C:\\Users\\ekarni\\.pyenv\\pyenv-win\\versions\\3.10\\lib\\concurrent\\futures\\_base.py\", line 390, in __get_result\n",
      "    raise self._exception\n",
      "  File \"C:\\Users\\ekarni\\.pyenv\\pyenv-win\\versions\\3.10\\lib\\asyncio\\tasks.py\", line 232, in __step\n",
      "    result = coro.send(None)\n",
      "  File \"C:\\Users\\ekarni\\.pyenv\\pyenv-win\\versions\\3.10\\lib\\asyncio\\tasks.py\", line 460, in wait_for\n",
      "    raise exceptions.TimeoutError() from exc\n",
      "asyncio.exceptions.TimeoutError\n",
      "\n"
     ]
    },
    {
     "name": "stderr",
     "output_type": "stream",
     "text": [
      "Exception parsing pv from info: 'depth 1 seldepth 1 multipv 1 score cp -463 nodes 37 nps 37000 hashfull 10 tbhits 0 time 1 pv a8d8', position at root: r2R2k1/pp3pp1/2p1r1bp/4n1b1/1Q2pBP1/4P1NP/PPP2P2/1K3B1R w - - 3 19\n",
      "Exception parsing pv from info: 'depth 2 seldepth 2 multipv 1 score cp -463 nodes 70 nps 70000 hashfull 10 tbhits 0 time 1 pv a8d8 f1e2', position at root: r2R2k1/pp3pp1/2p1r1bp/4n1b1/1Q2pBP1/4P1NP/PPP2P2/1K3B1R w - - 3 19\n",
      "Exception parsing pv from info: 'depth 3 seldepth 4 multipv 1 score cp -463 nodes 105 nps 105000 hashfull 10 tbhits 0 time 1 pv a8d8 f1e2 g5f6 a2a3', position at root: r2R2k1/pp3pp1/2p1r1bp/4n1b1/1Q2pBP1/4P1NP/PPP2P2/1K3B1R w - - 3 19\n",
      "Exception parsing pv from info: 'depth 4 seldepth 5 multipv 1 score cp -463 nodes 142 nps 142000 hashfull 10 tbhits 0 time 1 pv a8d8 f1e2 g5f6 a2a3 e5f3', position at root: r2R2k1/pp3pp1/2p1r1bp/4n1b1/1Q2pBP1/4P1NP/PPP2P2/1K3B1R w - - 3 19\n",
      "Exception parsing pv from info: 'depth 5 seldepth 6 multipv 1 score cp -463 nodes 181 nps 181000 hashfull 10 tbhits 0 time 1 pv a8d8 f1e2 g5f6 a2a3 e5f3 b4b7', position at root: r2R2k1/pp3pp1/2p1r1bp/4n1b1/1Q2pBP1/4P1NP/PPP2P2/1K3B1R w - - 3 19\n",
      "Exception parsing pv from info: 'depth 6 seldepth 7 multipv 1 score cp -438 nodes 247 nps 247000 hashfull 10 tbhits 0 time 1 pv a8d8 f1e2 g5h4 f4e5 e8e5', position at root: r2R2k1/pp3pp1/2p1r1bp/4n1b1/1Q2pBP1/4P1NP/PPP2P2/1K3B1R w - - 3 19\n",
      "Exception parsing pv from info: 'depth 7 seldepth 8 multipv 1 score cp -476 nodes 496 nps 496000 hashfull 10 tbhits 0 time 1 pv a8d8 f1e2 g5f6 a2a3 f6h4 f4e5 e8e5', position at root: r2R2k1/pp3pp1/2p1r1bp/4n1b1/1Q2pBP1/4P1NP/PPP2P2/1K3B1R w - - 3 19\n",
      "Exception parsing pv from info: 'depth 8 seldepth 9 multipv 1 score cp -438 nodes 657 nps 657000 hashfull 10 tbhits 0 time 1 pv a8d8 f1e2 g5h4 f4e5 e8e5', position at root: r2R2k1/pp3pp1/2p1r1bp/4n1b1/1Q2pBP1/4P1NP/PPP2P2/1K3B1R w - - 3 19\n",
      "Exception parsing pv from info: 'depth 9 seldepth 9 multipv 1 score cp -490 nodes 1065 nps 532500 hashfull 10 tbhits 0 time 2 pv a8d8 f1e2 g5f6 a2a3 e5d3 c2d3 e4d3', position at root: r2R2k1/pp3pp1/2p1r1bp/4n1b1/1Q2pBP1/4P1NP/PPP2P2/1K3B1R w - - 3 19\n",
      "Exception parsing pv from info: 'depth 10 seldepth 9 multipv 1 score cp -448 nodes 1975 nps 658333 hashfull 11 tbhits 0 time 3 pv a8d8 b1c1 g5h4 f4e5 e8e5', position at root: r2R2k1/pp3pp1/2p1r1bp/4n1b1/1Q2pBP1/4P1NP/PPP2P2/1K3B1R w - - 3 19\n",
      "UciAnalysisCommand failed after returning preliminary result (<Future finished result=<chess.engine...002A04D10FBE0>>)\n",
      "protocol: <UciProtocol (pid=58224)>\n",
      "transport: <_WindowsSubprocessTransport pid=58224 running stdin=<_ProactorWritePipeTransport fd=1628 read=<_OverlappedFuture pending overlapped=<pending, 0x2a04c96e9e0> cb=[_ProactorWritePipeTransport._pipe_closed()]>> stdout=<_ProactorReadPipeTransport fd=1680 read=<_OverlappedFuture pending overlapped=<pending, 0x2a04cbae290> cb=[_ProactorReadPipeTransport._loop_reading()]>> stderr=<_ProactorReadPipeTransport fd=1828 read=<_OverlappedFuture pending overlapped=<pending, 0x2a04c96e200> cb=[_ProactorReadPipeTransport._loop_reading()]>>>\n",
      "Traceback (most recent call last):\n",
      "  File \"C:\\Users\\ekarni\\.pyenv\\pyenv-win\\versions\\3.10\\lib\\site-packages\\chess\\engine.py\", line 1965, in _parse_uci_bestmove\n",
      "    move = board.push_uci(tokens[0].lower())\n",
      "  File \"C:\\Users\\ekarni\\.pyenv\\pyenv-win\\versions\\3.10\\lib\\site-packages\\chess\\__init__.py\", line 3164, in push_uci\n",
      "    move = self.parse_uci(uci)\n",
      "  File \"C:\\Users\\ekarni\\.pyenv\\pyenv-win\\versions\\3.10\\lib\\site-packages\\chess\\__init__.py\", line 3147, in parse_uci\n",
      "    raise IllegalMoveError(f\"illegal uci: {uci!r} in {self.fen()}\")\n",
      "chess.IllegalMoveError: illegal uci: 'a8d8' in r2R2k1/pp3pp1/2p1r1bp/4n1b1/1Q2pBP1/4P1NP/PPP2P2/1K3B1R w - - 3 19\n",
      "\n",
      "During handling of the above exception, another exception occurred:\n",
      "\n",
      "Traceback (most recent call last):\n",
      "  File \"C:\\Users\\ekarni\\.pyenv\\pyenv-win\\versions\\3.10\\lib\\site-packages\\chess\\engine.py\", line 1386, in _line_received\n",
      "    self.line_received(engine, line)\n",
      "  File \"C:\\Users\\ekarni\\.pyenv\\pyenv-win\\versions\\3.10\\lib\\site-packages\\chess\\engine.py\", line 1818, in line_received\n",
      "    self._bestmove(engine, line.split(\" \", 1)[1])\n",
      "  File \"C:\\Users\\ekarni\\.pyenv\\pyenv-win\\versions\\3.10\\lib\\site-packages\\chess\\engine.py\", line 1841, in _bestmove\n",
      "    best = _parse_uci_bestmove(engine.board, arg)\n",
      "  File \"C:\\Users\\ekarni\\.pyenv\\pyenv-win\\versions\\3.10\\lib\\site-packages\\chess\\engine.py\", line 1967, in _parse_uci_bestmove\n",
      "    raise EngineError(err)\n",
      "chess.engine.EngineError: illegal uci: 'a8d8' in r2R2k1/pp3pp1/2p1r1bp/4n1b1/1Q2pBP1/4P1NP/PPP2P2/1K3B1R w - - 3 19\n"
     ]
    },
    {
     "name": "stdout",
     "output_type": "stream",
     "text": [
      "Traceback (most recent call last):\n",
      "  File \"C:\\Users\\ekarni\\.pyenv\\pyenv-win\\versions\\3.10\\lib\\asyncio\\tasks.py\", line 234, in __step\n",
      "    result = coro.throw(exc)\n",
      "  File \"C:\\Users\\ekarni\\.pyenv\\pyenv-win\\versions\\3.10\\lib\\site-packages\\chess\\engine.py\", line 1242, in analyse\n",
      "    await analysis.wait()\n",
      "  File \"C:\\Users\\ekarni\\.pyenv\\pyenv-win\\versions\\3.10\\lib\\site-packages\\chess\\engine.py\", line 2772, in wait\n",
      "    return await self._finished\n",
      "  File \"C:\\Users\\ekarni\\.pyenv\\pyenv-win\\versions\\3.10\\lib\\asyncio\\futures.py\", line 284, in __await__\n",
      "    yield self  # This tells Task to wait for completion.\n",
      "  File \"C:\\Users\\ekarni\\.pyenv\\pyenv-win\\versions\\3.10\\lib\\asyncio\\tasks.py\", line 304, in __wakeup\n",
      "    future.result()\n",
      "  File \"C:\\Users\\ekarni\\.pyenv\\pyenv-win\\versions\\3.10\\lib\\asyncio\\futures.py\", line 196, in result\n",
      "    raise exc\n",
      "asyncio.exceptions.CancelledError\n",
      "\n",
      "During handling of the above exception, another exception occurred:\n",
      "\n",
      "Traceback (most recent call last):\n",
      "  File \"C:\\Users\\ekarni\\.pyenv\\pyenv-win\\versions\\3.10\\lib\\asyncio\\tasks.py\", line 458, in wait_for\n",
      "    fut.result()\n",
      "  File \"C:\\Users\\ekarni\\.pyenv\\pyenv-win\\versions\\3.10\\lib\\asyncio\\futures.py\", line 196, in result\n",
      "    raise exc\n",
      "asyncio.exceptions.CancelledError\n",
      "\n",
      "The above exception was the direct cause of the following exception:\n",
      "\n",
      "Traceback (most recent call last):\n",
      "  File \"C:\\gitproj\\chess_analyzer\\calc.py\", line 132, in calc_moves_score_int\n",
      "    ev = self.get_score(cur, not white, curdep != maxdepth)\n",
      "  File \"C:\\Users\\ekarni\\.pyenv\\pyenv-win\\versions\\3.10\\lib\\site-packages\\memoization\\caching\\plain_cache.py\", line 49, in wrapper\n",
      "    result = user_function(*args, **kwargs)\n",
      "  File \"C:\\gitproj\\chess_analyzer\\calc.py\", line 82, in get_score\n",
      "    cc = engine.analyse(b, limit, game=self.gameidf)[\"score\"]\n",
      "  File \"C:\\Users\\ekarni\\.pyenv\\pyenv-win\\versions\\3.10\\lib\\site-packages\\chess\\engine.py\", line 2997, in analyse\n",
      "    return future.result()\n",
      "  File \"C:\\Users\\ekarni\\.pyenv\\pyenv-win\\versions\\3.10\\lib\\concurrent\\futures\\_base.py\", line 445, in result\n",
      "    return self.__get_result()\n",
      "  File \"C:\\Users\\ekarni\\.pyenv\\pyenv-win\\versions\\3.10\\lib\\concurrent\\futures\\_base.py\", line 390, in __get_result\n",
      "    raise self._exception\n",
      "  File \"C:\\Users\\ekarni\\.pyenv\\pyenv-win\\versions\\3.10\\lib\\asyncio\\tasks.py\", line 232, in __step\n",
      "    result = coro.send(None)\n",
      "  File \"C:\\Users\\ekarni\\.pyenv\\pyenv-win\\versions\\3.10\\lib\\asyncio\\tasks.py\", line 460, in wait_for\n",
      "    raise exceptions.TimeoutError() from exc\n",
      "asyncio.exceptions.TimeoutError\n",
      "\n"
     ]
    },
    {
     "name": "stderr",
     "output_type": "stream",
     "text": [
      "Exception parsing pv from info: 'depth 1 seldepth 1 multipv 1 score cp -614 nodes 36 nps 36000 hashfull 7 tbhits 0 time 1 pv a8d8', position at root: r2R2k1/pp2rpp1/2p3bp/4n1b1/4pBP1/2Q1P1NP/PPP2PB1/1K5R w - - 3 19\n",
      "Exception parsing pv from info: 'depth 2 seldepth 2 multipv 1 score cp -614 nodes 66 nps 66000 hashfull 7 tbhits 0 time 1 pv a8d8', position at root: r2R2k1/pp2rpp1/2p3bp/4n1b1/4pBP1/2Q1P1NP/PPP2PB1/1K5R w - - 3 19\n",
      "Exception parsing pv from info: 'depth 3 seldepth 2 multipv 1 score cp -614 nodes 96 nps 96000 hashfull 7 tbhits 0 time 1 pv a8d8', position at root: r2R2k1/pp2rpp1/2p3bp/4n1b1/4pBP1/2Q1P1NP/PPP2PB1/1K5R w - - 3 19\n",
      "Exception parsing pv from info: 'depth 4 seldepth 2 multipv 1 score cp -565 nodes 126 nps 126000 hashfull 7 tbhits 0 time 1 pv a8d8 f4e5', position at root: r2R2k1/pp2rpp1/2p3bp/4n1b1/4pBP1/2Q1P1NP/PPP2PB1/1K5R w - - 3 19\n",
      "Exception parsing pv from info: 'depth 5 seldepth 3 multipv 1 score cp -601 nodes 162 nps 162000 hashfull 7 tbhits 0 time 1 pv a8d8 f4e5 g5f6 e5f6 g7f6 c3f6', position at root: r2R2k1/pp2rpp1/2p3bp/4n1b1/4pBP1/2Q1P1NP/PPP2PB1/1K5R w - - 3 19\n",
      "Exception parsing pv from info: 'depth 6 seldepth 6 multipv 1 score cp -601 nodes 201 nps 201000 hashfull 7 tbhits 0 time 1 pv a8d8 f4e5 g5f6 e5f6 g7f6 c3f6', position at root: r2R2k1/pp2rpp1/2p3bp/4n1b1/4pBP1/2Q1P1NP/PPP2PB1/1K5R w - - 3 19\n",
      "Exception parsing pv from info: 'depth 7 seldepth 7 multipv 1 score cp -601 nodes 256 nps 256000 hashfull 7 tbhits 0 time 1 pv a8d8 f4e5 g5f6 e5f6 g7f6 c3f6', position at root: r2R2k1/pp2rpp1/2p3bp/4n1b1/4pBP1/2Q1P1NP/PPP2PB1/1K5R w - - 3 19\n",
      "Exception parsing pv from info: 'depth 8 seldepth 8 multipv 1 score cp -603 nodes 368 nps 368000 hashfull 7 tbhits 0 time 1 pv a8d8 f4e5 e8e5 c3e5 g5f6', position at root: r2R2k1/pp2rpp1/2p3bp/4n1b1/4pBP1/2Q1P1NP/PPP2PB1/1K5R w - - 3 19\n",
      "Exception parsing pv from info: 'depth 9 seldepth 8 multipv 1 score cp -596 nodes 917 nps 458500 hashfull 7 tbhits 0 time 2 pv a8d8 f4e5 e8e5 c3e5 g5f6 e5c7 b7b5', position at root: r2R2k1/pp2rpp1/2p3bp/4n1b1/4pBP1/2Q1P1NP/PPP2PB1/1K5R w - - 3 19\n",
      "Exception parsing pv from info: 'depth 10 seldepth 9 multipv 1 score cp -628 nodes 1330 nps 665000 hashfull 8 tbhits 0 time 2 pv a8d8 f4e5 g5f6 e5f6 g7f6 c3f6 d8d2 f6f4', position at root: r2R2k1/pp2rpp1/2p3bp/4n1b1/4pBP1/2Q1P1NP/PPP2PB1/1K5R w - - 3 19\n",
      "UciAnalysisCommand failed after returning preliminary result (<Future finished result=<chess.engine...002A04D10F010>>)\n",
      "protocol: <UciProtocol (pid=58224)>\n",
      "transport: <_WindowsSubprocessTransport pid=58224 running stdin=<_ProactorWritePipeTransport fd=1628 read=<_OverlappedFuture pending overlapped=<pending, 0x2a04c96e9e0> cb=[_ProactorWritePipeTransport._pipe_closed()]>> stdout=<_ProactorReadPipeTransport fd=1680 read=<_OverlappedFuture pending overlapped=<pending, 0x2a04c96e7a0> cb=[_ProactorReadPipeTransport._loop_reading()]>> stderr=<_ProactorReadPipeTransport fd=1828 read=<_OverlappedFuture pending overlapped=<pending, 0x2a04c96e200> cb=[_ProactorReadPipeTransport._loop_reading()]>>>\n",
      "Traceback (most recent call last):\n",
      "  File \"C:\\Users\\ekarni\\.pyenv\\pyenv-win\\versions\\3.10\\lib\\site-packages\\chess\\engine.py\", line 1965, in _parse_uci_bestmove\n",
      "    move = board.push_uci(tokens[0].lower())\n",
      "  File \"C:\\Users\\ekarni\\.pyenv\\pyenv-win\\versions\\3.10\\lib\\site-packages\\chess\\__init__.py\", line 3164, in push_uci\n",
      "    move = self.parse_uci(uci)\n",
      "  File \"C:\\Users\\ekarni\\.pyenv\\pyenv-win\\versions\\3.10\\lib\\site-packages\\chess\\__init__.py\", line 3147, in parse_uci\n",
      "    raise IllegalMoveError(f\"illegal uci: {uci!r} in {self.fen()}\")\n",
      "chess.IllegalMoveError: illegal uci: 'a8d8' in r2R2k1/pp2rpp1/2p3bp/4n1b1/4pBP1/2Q1P1NP/PPP2PB1/1K5R w - - 3 19\n",
      "\n",
      "During handling of the above exception, another exception occurred:\n",
      "\n",
      "Traceback (most recent call last):\n",
      "  File \"C:\\Users\\ekarni\\.pyenv\\pyenv-win\\versions\\3.10\\lib\\site-packages\\chess\\engine.py\", line 1386, in _line_received\n",
      "    self.line_received(engine, line)\n",
      "  File \"C:\\Users\\ekarni\\.pyenv\\pyenv-win\\versions\\3.10\\lib\\site-packages\\chess\\engine.py\", line 1818, in line_received\n",
      "    self._bestmove(engine, line.split(\" \", 1)[1])\n",
      "  File \"C:\\Users\\ekarni\\.pyenv\\pyenv-win\\versions\\3.10\\lib\\site-packages\\chess\\engine.py\", line 1841, in _bestmove\n",
      "    best = _parse_uci_bestmove(engine.board, arg)\n",
      "  File \"C:\\Users\\ekarni\\.pyenv\\pyenv-win\\versions\\3.10\\lib\\site-packages\\chess\\engine.py\", line 1967, in _parse_uci_bestmove\n",
      "    raise EngineError(err)\n",
      "chess.engine.EngineError: illegal uci: 'a8d8' in r2R2k1/pp2rpp1/2p3bp/4n1b1/4pBP1/2Q1P1NP/PPP2PB1/1K5R w - - 3 19\n"
     ]
    },
    {
     "name": "stdout",
     "output_type": "stream",
     "text": [
      "Traceback (most recent call last):\n",
      "  File \"C:\\Users\\ekarni\\.pyenv\\pyenv-win\\versions\\3.10\\lib\\asyncio\\tasks.py\", line 234, in __step\n",
      "    result = coro.throw(exc)\n",
      "  File \"C:\\Users\\ekarni\\.pyenv\\pyenv-win\\versions\\3.10\\lib\\site-packages\\chess\\engine.py\", line 1242, in analyse\n",
      "    await analysis.wait()\n",
      "  File \"C:\\Users\\ekarni\\.pyenv\\pyenv-win\\versions\\3.10\\lib\\site-packages\\chess\\engine.py\", line 2772, in wait\n",
      "    return await self._finished\n",
      "  File \"C:\\Users\\ekarni\\.pyenv\\pyenv-win\\versions\\3.10\\lib\\asyncio\\futures.py\", line 284, in __await__\n",
      "    yield self  # This tells Task to wait for completion.\n",
      "  File \"C:\\Users\\ekarni\\.pyenv\\pyenv-win\\versions\\3.10\\lib\\asyncio\\tasks.py\", line 304, in __wakeup\n",
      "    future.result()\n",
      "  File \"C:\\Users\\ekarni\\.pyenv\\pyenv-win\\versions\\3.10\\lib\\asyncio\\futures.py\", line 196, in result\n",
      "    raise exc\n",
      "asyncio.exceptions.CancelledError\n",
      "\n",
      "During handling of the above exception, another exception occurred:\n",
      "\n",
      "Traceback (most recent call last):\n",
      "  File \"C:\\Users\\ekarni\\.pyenv\\pyenv-win\\versions\\3.10\\lib\\asyncio\\tasks.py\", line 458, in wait_for\n",
      "    fut.result()\n",
      "  File \"C:\\Users\\ekarni\\.pyenv\\pyenv-win\\versions\\3.10\\lib\\asyncio\\futures.py\", line 196, in result\n",
      "    raise exc\n",
      "asyncio.exceptions.CancelledError\n",
      "\n",
      "The above exception was the direct cause of the following exception:\n",
      "\n",
      "Traceback (most recent call last):\n",
      "  File \"C:\\gitproj\\chess_analyzer\\calc.py\", line 132, in calc_moves_score_int\n",
      "    ev = self.get_score(cur, not white, curdep != maxdepth)\n",
      "  File \"C:\\Users\\ekarni\\.pyenv\\pyenv-win\\versions\\3.10\\lib\\site-packages\\memoization\\caching\\plain_cache.py\", line 49, in wrapper\n",
      "    result = user_function(*args, **kwargs)\n",
      "  File \"C:\\gitproj\\chess_analyzer\\calc.py\", line 82, in get_score\n",
      "    cc = engine.analyse(b, limit, game=self.gameidf)[\"score\"]\n",
      "  File \"C:\\Users\\ekarni\\.pyenv\\pyenv-win\\versions\\3.10\\lib\\site-packages\\chess\\engine.py\", line 2997, in analyse\n",
      "    return future.result()\n",
      "  File \"C:\\Users\\ekarni\\.pyenv\\pyenv-win\\versions\\3.10\\lib\\concurrent\\futures\\_base.py\", line 445, in result\n",
      "    return self.__get_result()\n",
      "  File \"C:\\Users\\ekarni\\.pyenv\\pyenv-win\\versions\\3.10\\lib\\concurrent\\futures\\_base.py\", line 390, in __get_result\n",
      "    raise self._exception\n",
      "  File \"C:\\Users\\ekarni\\.pyenv\\pyenv-win\\versions\\3.10\\lib\\asyncio\\tasks.py\", line 232, in __step\n",
      "    result = coro.send(None)\n",
      "  File \"C:\\Users\\ekarni\\.pyenv\\pyenv-win\\versions\\3.10\\lib\\asyncio\\tasks.py\", line 460, in wait_for\n",
      "    raise exceptions.TimeoutError() from exc\n",
      "asyncio.exceptions.TimeoutError\n",
      "\n",
      "['Bg5', 'Qb4'] 5000 -435\n"
     ]
    },
    {
     "name": "stderr",
     "output_type": "stream",
     "text": [
      "Exception parsing pv from info: 'depth 1 seldepth 1 multipv 1 score cp -628 nodes 36 nps 36000 hashfull 8 tbhits 0 time 1 pv a8d8', position at root: r2R2k1/pp3pp1/2p1r1bp/4n1b1/4pBP1/2Q1P1NP/PPP2PB1/1K5R w - - 3 19\n",
      "Exception parsing pv from info: 'depth 2 seldepth 2 multipv 1 score cp -628 nodes 66 nps 66000 hashfull 8 tbhits 0 time 1 pv a8d8 f4e5', position at root: r2R2k1/pp3pp1/2p1r1bp/4n1b1/4pBP1/2Q1P1NP/PPP2PB1/1K5R w - - 3 19\n",
      "Exception parsing pv from info: 'depth 3 seldepth 3 multipv 1 score cp -628 nodes 98 nps 98000 hashfull 8 tbhits 0 time 1 pv a8d8 f4e5 g5f6', position at root: r2R2k1/pp3pp1/2p1r1bp/4n1b1/4pBP1/2Q1P1NP/PPP2PB1/1K5R w - - 3 19\n",
      "Exception parsing pv from info: 'depth 4 seldepth 4 multipv 1 score cp -628 nodes 131 nps 131000 hashfull 8 tbhits 0 time 1 pv a8d8 f4e5 g5f6 e5f6', position at root: r2R2k1/pp3pp1/2p1r1bp/4n1b1/4pBP1/2Q1P1NP/PPP2PB1/1K5R w - - 3 19\n",
      "Exception parsing pv from info: 'depth 5 seldepth 5 multipv 1 score cp -628 nodes 165 nps 165000 hashfull 8 tbhits 0 time 1 pv a8d8 f4e5 g5f6 e5f6 g7f6', position at root: r2R2k1/pp3pp1/2p1r1bp/4n1b1/4pBP1/2Q1P1NP/PPP2PB1/1K5R w - - 3 19\n",
      "Exception parsing pv from info: 'depth 6 seldepth 6 multipv 1 score cp -628 nodes 201 nps 201000 hashfull 8 tbhits 0 time 1 pv a8d8 f4e5 g5f6 e5f6 g7f6 c3f6', position at root: r2R2k1/pp3pp1/2p1r1bp/4n1b1/4pBP1/2Q1P1NP/PPP2PB1/1K5R w - - 3 19\n",
      "Exception parsing pv from info: 'depth 7 seldepth 8 multipv 1 score cp -628 nodes 249 nps 249000 hashfull 8 tbhits 0 time 1 pv a8d8 f4e5 g5f6 e5f6 g7f6 c3f6 d8d2 f6f4', position at root: r2R2k1/pp3pp1/2p1r1bp/4n1b1/4pBP1/2Q1P1NP/PPP2PB1/1K5R w - - 3 19\n",
      "Exception parsing pv from info: 'depth 8 seldepth 9 multipv 1 score cp -628 nodes 307 nps 307000 hashfull 8 tbhits 0 time 1 pv a8d8 f4e5 g5f6 e5f6 g7f6 c3f6 d8d2 f6f4', position at root: r2R2k1/pp3pp1/2p1r1bp/4n1b1/4pBP1/2Q1P1NP/PPP2PB1/1K5R w - - 3 19\n",
      "Exception parsing pv from info: 'depth 9 seldepth 10 multipv 1 score cp -624 nodes 574 nps 574000 hashfull 8 tbhits 0 time 1 pv a8d8 f4e5 e8e6 e5g7 e6d6', position at root: r2R2k1/pp3pp1/2p1r1bp/4n1b1/4pBP1/2Q1P1NP/PPP2PB1/1K5R w - - 3 19\n",
      "Exception parsing pv from info: 'depth 10 seldepth 9 multipv 1 score cp -587 nodes 1712 nps 856000 hashfull 9 tbhits 0 time 2 pv a8d8 f4e5 f7f6 e5c7 g6f7 c7d8', position at root: r2R2k1/pp3pp1/2p1r1bp/4n1b1/4pBP1/2Q1P1NP/PPP2PB1/1K5R w - - 3 19\n",
      "UciAnalysisCommand failed after returning preliminary result (<Future finished result=<chess.engine...002A04D0FD630>>)\n",
      "protocol: <UciProtocol (pid=58224)>\n",
      "transport: <_WindowsSubprocessTransport pid=58224 running stdin=<_ProactorWritePipeTransport fd=1628 read=<_OverlappedFuture pending overlapped=<pending, 0x2a04c96e9e0> cb=[_ProactorWritePipeTransport._pipe_closed()]>> stdout=<_ProactorReadPipeTransport fd=1680 read=<_OverlappedFuture pending overlapped=<pending, 0x2a04c96e7a0> cb=[_ProactorReadPipeTransport._loop_reading()]>> stderr=<_ProactorReadPipeTransport fd=1828 read=<_OverlappedFuture pending overlapped=<pending, 0x2a04c96e200> cb=[_ProactorReadPipeTransport._loop_reading()]>>>\n",
      "Traceback (most recent call last):\n",
      "  File \"C:\\Users\\ekarni\\.pyenv\\pyenv-win\\versions\\3.10\\lib\\site-packages\\chess\\engine.py\", line 1965, in _parse_uci_bestmove\n",
      "    move = board.push_uci(tokens[0].lower())\n",
      "  File \"C:\\Users\\ekarni\\.pyenv\\pyenv-win\\versions\\3.10\\lib\\site-packages\\chess\\__init__.py\", line 3164, in push_uci\n",
      "    move = self.parse_uci(uci)\n",
      "  File \"C:\\Users\\ekarni\\.pyenv\\pyenv-win\\versions\\3.10\\lib\\site-packages\\chess\\__init__.py\", line 3147, in parse_uci\n",
      "    raise IllegalMoveError(f\"illegal uci: {uci!r} in {self.fen()}\")\n",
      "chess.IllegalMoveError: illegal uci: 'a8d8' in r2R2k1/pp3pp1/2p1r1bp/4n1b1/4pBP1/2Q1P1NP/PPP2PB1/1K5R w - - 3 19\n",
      "\n",
      "During handling of the above exception, another exception occurred:\n",
      "\n",
      "Traceback (most recent call last):\n",
      "  File \"C:\\Users\\ekarni\\.pyenv\\pyenv-win\\versions\\3.10\\lib\\site-packages\\chess\\engine.py\", line 1386, in _line_received\n",
      "    self.line_received(engine, line)\n",
      "  File \"C:\\Users\\ekarni\\.pyenv\\pyenv-win\\versions\\3.10\\lib\\site-packages\\chess\\engine.py\", line 1818, in line_received\n",
      "    self._bestmove(engine, line.split(\" \", 1)[1])\n",
      "  File \"C:\\Users\\ekarni\\.pyenv\\pyenv-win\\versions\\3.10\\lib\\site-packages\\chess\\engine.py\", line 1841, in _bestmove\n",
      "    best = _parse_uci_bestmove(engine.board, arg)\n",
      "  File \"C:\\Users\\ekarni\\.pyenv\\pyenv-win\\versions\\3.10\\lib\\site-packages\\chess\\engine.py\", line 1967, in _parse_uci_bestmove\n",
      "    raise EngineError(err)\n",
      "chess.engine.EngineError: illegal uci: 'a8d8' in r2R2k1/pp3pp1/2p1r1bp/4n1b1/4pBP1/2Q1P1NP/PPP2PB1/1K5R w - - 3 19\n"
     ]
    },
    {
     "name": "stdout",
     "output_type": "stream",
     "text": [
      "Traceback (most recent call last):\n",
      "  File \"C:\\Users\\ekarni\\.pyenv\\pyenv-win\\versions\\3.10\\lib\\asyncio\\tasks.py\", line 234, in __step\n",
      "    result = coro.throw(exc)\n",
      "  File \"C:\\Users\\ekarni\\.pyenv\\pyenv-win\\versions\\3.10\\lib\\site-packages\\chess\\engine.py\", line 1242, in analyse\n",
      "    await analysis.wait()\n",
      "  File \"C:\\Users\\ekarni\\.pyenv\\pyenv-win\\versions\\3.10\\lib\\site-packages\\chess\\engine.py\", line 2772, in wait\n",
      "    return await self._finished\n",
      "  File \"C:\\Users\\ekarni\\.pyenv\\pyenv-win\\versions\\3.10\\lib\\asyncio\\futures.py\", line 284, in __await__\n",
      "    yield self  # This tells Task to wait for completion.\n",
      "  File \"C:\\Users\\ekarni\\.pyenv\\pyenv-win\\versions\\3.10\\lib\\asyncio\\tasks.py\", line 304, in __wakeup\n",
      "    future.result()\n",
      "  File \"C:\\Users\\ekarni\\.pyenv\\pyenv-win\\versions\\3.10\\lib\\asyncio\\futures.py\", line 196, in result\n",
      "    raise exc\n",
      "asyncio.exceptions.CancelledError\n",
      "\n",
      "During handling of the above exception, another exception occurred:\n",
      "\n",
      "Traceback (most recent call last):\n",
      "  File \"C:\\Users\\ekarni\\.pyenv\\pyenv-win\\versions\\3.10\\lib\\asyncio\\tasks.py\", line 458, in wait_for\n",
      "    fut.result()\n",
      "  File \"C:\\Users\\ekarni\\.pyenv\\pyenv-win\\versions\\3.10\\lib\\asyncio\\futures.py\", line 196, in result\n",
      "    raise exc\n",
      "asyncio.exceptions.CancelledError\n",
      "\n",
      "The above exception was the direct cause of the following exception:\n",
      "\n",
      "Traceback (most recent call last):\n",
      "  File \"C:\\gitproj\\chess_analyzer\\calc.py\", line 132, in calc_moves_score_int\n",
      "    ev = self.get_score(cur, not white, curdep != maxdepth)\n",
      "  File \"C:\\Users\\ekarni\\.pyenv\\pyenv-win\\versions\\3.10\\lib\\site-packages\\memoization\\caching\\plain_cache.py\", line 49, in wrapper\n",
      "    result = user_function(*args, **kwargs)\n",
      "  File \"C:\\gitproj\\chess_analyzer\\calc.py\", line 82, in get_score\n",
      "    cc = engine.analyse(b, limit, game=self.gameidf)[\"score\"]\n",
      "  File \"C:\\Users\\ekarni\\.pyenv\\pyenv-win\\versions\\3.10\\lib\\site-packages\\chess\\engine.py\", line 2997, in analyse\n",
      "    return future.result()\n",
      "  File \"C:\\Users\\ekarni\\.pyenv\\pyenv-win\\versions\\3.10\\lib\\concurrent\\futures\\_base.py\", line 445, in result\n",
      "    return self.__get_result()\n",
      "  File \"C:\\Users\\ekarni\\.pyenv\\pyenv-win\\versions\\3.10\\lib\\concurrent\\futures\\_base.py\", line 390, in __get_result\n",
      "    raise self._exception\n",
      "  File \"C:\\Users\\ekarni\\.pyenv\\pyenv-win\\versions\\3.10\\lib\\asyncio\\tasks.py\", line 232, in __step\n",
      "    result = coro.send(None)\n",
      "  File \"C:\\Users\\ekarni\\.pyenv\\pyenv-win\\versions\\3.10\\lib\\asyncio\\tasks.py\", line 460, in wait_for\n",
      "    raise exceptions.TimeoutError() from exc\n",
      "asyncio.exceptions.TimeoutError\n",
      "\n"
     ]
    },
    {
     "name": "stderr",
     "output_type": "stream",
     "text": [
      "Exception parsing pv from info: 'depth 1 seldepth 1 multipv 1 score cp 105 nodes 41 nps 20500 hashfull 10 tbhits 0 time 2 pv e4d3', position at root: r2R2k1/pp2rpp1/5bbp/2p1n3/4pBP1/3QP1NP/PPP2P2/1K3B1R w - - 2 19\n",
      "Exception parsing pv from info: 'depth 2 seldepth 2 multipv 1 score cp 105 nodes 76 nps 38000 hashfull 10 tbhits 0 time 2 pv e4d3 d8a8', position at root: r2R2k1/pp2rpp1/5bbp/2p1n3/4pBP1/3QP1NP/PPP2P2/1K3B1R w - - 2 19\n",
      "Exception parsing pv from info: 'depth 3 seldepth 3 multipv 1 score cp 105 nodes 111 nps 55500 hashfull 10 tbhits 0 time 2 pv e4d3 d8a8 d3c2 b1c1', position at root: r2R2k1/pp2rpp1/5bbp/2p1n3/4pBP1/3QP1NP/PPP2P2/1K3B1R w - - 2 19\n",
      "Exception parsing pv from info: 'depth 4 seldepth 4 multipv 1 score cp 105 nodes 151 nps 75500 hashfull 10 tbhits 0 time 2 pv e4d3 d8a8 d3c2 b1c1', position at root: r2R2k1/pp2rpp1/5bbp/2p1n3/4pBP1/3QP1NP/PPP2P2/1K3B1R w - - 2 19\n",
      "Exception parsing pv from info: 'depth 5 seldepth 5 multipv 1 score cp 105 nodes 191 nps 95500 hashfull 10 tbhits 0 time 2 pv e4d3 d8a8 d3c2 b1c1 e8a8', position at root: r2R2k1/pp2rpp1/5bbp/2p1n3/4pBP1/3QP1NP/PPP2P2/1K3B1R w - - 2 19\n",
      "Exception parsing pv from info: 'depth 6 seldepth 6 multipv 1 score cp 73 nodes 296 nps 148000 hashfull 10 tbhits 0 time 2 pv e4d3 d8e8 a8e8 e3e4 d3c2 b1c2', position at root: r2R2k1/pp2rpp1/5bbp/2p1n3/4pBP1/3QP1NP/PPP2P2/1K3B1R w - - 2 19\n",
      "Exception parsing pv from info: 'depth 7 seldepth 7 multipv 1 score cp 74 nodes 536 nps 268000 hashfull 10 tbhits 0 time 2 pv e4d3 d8a8 d3c2 b1c1 e8a8 g3f5', position at root: r2R2k1/pp2rpp1/5bbp/2p1n3/4pBP1/3QP1NP/PPP2P2/1K3B1R w - - 2 19\n",
      "Exception parsing pv from info: 'depth 8 seldepth 7 multipv 1 score cp 70 nodes 625 nps 312500 hashfull 10 tbhits 0 time 2 pv e4d3 d8a8 d3c2 b1c1 e8a8 g3f5 e5f3 c1c2', position at root: r2R2k1/pp2rpp1/5bbp/2p1n3/4pBP1/3QP1NP/PPP2P2/1K3B1R w - - 2 19\n",
      "Exception parsing pv from info: 'depth 9 seldepth 10 multipv 1 score cp 54 nodes 1734 nps 578000 hashfull 10 tbhits 0 time 3 pv e4d3 d8a8 d3c2 b1c1 e8a8 f4e5 f6e5 g3f5', position at root: r2R2k1/pp2rpp1/5bbp/2p1n3/4pBP1/3QP1NP/PPP2P2/1K3B1R w - - 2 19\n",
      "Exception parsing pv from info: 'depth 10 seldepth 11 multipv 1 score cp 22 nodes 3428 nps 857000 hashfull 11 tbhits 0 time 4 pv e4d3 d8a8 d3c2 b1c1 e8a8 f4e5 f6e5 g3f5 g6f5 g4f5', position at root: r2R2k1/pp2rpp1/5bbp/2p1n3/4pBP1/3QP1NP/PPP2P2/1K3B1R w - - 2 19\n",
      "UciAnalysisCommand failed after returning preliminary result (<Future finished result=<chess.engine...002A04D14F130>>)\n",
      "protocol: <UciProtocol (pid=58224)>\n",
      "transport: <_WindowsSubprocessTransport pid=58224 running stdin=<_ProactorWritePipeTransport fd=1628 read=<_OverlappedFuture pending overlapped=<pending, 0x2a04c96e9e0> cb=[_ProactorWritePipeTransport._pipe_closed()]>> stdout=<_ProactorReadPipeTransport fd=1680 read=<_OverlappedFuture pending overlapped=<pending, 0x2a04cb51240> cb=[_ProactorReadPipeTransport._loop_reading()]>> stderr=<_ProactorReadPipeTransport fd=1828 read=<_OverlappedFuture pending overlapped=<pending, 0x2a04c96e200> cb=[_ProactorReadPipeTransport._loop_reading()]>>>\n",
      "Traceback (most recent call last):\n",
      "  File \"C:\\Users\\ekarni\\.pyenv\\pyenv-win\\versions\\3.10\\lib\\site-packages\\chess\\engine.py\", line 1965, in _parse_uci_bestmove\n",
      "    move = board.push_uci(tokens[0].lower())\n",
      "  File \"C:\\Users\\ekarni\\.pyenv\\pyenv-win\\versions\\3.10\\lib\\site-packages\\chess\\__init__.py\", line 3164, in push_uci\n",
      "    move = self.parse_uci(uci)\n",
      "  File \"C:\\Users\\ekarni\\.pyenv\\pyenv-win\\versions\\3.10\\lib\\site-packages\\chess\\__init__.py\", line 3147, in parse_uci\n",
      "    raise IllegalMoveError(f\"illegal uci: {uci!r} in {self.fen()}\")\n",
      "chess.IllegalMoveError: illegal uci: 'e4d3' in r2R2k1/pp2rpp1/5bbp/2p1n3/4pBP1/3QP1NP/PPP2P2/1K3B1R w - - 2 19\n",
      "\n",
      "During handling of the above exception, another exception occurred:\n",
      "\n",
      "Traceback (most recent call last):\n",
      "  File \"C:\\Users\\ekarni\\.pyenv\\pyenv-win\\versions\\3.10\\lib\\site-packages\\chess\\engine.py\", line 1386, in _line_received\n",
      "    self.line_received(engine, line)\n",
      "  File \"C:\\Users\\ekarni\\.pyenv\\pyenv-win\\versions\\3.10\\lib\\site-packages\\chess\\engine.py\", line 1818, in line_received\n",
      "    self._bestmove(engine, line.split(\" \", 1)[1])\n",
      "  File \"C:\\Users\\ekarni\\.pyenv\\pyenv-win\\versions\\3.10\\lib\\site-packages\\chess\\engine.py\", line 1841, in _bestmove\n",
      "    best = _parse_uci_bestmove(engine.board, arg)\n",
      "  File \"C:\\Users\\ekarni\\.pyenv\\pyenv-win\\versions\\3.10\\lib\\site-packages\\chess\\engine.py\", line 1967, in _parse_uci_bestmove\n",
      "    raise EngineError(err)\n",
      "chess.engine.EngineError: illegal uci: 'e4d3' in r2R2k1/pp2rpp1/5bbp/2p1n3/4pBP1/3QP1NP/PPP2P2/1K3B1R w - - 2 19\n"
     ]
    },
    {
     "name": "stdout",
     "output_type": "stream",
     "text": [
      "Traceback (most recent call last):\n",
      "  File \"C:\\Users\\ekarni\\.pyenv\\pyenv-win\\versions\\3.10\\lib\\asyncio\\tasks.py\", line 234, in __step\n",
      "    result = coro.throw(exc)\n",
      "  File \"C:\\Users\\ekarni\\.pyenv\\pyenv-win\\versions\\3.10\\lib\\site-packages\\chess\\engine.py\", line 1242, in analyse\n",
      "    await analysis.wait()\n",
      "  File \"C:\\Users\\ekarni\\.pyenv\\pyenv-win\\versions\\3.10\\lib\\site-packages\\chess\\engine.py\", line 2772, in wait\n",
      "    return await self._finished\n",
      "  File \"C:\\Users\\ekarni\\.pyenv\\pyenv-win\\versions\\3.10\\lib\\asyncio\\futures.py\", line 284, in __await__\n",
      "    yield self  # This tells Task to wait for completion.\n",
      "  File \"C:\\Users\\ekarni\\.pyenv\\pyenv-win\\versions\\3.10\\lib\\asyncio\\tasks.py\", line 304, in __wakeup\n",
      "    future.result()\n",
      "  File \"C:\\Users\\ekarni\\.pyenv\\pyenv-win\\versions\\3.10\\lib\\asyncio\\futures.py\", line 196, in result\n",
      "    raise exc\n",
      "asyncio.exceptions.CancelledError\n",
      "\n",
      "During handling of the above exception, another exception occurred:\n",
      "\n",
      "Traceback (most recent call last):\n",
      "  File \"C:\\Users\\ekarni\\.pyenv\\pyenv-win\\versions\\3.10\\lib\\asyncio\\tasks.py\", line 458, in wait_for\n",
      "    fut.result()\n",
      "  File \"C:\\Users\\ekarni\\.pyenv\\pyenv-win\\versions\\3.10\\lib\\asyncio\\futures.py\", line 196, in result\n",
      "    raise exc\n",
      "asyncio.exceptions.CancelledError\n",
      "\n",
      "The above exception was the direct cause of the following exception:\n",
      "\n",
      "Traceback (most recent call last):\n",
      "  File \"C:\\gitproj\\chess_analyzer\\calc.py\", line 132, in calc_moves_score_int\n",
      "    ev = self.get_score(cur, not white, curdep != maxdepth)\n",
      "  File \"C:\\Users\\ekarni\\.pyenv\\pyenv-win\\versions\\3.10\\lib\\site-packages\\memoization\\caching\\plain_cache.py\", line 49, in wrapper\n",
      "    result = user_function(*args, **kwargs)\n",
      "  File \"C:\\gitproj\\chess_analyzer\\calc.py\", line 82, in get_score\n",
      "    cc = engine.analyse(b, limit, game=self.gameidf)[\"score\"]\n",
      "  File \"C:\\Users\\ekarni\\.pyenv\\pyenv-win\\versions\\3.10\\lib\\site-packages\\chess\\engine.py\", line 2997, in analyse\n",
      "    return future.result()\n",
      "  File \"C:\\Users\\ekarni\\.pyenv\\pyenv-win\\versions\\3.10\\lib\\concurrent\\futures\\_base.py\", line 445, in result\n",
      "    return self.__get_result()\n",
      "  File \"C:\\Users\\ekarni\\.pyenv\\pyenv-win\\versions\\3.10\\lib\\concurrent\\futures\\_base.py\", line 390, in __get_result\n",
      "    raise self._exception\n",
      "  File \"C:\\Users\\ekarni\\.pyenv\\pyenv-win\\versions\\3.10\\lib\\asyncio\\tasks.py\", line 232, in __step\n",
      "    result = coro.send(None)\n",
      "  File \"C:\\Users\\ekarni\\.pyenv\\pyenv-win\\versions\\3.10\\lib\\asyncio\\tasks.py\", line 460, in wait_for\n",
      "    raise exceptions.TimeoutError() from exc\n",
      "asyncio.exceptions.TimeoutError\n",
      "\n",
      "['c5', 'Qd3'] -105 -363\n"
     ]
    },
    {
     "name": "stderr",
     "output_type": "stream",
     "text": [
      "Exception parsing pv from info: 'depth 1 seldepth 1 multipv 1 score cp 22 nodes 37 nps 37000 hashfull 6 tbhits 0 time 1 pv e4d3', position at root: r2R2k1/pp3pp1/4rbbp/2p1n3/4pBP1/3QP1NP/PPP2P2/1K3B1R w - - 2 19\n",
      "Exception parsing pv from info: 'depth 2 seldepth 2 multipv 1 score cp 22 nodes 72 nps 72000 hashfull 6 tbhits 0 time 1 pv e4d3 d8a8', position at root: r2R2k1/pp3pp1/4rbbp/2p1n3/4pBP1/3QP1NP/PPP2P2/1K3B1R w - - 2 19\n",
      "Exception parsing pv from info: 'depth 3 seldepth 3 multipv 1 score cp 22 nodes 110 nps 110000 hashfull 6 tbhits 0 time 1 pv e4d3 d8a8 d3c2 b1c1', position at root: r2R2k1/pp3pp1/4rbbp/2p1n3/4pBP1/3QP1NP/PPP2P2/1K3B1R w - - 2 19\n",
      "Exception parsing pv from info: 'depth 4 seldepth 4 multipv 1 score cp 22 nodes 151 nps 151000 hashfull 6 tbhits 0 time 1 pv e4d3 d8a8 d3c2 b1c1', position at root: r2R2k1/pp3pp1/4rbbp/2p1n3/4pBP1/3QP1NP/PPP2P2/1K3B1R w - - 2 19\n",
      "Exception parsing pv from info: 'depth 5 seldepth 5 multipv 1 score cp 22 nodes 195 nps 195000 hashfull 6 tbhits 0 time 1 pv e4d3 d8a8 d3c2 b1c1 e8a8', position at root: r2R2k1/pp3pp1/4rbbp/2p1n3/4pBP1/3QP1NP/PPP2P2/1K3B1R w - - 2 19\n",
      "Exception parsing pv from info: 'depth 6 seldepth 6 multipv 1 score cp 22 nodes 242 nps 242000 hashfull 6 tbhits 0 time 1 pv e4d3 d8a8 d3c2 b1c1 e8a8 f4e5 f6e5', position at root: r2R2k1/pp3pp1/4rbbp/2p1n3/4pBP1/3QP1NP/PPP2P2/1K3B1R w - - 2 19\n",
      "Exception parsing pv from info: 'depth 7 seldepth 8 multipv 1 score cp 22 nodes 301 nps 301000 hashfull 6 tbhits 0 time 1 pv e4d3 d8a8 d3c2 b1c1 e8a8 f4e5 f6e5 g3f5', position at root: r2R2k1/pp3pp1/4rbbp/2p1n3/4pBP1/3QP1NP/PPP2P2/1K3B1R w - - 2 19\n",
      "Exception parsing pv from info: 'depth 8 seldepth 8 multipv 1 score cp 22 nodes 380 nps 380000 hashfull 6 tbhits 0 time 1 pv e4d3 d8a8 d3c2 b1c1 e8a8 f4e5 f6e5 g3f5', position at root: r2R2k1/pp3pp1/4rbbp/2p1n3/4pBP1/3QP1NP/PPP2P2/1K3B1R w - - 2 19\n",
      "Exception parsing pv from info: 'depth 9 seldepth 10 multipv 1 score cp 22 nodes 463 nps 463000 hashfull 6 tbhits 0 time 1 pv e4d3 d8a8 d3c2 b1c1 e8a8 f4e5 f6e5 g3f5 g6f5 g4f5', position at root: r2R2k1/pp3pp1/4rbbp/2p1n3/4pBP1/3QP1NP/PPP2P2/1K3B1R w - - 2 19\n",
      "Exception parsing pv from info: 'depth 10 seldepth 11 multipv 1 score cp 22 nodes 571 nps 571000 hashfull 6 tbhits 0 time 1 pv e4d3 d8a8 d3c2 b1c1 e8a8 f4e5 f6e5 g3f5 g6f5 g4f5', position at root: r2R2k1/pp3pp1/4rbbp/2p1n3/4pBP1/3QP1NP/PPP2P2/1K3B1R w - - 2 19\n",
      "UciAnalysisCommand failed after returning preliminary result (<Future finished result=<chess.engine...002A04D103F40>>)\n",
      "protocol: <UciProtocol (pid=58224)>\n",
      "transport: <_WindowsSubprocessTransport pid=58224 running stdin=<_ProactorWritePipeTransport fd=1628 read=<_OverlappedFuture pending overlapped=<pending, 0x2a04c96e9e0> cb=[_ProactorWritePipeTransport._pipe_closed()]>> stdout=<_ProactorReadPipeTransport fd=1680 read=<_OverlappedFuture pending overlapped=<pending, 0x2a04cb51240> cb=[_ProactorReadPipeTransport._loop_reading()]>> stderr=<_ProactorReadPipeTransport fd=1828 read=<_OverlappedFuture pending overlapped=<pending, 0x2a04c96e200> cb=[_ProactorReadPipeTransport._loop_reading()]>>>\n",
      "Traceback (most recent call last):\n",
      "  File \"C:\\Users\\ekarni\\.pyenv\\pyenv-win\\versions\\3.10\\lib\\site-packages\\chess\\engine.py\", line 1965, in _parse_uci_bestmove\n",
      "    move = board.push_uci(tokens[0].lower())\n",
      "  File \"C:\\Users\\ekarni\\.pyenv\\pyenv-win\\versions\\3.10\\lib\\site-packages\\chess\\__init__.py\", line 3164, in push_uci\n",
      "    move = self.parse_uci(uci)\n",
      "  File \"C:\\Users\\ekarni\\.pyenv\\pyenv-win\\versions\\3.10\\lib\\site-packages\\chess\\__init__.py\", line 3147, in parse_uci\n",
      "    raise IllegalMoveError(f\"illegal uci: {uci!r} in {self.fen()}\")\n",
      "chess.IllegalMoveError: illegal uci: 'e4d3' in r2R2k1/pp3pp1/4rbbp/2p1n3/4pBP1/3QP1NP/PPP2P2/1K3B1R w - - 2 19\n",
      "\n",
      "During handling of the above exception, another exception occurred:\n",
      "\n",
      "Traceback (most recent call last):\n",
      "  File \"C:\\Users\\ekarni\\.pyenv\\pyenv-win\\versions\\3.10\\lib\\site-packages\\chess\\engine.py\", line 1386, in _line_received\n",
      "    self.line_received(engine, line)\n",
      "  File \"C:\\Users\\ekarni\\.pyenv\\pyenv-win\\versions\\3.10\\lib\\site-packages\\chess\\engine.py\", line 1818, in line_received\n",
      "    self._bestmove(engine, line.split(\" \", 1)[1])\n",
      "  File \"C:\\Users\\ekarni\\.pyenv\\pyenv-win\\versions\\3.10\\lib\\site-packages\\chess\\engine.py\", line 1841, in _bestmove\n",
      "    best = _parse_uci_bestmove(engine.board, arg)\n",
      "  File \"C:\\Users\\ekarni\\.pyenv\\pyenv-win\\versions\\3.10\\lib\\site-packages\\chess\\engine.py\", line 1967, in _parse_uci_bestmove\n",
      "    raise EngineError(err)\n",
      "chess.engine.EngineError: illegal uci: 'e4d3' in r2R2k1/pp3pp1/4rbbp/2p1n3/4pBP1/3QP1NP/PPP2P2/1K3B1R w - - 2 19\n"
     ]
    },
    {
     "name": "stdout",
     "output_type": "stream",
     "text": [
      "Traceback (most recent call last):\n",
      "  File \"C:\\Users\\ekarni\\.pyenv\\pyenv-win\\versions\\3.10\\lib\\asyncio\\tasks.py\", line 234, in __step\n",
      "    result = coro.throw(exc)\n",
      "  File \"C:\\Users\\ekarni\\.pyenv\\pyenv-win\\versions\\3.10\\lib\\site-packages\\chess\\engine.py\", line 1242, in analyse\n",
      "    await analysis.wait()\n",
      "  File \"C:\\Users\\ekarni\\.pyenv\\pyenv-win\\versions\\3.10\\lib\\site-packages\\chess\\engine.py\", line 2772, in wait\n",
      "    return await self._finished\n",
      "  File \"C:\\Users\\ekarni\\.pyenv\\pyenv-win\\versions\\3.10\\lib\\asyncio\\futures.py\", line 284, in __await__\n",
      "    yield self  # This tells Task to wait for completion.\n",
      "  File \"C:\\Users\\ekarni\\.pyenv\\pyenv-win\\versions\\3.10\\lib\\asyncio\\tasks.py\", line 304, in __wakeup\n",
      "    future.result()\n",
      "  File \"C:\\Users\\ekarni\\.pyenv\\pyenv-win\\versions\\3.10\\lib\\asyncio\\futures.py\", line 196, in result\n",
      "    raise exc\n",
      "asyncio.exceptions.CancelledError\n",
      "\n",
      "During handling of the above exception, another exception occurred:\n",
      "\n",
      "Traceback (most recent call last):\n",
      "  File \"C:\\Users\\ekarni\\.pyenv\\pyenv-win\\versions\\3.10\\lib\\asyncio\\tasks.py\", line 458, in wait_for\n",
      "    fut.result()\n",
      "  File \"C:\\Users\\ekarni\\.pyenv\\pyenv-win\\versions\\3.10\\lib\\asyncio\\futures.py\", line 196, in result\n",
      "    raise exc\n",
      "asyncio.exceptions.CancelledError\n",
      "\n",
      "The above exception was the direct cause of the following exception:\n",
      "\n",
      "Traceback (most recent call last):\n",
      "  File \"C:\\gitproj\\chess_analyzer\\calc.py\", line 132, in calc_moves_score_int\n",
      "    ev = self.get_score(cur, not white, curdep != maxdepth)\n",
      "  File \"C:\\Users\\ekarni\\.pyenv\\pyenv-win\\versions\\3.10\\lib\\site-packages\\memoization\\caching\\plain_cache.py\", line 49, in wrapper\n",
      "    result = user_function(*args, **kwargs)\n",
      "  File \"C:\\gitproj\\chess_analyzer\\calc.py\", line 82, in get_score\n",
      "    cc = engine.analyse(b, limit, game=self.gameidf)[\"score\"]\n",
      "  File \"C:\\Users\\ekarni\\.pyenv\\pyenv-win\\versions\\3.10\\lib\\site-packages\\chess\\engine.py\", line 2997, in analyse\n",
      "    return future.result()\n",
      "  File \"C:\\Users\\ekarni\\.pyenv\\pyenv-win\\versions\\3.10\\lib\\concurrent\\futures\\_base.py\", line 445, in result\n",
      "    return self.__get_result()\n",
      "  File \"C:\\Users\\ekarni\\.pyenv\\pyenv-win\\versions\\3.10\\lib\\concurrent\\futures\\_base.py\", line 390, in __get_result\n",
      "    raise self._exception\n",
      "  File \"C:\\Users\\ekarni\\.pyenv\\pyenv-win\\versions\\3.10\\lib\\asyncio\\tasks.py\", line 232, in __step\n",
      "    result = coro.send(None)\n",
      "  File \"C:\\Users\\ekarni\\.pyenv\\pyenv-win\\versions\\3.10\\lib\\asyncio\\tasks.py\", line 460, in wait_for\n",
      "    raise exceptions.TimeoutError() from exc\n",
      "asyncio.exceptions.TimeoutError\n",
      "\n"
     ]
    },
    {
     "name": "stderr",
     "output_type": "stream",
     "text": [
      "Exception parsing pv from info: 'depth 1 seldepth 1 multipv 1 score cp -492 nodes 34 nps 34000 hashfull 12 tbhits 0 time 1 pv a8d8', position at root: r2R2k1/pp2rpp1/5bbp/2p1Q3/4pBP1/4P1NP/PPP2P2/1K3B1R w - - 1 19\n",
      "Exception parsing pv from info: 'depth 2 seldepth 2 multipv 1 score cp -492 nodes 56 nps 56000 hashfull 12 tbhits 0 time 1 pv a8d8', position at root: r2R2k1/pp2rpp1/5bbp/2p1Q3/4pBP1/4P1NP/PPP2P2/1K3B1R w - - 1 19\n",
      "Exception parsing pv from info: 'depth 3 seldepth 2 multipv 1 score cp -492 nodes 78 nps 78000 hashfull 12 tbhits 0 time 1 pv a8d8', position at root: r2R2k1/pp2rpp1/5bbp/2p1Q3/4pBP1/4P1NP/PPP2P2/1K3B1R w - - 1 19\n",
      "Exception parsing pv from info: 'depth 4 seldepth 2 multipv 1 score cp -206 nodes 106 nps 106000 hashfull 12 tbhits 0 time 1 pv a8d8', position at root: r2R2k1/pp2rpp1/5bbp/2p1Q3/4pBP1/4P1NP/PPP2P2/1K3B1R w - - 1 19\n",
      "Exception parsing pv from info: 'depth 5 seldepth 3 multipv 1 score cp 30 nodes 140 nps 140000 hashfull 12 tbhits 0 time 1 pv a8d8', position at root: r2R2k1/pp2rpp1/5bbp/2p1Q3/4pBP1/4P1NP/PPP2P2/1K3B1R w - - 1 19\n",
      "Exception parsing pv from info: 'depth 6 seldepth 4 multipv 1 score cp -21 nodes 239 nps 239000 hashfull 12 tbhits 0 time 1 pv a8d8 f1b5 e8e5 f4e5 f6e5', position at root: r2R2k1/pp2rpp1/5bbp/2p1Q3/4pBP1/4P1NP/PPP2P2/1K3B1R w - - 1 19\n",
      "Exception parsing pv from info: 'depth 7 seldepth 6 multipv 1 score cp 0 nodes 457 nps 457000 hashfull 12 tbhits 0 time 1 pv a8d8 f1b5 e8e5 f4e5 f6e5', position at root: r2R2k1/pp2rpp1/5bbp/2p1Q3/4pBP1/4P1NP/PPP2P2/1K3B1R w - - 1 19\n",
      "Exception parsing pv from info: 'depth 8 seldepth 6 multipv 1 score cp -330 nodes 687 nps 687000 hashfull 12 tbhits 0 time 1 pv e8d8 f1e2 f6e5', position at root: r2R2k1/pp2rpp1/5bbp/2p1Q3/4pBP1/4P1NP/PPP2P2/1K3B1R w - - 1 19\n",
      "Exception parsing pv from info: 'depth 9 seldepth 10 multipv 1 score cp -402 nodes 983 nps 491500 hashfull 12 tbhits 0 time 2 pv e8d8 b1c1 f6e5 f4e5 f7f6 e5c7 d8d7 c7a5', position at root: r2R2k1/pp2rpp1/5bbp/2p1Q3/4pBP1/4P1NP/PPP2P2/1K3B1R w - - 1 19\n",
      "Exception parsing pv from info: 'depth 10 seldepth 9 multipv 1 score cp -387 nodes 1075 nps 537500 hashfull 12 tbhits 0 time 2 pv e8d8 b1c1 f6e5 f4e5 f7f6 e5c7 d8d7 c7a5 b7b6 a5e1', position at root: r2R2k1/pp2rpp1/5bbp/2p1Q3/4pBP1/4P1NP/PPP2P2/1K3B1R w - - 1 19\n",
      "UciAnalysisCommand failed after returning preliminary result (<Future finished result=<chess.engine...002A04D15C820>>)\n",
      "protocol: <UciProtocol (pid=58224)>\n",
      "transport: <_WindowsSubprocessTransport pid=58224 running stdin=<_ProactorWritePipeTransport fd=1628 read=<_OverlappedFuture pending overlapped=<pending, 0x2a04c96e9e0> cb=[_ProactorWritePipeTransport._pipe_closed()]>> stdout=<_ProactorReadPipeTransport fd=1680 read=<_OverlappedFuture pending overlapped=<pending, 0x2a04cb50b80> cb=[_ProactorReadPipeTransport._loop_reading()]>> stderr=<_ProactorReadPipeTransport fd=1828 read=<_OverlappedFuture pending overlapped=<pending, 0x2a04c96e200> cb=[_ProactorReadPipeTransport._loop_reading()]>>>\n",
      "Traceback (most recent call last):\n",
      "  File \"C:\\Users\\ekarni\\.pyenv\\pyenv-win\\versions\\3.10\\lib\\site-packages\\chess\\engine.py\", line 1965, in _parse_uci_bestmove\n",
      "    move = board.push_uci(tokens[0].lower())\n",
      "  File \"C:\\Users\\ekarni\\.pyenv\\pyenv-win\\versions\\3.10\\lib\\site-packages\\chess\\__init__.py\", line 3164, in push_uci\n",
      "    move = self.parse_uci(uci)\n",
      "  File \"C:\\Users\\ekarni\\.pyenv\\pyenv-win\\versions\\3.10\\lib\\site-packages\\chess\\__init__.py\", line 3147, in parse_uci\n",
      "    raise IllegalMoveError(f\"illegal uci: {uci!r} in {self.fen()}\")\n",
      "chess.IllegalMoveError: illegal uci: 'e8d8' in r2R2k1/pp2rpp1/5bbp/2p1Q3/4pBP1/4P1NP/PPP2P2/1K3B1R w - - 1 19\n",
      "\n",
      "During handling of the above exception, another exception occurred:\n",
      "\n",
      "Traceback (most recent call last):\n",
      "  File \"C:\\Users\\ekarni\\.pyenv\\pyenv-win\\versions\\3.10\\lib\\site-packages\\chess\\engine.py\", line 1386, in _line_received\n",
      "    self.line_received(engine, line)\n",
      "  File \"C:\\Users\\ekarni\\.pyenv\\pyenv-win\\versions\\3.10\\lib\\site-packages\\chess\\engine.py\", line 1818, in line_received\n",
      "    self._bestmove(engine, line.split(\" \", 1)[1])\n",
      "  File \"C:\\Users\\ekarni\\.pyenv\\pyenv-win\\versions\\3.10\\lib\\site-packages\\chess\\engine.py\", line 1841, in _bestmove\n",
      "    best = _parse_uci_bestmove(engine.board, arg)\n",
      "  File \"C:\\Users\\ekarni\\.pyenv\\pyenv-win\\versions\\3.10\\lib\\site-packages\\chess\\engine.py\", line 1967, in _parse_uci_bestmove\n",
      "    raise EngineError(err)\n",
      "chess.engine.EngineError: illegal uci: 'e8d8' in r2R2k1/pp2rpp1/5bbp/2p1Q3/4pBP1/4P1NP/PPP2P2/1K3B1R w - - 1 19\n"
     ]
    },
    {
     "name": "stdout",
     "output_type": "stream",
     "text": [
      "Traceback (most recent call last):\n",
      "  File \"C:\\Users\\ekarni\\.pyenv\\pyenv-win\\versions\\3.10\\lib\\asyncio\\tasks.py\", line 234, in __step\n",
      "    result = coro.throw(exc)\n",
      "  File \"C:\\Users\\ekarni\\.pyenv\\pyenv-win\\versions\\3.10\\lib\\site-packages\\chess\\engine.py\", line 1242, in analyse\n",
      "    await analysis.wait()\n",
      "  File \"C:\\Users\\ekarni\\.pyenv\\pyenv-win\\versions\\3.10\\lib\\site-packages\\chess\\engine.py\", line 2772, in wait\n",
      "    return await self._finished\n",
      "  File \"C:\\Users\\ekarni\\.pyenv\\pyenv-win\\versions\\3.10\\lib\\asyncio\\futures.py\", line 284, in __await__\n",
      "    yield self  # This tells Task to wait for completion.\n",
      "  File \"C:\\Users\\ekarni\\.pyenv\\pyenv-win\\versions\\3.10\\lib\\asyncio\\tasks.py\", line 304, in __wakeup\n",
      "    future.result()\n",
      "  File \"C:\\Users\\ekarni\\.pyenv\\pyenv-win\\versions\\3.10\\lib\\asyncio\\futures.py\", line 196, in result\n",
      "    raise exc\n",
      "asyncio.exceptions.CancelledError\n",
      "\n",
      "During handling of the above exception, another exception occurred:\n",
      "\n",
      "Traceback (most recent call last):\n",
      "  File \"C:\\Users\\ekarni\\.pyenv\\pyenv-win\\versions\\3.10\\lib\\asyncio\\tasks.py\", line 458, in wait_for\n",
      "    fut.result()\n",
      "  File \"C:\\Users\\ekarni\\.pyenv\\pyenv-win\\versions\\3.10\\lib\\asyncio\\futures.py\", line 196, in result\n",
      "    raise exc\n",
      "asyncio.exceptions.CancelledError\n",
      "\n",
      "The above exception was the direct cause of the following exception:\n",
      "\n",
      "Traceback (most recent call last):\n",
      "  File \"C:\\gitproj\\chess_analyzer\\calc.py\", line 132, in calc_moves_score_int\n",
      "    ev = self.get_score(cur, not white, curdep != maxdepth)\n",
      "  File \"C:\\Users\\ekarni\\.pyenv\\pyenv-win\\versions\\3.10\\lib\\site-packages\\memoization\\caching\\plain_cache.py\", line 49, in wrapper\n",
      "    result = user_function(*args, **kwargs)\n",
      "  File \"C:\\gitproj\\chess_analyzer\\calc.py\", line 82, in get_score\n",
      "    cc = engine.analyse(b, limit, game=self.gameidf)[\"score\"]\n",
      "  File \"C:\\Users\\ekarni\\.pyenv\\pyenv-win\\versions\\3.10\\lib\\site-packages\\chess\\engine.py\", line 2997, in analyse\n",
      "    return future.result()\n",
      "  File \"C:\\Users\\ekarni\\.pyenv\\pyenv-win\\versions\\3.10\\lib\\concurrent\\futures\\_base.py\", line 445, in result\n",
      "    return self.__get_result()\n",
      "  File \"C:\\Users\\ekarni\\.pyenv\\pyenv-win\\versions\\3.10\\lib\\concurrent\\futures\\_base.py\", line 390, in __get_result\n",
      "    raise self._exception\n",
      "  File \"C:\\Users\\ekarni\\.pyenv\\pyenv-win\\versions\\3.10\\lib\\asyncio\\tasks.py\", line 232, in __step\n",
      "    result = coro.send(None)\n",
      "  File \"C:\\Users\\ekarni\\.pyenv\\pyenv-win\\versions\\3.10\\lib\\asyncio\\tasks.py\", line 460, in wait_for\n",
      "    raise exceptions.TimeoutError() from exc\n",
      "asyncio.exceptions.TimeoutError\n",
      "\n",
      "['c5', 'Qxe5'] 5000 -405\n",
      "['c5', 'Qxe5'] 5000 -405\n",
      "['c5', 'Qxe5'] 5000 -405\n",
      "['c5', 'Qxe5'] 5000 -405\n",
      "['c5', 'Qxe5'] 5000 -405\n",
      "['c5', 'Qxe5'] 5000 -405\n",
      "['c5', 'Qxe5'] 5000 -405\n",
      "['c5', 'Qxe5'] 5000 -405\n",
      "['c5', 'Qxe5'] 5000 -405\n",
      "['c5', 'Qxe5'] 5000 -405\n",
      "['c5', 'Qxe5'] 5000 -405\n",
      "['c5', 'Qxe5'] 5000 -405\n",
      "['c5', 'Qxe5'] 5000 -405\n"
     ]
    },
    {
     "name": "stderr",
     "output_type": "stream",
     "text": [
      "Exception parsing pv from info: 'depth 1 seldepth 1 multipv 1 score cp -387 nodes 34 nps 34000 hashfull 11 tbhits 0 time 1 pv e8d8', position at root: r2R2k1/pp3pp1/4rbbp/2p1Q3/4pBP1/4P1NP/PPP2P2/1K3B1R w - - 1 19\n",
      "Exception parsing pv from info: 'depth 2 seldepth 2 multipv 1 score cp -387 nodes 58 nps 58000 hashfull 11 tbhits 0 time 1 pv e8d8 b1c1', position at root: r2R2k1/pp3pp1/4rbbp/2p1Q3/4pBP1/4P1NP/PPP2P2/1K3B1R w - - 1 19\n",
      "Exception parsing pv from info: 'depth 3 seldepth 3 multipv 1 score cp -387 nodes 83 nps 41500 hashfull 11 tbhits 0 time 2 pv e8d8 b1c1 f6e5', position at root: r2R2k1/pp3pp1/4rbbp/2p1Q3/4pBP1/4P1NP/PPP2P2/1K3B1R w - - 1 19\n",
      "Exception parsing pv from info: 'depth 4 seldepth 4 multipv 1 score cp -387 nodes 110 nps 55000 hashfull 11 tbhits 0 time 2 pv e8d8 b1c1 f6e5 f4e5', position at root: r2R2k1/pp3pp1/4rbbp/2p1Q3/4pBP1/4P1NP/PPP2P2/1K3B1R w - - 1 19\n",
      "Exception parsing pv from info: 'depth 5 seldepth 5 multipv 1 score cp -387 nodes 139 nps 69500 hashfull 11 tbhits 0 time 2 pv e8d8 b1c1 f6e5 f4e5 f7f6', position at root: r2R2k1/pp3pp1/4rbbp/2p1Q3/4pBP1/4P1NP/PPP2P2/1K3B1R w - - 1 19\n",
      "Exception parsing pv from info: 'depth 6 seldepth 6 multipv 1 score cp -387 nodes 170 nps 85000 hashfull 11 tbhits 0 time 2 pv e8d8 b1c1 f6e5 f4e5 f7f6 e5c7', position at root: r2R2k1/pp3pp1/4rbbp/2p1Q3/4pBP1/4P1NP/PPP2P2/1K3B1R w - - 1 19\n",
      "Exception parsing pv from info: 'depth 7 seldepth 8 multipv 1 score cp -387 nodes 212 nps 106000 hashfull 11 tbhits 0 time 2 pv e8d8 b1c1 f6e5 f4e5 f7f6 e5c7 d8d7 c7a5', position at root: r2R2k1/pp3pp1/4rbbp/2p1Q3/4pBP1/4P1NP/PPP2P2/1K3B1R w - - 1 19\n",
      "Exception parsing pv from info: 'depth 8 seldepth 10 multipv 1 score cp -387 nodes 271 nps 135500 hashfull 11 tbhits 0 time 2 pv e8d8 b1c1 f6e5 f4e5 f7f6 e5c7 d8d7 c7a5 b7b6 a5e1', position at root: r2R2k1/pp3pp1/4rbbp/2p1Q3/4pBP1/4P1NP/PPP2P2/1K3B1R w - - 1 19\n",
      "Exception parsing pv from info: 'depth 9 seldepth 11 multipv 1 score cp -469 nodes 515 nps 257500 hashfull 11 tbhits 0 time 2 pv e8d8 b1c1 f6e5 f4e5 f7f6 e5c3 g8h7 h3h4', position at root: r2R2k1/pp3pp1/4rbbp/2p1Q3/4pBP1/4P1NP/PPP2P2/1K3B1R w - - 1 19\n",
      "Exception parsing pv from info: 'depth 10 seldepth 10 multipv 1 score cp -446 nodes 838 nps 419000 hashfull 11 tbhits 0 time 2 pv e8d8 b1c1 f6e5 f4e5 f7f6 e5c3 g6f7', position at root: r2R2k1/pp3pp1/4rbbp/2p1Q3/4pBP1/4P1NP/PPP2P2/1K3B1R w - - 1 19\n",
      "UciAnalysisCommand failed after returning preliminary result (<Future finished result=<chess.engine...002A04D15E2F0>>)\n",
      "protocol: <UciProtocol (pid=58224)>\n",
      "transport: <_WindowsSubprocessTransport pid=58224 running stdin=<_ProactorWritePipeTransport fd=1628 read=<_OverlappedFuture pending overlapped=<pending, 0x2a04c96e9e0> cb=[_ProactorWritePipeTransport._pipe_closed()]>> stdout=<_ProactorReadPipeTransport fd=1680 read=<_OverlappedFuture pending overlapped=<pending, 0x2a02c038ca0> cb=[_ProactorReadPipeTransport._loop_reading()]>> stderr=<_ProactorReadPipeTransport fd=1828 read=<_OverlappedFuture pending overlapped=<pending, 0x2a04c96e200> cb=[_ProactorReadPipeTransport._loop_reading()]>>>\n",
      "Traceback (most recent call last):\n",
      "  File \"C:\\Users\\ekarni\\.pyenv\\pyenv-win\\versions\\3.10\\lib\\site-packages\\chess\\engine.py\", line 1965, in _parse_uci_bestmove\n",
      "    move = board.push_uci(tokens[0].lower())\n",
      "  File \"C:\\Users\\ekarni\\.pyenv\\pyenv-win\\versions\\3.10\\lib\\site-packages\\chess\\__init__.py\", line 3164, in push_uci\n",
      "    move = self.parse_uci(uci)\n",
      "  File \"C:\\Users\\ekarni\\.pyenv\\pyenv-win\\versions\\3.10\\lib\\site-packages\\chess\\__init__.py\", line 3147, in parse_uci\n",
      "    raise IllegalMoveError(f\"illegal uci: {uci!r} in {self.fen()}\")\n",
      "chess.IllegalMoveError: illegal uci: 'e8d8' in r2R2k1/pp3pp1/4rbbp/2p1Q3/4pBP1/4P1NP/PPP2P2/1K3B1R w - - 1 19\n",
      "\n",
      "During handling of the above exception, another exception occurred:\n",
      "\n",
      "Traceback (most recent call last):\n",
      "  File \"C:\\Users\\ekarni\\.pyenv\\pyenv-win\\versions\\3.10\\lib\\site-packages\\chess\\engine.py\", line 1386, in _line_received\n",
      "    self.line_received(engine, line)\n",
      "  File \"C:\\Users\\ekarni\\.pyenv\\pyenv-win\\versions\\3.10\\lib\\site-packages\\chess\\engine.py\", line 1818, in line_received\n",
      "    self._bestmove(engine, line.split(\" \", 1)[1])\n",
      "  File \"C:\\Users\\ekarni\\.pyenv\\pyenv-win\\versions\\3.10\\lib\\site-packages\\chess\\engine.py\", line 1841, in _bestmove\n",
      "    best = _parse_uci_bestmove(engine.board, arg)\n",
      "  File \"C:\\Users\\ekarni\\.pyenv\\pyenv-win\\versions\\3.10\\lib\\site-packages\\chess\\engine.py\", line 1967, in _parse_uci_bestmove\n",
      "    raise EngineError(err)\n",
      "chess.engine.EngineError: illegal uci: 'e8d8' in r2R2k1/pp3pp1/4rbbp/2p1Q3/4pBP1/4P1NP/PPP2P2/1K3B1R w - - 1 19\n"
     ]
    },
    {
     "name": "stdout",
     "output_type": "stream",
     "text": [
      "Traceback (most recent call last):\n",
      "  File \"C:\\Users\\ekarni\\.pyenv\\pyenv-win\\versions\\3.10\\lib\\asyncio\\tasks.py\", line 234, in __step\n",
      "    result = coro.throw(exc)\n",
      "  File \"C:\\Users\\ekarni\\.pyenv\\pyenv-win\\versions\\3.10\\lib\\site-packages\\chess\\engine.py\", line 1242, in analyse\n",
      "    await analysis.wait()\n",
      "  File \"C:\\Users\\ekarni\\.pyenv\\pyenv-win\\versions\\3.10\\lib\\site-packages\\chess\\engine.py\", line 2772, in wait\n",
      "    return await self._finished\n",
      "  File \"C:\\Users\\ekarni\\.pyenv\\pyenv-win\\versions\\3.10\\lib\\asyncio\\futures.py\", line 284, in __await__\n",
      "    yield self  # This tells Task to wait for completion.\n",
      "  File \"C:\\Users\\ekarni\\.pyenv\\pyenv-win\\versions\\3.10\\lib\\asyncio\\tasks.py\", line 304, in __wakeup\n",
      "    future.result()\n",
      "  File \"C:\\Users\\ekarni\\.pyenv\\pyenv-win\\versions\\3.10\\lib\\asyncio\\futures.py\", line 196, in result\n",
      "    raise exc\n",
      "asyncio.exceptions.CancelledError\n",
      "\n",
      "During handling of the above exception, another exception occurred:\n",
      "\n",
      "Traceback (most recent call last):\n",
      "  File \"C:\\Users\\ekarni\\.pyenv\\pyenv-win\\versions\\3.10\\lib\\asyncio\\tasks.py\", line 458, in wait_for\n",
      "    fut.result()\n",
      "  File \"C:\\Users\\ekarni\\.pyenv\\pyenv-win\\versions\\3.10\\lib\\asyncio\\futures.py\", line 196, in result\n",
      "    raise exc\n",
      "asyncio.exceptions.CancelledError\n",
      "\n",
      "The above exception was the direct cause of the following exception:\n",
      "\n",
      "Traceback (most recent call last):\n",
      "  File \"C:\\gitproj\\chess_analyzer\\calc.py\", line 132, in calc_moves_score_int\n",
      "    continue\n",
      "  File \"C:\\Users\\ekarni\\.pyenv\\pyenv-win\\versions\\3.10\\lib\\site-packages\\memoization\\caching\\plain_cache.py\", line 49, in wrapper\n",
      "    result = user_function(*args, **kwargs)\n",
      "  File \"C:\\gitproj\\chess_analyzer\\calc.py\", line 82, in get_score\n",
      "    with asyncio.Lock():\n",
      "  File \"C:\\Users\\ekarni\\.pyenv\\pyenv-win\\versions\\3.10\\lib\\site-packages\\chess\\engine.py\", line 2997, in analyse\n",
      "    return future.result()\n",
      "  File \"C:\\Users\\ekarni\\.pyenv\\pyenv-win\\versions\\3.10\\lib\\concurrent\\futures\\_base.py\", line 445, in result\n",
      "    return self.__get_result()\n",
      "  File \"C:\\Users\\ekarni\\.pyenv\\pyenv-win\\versions\\3.10\\lib\\concurrent\\futures\\_base.py\", line 390, in __get_result\n",
      "    raise self._exception\n",
      "  File \"C:\\Users\\ekarni\\.pyenv\\pyenv-win\\versions\\3.10\\lib\\asyncio\\tasks.py\", line 232, in __step\n",
      "    result = coro.send(None)\n",
      "  File \"C:\\Users\\ekarni\\.pyenv\\pyenv-win\\versions\\3.10\\lib\\asyncio\\tasks.py\", line 460, in wait_for\n",
      "    raise exceptions.TimeoutError() from exc\n",
      "asyncio.exceptions.TimeoutError\n",
      "\n"
     ]
    },
    {
     "name": "stderr",
     "output_type": "stream",
     "text": [
      "Exception parsing pv from info: 'depth 1 seldepth 1 multipv 1 score cp -446 nodes 35 nps 17500 hashfull 10 tbhits 0 time 2 pv e8d8', position at root: r2R2k1/pp3pp1/5bbp/2p1r3/4pBP1/4P1NP/PPP2P2/1K3B1R w - - 0 19\n",
      "Exception parsing pv from info: 'depth 2 seldepth 2 multipv 1 score cp -446 nodes 59 nps 29500 hashfull 10 tbhits 0 time 2 pv e8d8 b1c1', position at root: r2R2k1/pp3pp1/5bbp/2p1r3/4pBP1/4P1NP/PPP2P2/1K3B1R w - - 0 19\n",
      "Exception parsing pv from info: 'depth 3 seldepth 3 multipv 1 score cp -446 nodes 84 nps 42000 hashfull 10 tbhits 0 time 2 pv e8d8 b1c1 f6e5', position at root: r2R2k1/pp3pp1/5bbp/2p1r3/4pBP1/4P1NP/PPP2P2/1K3B1R w - - 0 19\n",
      "Exception parsing pv from info: 'depth 4 seldepth 4 multipv 1 score cp -446 nodes 110 nps 55000 hashfull 10 tbhits 0 time 2 pv e8d8 b1c1 f6e5 f4e5', position at root: r2R2k1/pp3pp1/5bbp/2p1r3/4pBP1/4P1NP/PPP2P2/1K3B1R w - - 0 19\n",
      "Exception parsing pv from info: 'depth 5 seldepth 5 multipv 1 score cp -446 nodes 137 nps 68500 hashfull 10 tbhits 0 time 2 pv e8d8 b1c1 f6e5 f4e5 f7f6', position at root: r2R2k1/pp3pp1/5bbp/2p1r3/4pBP1/4P1NP/PPP2P2/1K3B1R w - - 0 19\n",
      "Exception parsing pv from info: 'depth 6 seldepth 6 multipv 1 score cp -446 nodes 166 nps 83000 hashfull 10 tbhits 0 time 2 pv e8d8 b1c1 f6e5 f4e5 f7f6 e5c3', position at root: r2R2k1/pp3pp1/5bbp/2p1r3/4pBP1/4P1NP/PPP2P2/1K3B1R w - - 0 19\n",
      "Exception parsing pv from info: 'depth 7 seldepth 8 multipv 1 score cp -446 nodes 201 nps 100500 hashfull 10 tbhits 0 time 2 pv e8d8 b1c1 f6e5 f4e5 f7f6 e5c3 g6f7', position at root: r2R2k1/pp3pp1/5bbp/2p1r3/4pBP1/4P1NP/PPP2P2/1K3B1R w - - 0 19\n",
      "Exception parsing pv from info: 'depth 8 seldepth 8 multipv 1 score cp -435 nodes 247 nps 123500 hashfull 10 tbhits 0 time 2 pv e8d8 b1c1 f6e5 f4e5 f7f6 e5c3 g6f7 h3h4', position at root: r2R2k1/pp3pp1/5bbp/2p1r3/4pBP1/4P1NP/PPP2P2/1K3B1R w - - 0 19\n",
      "Exception parsing pv from info: 'depth 9 seldepth 10 multipv 1 score cp -457 nodes 356 nps 178000 hashfull 10 tbhits 0 time 2 pv e8d8 b1c1 f6e5 f4e5 f7f6 e5c3 g6f7 h3h4 f7a2', position at root: r2R2k1/pp3pp1/5bbp/2p1r3/4pBP1/4P1NP/PPP2P2/1K3B1R w - - 0 19\n",
      "Exception parsing pv from info: 'depth 10 seldepth 14 multipv 1 score cp -459 nodes 2012 nps 670666 hashfull 10 tbhits 0 time 3 pv e8d8 b1c1 f6e5 f4e5 d8d7 e5c3 f7f6 b2b3 g6f7 h3h4 a8d8 f1e2', position at root: r2R2k1/pp3pp1/5bbp/2p1r3/4pBP1/4P1NP/PPP2P2/1K3B1R w - - 0 19\n",
      "UciAnalysisCommand failed after returning preliminary result (<Future finished result=<chess.engine...002A04D100610>>)\n",
      "protocol: <UciProtocol (pid=58224)>\n",
      "transport: <_WindowsSubprocessTransport pid=58224 running stdin=<_ProactorWritePipeTransport fd=1628 read=<_OverlappedFuture pending overlapped=<pending, 0x2a04c96e9e0> cb=[_ProactorWritePipeTransport._pipe_closed()]>> stdout=<_ProactorReadPipeTransport fd=1680 read=<_OverlappedFuture pending overlapped=<pending, 0x2a04cb50b80> cb=[_ProactorReadPipeTransport._loop_reading()]>> stderr=<_ProactorReadPipeTransport fd=1828 read=<_OverlappedFuture pending overlapped=<pending, 0x2a04c96e200> cb=[_ProactorReadPipeTransport._loop_reading()]>>>\n",
      "Traceback (most recent call last):\n",
      "  File \"C:\\Users\\ekarni\\.pyenv\\pyenv-win\\versions\\3.10\\lib\\site-packages\\chess\\engine.py\", line 1965, in _parse_uci_bestmove\n",
      "    move = board.push_uci(tokens[0].lower())\n",
      "  File \"C:\\Users\\ekarni\\.pyenv\\pyenv-win\\versions\\3.10\\lib\\site-packages\\chess\\__init__.py\", line 3164, in push_uci\n",
      "    move = self.parse_uci(uci)\n",
      "  File \"C:\\Users\\ekarni\\.pyenv\\pyenv-win\\versions\\3.10\\lib\\site-packages\\chess\\__init__.py\", line 3147, in parse_uci\n",
      "    raise IllegalMoveError(f\"illegal uci: {uci!r} in {self.fen()}\")\n",
      "chess.IllegalMoveError: illegal uci: 'e8d8' in r2R2k1/pp3pp1/5bbp/2p1r3/4pBP1/4P1NP/PPP2P2/1K3B1R w - - 0 19\n",
      "\n",
      "During handling of the above exception, another exception occurred:\n",
      "\n",
      "Traceback (most recent call last):\n",
      "  File \"C:\\Users\\ekarni\\.pyenv\\pyenv-win\\versions\\3.10\\lib\\site-packages\\chess\\engine.py\", line 1386, in _line_received\n",
      "    self.line_received(engine, line)\n",
      "  File \"C:\\Users\\ekarni\\.pyenv\\pyenv-win\\versions\\3.10\\lib\\site-packages\\chess\\engine.py\", line 1818, in line_received\n",
      "    self._bestmove(engine, line.split(\" \", 1)[1])\n",
      "  File \"C:\\Users\\ekarni\\.pyenv\\pyenv-win\\versions\\3.10\\lib\\site-packages\\chess\\engine.py\", line 1841, in _bestmove\n",
      "    best = _parse_uci_bestmove(engine.board, arg)\n",
      "  File \"C:\\Users\\ekarni\\.pyenv\\pyenv-win\\versions\\3.10\\lib\\site-packages\\chess\\engine.py\", line 1967, in _parse_uci_bestmove\n",
      "    raise EngineError(err)\n",
      "chess.engine.EngineError: illegal uci: 'e8d8' in r2R2k1/pp3pp1/5bbp/2p1r3/4pBP1/4P1NP/PPP2P2/1K3B1R w - - 0 19\n"
     ]
    },
    {
     "name": "stdout",
     "output_type": "stream",
     "text": [
      "Traceback (most recent call last):\n",
      "  File \"C:\\Users\\ekarni\\.pyenv\\pyenv-win\\versions\\3.10\\lib\\asyncio\\tasks.py\", line 234, in __step\n",
      "    result = coro.throw(exc)\n",
      "  File \"C:\\Users\\ekarni\\.pyenv\\pyenv-win\\versions\\3.10\\lib\\site-packages\\chess\\engine.py\", line 1242, in analyse\n",
      "    await analysis.wait()\n",
      "  File \"C:\\Users\\ekarni\\.pyenv\\pyenv-win\\versions\\3.10\\lib\\site-packages\\chess\\engine.py\", line 2772, in wait\n",
      "    return await self._finished\n",
      "  File \"C:\\Users\\ekarni\\.pyenv\\pyenv-win\\versions\\3.10\\lib\\asyncio\\futures.py\", line 284, in __await__\n",
      "    yield self  # This tells Task to wait for completion.\n",
      "  File \"C:\\Users\\ekarni\\.pyenv\\pyenv-win\\versions\\3.10\\lib\\asyncio\\tasks.py\", line 304, in __wakeup\n",
      "    future.result()\n",
      "  File \"C:\\Users\\ekarni\\.pyenv\\pyenv-win\\versions\\3.10\\lib\\asyncio\\futures.py\", line 196, in result\n",
      "    raise exc\n",
      "asyncio.exceptions.CancelledError\n",
      "\n",
      "During handling of the above exception, another exception occurred:\n",
      "\n",
      "Traceback (most recent call last):\n",
      "  File \"C:\\Users\\ekarni\\.pyenv\\pyenv-win\\versions\\3.10\\lib\\asyncio\\tasks.py\", line 458, in wait_for\n",
      "    fut.result()\n",
      "  File \"C:\\Users\\ekarni\\.pyenv\\pyenv-win\\versions\\3.10\\lib\\asyncio\\futures.py\", line 196, in result\n",
      "    raise exc\n",
      "asyncio.exceptions.CancelledError\n",
      "\n",
      "The above exception was the direct cause of the following exception:\n",
      "\n",
      "Traceback (most recent call last):\n",
      "  File \"C:\\gitproj\\chess_analyzer\\calc.py\", line 132, in calc_moves_score_int\n",
      "    continue\n",
      "  File \"C:\\Users\\ekarni\\.pyenv\\pyenv-win\\versions\\3.10\\lib\\site-packages\\memoization\\caching\\plain_cache.py\", line 49, in wrapper\n",
      "    result = user_function(*args, **kwargs)\n",
      "  File \"C:\\gitproj\\chess_analyzer\\calc.py\", line 82, in get_score\n",
      "    with asyncio.Lock():\n",
      "  File \"C:\\Users\\ekarni\\.pyenv\\pyenv-win\\versions\\3.10\\lib\\site-packages\\chess\\engine.py\", line 2997, in analyse\n",
      "    return future.result()\n",
      "  File \"C:\\Users\\ekarni\\.pyenv\\pyenv-win\\versions\\3.10\\lib\\concurrent\\futures\\_base.py\", line 445, in result\n",
      "    return self.__get_result()\n",
      "  File \"C:\\Users\\ekarni\\.pyenv\\pyenv-win\\versions\\3.10\\lib\\concurrent\\futures\\_base.py\", line 390, in __get_result\n",
      "    raise self._exception\n",
      "  File \"C:\\Users\\ekarni\\.pyenv\\pyenv-win\\versions\\3.10\\lib\\asyncio\\tasks.py\", line 232, in __step\n",
      "    result = coro.send(None)\n",
      "  File \"C:\\Users\\ekarni\\.pyenv\\pyenv-win\\versions\\3.10\\lib\\asyncio\\tasks.py\", line 460, in wait_for\n",
      "    raise exceptions.TimeoutError() from exc\n",
      "asyncio.exceptions.TimeoutError\n",
      "\n"
     ]
    },
    {
     "name": "stderr",
     "output_type": "stream",
     "text": [
      "Exception parsing pv from info: 'depth 1 seldepth 1 multipv 1 score cp -409 nodes 36 nps 36000 hashfull 11 tbhits 0 time 1 pv a8d8', position at root: r2R2k1/pp2rpp1/5bbp/2p1n3/4pBP1/2Q1P1NP/PPP2P2/K4B1R w - - 2 19\n",
      "Exception parsing pv from info: 'depth 2 seldepth 2 multipv 1 score cp -409 nodes 65 nps 65000 hashfull 11 tbhits 0 time 1 pv a8d8', position at root: r2R2k1/pp2rpp1/5bbp/2p1n3/4pBP1/2Q1P1NP/PPP2P2/K4B1R w - - 2 19\n",
      "Exception parsing pv from info: 'depth 3 seldepth 2 multipv 1 score cp -409 nodes 94 nps 94000 hashfull 11 tbhits 0 time 1 pv a8d8', position at root: r2R2k1/pp2rpp1/5bbp/2p1n3/4pBP1/2Q1P1NP/PPP2P2/K4B1R w - - 2 19\n",
      "Exception parsing pv from info: 'depth 4 seldepth 2 multipv 1 score cp -302 nodes 126 nps 126000 hashfull 11 tbhits 0 time 1 pv a8d8', position at root: r2R2k1/pp2rpp1/5bbp/2p1n3/4pBP1/2Q1P1NP/PPP2P2/K4B1R w - - 2 19\n",
      "Exception parsing pv from info: 'depth 5 seldepth 3 multipv 1 score cp -362 nodes 200 nps 200000 hashfull 11 tbhits 0 time 1 pv a8d8 f1e2 e5f3', position at root: r2R2k1/pp2rpp1/5bbp/2p1n3/4pBP1/2Q1P1NP/PPP2P2/K4B1R w - - 2 19\n",
      "Exception parsing pv from info: 'depth 6 seldepth 4 multipv 1 score cp -392 nodes 246 nps 246000 hashfull 11 tbhits 0 time 1 pv a8d8 f1e2 e5f3 c3c4', position at root: r2R2k1/pp2rpp1/5bbp/2p1n3/4pBP1/2Q1P1NP/PPP2P2/K4B1R w - - 2 19\n",
      "Exception parsing pv from info: 'depth 7 seldepth 6 multipv 1 score cp -303 nodes 437 nps 437000 hashfull 11 tbhits 0 time 1 pv a8d8 f1e2 e5d3', position at root: r2R2k1/pp2rpp1/5bbp/2p1n3/4pBP1/2Q1P1NP/PPP2P2/K4B1R w - - 2 19\n",
      "Exception parsing pv from info: 'depth 8 seldepth 6 multipv 1 score cp -322 nodes 935 nps 467500 hashfull 11 tbhits 0 time 2 pv a8d8 f1b5 e5d3 c3b3 c5c4 b5c4 f6b2 b3b2 d3b2', position at root: r2R2k1/pp2rpp1/5bbp/2p1n3/4pBP1/2Q1P1NP/PPP2P2/K4B1R w - - 2 19\n",
      "Exception parsing pv from info: 'depth 9 seldepth 11 multipv 1 score cp -286 nodes 2079 nps 693000 hashfull 11 tbhits 0 time 3 pv a8d8 c3e1 e5f3 e1c1 d8d2 f1c4', position at root: r2R2k1/pp2rpp1/5bbp/2p1n3/4pBP1/2Q1P1NP/PPP2P2/K4B1R w - - 2 19\n",
      "Exception parsing pv from info: 'depth 10 seldepth 12 multipv 1 score cp -313 nodes 2926 nps 731500 hashfull 11 tbhits 0 time 4 pv a8d8 c3e1 e5f3 e1c1 d8d2 f1b5', position at root: r2R2k1/pp2rpp1/5bbp/2p1n3/4pBP1/2Q1P1NP/PPP2P2/K4B1R w - - 2 19\n",
      "UciAnalysisCommand failed after returning preliminary result (<Future finished result=<chess.engine...002A04D15F1C0>>)\n",
      "protocol: <UciProtocol (pid=58224)>\n",
      "transport: <_WindowsSubprocessTransport pid=58224 running stdin=<_ProactorWritePipeTransport fd=1628 read=<_OverlappedFuture pending overlapped=<pending, 0x2a04c96e9e0> cb=[_ProactorWritePipeTransport._pipe_closed()]>> stdout=<_ProactorReadPipeTransport fd=1680 read=<_OverlappedFuture pending overlapped=<pending, 0x2a04cb50700> cb=[_ProactorReadPipeTransport._loop_reading()]>> stderr=<_ProactorReadPipeTransport fd=1828 read=<_OverlappedFuture pending overlapped=<pending, 0x2a04c96e200> cb=[_ProactorReadPipeTransport._loop_reading()]>>>\n",
      "Traceback (most recent call last):\n",
      "  File \"C:\\Users\\ekarni\\.pyenv\\pyenv-win\\versions\\3.10\\lib\\site-packages\\chess\\engine.py\", line 1965, in _parse_uci_bestmove\n",
      "    move = board.push_uci(tokens[0].lower())\n",
      "  File \"C:\\Users\\ekarni\\.pyenv\\pyenv-win\\versions\\3.10\\lib\\site-packages\\chess\\__init__.py\", line 3164, in push_uci\n",
      "    move = self.parse_uci(uci)\n",
      "  File \"C:\\Users\\ekarni\\.pyenv\\pyenv-win\\versions\\3.10\\lib\\site-packages\\chess\\__init__.py\", line 3147, in parse_uci\n",
      "    raise IllegalMoveError(f\"illegal uci: {uci!r} in {self.fen()}\")\n",
      "chess.IllegalMoveError: illegal uci: 'a8d8' in r2R2k1/pp2rpp1/5bbp/2p1n3/4pBP1/2Q1P1NP/PPP2P2/K4B1R w - - 2 19\n",
      "\n",
      "During handling of the above exception, another exception occurred:\n",
      "\n",
      "Traceback (most recent call last):\n",
      "  File \"C:\\Users\\ekarni\\.pyenv\\pyenv-win\\versions\\3.10\\lib\\site-packages\\chess\\engine.py\", line 1386, in _line_received\n",
      "    self.line_received(engine, line)\n",
      "  File \"C:\\Users\\ekarni\\.pyenv\\pyenv-win\\versions\\3.10\\lib\\site-packages\\chess\\engine.py\", line 1818, in line_received\n",
      "    self._bestmove(engine, line.split(\" \", 1)[1])\n",
      "  File \"C:\\Users\\ekarni\\.pyenv\\pyenv-win\\versions\\3.10\\lib\\site-packages\\chess\\engine.py\", line 1841, in _bestmove\n",
      "    best = _parse_uci_bestmove(engine.board, arg)\n",
      "  File \"C:\\Users\\ekarni\\.pyenv\\pyenv-win\\versions\\3.10\\lib\\site-packages\\chess\\engine.py\", line 1967, in _parse_uci_bestmove\n",
      "    raise EngineError(err)\n",
      "chess.engine.EngineError: illegal uci: 'a8d8' in r2R2k1/pp2rpp1/5bbp/2p1n3/4pBP1/2Q1P1NP/PPP2P2/K4B1R w - - 2 19\n"
     ]
    },
    {
     "name": "stdout",
     "output_type": "stream",
     "text": [
      "Traceback (most recent call last):\n",
      "  File \"C:\\Users\\ekarni\\.pyenv\\pyenv-win\\versions\\3.10\\lib\\asyncio\\tasks.py\", line 234, in __step\n",
      "    result = coro.throw(exc)\n",
      "  File \"C:\\Users\\ekarni\\.pyenv\\pyenv-win\\versions\\3.10\\lib\\site-packages\\chess\\engine.py\", line 1242, in analyse\n",
      "    await analysis.wait()\n",
      "  File \"C:\\Users\\ekarni\\.pyenv\\pyenv-win\\versions\\3.10\\lib\\site-packages\\chess\\engine.py\", line 2772, in wait\n",
      "    return await self._finished\n",
      "  File \"C:\\Users\\ekarni\\.pyenv\\pyenv-win\\versions\\3.10\\lib\\asyncio\\futures.py\", line 284, in __await__\n",
      "    yield self  # This tells Task to wait for completion.\n",
      "  File \"C:\\Users\\ekarni\\.pyenv\\pyenv-win\\versions\\3.10\\lib\\asyncio\\tasks.py\", line 304, in __wakeup\n",
      "    future.result()\n",
      "  File \"C:\\Users\\ekarni\\.pyenv\\pyenv-win\\versions\\3.10\\lib\\asyncio\\futures.py\", line 196, in result\n",
      "    raise exc\n",
      "asyncio.exceptions.CancelledError\n",
      "\n",
      "During handling of the above exception, another exception occurred:\n",
      "\n",
      "Traceback (most recent call last):\n",
      "  File \"C:\\Users\\ekarni\\.pyenv\\pyenv-win\\versions\\3.10\\lib\\asyncio\\tasks.py\", line 458, in wait_for\n",
      "    fut.result()\n",
      "  File \"C:\\Users\\ekarni\\.pyenv\\pyenv-win\\versions\\3.10\\lib\\asyncio\\futures.py\", line 196, in result\n",
      "    raise exc\n",
      "asyncio.exceptions.CancelledError\n",
      "\n",
      "The above exception was the direct cause of the following exception:\n",
      "\n",
      "Traceback (most recent call last):\n",
      "  File \"C:\\gitproj\\chess_analyzer\\calc.py\", line 132, in calc_moves_score_int\n",
      "    continue\n",
      "  File \"C:\\Users\\ekarni\\.pyenv\\pyenv-win\\versions\\3.10\\lib\\site-packages\\memoization\\caching\\plain_cache.py\", line 49, in wrapper\n",
      "    result = user_function(*args, **kwargs)\n",
      "  File \"C:\\gitproj\\chess_analyzer\\calc.py\", line 82, in get_score\n",
      "    with asyncio.Lock():\n",
      "  File \"C:\\Users\\ekarni\\.pyenv\\pyenv-win\\versions\\3.10\\lib\\site-packages\\chess\\engine.py\", line 2997, in analyse\n",
      "    return future.result()\n",
      "  File \"C:\\Users\\ekarni\\.pyenv\\pyenv-win\\versions\\3.10\\lib\\concurrent\\futures\\_base.py\", line 445, in result\n",
      "    return self.__get_result()\n",
      "  File \"C:\\Users\\ekarni\\.pyenv\\pyenv-win\\versions\\3.10\\lib\\concurrent\\futures\\_base.py\", line 390, in __get_result\n",
      "    raise self._exception\n",
      "  File \"C:\\Users\\ekarni\\.pyenv\\pyenv-win\\versions\\3.10\\lib\\asyncio\\tasks.py\", line 232, in __step\n",
      "    result = coro.send(None)\n",
      "  File \"C:\\Users\\ekarni\\.pyenv\\pyenv-win\\versions\\3.10\\lib\\asyncio\\tasks.py\", line 460, in wait_for\n",
      "    raise exceptions.TimeoutError() from exc\n",
      "asyncio.exceptions.TimeoutError\n",
      "\n",
      "['c5', 'Qxe5'] 5000 -405\n",
      "['c5', 'Qxe5'] 5000 -405\n"
     ]
    },
    {
     "name": "stderr",
     "output_type": "stream",
     "text": [
      "Exception parsing pv from info: 'depth 1 seldepth 1 multipv 1 score cp -313 nodes 32 nps 32000 hashfull 10 tbhits 0 time 1 pv a8d8', position at root: r2R2k1/pp3pp1/4rbbp/2p1n3/4pBP1/2Q1P1NP/PPP2P2/K4B1R w - - 2 19\n",
      "Exception parsing pv from info: 'depth 2 seldepth 2 multipv 1 score cp -313 nodes 62 nps 62000 hashfull 10 tbhits 0 time 1 pv a8d8 c3e1', position at root: r2R2k1/pp3pp1/4rbbp/2p1n3/4pBP1/2Q1P1NP/PPP2P2/K4B1R w - - 2 19\n",
      "Exception parsing pv from info: 'depth 3 seldepth 3 multipv 1 score cp -313 nodes 94 nps 94000 hashfull 10 tbhits 0 time 1 pv a8d8 c3e1 e5f3', position at root: r2R2k1/pp3pp1/4rbbp/2p1n3/4pBP1/2Q1P1NP/PPP2P2/K4B1R w - - 2 19\n",
      "Exception parsing pv from info: 'depth 4 seldepth 4 multipv 1 score cp -313 nodes 128 nps 128000 hashfull 10 tbhits 0 time 1 pv a8d8 c3e1 e5f3 e1c1', position at root: r2R2k1/pp3pp1/4rbbp/2p1n3/4pBP1/2Q1P1NP/PPP2P2/K4B1R w - - 2 19\n",
      "Exception parsing pv from info: 'depth 5 seldepth 5 multipv 1 score cp -313 nodes 165 nps 165000 hashfull 10 tbhits 0 time 1 pv a8d8 c3e1 e5f3 e1c1 d8d2', position at root: r2R2k1/pp3pp1/4rbbp/2p1n3/4pBP1/2Q1P1NP/PPP2P2/K4B1R w - - 2 19\n",
      "Exception parsing pv from info: 'depth 6 seldepth 6 multipv 1 score cp -313 nodes 204 nps 204000 hashfull 10 tbhits 0 time 1 pv a8d8 c3e1 e5f3 e1c1 d8d2 f1b5', position at root: r2R2k1/pp3pp1/4rbbp/2p1n3/4pBP1/2Q1P1NP/PPP2P2/K4B1R w - - 2 19\n",
      "Exception parsing pv from info: 'depth 7 seldepth 7 multipv 1 score cp -313 nodes 251 nps 251000 hashfull 10 tbhits 0 time 1 pv a8d8 c3e1 e5f3 e1c1 d8d2 f1b5', position at root: r2R2k1/pp3pp1/4rbbp/2p1n3/4pBP1/2Q1P1NP/PPP2P2/K4B1R w - - 2 19\n",
      "Exception parsing pv from info: 'depth 8 seldepth 8 multipv 1 score cp -335 nodes 416 nps 208000 hashfull 10 tbhits 0 time 2 pv a8d8 c3e1 e5f3 e1b1 d8d2 c2c3', position at root: r2R2k1/pp3pp1/4rbbp/2p1n3/4pBP1/2Q1P1NP/PPP2P2/K4B1R w - - 2 19\n",
      "Exception parsing pv from info: 'depth 9 seldepth 9 multipv 1 score cp -313 nodes 615 nps 307500 hashfull 10 tbhits 0 time 2 pv a8d8 c3e1 e5f3 e1c1 d8d2 f1b5 e8d8 b5e2', position at root: r2R2k1/pp3pp1/4rbbp/2p1n3/4pBP1/2Q1P1NP/PPP2P2/K4B1R w - - 2 19\n",
      "Exception parsing pv from info: 'depth 10 seldepth 11 multipv 1 score cp -305 nodes 1177 nps 392333 hashfull 10 tbhits 0 time 3 pv a8d8 c3e1 e5f3 e1c1 d8d2 f1b5 e8d8 b5e2 f6h4', position at root: r2R2k1/pp3pp1/4rbbp/2p1n3/4pBP1/2Q1P1NP/PPP2P2/K4B1R w - - 2 19\n",
      "UciAnalysisCommand failed after returning preliminary result (<Future finished result=<chess.engine...002A04D15DC90>>)\n",
      "protocol: <UciProtocol (pid=58224)>\n",
      "transport: <_WindowsSubprocessTransport pid=58224 running stdin=<_ProactorWritePipeTransport fd=1628 read=<_OverlappedFuture pending overlapped=<pending, 0x2a04c96e9e0> cb=[_ProactorWritePipeTransport._pipe_closed()]>> stdout=<_ProactorReadPipeTransport fd=1680 read=<_OverlappedFuture pending overlapped=<pending, 0x2a04cb50700> cb=[_ProactorReadPipeTransport._loop_reading()]>> stderr=<_ProactorReadPipeTransport fd=1828 read=<_OverlappedFuture pending overlapped=<pending, 0x2a04c96e200> cb=[_ProactorReadPipeTransport._loop_reading()]>>>\n",
      "Traceback (most recent call last):\n",
      "  File \"C:\\Users\\ekarni\\.pyenv\\pyenv-win\\versions\\3.10\\lib\\site-packages\\chess\\engine.py\", line 1965, in _parse_uci_bestmove\n",
      "    move = board.push_uci(tokens[0].lower())\n",
      "  File \"C:\\Users\\ekarni\\.pyenv\\pyenv-win\\versions\\3.10\\lib\\site-packages\\chess\\__init__.py\", line 3164, in push_uci\n",
      "    move = self.parse_uci(uci)\n",
      "  File \"C:\\Users\\ekarni\\.pyenv\\pyenv-win\\versions\\3.10\\lib\\site-packages\\chess\\__init__.py\", line 3147, in parse_uci\n",
      "    raise IllegalMoveError(f\"illegal uci: {uci!r} in {self.fen()}\")\n",
      "chess.IllegalMoveError: illegal uci: 'a8d8' in r2R2k1/pp3pp1/4rbbp/2p1n3/4pBP1/2Q1P1NP/PPP2P2/K4B1R w - - 2 19\n",
      "\n",
      "During handling of the above exception, another exception occurred:\n",
      "\n",
      "Traceback (most recent call last):\n",
      "  File \"C:\\Users\\ekarni\\.pyenv\\pyenv-win\\versions\\3.10\\lib\\site-packages\\chess\\engine.py\", line 1386, in _line_received\n",
      "    self.line_received(engine, line)\n",
      "  File \"C:\\Users\\ekarni\\.pyenv\\pyenv-win\\versions\\3.10\\lib\\site-packages\\chess\\engine.py\", line 1818, in line_received\n",
      "    self._bestmove(engine, line.split(\" \", 1)[1])\n",
      "  File \"C:\\Users\\ekarni\\.pyenv\\pyenv-win\\versions\\3.10\\lib\\site-packages\\chess\\engine.py\", line 1841, in _bestmove\n",
      "    best = _parse_uci_bestmove(engine.board, arg)\n",
      "  File \"C:\\Users\\ekarni\\.pyenv\\pyenv-win\\versions\\3.10\\lib\\site-packages\\chess\\engine.py\", line 1967, in _parse_uci_bestmove\n",
      "    raise EngineError(err)\n",
      "chess.engine.EngineError: illegal uci: 'a8d8' in r2R2k1/pp3pp1/4rbbp/2p1n3/4pBP1/2Q1P1NP/PPP2P2/K4B1R w - - 2 19\n"
     ]
    },
    {
     "name": "stdout",
     "output_type": "stream",
     "text": [
      "Traceback (most recent call last):\n",
      "  File \"C:\\Users\\ekarni\\.pyenv\\pyenv-win\\versions\\3.10\\lib\\asyncio\\tasks.py\", line 234, in __step\n",
      "    result = coro.throw(exc)\n",
      "  File \"C:\\Users\\ekarni\\.pyenv\\pyenv-win\\versions\\3.10\\lib\\site-packages\\chess\\engine.py\", line 1242, in analyse\n",
      "    await analysis.wait()\n",
      "  File \"C:\\Users\\ekarni\\.pyenv\\pyenv-win\\versions\\3.10\\lib\\site-packages\\chess\\engine.py\", line 2772, in wait\n",
      "    return await self._finished\n",
      "  File \"C:\\Users\\ekarni\\.pyenv\\pyenv-win\\versions\\3.10\\lib\\asyncio\\futures.py\", line 284, in __await__\n",
      "    yield self  # This tells Task to wait for completion.\n",
      "  File \"C:\\Users\\ekarni\\.pyenv\\pyenv-win\\versions\\3.10\\lib\\asyncio\\tasks.py\", line 304, in __wakeup\n",
      "    future.result()\n",
      "  File \"C:\\Users\\ekarni\\.pyenv\\pyenv-win\\versions\\3.10\\lib\\asyncio\\futures.py\", line 196, in result\n",
      "    raise exc\n",
      "asyncio.exceptions.CancelledError\n",
      "\n",
      "During handling of the above exception, another exception occurred:\n",
      "\n",
      "Traceback (most recent call last):\n",
      "  File \"C:\\Users\\ekarni\\.pyenv\\pyenv-win\\versions\\3.10\\lib\\asyncio\\tasks.py\", line 458, in wait_for\n",
      "    fut.result()\n",
      "  File \"C:\\Users\\ekarni\\.pyenv\\pyenv-win\\versions\\3.10\\lib\\asyncio\\futures.py\", line 196, in result\n",
      "    raise exc\n",
      "asyncio.exceptions.CancelledError\n",
      "\n",
      "The above exception was the direct cause of the following exception:\n",
      "\n",
      "Traceback (most recent call last):\n",
      "  File \"C:\\gitproj\\chess_analyzer\\calc.py\", line 132, in calc_moves_score_int\n",
      "    continue\n",
      "  File \"C:\\Users\\ekarni\\.pyenv\\pyenv-win\\versions\\3.10\\lib\\site-packages\\memoization\\caching\\plain_cache.py\", line 49, in wrapper\n",
      "    result = user_function(*args, **kwargs)\n",
      "  File \"C:\\gitproj\\chess_analyzer\\calc.py\", line 82, in get_score\n",
      "    with asyncio.Lock():\n",
      "  File \"C:\\Users\\ekarni\\.pyenv\\pyenv-win\\versions\\3.10\\lib\\site-packages\\chess\\engine.py\", line 2997, in analyse\n",
      "    return future.result()\n",
      "  File \"C:\\Users\\ekarni\\.pyenv\\pyenv-win\\versions\\3.10\\lib\\concurrent\\futures\\_base.py\", line 445, in result\n",
      "    return self.__get_result()\n",
      "  File \"C:\\Users\\ekarni\\.pyenv\\pyenv-win\\versions\\3.10\\lib\\concurrent\\futures\\_base.py\", line 390, in __get_result\n",
      "    raise self._exception\n",
      "  File \"C:\\Users\\ekarni\\.pyenv\\pyenv-win\\versions\\3.10\\lib\\asyncio\\tasks.py\", line 232, in __step\n",
      "    result = coro.send(None)\n",
      "  File \"C:\\Users\\ekarni\\.pyenv\\pyenv-win\\versions\\3.10\\lib\\asyncio\\tasks.py\", line 460, in wait_for\n",
      "    raise exceptions.TimeoutError() from exc\n",
      "asyncio.exceptions.TimeoutError\n",
      "\n"
     ]
    },
    {
     "name": "stderr",
     "output_type": "stream",
     "text": [
      "Exception parsing pv from info: 'depth 1 seldepth 1 multipv 1 score cp -487 nodes 33 nps 33000 hashfull 8 tbhits 0 time 1 pv a8d8', position at root: r2R2k1/pp2rpp1/5bbp/2p1n3/2B1pBP1/2Q1P1NP/PPP2P2/1K5R w - - 2 19\n",
      "Exception parsing pv from info: 'depth 2 seldepth 2 multipv 1 score cp -487 nodes 60 nps 60000 hashfull 8 tbhits 0 time 1 pv a8d8', position at root: r2R2k1/pp2rpp1/5bbp/2p1n3/2B1pBP1/2Q1P1NP/PPP2P2/1K5R w - - 2 19\n",
      "Exception parsing pv from info: 'depth 3 seldepth 2 multipv 1 score cp -487 nodes 87 nps 87000 hashfull 8 tbhits 0 time 1 pv a8d8', position at root: r2R2k1/pp2rpp1/5bbp/2p1n3/2B1pBP1/2Q1P1NP/PPP2P2/1K5R w - - 2 19\n",
      "Exception parsing pv from info: 'depth 4 seldepth 2 multipv 1 score cp -431 nodes 118 nps 118000 hashfull 8 tbhits 0 time 1 pv a8d8', position at root: r2R2k1/pp2rpp1/5bbp/2p1n3/2B1pBP1/2Q1P1NP/PPP2P2/1K5R w - - 2 19\n",
      "Exception parsing pv from info: 'depth 5 seldepth 3 multipv 1 score cp -431 nodes 168 nps 168000 hashfull 8 tbhits 0 time 1 pv a8d8 f4e5 f6e5', position at root: r2R2k1/pp2rpp1/5bbp/2p1n3/2B1pBP1/2Q1P1NP/PPP2P2/1K5R w - - 2 19\n",
      "Exception parsing pv from info: 'depth 6 seldepth 4 multipv 1 score cp -427 nodes 214 nps 214000 hashfull 9 tbhits 0 time 1 pv a8d8 f4e5 f6e5 c3b3 e5g3 f2g3', position at root: r2R2k1/pp2rpp1/5bbp/2p1n3/2B1pBP1/2Q1P1NP/PPP2P2/1K5R w - - 2 19\n",
      "Exception parsing pv from info: 'depth 7 seldepth 7 multipv 1 score cp -427 nodes 281 nps 281000 hashfull 9 tbhits 0 time 1 pv a8d8 f4e5 f6e5 c3b3 e5g3 f2g3', position at root: r2R2k1/pp2rpp1/5bbp/2p1n3/2B1pBP1/2Q1P1NP/PPP2P2/1K5R w - - 2 19\n",
      "Exception parsing pv from info: 'depth 8 seldepth 8 multipv 1 score cp -433 nodes 370 nps 370000 hashfull 9 tbhits 0 time 1 pv a8d8 f4e5 f6e5 c3a5', position at root: r2R2k1/pp2rpp1/5bbp/2p1n3/2B1pBP1/2Q1P1NP/PPP2P2/1K5R w - - 2 19\n",
      "Exception parsing pv from info: 'depth 9 seldepth 9 multipv 1 score cp -428 nodes 1740 nps 870000 hashfull 11 tbhits 0 time 2 pv a8d8 f4e5 f6e5 c3a5 d8d7 a5a7', position at root: r2R2k1/pp2rpp1/5bbp/2p1n3/2B1pBP1/2Q1P1NP/PPP2P2/1K5R w - - 2 19\n",
      "Exception parsing pv from info: 'depth 10 seldepth 10 multipv 1 score cp -417 nodes 2331 nps 777000 hashfull 12 tbhits 0 time 3 pv a8d8 f4e5 f6e5 c3e1 b7b5 c4b5 d8b8 b5e8 b8b2 b1c1 b2a2 e1e2', position at root: r2R2k1/pp2rpp1/5bbp/2p1n3/2B1pBP1/2Q1P1NP/PPP2P2/1K5R w - - 2 19\n",
      "UciAnalysisCommand failed after returning preliminary result (<Future finished result=<chess.engine...002A04D16BB80>>)\n",
      "protocol: <UciProtocol (pid=58224)>\n",
      "transport: <_WindowsSubprocessTransport pid=58224 running stdin=<_ProactorWritePipeTransport fd=1628 read=<_OverlappedFuture pending overlapped=<pending, 0x2a04c96e9e0> cb=[_ProactorWritePipeTransport._pipe_closed()]>> stdout=<_ProactorReadPipeTransport fd=1680 read=<_OverlappedFuture pending overlapped=<pending, 0x2a04cbaea70> cb=[_ProactorReadPipeTransport._loop_reading()]>> stderr=<_ProactorReadPipeTransport fd=1828 read=<_OverlappedFuture pending overlapped=<pending, 0x2a04c96e200> cb=[_ProactorReadPipeTransport._loop_reading()]>>>\n",
      "Traceback (most recent call last):\n",
      "  File \"C:\\Users\\ekarni\\.pyenv\\pyenv-win\\versions\\3.10\\lib\\site-packages\\chess\\engine.py\", line 1965, in _parse_uci_bestmove\n",
      "    move = board.push_uci(tokens[0].lower())\n",
      "  File \"C:\\Users\\ekarni\\.pyenv\\pyenv-win\\versions\\3.10\\lib\\site-packages\\chess\\__init__.py\", line 3164, in push_uci\n",
      "    move = self.parse_uci(uci)\n",
      "  File \"C:\\Users\\ekarni\\.pyenv\\pyenv-win\\versions\\3.10\\lib\\site-packages\\chess\\__init__.py\", line 3147, in parse_uci\n",
      "    raise IllegalMoveError(f\"illegal uci: {uci!r} in {self.fen()}\")\n",
      "chess.IllegalMoveError: illegal uci: 'a8d8' in r2R2k1/pp2rpp1/5bbp/2p1n3/2B1pBP1/2Q1P1NP/PPP2P2/1K5R w - - 2 19\n",
      "\n",
      "During handling of the above exception, another exception occurred:\n",
      "\n",
      "Traceback (most recent call last):\n",
      "  File \"C:\\Users\\ekarni\\.pyenv\\pyenv-win\\versions\\3.10\\lib\\site-packages\\chess\\engine.py\", line 1386, in _line_received\n",
      "    self.line_received(engine, line)\n",
      "  File \"C:\\Users\\ekarni\\.pyenv\\pyenv-win\\versions\\3.10\\lib\\site-packages\\chess\\engine.py\", line 1818, in line_received\n",
      "    self._bestmove(engine, line.split(\" \", 1)[1])\n",
      "  File \"C:\\Users\\ekarni\\.pyenv\\pyenv-win\\versions\\3.10\\lib\\site-packages\\chess\\engine.py\", line 1841, in _bestmove\n",
      "    best = _parse_uci_bestmove(engine.board, arg)\n",
      "  File \"C:\\Users\\ekarni\\.pyenv\\pyenv-win\\versions\\3.10\\lib\\site-packages\\chess\\engine.py\", line 1967, in _parse_uci_bestmove\n",
      "    raise EngineError(err)\n",
      "chess.engine.EngineError: illegal uci: 'a8d8' in r2R2k1/pp2rpp1/5bbp/2p1n3/2B1pBP1/2Q1P1NP/PPP2P2/1K5R w - - 2 19\n"
     ]
    },
    {
     "name": "stdout",
     "output_type": "stream",
     "text": [
      "Traceback (most recent call last):\n",
      "  File \"C:\\Users\\ekarni\\.pyenv\\pyenv-win\\versions\\3.10\\lib\\asyncio\\tasks.py\", line 234, in __step\n",
      "    result = coro.throw(exc)\n",
      "  File \"C:\\Users\\ekarni\\.pyenv\\pyenv-win\\versions\\3.10\\lib\\site-packages\\chess\\engine.py\", line 1242, in analyse\n",
      "    await analysis.wait()\n",
      "  File \"C:\\Users\\ekarni\\.pyenv\\pyenv-win\\versions\\3.10\\lib\\site-packages\\chess\\engine.py\", line 2772, in wait\n",
      "    return await self._finished\n",
      "  File \"C:\\Users\\ekarni\\.pyenv\\pyenv-win\\versions\\3.10\\lib\\asyncio\\futures.py\", line 284, in __await__\n",
      "    yield self  # This tells Task to wait for completion.\n",
      "  File \"C:\\Users\\ekarni\\.pyenv\\pyenv-win\\versions\\3.10\\lib\\asyncio\\tasks.py\", line 304, in __wakeup\n",
      "    future.result()\n",
      "  File \"C:\\Users\\ekarni\\.pyenv\\pyenv-win\\versions\\3.10\\lib\\asyncio\\futures.py\", line 196, in result\n",
      "    raise exc\n",
      "asyncio.exceptions.CancelledError\n",
      "\n",
      "During handling of the above exception, another exception occurred:\n",
      "\n",
      "Traceback (most recent call last):\n",
      "  File \"C:\\Users\\ekarni\\.pyenv\\pyenv-win\\versions\\3.10\\lib\\asyncio\\tasks.py\", line 458, in wait_for\n",
      "    fut.result()\n",
      "  File \"C:\\Users\\ekarni\\.pyenv\\pyenv-win\\versions\\3.10\\lib\\asyncio\\futures.py\", line 196, in result\n",
      "    raise exc\n",
      "asyncio.exceptions.CancelledError\n",
      "\n",
      "The above exception was the direct cause of the following exception:\n",
      "\n",
      "Traceback (most recent call last):\n",
      "  File \"C:\\gitproj\\chess_analyzer\\calc.py\", line 132, in calc_moves_score_int\n",
      "    continue\n",
      "  File \"C:\\Users\\ekarni\\.pyenv\\pyenv-win\\versions\\3.10\\lib\\site-packages\\memoization\\caching\\plain_cache.py\", line 49, in wrapper\n",
      "    result = user_function(*args, **kwargs)\n",
      "  File \"C:\\gitproj\\chess_analyzer\\calc.py\", line 82, in get_score\n",
      "    async with asyncio.Lock():\n",
      "  File \"C:\\Users\\ekarni\\.pyenv\\pyenv-win\\versions\\3.10\\lib\\site-packages\\chess\\engine.py\", line 2997, in analyse\n",
      "    return future.result()\n",
      "  File \"C:\\Users\\ekarni\\.pyenv\\pyenv-win\\versions\\3.10\\lib\\concurrent\\futures\\_base.py\", line 445, in result\n",
      "    return self.__get_result()\n",
      "  File \"C:\\Users\\ekarni\\.pyenv\\pyenv-win\\versions\\3.10\\lib\\concurrent\\futures\\_base.py\", line 390, in __get_result\n",
      "    raise self._exception\n",
      "  File \"C:\\Users\\ekarni\\.pyenv\\pyenv-win\\versions\\3.10\\lib\\asyncio\\tasks.py\", line 232, in __step\n",
      "    result = coro.send(None)\n",
      "  File \"C:\\Users\\ekarni\\.pyenv\\pyenv-win\\versions\\3.10\\lib\\asyncio\\tasks.py\", line 460, in wait_for\n",
      "    raise exceptions.TimeoutError() from exc\n",
      "asyncio.exceptions.TimeoutError\n",
      "\n"
     ]
    },
    {
     "name": "stderr",
     "output_type": "stream",
     "text": [
      "Exception parsing pv from info: 'depth 1 seldepth 1 multipv 1 score cp -417 nodes 33 nps 33000 hashfull 9 tbhits 0 time 1 pv a8d8', position at root: r2R2k1/pp3pp1/4rbbp/2p1n3/2B1pBP1/2Q1P1NP/PPP2P2/1K5R w - - 2 19\n",
      "Exception parsing pv from info: 'depth 2 seldepth 2 multipv 1 score cp -417 nodes 62 nps 62000 hashfull 9 tbhits 0 time 1 pv a8d8 f4e5', position at root: r2R2k1/pp3pp1/4rbbp/2p1n3/2B1pBP1/2Q1P1NP/PPP2P2/1K5R w - - 2 19\n",
      "Exception parsing pv from info: 'depth 3 seldepth 3 multipv 1 score cp -417 nodes 93 nps 93000 hashfull 9 tbhits 0 time 1 pv a8d8 f4e5 f6e5', position at root: r2R2k1/pp3pp1/4rbbp/2p1n3/2B1pBP1/2Q1P1NP/PPP2P2/1K5R w - - 2 19\n",
      "Exception parsing pv from info: 'depth 4 seldepth 4 multipv 1 score cp -417 nodes 126 nps 126000 hashfull 9 tbhits 0 time 1 pv a8d8 f4e5 f6e5 c3e1', position at root: r2R2k1/pp3pp1/4rbbp/2p1n3/2B1pBP1/2Q1P1NP/PPP2P2/1K5R w - - 2 19\n",
      "Exception parsing pv from info: 'depth 5 seldepth 5 multipv 1 score cp -417 nodes 163 nps 163000 hashfull 9 tbhits 0 time 1 pv a8d8 f4e5 f6e5 c3e1 b7b5', position at root: r2R2k1/pp3pp1/4rbbp/2p1n3/2B1pBP1/2Q1P1NP/PPP2P2/1K5R w - - 2 19\n",
      "Exception parsing pv from info: 'depth 6 seldepth 6 multipv 1 score cp -417 nodes 204 nps 204000 hashfull 9 tbhits 0 time 1 pv a8d8 f4e5 f6e5 c3e1 b7b5 c4b5', position at root: r2R2k1/pp3pp1/4rbbp/2p1n3/2B1pBP1/2Q1P1NP/PPP2P2/1K5R w - - 2 19\n",
      "Exception parsing pv from info: 'depth 7 seldepth 8 multipv 1 score cp -417 nodes 264 nps 264000 hashfull 9 tbhits 0 time 1 pv a8d8 f4e5 f6e5 c3e1 b7b5 c4b5 d8b8 b5e8', position at root: r2R2k1/pp3pp1/4rbbp/2p1n3/2B1pBP1/2Q1P1NP/PPP2P2/1K5R w - - 2 19\n",
      "Exception parsing pv from info: 'depth 8 seldepth 10 multipv 1 score cp -417 nodes 338 nps 338000 hashfull 9 tbhits 0 time 1 pv a8d8 f4e5 f6e5 c3e1 b7b5 c4b5 d8b8 b5e8 b8b2 b1c1 b2a2 e1e2', position at root: r2R2k1/pp3pp1/4rbbp/2p1n3/2B1pBP1/2Q1P1NP/PPP2P2/1K5R w - - 2 19\n",
      "Exception parsing pv from info: 'depth 9 seldepth 12 multipv 1 score cp -424 nodes 627 nps 627000 hashfull 10 tbhits 0 time 1 pv a8d8 f4e5 f6e5 c3a3 d8d2 a3a7 d2f2', position at root: r2R2k1/pp3pp1/4rbbp/2p1n3/2B1pBP1/2Q1P1NP/PPP2P2/1K5R w - - 2 19\n",
      "Exception parsing pv from info: 'depth 10 seldepth 9 multipv 1 score cp -449 nodes 1311 nps 655500 hashfull 10 tbhits 0 time 2 pv a8d8 f4e5 f6e5 c3a5 b7b6 a5a4 d8a8 a4b5', position at root: r2R2k1/pp3pp1/4rbbp/2p1n3/2B1pBP1/2Q1P1NP/PPP2P2/1K5R w - - 2 19\n",
      "UciAnalysisCommand failed after returning preliminary result (<Future finished result=<chess.engine...002A04D16B520>>)\n",
      "protocol: <UciProtocol (pid=58224)>\n",
      "transport: <_WindowsSubprocessTransport pid=58224 running stdin=<_ProactorWritePipeTransport fd=1628 read=<_OverlappedFuture pending overlapped=<pending, 0x2a04c96e9e0> cb=[_ProactorWritePipeTransport._pipe_closed()]>> stdout=<_ProactorReadPipeTransport fd=1680 read=<_OverlappedFuture pending overlapped=<pending, 0x2a04cbaea70> cb=[_ProactorReadPipeTransport._loop_reading()]>> stderr=<_ProactorReadPipeTransport fd=1828 read=<_OverlappedFuture pending overlapped=<pending, 0x2a04c96e200> cb=[_ProactorReadPipeTransport._loop_reading()]>>>\n",
      "Traceback (most recent call last):\n",
      "  File \"C:\\Users\\ekarni\\.pyenv\\pyenv-win\\versions\\3.10\\lib\\site-packages\\chess\\engine.py\", line 1965, in _parse_uci_bestmove\n",
      "    move = board.push_uci(tokens[0].lower())\n",
      "  File \"C:\\Users\\ekarni\\.pyenv\\pyenv-win\\versions\\3.10\\lib\\site-packages\\chess\\__init__.py\", line 3164, in push_uci\n",
      "    move = self.parse_uci(uci)\n",
      "  File \"C:\\Users\\ekarni\\.pyenv\\pyenv-win\\versions\\3.10\\lib\\site-packages\\chess\\__init__.py\", line 3147, in parse_uci\n",
      "    raise IllegalMoveError(f\"illegal uci: {uci!r} in {self.fen()}\")\n",
      "chess.IllegalMoveError: illegal uci: 'a8d8' in r2R2k1/pp3pp1/4rbbp/2p1n3/2B1pBP1/2Q1P1NP/PPP2P2/1K5R w - - 2 19\n",
      "\n",
      "During handling of the above exception, another exception occurred:\n",
      "\n",
      "Traceback (most recent call last):\n",
      "  File \"C:\\Users\\ekarni\\.pyenv\\pyenv-win\\versions\\3.10\\lib\\site-packages\\chess\\engine.py\", line 1386, in _line_received\n",
      "    self.line_received(engine, line)\n",
      "  File \"C:\\Users\\ekarni\\.pyenv\\pyenv-win\\versions\\3.10\\lib\\site-packages\\chess\\engine.py\", line 1818, in line_received\n",
      "    self._bestmove(engine, line.split(\" \", 1)[1])\n",
      "  File \"C:\\Users\\ekarni\\.pyenv\\pyenv-win\\versions\\3.10\\lib\\site-packages\\chess\\engine.py\", line 1841, in _bestmove\n",
      "    best = _parse_uci_bestmove(engine.board, arg)\n",
      "  File \"C:\\Users\\ekarni\\.pyenv\\pyenv-win\\versions\\3.10\\lib\\site-packages\\chess\\engine.py\", line 1967, in _parse_uci_bestmove\n",
      "    raise EngineError(err)\n",
      "chess.engine.EngineError: illegal uci: 'a8d8' in r2R2k1/pp3pp1/4rbbp/2p1n3/2B1pBP1/2Q1P1NP/PPP2P2/1K5R w - - 2 19\n"
     ]
    },
    {
     "name": "stdout",
     "output_type": "stream",
     "text": [
      "Traceback (most recent call last):\n",
      "  File \"C:\\Users\\ekarni\\.pyenv\\pyenv-win\\versions\\3.10\\lib\\asyncio\\tasks.py\", line 234, in __step\n",
      "    result = coro.throw(exc)\n",
      "  File \"C:\\Users\\ekarni\\.pyenv\\pyenv-win\\versions\\3.10\\lib\\site-packages\\chess\\engine.py\", line 1242, in analyse\n",
      "    await analysis.wait()\n",
      "  File \"C:\\Users\\ekarni\\.pyenv\\pyenv-win\\versions\\3.10\\lib\\site-packages\\chess\\engine.py\", line 2772, in wait\n",
      "    return await self._finished\n",
      "  File \"C:\\Users\\ekarni\\.pyenv\\pyenv-win\\versions\\3.10\\lib\\asyncio\\futures.py\", line 284, in __await__\n",
      "    yield self  # This tells Task to wait for completion.\n",
      "  File \"C:\\Users\\ekarni\\.pyenv\\pyenv-win\\versions\\3.10\\lib\\asyncio\\tasks.py\", line 304, in __wakeup\n",
      "    future.result()\n",
      "  File \"C:\\Users\\ekarni\\.pyenv\\pyenv-win\\versions\\3.10\\lib\\asyncio\\futures.py\", line 196, in result\n",
      "    raise exc\n",
      "asyncio.exceptions.CancelledError\n",
      "\n",
      "During handling of the above exception, another exception occurred:\n",
      "\n",
      "Traceback (most recent call last):\n",
      "  File \"C:\\Users\\ekarni\\.pyenv\\pyenv-win\\versions\\3.10\\lib\\asyncio\\tasks.py\", line 458, in wait_for\n",
      "    fut.result()\n",
      "  File \"C:\\Users\\ekarni\\.pyenv\\pyenv-win\\versions\\3.10\\lib\\asyncio\\futures.py\", line 196, in result\n",
      "    raise exc\n",
      "asyncio.exceptions.CancelledError\n",
      "\n",
      "The above exception was the direct cause of the following exception:\n",
      "\n",
      "Traceback (most recent call last):\n",
      "  File \"C:\\gitproj\\chess_analyzer\\calc.py\", line 132, in calc_moves_score_int\n",
      "    continue\n",
      "  File \"C:\\Users\\ekarni\\.pyenv\\pyenv-win\\versions\\3.10\\lib\\site-packages\\memoization\\caching\\plain_cache.py\", line 49, in wrapper\n",
      "    result = user_function(*args, **kwargs)\n",
      "  File \"C:\\gitproj\\chess_analyzer\\calc.py\", line 82, in get_score\n",
      "    async with asyncio.Lock():\n",
      "  File \"C:\\Users\\ekarni\\.pyenv\\pyenv-win\\versions\\3.10\\lib\\site-packages\\chess\\engine.py\", line 2997, in analyse\n",
      "    return future.result()\n",
      "  File \"C:\\Users\\ekarni\\.pyenv\\pyenv-win\\versions\\3.10\\lib\\concurrent\\futures\\_base.py\", line 445, in result\n",
      "    return self.__get_result()\n",
      "  File \"C:\\Users\\ekarni\\.pyenv\\pyenv-win\\versions\\3.10\\lib\\concurrent\\futures\\_base.py\", line 390, in __get_result\n",
      "    raise self._exception\n",
      "  File \"C:\\Users\\ekarni\\.pyenv\\pyenv-win\\versions\\3.10\\lib\\asyncio\\tasks.py\", line 232, in __step\n",
      "    result = coro.send(None)\n",
      "  File \"C:\\Users\\ekarni\\.pyenv\\pyenv-win\\versions\\3.10\\lib\\asyncio\\tasks.py\", line 460, in wait_for\n",
      "    raise exceptions.TimeoutError() from exc\n",
      "asyncio.exceptions.TimeoutError\n",
      "\n"
     ]
    },
    {
     "name": "stderr",
     "output_type": "stream",
     "text": [
      "Exception parsing pv from info: 'depth 1 seldepth 1 multipv 1 score cp -435 nodes 144 nps 144000 hashfull 0 tbhits 0 time 1 pv a8d8', position at root: r2R2k1/pp2rpp1/2p2bbp/4n3/4pBP1/2Q1P1NP/PPP2P2/1K3B1R w - - 1 18\n",
      "Exception parsing pv from info: 'depth 2 seldepth 2 multipv 1 score cp -435 nodes 262 nps 262000 hashfull 0 tbhits 0 time 1 pv a8d8', position at root: r2R2k1/pp2rpp1/2p2bbp/4n3/4pBP1/2Q1P1NP/PPP2P2/1K3B1R w - - 1 18\n",
      "Exception parsing pv from info: 'depth 3 seldepth 2 multipv 1 score cp -435 nodes 430 nps 430000 hashfull 0 tbhits 0 time 1 pv a8d8', position at root: r2R2k1/pp2rpp1/2p2bbp/4n3/4pBP1/2Q1P1NP/PPP2P2/1K3B1R w - - 1 18\n",
      "UciAnalysisCommand failed after returning preliminary result (<Future finished result=<chess.engine...002A04D12B850>>)\n",
      "protocol: <UciProtocol (pid=66788)>\n",
      "transport: <_WindowsSubprocessTransport pid=66788 running stdin=<_ProactorWritePipeTransport fd=1952 read=<_OverlappedFuture pending overlapped=<pending, 0x2a04c96f370> cb=[_ProactorWritePipeTransport._pipe_closed()]>> stdout=<_ProactorReadPipeTransport fd=1956 read=<_OverlappedFuture pending overlapped=<pending, 0x2a04c96eef0> cb=[_ProactorReadPipeTransport._loop_reading()]>> stderr=<_ProactorReadPipeTransport fd=1964 read=<_OverlappedFuture pending overlapped=<pending, 0x2a04c96f880> cb=[_ProactorReadPipeTransport._loop_reading()]>>>\n",
      "Traceback (most recent call last):\n",
      "  File \"C:\\Users\\ekarni\\.pyenv\\pyenv-win\\versions\\3.10\\lib\\site-packages\\chess\\engine.py\", line 1965, in _parse_uci_bestmove\n",
      "    move = board.push_uci(tokens[0].lower())\n",
      "  File \"C:\\Users\\ekarni\\.pyenv\\pyenv-win\\versions\\3.10\\lib\\site-packages\\chess\\__init__.py\", line 3164, in push_uci\n",
      "    move = self.parse_uci(uci)\n",
      "  File \"C:\\Users\\ekarni\\.pyenv\\pyenv-win\\versions\\3.10\\lib\\site-packages\\chess\\__init__.py\", line 3147, in parse_uci\n",
      "    raise IllegalMoveError(f\"illegal uci: {uci!r} in {self.fen()}\")\n",
      "chess.IllegalMoveError: illegal uci: 'e8d8' in r2R2k1/pp2rpp1/2p2bbp/4n3/4pBP1/2Q1P1NP/PPP2P2/1K3B1R w - - 1 18\n",
      "\n",
      "During handling of the above exception, another exception occurred:\n",
      "\n",
      "Traceback (most recent call last):\n",
      "  File \"C:\\Users\\ekarni\\.pyenv\\pyenv-win\\versions\\3.10\\lib\\site-packages\\chess\\engine.py\", line 1386, in _line_received\n",
      "    self.line_received(engine, line)\n",
      "  File \"C:\\Users\\ekarni\\.pyenv\\pyenv-win\\versions\\3.10\\lib\\site-packages\\chess\\engine.py\", line 1818, in line_received\n",
      "    self._bestmove(engine, line.split(\" \", 1)[1])\n",
      "  File \"C:\\Users\\ekarni\\.pyenv\\pyenv-win\\versions\\3.10\\lib\\site-packages\\chess\\engine.py\", line 1841, in _bestmove\n",
      "    best = _parse_uci_bestmove(engine.board, arg)\n",
      "  File \"C:\\Users\\ekarni\\.pyenv\\pyenv-win\\versions\\3.10\\lib\\site-packages\\chess\\engine.py\", line 1967, in _parse_uci_bestmove\n",
      "    raise EngineError(err)\n",
      "chess.engine.EngineError: illegal uci: 'e8d8' in r2R2k1/pp2rpp1/2p2bbp/4n3/4pBP1/2Q1P1NP/PPP2P2/1K3B1R w - - 1 18\n"
     ]
    },
    {
     "name": "stdout",
     "output_type": "stream",
     "text": [
      "Traceback (most recent call last):\n",
      "  File \"C:\\Users\\ekarni\\.pyenv\\pyenv-win\\versions\\3.10\\lib\\asyncio\\tasks.py\", line 234, in __step\n",
      "    result = coro.throw(exc)\n",
      "  File \"C:\\Users\\ekarni\\.pyenv\\pyenv-win\\versions\\3.10\\lib\\site-packages\\chess\\engine.py\", line 1242, in analyse\n",
      "    await analysis.wait()\n",
      "  File \"C:\\Users\\ekarni\\.pyenv\\pyenv-win\\versions\\3.10\\lib\\site-packages\\chess\\engine.py\", line 2772, in wait\n",
      "    return await self._finished\n",
      "  File \"C:\\Users\\ekarni\\.pyenv\\pyenv-win\\versions\\3.10\\lib\\asyncio\\futures.py\", line 284, in __await__\n",
      "    yield self  # This tells Task to wait for completion.\n",
      "  File \"C:\\Users\\ekarni\\.pyenv\\pyenv-win\\versions\\3.10\\lib\\asyncio\\tasks.py\", line 304, in __wakeup\n",
      "    future.result()\n",
      "  File \"C:\\Users\\ekarni\\.pyenv\\pyenv-win\\versions\\3.10\\lib\\asyncio\\futures.py\", line 196, in result\n",
      "    raise exc\n",
      "asyncio.exceptions.CancelledError\n",
      "\n",
      "During handling of the above exception, another exception occurred:\n",
      "\n",
      "Traceback (most recent call last):\n",
      "  File \"C:\\Users\\ekarni\\.pyenv\\pyenv-win\\versions\\3.10\\lib\\asyncio\\tasks.py\", line 458, in wait_for\n",
      "    fut.result()\n",
      "  File \"C:\\Users\\ekarni\\.pyenv\\pyenv-win\\versions\\3.10\\lib\\asyncio\\futures.py\", line 196, in result\n",
      "    raise exc\n",
      "asyncio.exceptions.CancelledError\n",
      "\n",
      "The above exception was the direct cause of the following exception:\n",
      "\n",
      "Traceback (most recent call last):\n",
      "  File \"C:\\gitproj\\chess_analyzer\\calc.py\", line 132, in calc_moves_score_int\n",
      "    continue\n",
      "  File \"C:\\Users\\ekarni\\.pyenv\\pyenv-win\\versions\\3.10\\lib\\site-packages\\memoization\\caching\\plain_cache.py\", line 49, in wrapper\n",
      "    result = user_function(*args, **kwargs)\n",
      "  File \"C:\\gitproj\\chess_analyzer\\calc.py\", line 82, in get_score\n",
      "    with asyncio.Lock():\n",
      "  File \"C:\\Users\\ekarni\\.pyenv\\pyenv-win\\versions\\3.10\\lib\\site-packages\\chess\\engine.py\", line 2997, in analyse\n",
      "    return future.result()\n",
      "  File \"C:\\Users\\ekarni\\.pyenv\\pyenv-win\\versions\\3.10\\lib\\concurrent\\futures\\_base.py\", line 445, in result\n",
      "    return self.__get_result()\n",
      "  File \"C:\\Users\\ekarni\\.pyenv\\pyenv-win\\versions\\3.10\\lib\\concurrent\\futures\\_base.py\", line 390, in __get_result\n",
      "    raise self._exception\n",
      "  File \"C:\\Users\\ekarni\\.pyenv\\pyenv-win\\versions\\3.10\\lib\\asyncio\\tasks.py\", line 232, in __step\n",
      "    result = coro.send(None)\n",
      "  File \"C:\\Users\\ekarni\\.pyenv\\pyenv-win\\versions\\3.10\\lib\\asyncio\\tasks.py\", line 460, in wait_for\n",
      "    raise exceptions.TimeoutError() from exc\n",
      "asyncio.exceptions.TimeoutError\n",
      "\n"
     ]
    },
    {
     "name": "stderr",
     "output_type": "stream",
     "text": [
      "Exception parsing pv from info: 'depth 1 seldepth 1 multipv 1 score cp -435 nodes 125 nps 125000 hashfull 0 tbhits 0 time 1 pv a8d8', position at root: r2R2k1/pp3pp1/2p1rbbp/4n3/4pBP1/2Q1P1NP/PPP2P2/1K3B1R w - - 1 18\n",
      "Exception parsing pv from info: 'depth 2 seldepth 2 multipv 1 score cp -435 nodes 237 nps 237000 hashfull 0 tbhits 0 time 1 pv a8d8', position at root: r2R2k1/pp3pp1/2p1rbbp/4n3/4pBP1/2Q1P1NP/PPP2P2/1K3B1R w - - 1 18\n",
      "Exception parsing pv from info: 'depth 3 seldepth 2 multipv 1 score cp -435 nodes 378 nps 378000 hashfull 0 tbhits 0 time 1 pv a8d8', position at root: r2R2k1/pp3pp1/2p1rbbp/4n3/4pBP1/2Q1P1NP/PPP2P2/1K3B1R w - - 1 18\n",
      "UciAnalysisCommand failed after returning preliminary result (<Future finished result=<chess.engine...002A04D11A6B0>>)\n",
      "protocol: <UciProtocol (pid=66788)>\n",
      "transport: <_WindowsSubprocessTransport pid=66788 running stdin=<_ProactorWritePipeTransport fd=1952 read=<_OverlappedFuture pending overlapped=<pending, 0x2a04c96f370> cb=[_ProactorWritePipeTransport._pipe_closed()]>> stdout=<_ProactorReadPipeTransport fd=1956 read=<_OverlappedFuture pending overlapped=<pending, 0x2a04c96eef0> cb=[_ProactorReadPipeTransport._loop_reading()]>> stderr=<_ProactorReadPipeTransport fd=1964 read=<_OverlappedFuture pending overlapped=<pending, 0x2a04c96f880> cb=[_ProactorReadPipeTransport._loop_reading()]>>>\n",
      "Traceback (most recent call last):\n",
      "  File \"C:\\Users\\ekarni\\.pyenv\\pyenv-win\\versions\\3.10\\lib\\site-packages\\chess\\engine.py\", line 1965, in _parse_uci_bestmove\n",
      "    move = board.push_uci(tokens[0].lower())\n",
      "  File \"C:\\Users\\ekarni\\.pyenv\\pyenv-win\\versions\\3.10\\lib\\site-packages\\chess\\__init__.py\", line 3164, in push_uci\n",
      "    move = self.parse_uci(uci)\n",
      "  File \"C:\\Users\\ekarni\\.pyenv\\pyenv-win\\versions\\3.10\\lib\\site-packages\\chess\\__init__.py\", line 3147, in parse_uci\n",
      "    raise IllegalMoveError(f\"illegal uci: {uci!r} in {self.fen()}\")\n",
      "chess.IllegalMoveError: illegal uci: 'a8d8' in r2R2k1/pp3pp1/2p1rbbp/4n3/4pBP1/2Q1P1NP/PPP2P2/1K3B1R w - - 1 18\n",
      "\n",
      "During handling of the above exception, another exception occurred:\n",
      "\n",
      "Traceback (most recent call last):\n",
      "  File \"C:\\Users\\ekarni\\.pyenv\\pyenv-win\\versions\\3.10\\lib\\site-packages\\chess\\engine.py\", line 1386, in _line_received\n",
      "    self.line_received(engine, line)\n",
      "  File \"C:\\Users\\ekarni\\.pyenv\\pyenv-win\\versions\\3.10\\lib\\site-packages\\chess\\engine.py\", line 1818, in line_received\n",
      "    self._bestmove(engine, line.split(\" \", 1)[1])\n",
      "  File \"C:\\Users\\ekarni\\.pyenv\\pyenv-win\\versions\\3.10\\lib\\site-packages\\chess\\engine.py\", line 1841, in _bestmove\n",
      "    best = _parse_uci_bestmove(engine.board, arg)\n",
      "  File \"C:\\Users\\ekarni\\.pyenv\\pyenv-win\\versions\\3.10\\lib\\site-packages\\chess\\engine.py\", line 1967, in _parse_uci_bestmove\n",
      "    raise EngineError(err)\n",
      "chess.engine.EngineError: illegal uci: 'a8d8' in r2R2k1/pp3pp1/2p1rbbp/4n3/4pBP1/2Q1P1NP/PPP2P2/1K3B1R w - - 1 18\n"
     ]
    },
    {
     "name": "stdout",
     "output_type": "stream",
     "text": [
      "Traceback (most recent call last):\n",
      "  File \"C:\\Users\\ekarni\\.pyenv\\pyenv-win\\versions\\3.10\\lib\\asyncio\\tasks.py\", line 234, in __step\n",
      "    result = coro.throw(exc)\n",
      "  File \"C:\\Users\\ekarni\\.pyenv\\pyenv-win\\versions\\3.10\\lib\\site-packages\\chess\\engine.py\", line 1242, in analyse\n",
      "    await analysis.wait()\n",
      "  File \"C:\\Users\\ekarni\\.pyenv\\pyenv-win\\versions\\3.10\\lib\\site-packages\\chess\\engine.py\", line 2772, in wait\n",
      "    return await self._finished\n",
      "  File \"C:\\Users\\ekarni\\.pyenv\\pyenv-win\\versions\\3.10\\lib\\asyncio\\futures.py\", line 284, in __await__\n",
      "    yield self  # This tells Task to wait for completion.\n",
      "  File \"C:\\Users\\ekarni\\.pyenv\\pyenv-win\\versions\\3.10\\lib\\asyncio\\tasks.py\", line 304, in __wakeup\n",
      "    future.result()\n",
      "  File \"C:\\Users\\ekarni\\.pyenv\\pyenv-win\\versions\\3.10\\lib\\asyncio\\futures.py\", line 196, in result\n",
      "    raise exc\n",
      "asyncio.exceptions.CancelledError\n",
      "\n",
      "During handling of the above exception, another exception occurred:\n",
      "\n",
      "Traceback (most recent call last):\n",
      "  File \"C:\\Users\\ekarni\\.pyenv\\pyenv-win\\versions\\3.10\\lib\\asyncio\\tasks.py\", line 458, in wait_for\n",
      "    fut.result()\n",
      "  File \"C:\\Users\\ekarni\\.pyenv\\pyenv-win\\versions\\3.10\\lib\\asyncio\\futures.py\", line 196, in result\n",
      "    raise exc\n",
      "asyncio.exceptions.CancelledError\n",
      "\n",
      "The above exception was the direct cause of the following exception:\n",
      "\n",
      "Traceback (most recent call last):\n",
      "  File \"C:\\gitproj\\chess_analyzer\\calc.py\", line 132, in calc_moves_score_int\n",
      "    continue\n",
      "  File \"C:\\Users\\ekarni\\.pyenv\\pyenv-win\\versions\\3.10\\lib\\site-packages\\memoization\\caching\\plain_cache.py\", line 49, in wrapper\n",
      "    result = user_function(*args, **kwargs)\n",
      "  File \"C:\\gitproj\\chess_analyzer\\calc.py\", line 84, in get_score\n",
      "    cc = engine.analyse(b, limit, game=self.gameidf)[\"score\"]\n",
      "  File \"C:\\Users\\ekarni\\.pyenv\\pyenv-win\\versions\\3.10\\lib\\site-packages\\chess\\engine.py\", line 2997, in analyse\n",
      "    return future.result()\n",
      "  File \"C:\\Users\\ekarni\\.pyenv\\pyenv-win\\versions\\3.10\\lib\\concurrent\\futures\\_base.py\", line 445, in result\n",
      "    return self.__get_result()\n",
      "  File \"C:\\Users\\ekarni\\.pyenv\\pyenv-win\\versions\\3.10\\lib\\concurrent\\futures\\_base.py\", line 390, in __get_result\n",
      "    raise self._exception\n",
      "  File \"C:\\Users\\ekarni\\.pyenv\\pyenv-win\\versions\\3.10\\lib\\asyncio\\tasks.py\", line 232, in __step\n",
      "    result = coro.send(None)\n",
      "  File \"C:\\Users\\ekarni\\.pyenv\\pyenv-win\\versions\\3.10\\lib\\asyncio\\tasks.py\", line 460, in wait_for\n",
      "    raise exceptions.TimeoutError() from exc\n",
      "asyncio.exceptions.TimeoutError\n",
      "\n",
      "Traceback (most recent call last):\n",
      "  File \"C:\\Users\\ekarni\\.pyenv\\pyenv-win\\versions\\3.10\\lib\\asyncio\\tasks.py\", line 234, in __step\n",
      "    result = coro.throw(exc)\n",
      "  File \"C:\\Users\\ekarni\\.pyenv\\pyenv-win\\versions\\3.10\\lib\\site-packages\\chess\\engine.py\", line 1242, in analyse\n",
      "    await analysis.wait()\n",
      "  File \"C:\\Users\\ekarni\\.pyenv\\pyenv-win\\versions\\3.10\\lib\\site-packages\\chess\\engine.py\", line 2772, in wait\n",
      "    return await self._finished\n",
      "  File \"C:\\Users\\ekarni\\.pyenv\\pyenv-win\\versions\\3.10\\lib\\asyncio\\futures.py\", line 284, in __await__\n",
      "    yield self  # This tells Task to wait for completion.\n",
      "  File \"C:\\Users\\ekarni\\.pyenv\\pyenv-win\\versions\\3.10\\lib\\asyncio\\tasks.py\", line 304, in __wakeup\n",
      "    future.result()\n",
      "  File \"C:\\Users\\ekarni\\.pyenv\\pyenv-win\\versions\\3.10\\lib\\asyncio\\futures.py\", line 196, in result\n",
      "    raise exc\n",
      "asyncio.exceptions.CancelledError\n",
      "\n",
      "During handling of the above exception, another exception occurred:\n",
      "\n",
      "Traceback (most recent call last):\n",
      "  File \"C:\\Users\\ekarni\\.pyenv\\pyenv-win\\versions\\3.10\\lib\\asyncio\\tasks.py\", line 458, in wait_for\n",
      "    fut.result()\n",
      "  File \"C:\\Users\\ekarni\\.pyenv\\pyenv-win\\versions\\3.10\\lib\\asyncio\\futures.py\", line 196, in result\n",
      "    raise exc\n",
      "asyncio.exceptions.CancelledError\n",
      "\n",
      "The above exception was the direct cause of the following exception:\n",
      "\n",
      "Traceback (most recent call last):\n",
      "  File \"C:\\gitproj\\chess_analyzer\\calc.py\", line 132, in calc_moves_score_int\n",
      "    continue\n",
      "  File \"C:\\Users\\ekarni\\.pyenv\\pyenv-win\\versions\\3.10\\lib\\site-packages\\memoization\\caching\\plain_cache.py\", line 49, in wrapper\n",
      "    result = user_function(*args, **kwargs)\n",
      "  File \"C:\\gitproj\\chess_analyzer\\calc.py\", line 84, in get_score\n",
      "    cc = engine.analyse(b, limit, game=self.gameidf)[\"score\"]\n",
      "  File \"C:\\Users\\ekarni\\.pyenv\\pyenv-win\\versions\\3.10\\lib\\site-packages\\chess\\engine.py\", line 2997, in analyse\n",
      "    return future.result()\n",
      "  File \"C:\\Users\\ekarni\\.pyenv\\pyenv-win\\versions\\3.10\\lib\\concurrent\\futures\\_base.py\", line 445, in result\n",
      "    return self.__get_result()\n",
      "  File \"C:\\Users\\ekarni\\.pyenv\\pyenv-win\\versions\\3.10\\lib\\concurrent\\futures\\_base.py\", line 390, in __get_result\n",
      "    raise self._exception\n",
      "  File \"C:\\Users\\ekarni\\.pyenv\\pyenv-win\\versions\\3.10\\lib\\asyncio\\tasks.py\", line 232, in __step\n",
      "    result = coro.send(None)\n",
      "  File \"C:\\Users\\ekarni\\.pyenv\\pyenv-win\\versions\\3.10\\lib\\asyncio\\tasks.py\", line 460, in wait_for\n",
      "    raise exceptions.TimeoutError() from exc\n",
      "asyncio.exceptions.TimeoutError\n",
      "\n",
      "['Rexd8'] 5000 30\n",
      "['Rexd8'] 5000 30\n",
      "['Rexd8'] 5000 30\n",
      "['Rexd8'] 5000 30\n",
      "['Rexd8'] 5000 30\n",
      "['Rexd8'] 5000 30\n",
      "['Rexd8'] 5000 30\n",
      "['Rexd8'] 5000 30\n",
      "['Rexd8'] 5000 30\n",
      "['Rexd8'] 5000 30\n",
      "['Rexd8'] 5000 30\n",
      "['Rexd8'] 5000 30\n",
      "['Rexd8'] 5000 30\n",
      "['Rexd8'] 5000 30\n",
      "['Rexd8'] 5000 30\n",
      "['Rexd8'] 5000 30\n",
      "['Rexd8'] 5000 30\n",
      "['Rexd8', 'Be2'] 339 90\n",
      "['Rexd8', 'Be2'] 482 90\n",
      "['Rexd8', 'Be2'] 397 90\n",
      "['Rexd8', 'Be2'] 440 90\n",
      "['Rexd8'] 5000 30\n",
      "['Raxd8'] 5000 -32\n",
      "['Raxd8'] 5000 -32\n",
      "['Raxd8'] 5000 -32\n",
      "['Raxd8'] 5000 -32\n",
      "['Raxd8'] 5000 -32\n",
      "['Raxd8'] 5000 -32\n",
      "['Raxd8'] 5000 -32\n",
      "['Raxd8'] 5000 -32\n",
      "['Raxd8'] 5000 -32\n",
      "['Raxd8'] 5000 -32\n",
      "['Raxd8'] 5000 -32\n",
      "['Raxd8'] 5000 -32\n",
      "['Raxd8'] 5000 -32\n",
      "['Raxd8'] 5000 -32\n",
      "['Raxd8'] 5000 -32\n",
      "['Raxd8'] 5000 -32\n",
      "['Raxd8'] 5000 -32\n",
      "['Raxd8'] 5000 -32\n",
      "['Raxd8', 'Be2'] 327 -17\n",
      "['Raxd8', 'Be2'] 401 -17\n",
      "['Raxd8', 'Be2'] 464 -17\n",
      "['Raxd8', 'Be2'] 465 -17\n",
      "['Raxd8', 'Be2'] 451 -17\n",
      "['Raxd8', 'Be2'] 455 -17\n",
      "['Raxd8', 'Be2'] 412 -17\n",
      "['Raxd8', 'Be2'] 462 -17\n",
      "['Raxd8'] 5000 -32\n",
      "['Raxd8'] 5000 -32\n",
      "Traceback (most recent call last):\n",
      "  File \"C:\\gitproj\\chess_analyzer\\calc.py\", line 178, in async_print_stats\n",
      "  File \"C:\\gitproj\\chess_analyzer\\calc.py\", line 247, in calc_stability\n",
      "TypeError: float() argument must be a string or a real number, not 'map'\n",
      "\n"
     ]
    }
   ],
   "source": [
    "display_board(fen)"
   ]
  },
  {
   "cell_type": "code",
   "execution_count": null,
   "id": "3b463e47-26b8-4b3c-8b82-fcd94e5b017e",
   "metadata": {},
   "outputs": [],
   "source": []
  },
  {
   "cell_type": "code",
   "execution_count": null,
   "id": "0d72f6b8-7c75-4b6a-bfe6-b75214f2857e",
   "metadata": {
    "tags": []
   },
   "outputs": [],
   "source": [
    "gam"
   ]
  },
  {
   "cell_type": "code",
   "execution_count": null,
   "id": "33cb5a30-07c6-4c16-a3c4-149396df1ca1",
   "metadata": {
    "tags": []
   },
   "outputs": [],
   "source": [
    "\n",
    "fen.split(' ')[1]"
   ]
  },
  {
   "cell_type": "code",
   "execution_count": null,
   "id": "0f70661d-3ef1-4719-a11a-c2b24af47a47",
   "metadata": {},
   "outputs": [],
   "source": []
  },
  {
   "cell_type": "code",
   "execution_count": null,
   "id": "a625949d-ff73-45f3-b829-607cbb241257",
   "metadata": {
    "tags": []
   },
   "outputs": [],
   "source": [
    "pgn='''[Event \"CCT Finals KO 2023\"]\n",
    "[White \"Carlsen,Magnus\"]\n",
    "[Black \"Caruana,Fabiano\"]\n",
    "[Site \"Toronto\"]\n",
    "[Round \"1.1\"]\n",
    "[Annotator \"TA\"]\n",
    "[Result \"1-0\"]\n",
    "[Date \"2023.12.13\"]\n",
    "[WhiteElo \"2830\"]\n",
    "[BlackElo \"2794\"]\n",
    "[PlyCount \"181\"]\n",
    "[TimeControl \"900+3\"]\n",
    "\n",
    "{[%evp 25,181,0,0,0,0,-1,0,0,7,13,7,0,20,-8,6,0,0,0,0,0,0,0,77,0,76,59,61,72,193,0,0,0,8,8,5,0,0,0,0,0,0,0,0,0,0,0,0,0,0,0,0,0,0,0,0,0,0,0,0,0,0,0,0,0,0,0,0,0,0,0,0,0,0,-41,0,0,0,0,0,0,0,0,0,0,0,0,0,-243,-225,-179,-120,-136,-130,-564,-489,-719,-767,-838,-613,-580,-548,-448,-188,-256,-262,-412,-234,-279,-266,-491,-527,-493,-454,-401,-389,-391,0,-831,0,0,0,0,0,0,0,-29989,-29990,-29990,0,-1612,-1449,-29990,-29976,-6070,-5081,-4308,-4704,-5069,0,0,0,-5072,-5057,-1446,0,0,0,0,0,0,0,0,0,0,0,0,29991,29992]} 1. e4 {[%emt 0:0:3]} e5 {[%emt 0:0:1]} 2. Nf3 {[%emt 0:0:2]} Nc6 {[%emt 0:0:2]} 3. Bb5 {[%emt 0:0:2]} a6 {[%emt 0:0:2]} 4. Ba4 {[%emt 0:0:1]} Nf6 {[%emt 0:0:2]} 5. O-O {[%emt 0:0:4]} Bc5 {[%emt 0:0:2]} 6. c3 {[%emt 0:0:41]} b5 {[%emt 0:0:4]} 7. Bb3 {[%emt 0:0:2]} d6 {[%emt 0:0:2]} 8. d4 {[%emt 0:1:7]} Bb6 {[%emt 0:0:2]} 9. Be3 {[%emt 0:0:3]} O-O {[%emt 0:0:8]} 10. Nbd2 {[%emt 0:0:3]} h6 {[%emt 0:0:7]} 11. h3 {[%emt 0:1:7]} Re8 {[%emt 0:0:3]} 12. a3 {[%emt 0:1:32]} Rb8 {[%emt 0:2:48]} 13. Bc2 {[%emt 0:1:11]} a5 {[%emt 0:0:40]} 14. Re1 {[%emt 0:0:15]} a4 {[%emt 0:0:23]} 15. Bd3 {[%emt 0:0:11]} Bd7 {[%emt 0:0:48]} 16. Qe2 {[%emt 0:1:18]} exd4 {[%emt 0:3:5]} 17. cxd4 {[%emt 0:0:3]} Ne7 $1 {[%emt 0:0:1]} 18. Rac1 {[%emt 0:2:3]} Ng6 {[%emt 0:0:24]} 19. Qf1 {[%emt 0:0:17]} Ba5 {[%emt 0:0:36]} 20. Red1 {[%emt 0:0:6]} c6 {[%emt 0:0:25]} 21. e5 {[%emt 0:0:47]} Nd5 {[%emt 0:1:23]} 22. Bxg6 {[%emt 0:0:38]} fxg6 {[%emt 0:0:1]} 23. Ne4 {[%emt 0:0:1]} Rf8 {[%emt 0:1:1]} (23... dxe5 $1 $11 {keeps the balance.} 24. Nxe5 Bc7 )24. Nxd6 {[%emt 0:1:5]} (24. Qe2 $1 $16 )Bxh3 {[%emt 0:0:32]} (24... Rxf3 $1 $11 {remains equal.} 25. gxf3 Qh4 )25. gxh3 {[%emt 0:0:22]} (25. Qd3 {feels hotter.} Ne7 26. Nh4 g5 27. Ng6 )Rxf3 {[%emt 0:0:2]} 26. Qg2 {[%emt 0:0:1]} (26. Rxc6 $2 Nxe3 27. fxe3 Rxf1+ $19 )Nxe3 {[%emt 0:0:22]} (26... Rxe3 $16 27. fxe3 Nxe3 28. Qxg6 Nxd1 29. Rxd1 Qg5+ 30. Qxg5 hxg5 )27. Qxf3 $2 {[%emt 0:0:46]} (27. fxe3 $18 Qg5 28. Qxg5 (28. Rxc6 $2 Qxe3+ 29. Kh2 Rf2 $19 )hxg5 29. e4 (29. Rxc6 Rxe3 30. Rdc1 Rf8 $14 ))Nxd1 $11 {[%emt 0:0:2]} 28. Rxd1 {[%emt 0:0:2]} Bc7 {[%emt 0:1:30]} 29. Qxc6 {[%emt 0:0:43]} Bxd6 {[%emt 0:0:2]} 30. Qd5+ {[%emt 0:0:31]} Kh7 {[%emt 0:0:2]} 31. exd6 {[%emt 0:0:2]} Qd7 {[%emt 0:0:10]} 32. Kg2 {[%emt 0:0:49]} Rb6 {[%emt 0:0:5]} 33. Qe4 {[%emt 0:0:16]} Rxd6 {[%emt 0:0:2]} 34. d5 {[%emt 0:0:2]} Rf6 {[%emt 0:0:5]} 35. Rd3 {[%emt 0:0:9]} Rd6 {[%emt 0:0:52]} 36. Qe5 {[%emt 0:0:7]} Qd8 {[%emt 0:0:7]} 37. Kf1 {[%emt 0:0:13]} Qc7 {[%emt 0:0:15]} 38. Rc3 {[%emt 0:0:7]} Qd7 {[%emt 0:0:5]} 39. Rd3 {[%emt 0:0:0]} Qd8 {[%emt 0:0:10]} 40. Ke2 {[%emt 0:0:3]} Qb6 {[%emt 0:0:6]} 41. Qd4 {[%emt 0:0:5]} Qb7 {[%emt 0:0:2]} 42. Kd2 {[%emt 0:0:1]} Qf7 {[%emt 0:0:4]} 43. Kc2 {[%emt 0:0:2]} Rf6 {[%emt 0:0:5]} 44. f3 {[%emt 0:0:4]} Qc7+ {[%emt 0:0:2]} 45. Kb1 {[%emt 0:0:2]} Qd6 {[%emt 0:0:5]} 46. Ka2 {[%emt 0:0:5]} Rf4 {[%emt 0:0:1]} 47. Qe3 {[%emt 0:0:4]} b4 {[%emt 0:0:3]} 48. axb4 $1 {[%emt 0:0:1]} Rxb4 {[%emt 0:0:1]} 49. Qd2 {[%emt 0:0:4]} Rb8 {[%emt 0:0:7]} 50. Rd4 {[%emt 0:0:1]} Rb3 {[%emt 0:0:12]} 51. Rd3 {[%emt 0:0:7]} Rb8 {[%emt 0:0:3]} 52. Rd4 {[%emt 0:0:1]} Rb5 {[%emt 0:0:3]} 53. h4 {[%emt 0:0:4]} h5 {[%emt 0:0:1]} 54. Qd3 {[%emt 0:0:5]} Rb3 {[%emt 0:0:2]} 55. Qd1 {[%emt 0:0:0]} Qb6 {[%emt 0:0:5]} 56. Qd2 $2 {[%emt 0:0:2]} (56. Rd2 $11 {and White stays safe.} )Rxf3 $19 {[%emt 0:0:3]} (56... a3 57. bxa3 Rxf3 58. Qb4 Rf2+ 59. Kb3 )57. Rd3 {[%emt 0:0:0]} Rf2 {[%emt 0:0:4]} (57... Rf1 $1 $19 58. Qe3 Qxe3 59. Rxe3 Rd1 )58. Qc3 $17 {[%emt 0:0:1]} Qd6 $1 {[%emt 0:0:4]} 59. Qc6 $2 {[%emt 0:0:2][%mdl 8192]} (59. Rd4 $17 {is more resistant.} )Qh2 $19 {[%emt 0:0:5]} 60. Qb6 {[%emt 0:0:2]} (60. Qc1 $142 a3 61. Rxa3 )Qxh4 $19 {[%emt 0:0:4]} 61. Rd4 {[%emt 0:0:2]} Qg3 {[%emt 0:0:4]} 62. Qb4 {[%emt 0:0:4]} a3 {[%emt 0:0:2]} 63. Qxa3 {[%emt 0:0:1]} Qe5 {[%emt 0:0:2]} (63... Qxa3+ $142 64. Kxa3 Rf8 )64. Qd3 {[%emt 0:0:2]} (64. Qb4 {keeps fighting.} )Qd6 $19 {[%emt 0:0:2]} (64... Qb8 $2 65. Qa3 $19 )65. Ra4 {[%emt 0:0:4]} (65. Kb1 {was worth a try.} )Rf5 {[%emt 0:0:13]} (65... Qh2 $142 66. Qc3 Rc2 )66. Rd4 $19 {[%emt 0:0:3]} Rf8 {[%emt 0:0:0]} 67. b4 $2 {[%emt 0:0:1]} (67. Kb1 {is a better defense.} )Rf2+ $19 {[%emt 0:0:0]} 68. Kb3 {[%emt 0:0:1]} Qf6 {[%emt 0:0:0]} 69. Qc4 {[%emt 0:0:8]} Rf3+ {[%emt 0:0:1]} 70. Rd3 {[%emt 0:0:1]} Rf2 $2 {[%emt 0:0:2]} (70... Rf1 $19 {aiming for ...Qa1.} 71. Rc3 Rd1 )71. d6 $2 {[%emt 0:0:2][%mdl 8192]} (71. Rd4 $11 )Qb2+ $2 {[%emt 0:0:6]} ({Black should try} 71... Qa1 $19 {( -> ...Qa2+)} 72. Qc5 Qa2+ 73. Kc3 Rc2+ 74. Kd4 Qa1+ 75. Ke4 Qh1+ 76. Ke5 Qh2+ 77. Ke4 Qg2+ 78. Rf3 Re2+ 79. Qe3 h4 )72. Ka4 $11 {[%emt 0:0:1]} Qa1+ {[%emt 0:0:1]} 73. Kb5 {[%emt 0:0:1]} Qa8 {[%emt 0:0:7]} (73... Rf8 $5 74. d7 $8 Rf6 $11 )74. d7 $1 {[%emt 0:0:2]} Rf5+ {[%emt 0:0:0]} 75. Kb6 $2 {[%emt 0:0:1][%mdl 8192]} (75. Qc5 $11 Qb7+ 76. Ka5 Qa8+ 77. Kb5 Rxc5+ 78. bxc5 )Qb8+ {[%emt 0:0:2]} 76. Ka6 {[%emt 0:0:1]} Qa8+ {[%emt 0:0:2]} (76... Rf6+ $142 77. Ka5 Qa7+ 78. Kb5 Rb6+ 79. Kc5 Re6+ 80. Kd5 Qxd7+ 81. Kc5 Rc6+ 82. Kb5 Rd6+ {[%mdl 64] Discovered Attack} 83. Ka5 Qa7+ 84. Kb5 Qa6+ 85. Kc5 Qc6# )77. Kb6 $19 {[%emt 0:0:1] [#]} Rf6+ $1 {[%emt 0:0:5]} 78. Kc5 {[%emt 0:0:23]} Rc6+ {[%emt 0:0:2]} 79. Kd4 {[%emt 0:0:1]} Rxc4+ {[%emt 0:0:4]} 80. Kxc4 {[%emt 0:0:1]} Qd8 {[%emt 0:0:8]} 81. b5 {[%emt 0:0:1]} Qc7+ $2 {[%emt 0:0:3]} (81... g5 $19 82. b6 g4 )82. Kb3 $11 {[%emt 0:0:2]} Qd8 {[%emt 0:0:1]} 83. Ka4 $2 {[%emt 0:0:7][%mdl 8192]} (83. Kc4 $11 g5 84. b6 )h4 $19 {[%emt 0:0:4]} 84. b6 {[%emt 0:0:0] [#]} h3 $2 {[%emt 0:0:4]} ({And not} 84... Qxb6 85. d8=Q (85. d8=B {gets mated.} Qa6+ 86. Kb4 Qxd3 87. Bxh4 Qd4+ 88. Kb5 Qxh4 89. Kc6 Qe4+ 90. Kb6 g5 91. Kc7 g4 92. Kd6 g3 93. Kc5 g2 94. Kd6 g1=Q 95. Kd7 Qa7+ 96. Kd8 Qea8# )Qxd8 86. Rxd8 $11 )(84... g5 $1 $19 {[%cal Rg5g4] ...g4! would be deadly.} 85. b7 g4 )85. Rxh3+ $11 {[%emt 0:0:1]} Kg8 {[%emt 0:0:0]} 86. Rd3 {[%emt 0:0:2]} Kf7 {[%emt 0:0:1]} (86... Qxb6 87. d8=Q+ (87. d8=R+ $2 {loses.} Kf7 $19 )Qxd8 88. Rxd8+ $18 )87. b7 {[%emt 0:0:1]} Ke7 {[%emt 0:0:0]} 88. Kb5 {[%emt 0:0:1]} g5 {[%emt 0:0:3]} 89. Kc6 {[%emt 0:0:4]} g4 {[%emt 0:0:2]} 90. Re3+ {[%emt 0:0:13]} Kf6 $2 {[%emt 0:0:4][%mdl 8192]} (90... Kf7 $11 )91. Re8 {[%emt 0:0:2]} 1-0\n",
    "\n",
    "'''\n",
    "display_game(pgn)"
   ]
  },
  {
   "cell_type": "markdown",
   "id": "67b90a00d4a68cd7",
   "metadata": {
    "tags": []
   },
   "source": [
    "## Carlsen game"
   ]
  },
  {
   "cell_type": "code",
   "execution_count": 8,
   "id": "491eec91-6e30-4d6c-89b8-aab591dff11b",
   "metadata": {
    "ExecuteTime": {
     "end_time": "2023-12-06T23:02:28.374557500Z",
     "start_time": "2023-12-06T23:02:28.281557200Z"
    },
    "tags": []
   },
   "outputs": [
    {
     "data": {
      "application/vnd.jupyter.widget-view+json": {
       "model_id": "636efd8fd98c4ce5acb5211e362e68a1",
       "version_major": 2,
       "version_minor": 0
      },
      "text/plain": [
       "VBox(children=(HBox(children=(Button(description='<', layout=Layout(justify_content='center', width='35px'), s…"
      ]
     },
     "execution_count": 8,
     "metadata": {},
     "output_type": "execute_result"
    }
   ],
   "source": [
    "pgn='''[Event \"Biel Chess Festival\"]\n",
    "[Site \"Biel SUI\"]\n",
    "[Date \"2007.08.02\"]\n",
    "[Round \"9\"]\n",
    "[White \"Magnus Carlsen\"]\n",
    "[Black \"Teimour Radjabov\"]\n",
    "[Result \"1-0\"]\n",
    "[EventDate \"?\"]\n",
    "[ECO \"B07\"]\n",
    "[WhiteElo \"2710\"]\n",
    "[BlackElo \"2747\"]\n",
    "[PlyCount \"55\"]\n",
    "\n",
    "1. e4 d6 2. d4 Nf6 3. Nc3 e5 4. Nge2 Nbd7 5. g3 c6 6. Bg2 b5 7. a3 Be7 8. O-O\n",
    "O-O 9. h3 a5 10. g4 Ba6 11. Ng3 b4 12. Nce2 bxa3 13. Rxa3 d5 14. Re3 dxe4 15.\n",
    "Re1 Qc7 16. Nf5 Bd8 17. g5 Nd5 18. Rxe4 f6 19. Neg3 g6 20. Nh6+ Kg7 21. dxe5\n",
    "fxg5 22. e6 Kxh6 23. e7 Qb6 24. exf8=Q+ Nxf8 25. c4 Nf4 26. Qd6 Kg7 27. Bxf4\n",
    "gxf4 28. Re7+ 1-0'''\n",
    "display_game(pgn)"
   ]
  },
  {
   "cell_type": "code",
   "execution_count": null,
   "id": "238e4d1f-2335-4855-aabc-d6359a503075",
   "metadata": {
    "tags": []
   },
   "outputs": [],
   "source": [
    "display_board(fen)"
   ]
  },
  {
   "cell_type": "markdown",
   "id": "2cdb0670-13da-423d-8a66-87304fde8228",
   "metadata": {},
   "source": [
    "## Najdorfg"
   ]
  },
  {
   "cell_type": "code",
   "execution_count": null,
   "id": "a6c8196d-b35a-4064-b880-590cf48f8936",
   "metadata": {
    "tags": []
   },
   "outputs": [],
   "source": [
    "naj='''\n",
    "1. e4 c5 2. Nf3 d6 3. d4 cxd4 4. Nxd4 Nf6 5. Nc3 a6 6. Be2 e6 7. O-O Nbd7 8. f4 b5 9. Bf3 Bb7 10. e5 Bxf3 11. Nxf3 Ng4 12. Qe2 b4 13. Ne4 d5 14. Nd6+ Bxd6 15. exd6 Qb6+ 16. Kh1 '''\n",
    "display_game(naj)"
   ]
  },
  {
   "cell_type": "markdown",
   "id": "9e116a25-b3d3-4502-906f-dbe8d2112d90",
   "metadata": {},
   "source": [
    "## my stupid game"
   ]
  },
  {
   "cell_type": "code",
   "execution_count": 9,
   "id": "230db6a8-fcca-4d62-ba04-65c119507f7a",
   "metadata": {
    "tags": []
   },
   "outputs": [
    {
     "data": {
      "application/vnd.jupyter.widget-view+json": {
       "model_id": "c650dd4ebe5949e1b8d31b38e7dc58ce",
       "version_major": 2,
       "version_minor": 0
      },
      "text/plain": [
       "VBox(children=(HBox(children=(Button(description='<', layout=Layout(justify_content='center', width='35px'), s…"
      ]
     },
     "execution_count": 9,
     "metadata": {},
     "output_type": "execute_result"
    }
   ],
   "source": [
    "pgn2='''\n",
    "[Event \"Live Chess\"]\n",
    "[Site \"Chess.com\"]\n",
    "[Date \"2023.12.05\"]\n",
    "[Round \"?\"]\n",
    "[White \"nevertheless33\"]\n",
    "[Black \"andrewmoussa\"]\n",
    "[Result \"1-0\"]\n",
    "[ECO \"D01\"]\n",
    "[TimeControl \"300\"]\n",
    "[EndTime \"14:11:45 PST\"]\n",
    "[Termination \"nevertheless33 won by resignation\"]\n",
    "\n",
    "1. d4 d5 2. Nc3 Nf6 3. Bg5 Ne4 4. Nxe4 dxe4 5. Qd2 h6 6. Be3 Bf5 7. h3 e6 8. g4\n",
    "Bg6 9. O-O-O Be7 10. Kb1 O-O 11. Bf4 Nd7 12. Qc3 c6 13. e3 Bf6 14. Ne2 Re8 15.\n",
    "Ng3 e5 16. dxe5 Nxe5 17. Rxd8 Raxd8 18. Be2 Nc4 19. Qxc4 b5 20. Qxc6 Re6 21. Qc7\n",
    "Ra6 22. Rd1 Rxd1+ 23. Bxd1 Rb6 24. Bd6 Ra6 25. Qc8+ 1-0'''\n",
    "\n",
    "display_game(pgn2)"
   ]
  },
  {
   "cell_type": "code",
   "execution_count": null,
   "id": "64e483a3-c649-4ec8-ad29-e4f121bdacfc",
   "metadata": {
    "tags": []
   },
   "outputs": [],
   "source": [
    "%run C:\\gitproj\\chess_analyzer\\calc.py"
   ]
  },
  {
   "cell_type": "code",
   "execution_count": null,
   "id": "6bce5557-56e1-45a5-99a5-035b63fc827a",
   "metadata": {
    "tags": []
   },
   "outputs": [],
   "source": [
    "sys.executable"
   ]
  },
  {
   "cell_type": "markdown",
   "id": "eec0e7bce2f9590c",
   "metadata": {},
   "source": [
    "### Debug"
   ]
  },
  {
   "cell_type": "code",
   "execution_count": null,
   "id": "b75786b5-b8da-440c-a216-a05ca1af167b",
   "metadata": {},
   "outputs": [],
   "source": [
    "g=[-0.1, 0.63, -0.35, 0.28, -0.07, 0.73, 0.41, 0.64, 0.21, 0.46, 0.75, 0.2, 0.39, 0.72, 0.6, 0.49, -0.1, 0.31, 0.5, 0.01, 0.39, 0.18, -0.49, 0.9, 0.7, -0.01, 0.39, -0.64, 0.02, -0.88, -0.6, -0.56, -0.26, -0.07, -0.47, -0.3, -0.26, -0.68, -0.19, -0.43, -0.21, -0.19, -0.66, 0.0, -0.04, -0.15, -0.21, -0.51, -1.2, -0.75, -0.92, 0.02, -0.46, -0.33, -0.57, 0.41, -0.21, -0.53, -0.17, 0.05, -0.29, -1.18, 0.16, -0.49, 0.48, -0.13, -0.03, -0.67, 0.26, 0.09, -0.15, 0.09, -0.14, -1.21, -0.27, 0.57, 0.22, -0.69, -0.29, -0.04, 0.45, -0.39, 0.0, -0.1, 0.17, 0.48, -0.11, 0.15, 0.72, -0.25, 0.31, 0.2, 0.26, 0.32, 0.25, 0.29, 0.29, 0.18, 0.36, 0.16, -0.31, -0.25, 0.86, 0.47, -0.64, 0.02, -0.31, 0.16, -0.7, 0.09, -0.42, 0.15, -0.29, -0.03, 0.39, -0.46, 0.25, -0.09, -0.07, 0.19, -0.15, 0.06, -0.02, -0.04, 0.07, -0.22, -0.4, -0.41, 0.57, 0.2, -0.22, -0.23, -0.14, 0.07, -0.93, -0.39, -0.42, -0.17, 0.01, -0.32, -0.41, 0.04, -0.29, 0.05, -0.21, -0.07, -0.11, -0.53, -0.13, -0.21, -0.46, -0.18, -0.15, -0.77, -0.42, 0.52, 0.08, -0.21, -0.12, 0.55, 0.71, -0.48, 0.51, 0.12, 0.26, 0.17, 0.6, 1.05, 0.03, 0.62, 0.58, 0.52, 0.72, 0.26, 0.52, 0.42, 0.35, 0.64, 0.3, -0.21, 0.24, 1.25, 0.58, 0.2, 0.12, -0.47, -0.02, -0.88, -0.49, -0.51, -0.17, -0.45, -0.34, 0.4, -0.78, -0.05, -1.21, -0.17, -0.13, -0.91, -0.01, -0.16, -0.1, -0.13, -0.47, -0.61, -0.52, 0.44, 0.0, -1.07, -0.38, -0.24, 0.14, -0.76, -0.04, -0.27, -0.26, 0.09, -0.21, -0.36, 0.28, -0.45, -0.18, -0.21, 0.09, 0.09, -0.1, 0.18, -0.04, -0.16, 0.05, -0.04, -1.53, -0.42, 0.3, 0.11, -0.39, 0.07, -0.54, 0.22, -0.64, -0.09, -0.46, -0.29, -0.03, -0.38, -0.1, 0.12, -0.43, 0.15, -1.11, -0.01, -0.03, -0.32, 0.16, -0.13, -0.24, -0.12, -0.25, -0.69, -0.47, 0.25, 0.22, -0.53, -0.36, -0.17, 0.13, -0.66, -0.04, -0.37, 0.18, 0.06, -0.21, -0.19, 0.49, -0.58, 0.29, 0.03, -0.05, 0.06, -0.07, 0.1, -0.05, -0.19, 0.01, -0.17, -0.47, -0.47, 0.69, 0.4, -0.49, -0.19, -0.23, 0.13, -0.78, -0.21, -0.38, 0.04, 0.12, -0.13, -0.13, 0.33, -0.54, 0.14, -0.04, -0.16, 0.23, -0.42, 0.02, 0.05, -0.21, -0.08, -0.17, -0.57, -0.56, 0.58, 0.19, -0.52, -0.23, -0.29, 0.57, -0.66, 0.26, -0.06, 0.55, 0.47, -0.03, 0.35, 0.64, -0.1, 0.57, 0.48, 0.48, 0.41, -0.19, 0.54, 0.24, 0.06, 0.39, 0.19, -0.28, 0.89, 0.73, -0.21, 0.18, 0.26, 0.42, 0.7, 0.29, 1.57, 0.5, 0.67, 1.47, 0.89, 0.93, 1.13, 1.16, 1.05, 0.91, 0.82, 1.07, 0.65, 1.34, 1.18, 0.23, 0.7, 1.66, 1.28, 0.51, 1.2, 0.42, 0.4, -0.31, 0.26, 0.0, 0.26, 0.38, 0.27, 0.19, 0.41, -0.21, 0.12, -0.16, 0.12, 0.46, -0.05, 0.28, 0.24, 0.26, 0.36, 0.28, 0.04, -0.03, -0.44, 0.45, 0.04, 0.22, -0.75, -0.56, -0.78, -0.92, -0.33, -0.92, -0.03, 1.0, -0.33, -0.63, -0.4, 0.04, -0.04, -0.84, -0.51, -0.93, -0.19, -0.77, -0.95, -0.79, 0.05, -1.15, -0.46, -0.56, -0.29, -0.03, -0.4, -0.23, -0.2, -0.72, -0.31, -0.21, -0.18, -0.9, 0.0, -0.15, -0.35, -0.19, -0.48, -1.79, -0.79, -0.86, 0.1, -0.85, -0.35, -1.04, -0.27, -1.65, -0.77, -0.82, -1.11, -0.89, -0.67, -1.0, -0.09, -0.92, -1.45, 0.05, 0.32, -0.6, -0.5, -1.07, 0.0, -0.1, -0.79, -0.74, -0.77, -1.06, -1.03, -0.11, -0.16, -0.99, -0.87, 0.2, 0.48, -0.7, 0.35, -0.37, 0.5, 0.38, -0.05, 0.05, -0.06, -0.5, 0.83, -0.05, 0.1, 0.04, 0.08, 0.32, 0.42, -0.06, 0.3, 0.08, -0.21, -0.22, 0.85, 0.19, -0.53, 0.47, -0.28, 0.28, -0.55, -0.21, -0.43, 0.22, 0.2, -0.1, 0.13, 0.18, -0.15, 0.27, -0.09, 0.06, 0.08, -0.05, 0.25, 0.06, -0.14, 0.24, 0.01, -0.29, -0.31, 0.62, 0.36, -0.07]\n",
    "init=5.75"
   ]
  },
  {
   "cell_type": "code",
   "execution_count": null,
   "id": "94c29c02-45de-4a9d-8391-87e471123c02",
   "metadata": {},
   "outputs": [],
   "source": [
    " gb=np.array(g,dtype='float64')/(init/100) * FRACFACTOR"
   ]
  },
  {
   "cell_type": "code",
   "execution_count": null,
   "id": "a65eddb1-6b74-455d-a0a3-25eb15178b13",
   "metadata": {},
   "outputs": [],
   "source": [
    "gb"
   ]
  },
  {
   "cell_type": "code",
   "execution_count": null,
   "id": "91396c54-53d0-4515-af0a-71404ba25aa7",
   "metadata": {},
   "outputs": [],
   "source": [
    "gc[gc<0]=0"
   ]
  },
  {
   "cell_type": "code",
   "execution_count": null,
   "id": "d5cdfd35-8b54-4fdc-996d-bc487679f562",
   "metadata": {},
   "outputs": [],
   "source": [
    "gc= (-1)*np.square(gb) *SIGMA"
   ]
  },
  {
   "cell_type": "code",
   "execution_count": null,
   "id": "751e9672-e5bb-49b3-96a6-18148e99d448",
   "metadata": {},
   "outputs": [],
   "source": [
    "gc"
   ]
  },
  {
   "cell_type": "markdown",
   "id": "40a1ea86-86ae-419a-8aef-4be7ed71a5d4",
   "metadata": {},
   "source": [
    "### def board"
   ]
  },
  {
   "cell_type": "code",
   "execution_count": null,
   "id": "74c04c40-e59c-4d87-9b94-155874043c5f",
   "metadata": {
    "tags": []
   },
   "outputs": [],
   "source": []
  },
  {
   "cell_type": "code",
   "execution_count": 1,
   "id": "354c313b-05e7-4b25-9742-c9aff1ac482c",
   "metadata": {
    "tags": []
   },
   "outputs": [
    {
     "ename": "NameError",
     "evalue": "name 'display_board' is not defined",
     "output_type": "error",
     "traceback": [
      "\u001b[1;31m---------------------------------------------------------------------------\u001b[0m",
      "\u001b[1;31mNameError\u001b[0m                                 Traceback (most recent call last)",
      "Cell \u001b[1;32mIn[1], line 1\u001b[0m\n\u001b[1;32m----> 1\u001b[0m \u001b[43mdisplay_board\u001b[49m(\u001b[38;5;124m'\u001b[39m\u001b[38;5;124mr2Rr1k1/pp3pp1/2p2bbp/4n3/4pBP1/2Q1P1NP/PPP2P2/1K3B1R b - - 0 17\u001b[39m\u001b[38;5;124m'\u001b[39m,iswhite\u001b[38;5;241m=\u001b[39m\u001b[38;5;28;01mFalse\u001b[39;00m)\n",
      "\u001b[1;31mNameError\u001b[0m: name 'display_board' is not defined"
     ]
    }
   ],
   "source": [
    "display_board('r2Rr1k1/pp3pp1/2p2bbp/4n3/4pBP1/2Q1P1NP/PPP2P2/1K3B1R b - - 0 17',iswhite=False)"
   ]
  },
  {
   "cell_type": "code",
   "execution_count": null,
   "id": "1e029bea-3ec5-4cfa-85e8-9d53acb536d2",
   "metadata": {
    "tags": []
   },
   "outputs": [],
   "source": [
    "b"
   ]
  },
  {
   "cell_type": "code",
   "execution_count": null,
   "id": "841723cd-541a-4639-9e64-3fab2f56abcc",
   "metadata": {},
   "outputs": [],
   "source": [
    "def convit(b,color,mov):\n",
    "    from calc import conv,convtrans\n",
    "    f = conv if color=='w' else convtrans\n",
    "    return b.san(chess.Move.from_uci(f(mov)))"
   ]
  },
  {
   "cell_type": "code",
   "execution_count": null,
   "id": "ce3c81bb-a2ca-4f3c-9c77-07a4646cfc70",
   "metadata": {
    "tags": []
   },
   "outputs": [],
   "source": [
    "engine = chess.engine.SimpleEngine.popen_uci(STOCKFISHPATH)\n",
    "\n",
    "engine.configure( {\"UCI_LimitStrength\": True, \"UCI_Elo\": 1720} )\n",
    "# Use the 'go' method to compute the engine evaluation\n",
    "result = engine.analyse(b, chess.engine.Limit(depth=20,time=5000),multipv=30)\n",
    "# Fetch the three best moves and their scores\n",
    "for line in result:\n",
    "    print(f'Move: {line[0]}, Score: {line.score()}')\n"
   ]
  },
  {
   "cell_type": "code",
   "execution_count": null,
   "id": "01640bed-06cb-44ff-9257-5c7536a4cf5d",
   "metadata": {
    "tags": []
   },
   "outputs": [],
   "source": [
    "engine.analyse(b, chess.engine.Limit(depth=5,time=0.001),multipv=30)"
   ]
  },
  {
   "cell_type": "code",
   "execution_count": null,
   "id": "f2a0618a-eef8-4e2f-86dd-cb4339438c2d",
   "metadata": {
    "tags": []
   },
   "outputs": [],
   "source": [
    "chess.engine.Limit"
   ]
  },
  {
   "cell_type": "code",
   "execution_count": null,
   "id": "83e6cd34-6eef-4f56-99e7-e8475be68d33",
   "metadata": {
    "tags": []
   },
   "outputs": [],
   "source": [
    "result = engine.analyse(b, chess.engine.Limit(depth=3,time=100),multipv=5)\n"
   ]
  },
  {
   "cell_type": "code",
   "execution_count": null,
   "id": "f30c6899-52d4-49a1-ba52-67bf983ec5e0",
   "metadata": {
    "tags": []
   },
   "outputs": [],
   "source": [
    "b"
   ]
  },
  {
   "cell_type": "code",
   "execution_count": null,
   "id": "9cc6584b-e3a6-4146-8319-e9427c96b747",
   "metadata": {
    "tags": []
   },
   "outputs": [],
   "source": [
    "result"
   ]
  },
  {
   "cell_type": "code",
   "execution_count": null,
   "id": "878b7a91-dcbd-44df-94f7-0268f746db4b",
   "metadata": {
    "tags": []
   },
   "outputs": [],
   "source": [
    "domoves(b,result[1]['pv'])"
   ]
  },
  {
   "cell_type": "code",
   "execution_count": null,
   "id": "75527d7c-4db7-4809-8b98-d1d0a81a02ef",
   "metadata": {
    "tags": []
   },
   "outputs": [],
   "source": [
    "b"
   ]
  },
  {
   "cell_type": "code",
   "execution_count": null,
   "id": "0bf3a3d9-25cb-4659-be0f-80e8ffdfaf06",
   "metadata": {
    "tags": []
   },
   "outputs": [],
   "source": [
    "def domoves(b,movl):\n",
    "    for m in movl:\n",
    "        try:\n",
    "            b.push(m)\n",
    "            display( widgets.HTML(str(b._repr_svg_())))\n",
    "        except:\n",
    "            print('ilegal ' , m )\n",
    "            break"
   ]
  },
  {
   "cell_type": "code",
   "execution_count": null,
   "id": "f2d5ac28-0795-4962-9a68-b99f9b09790a",
   "metadata": {
    "tags": []
   },
   "outputs": [],
   "source": []
  },
  {
   "cell_type": "code",
   "execution_count": null,
   "id": "c0dd60d3-f058-4f21-a731-6cd5576508ef",
   "metadata": {
    "tags": []
   },
   "outputs": [],
   "source": [
    "result"
   ]
  },
  {
   "cell_type": "code",
   "execution_count": null,
   "id": "e90189f5-5b2d-49fa-a549-da9456079941",
   "metadata": {
    "tags": []
   },
   "outputs": [],
   "source": [
    "b"
   ]
  },
  {
   "cell_type": "code",
   "execution_count": null,
   "id": "9e3bda6b-42c6-4239-a96a-8581e7e62a29",
   "metadata": {
    "tags": []
   },
   "outputs": [],
   "source": [
    "res3"
   ]
  },
  {
   "cell_type": "code",
   "execution_count": null,
   "id": "2b5142a1-7b87-4316-9ab4-d8e1cf995f82",
   "metadata": {
    "tags": []
   },
   "outputs": [],
   "source": [
    "engine2 = chess.engine.SimpleEngine.popen_uci(STOCKFISHPATH,setpgrp=True)\n",
    "engine2.configure({\"UCI_LimitStrength\": True, \"UCI_Elo\":1500 })\n",
    "res3 = engine2.analyse(b, chess.engine.Limit(depth=13,time=1000),multipv=50,)\n"
   ]
  },
  {
   "cell_type": "code",
   "execution_count": null,
   "id": "5e93018d-f8a3-4bff-8e9a-cd38c7f12242",
   "metadata": {
    "tags": []
   },
   "outputs": [],
   "source": [
    "chess.engine.Limit?"
   ]
  },
  {
   "cell_type": "code",
   "execution_count": null,
   "id": "9aabc0a1-288a-4dbf-b696-78e4abc46df9",
   "metadata": {
    "tags": []
   },
   "outputs": [],
   "source": [
    "len(res3[12]['pv'])"
   ]
  },
  {
   "cell_type": "code",
   "execution_count": null,
   "id": "20a7d592-500d-4274-890d-582dc8201460",
   "metadata": {
    "tags": []
   },
   "outputs": [],
   "source": [
    "import pandas\n",
    "pandas.DataFrame(res3)"
   ]
  },
  {
   "cell_type": "code",
   "execution_count": null,
   "id": "fd19db55-35b0-4208-b843-42639ecc32bf",
   "metadata": {
    "tags": []
   },
   "outputs": [],
   "source": [
    "pandas.DataFrame(res)"
   ]
  },
  {
   "cell_type": "code",
   "execution_count": null,
   "id": "dae8f268-b757-4e7d-953c-dad3b51351a0",
   "metadata": {
    "tags": []
   },
   "outputs": [],
   "source": [
    "len(res3)"
   ]
  },
  {
   "cell_type": "code",
   "execution_count": null,
   "id": "67127141-d1b5-417f-9eb0-cf779dc28f45",
   "metadata": {
    "tags": []
   },
   "outputs": [],
   "source": [
    "res3"
   ]
  },
  {
   "cell_type": "code",
   "execution_count": null,
   "id": "97515653-c5f2-47ef-952c-11bb43d0a1f0",
   "metadata": {
    "tags": []
   },
   "outputs": [],
   "source": [
    "engine.configure({\"Skill Level\": 20})\n",
    "res = engine.analyse(b, chess.engine.Limit(depth=11,time=1000),multipv=500)\n"
   ]
  },
  {
   "cell_type": "code",
   "execution_count": null,
   "id": "b6a1b8f4-585b-4c6c-a7a8-1c2277dce62f",
   "metadata": {
    "tags": []
   },
   "outputs": [],
   "source": [
    "res"
   ]
  },
  {
   "cell_type": "code",
   "execution_count": null,
   "id": "dba584de-6a43-43ee-bfa1-187f25b0bcaa",
   "metadata": {
    "tags": []
   },
   "outputs": [],
   "source": [
    "res2 = engine.analyse(b, chess.engine.Limit(depth=11,time=1000),multipv=500)\n"
   ]
  },
  {
   "cell_type": "code",
   "execution_count": null,
   "id": "790b4c84-567a-4cd5-942c-26274038f5db",
   "metadata": {
    "tags": []
   },
   "outputs": [],
   "source": [
    "res2"
   ]
  },
  {
   "cell_type": "code",
   "execution_count": null,
   "id": "d34a44e4-ec7b-45a9-b122-b3f6bf0a5c1b",
   "metadata": {
    "tags": []
   },
   "outputs": [],
   "source": [
    "len(res2)"
   ]
  },
  {
   "cell_type": "code",
   "execution_count": null,
   "id": "15963eb5-efda-4153-8598-b2e253c272e0",
   "metadata": {},
   "outputs": [],
   "source": []
  },
  {
   "cell_type": "code",
   "execution_count": null,
   "id": "e488b2e9-0893-4fb4-8710-d1657ce480ac",
   "metadata": {
    "tags": []
   },
   "outputs": [],
   "source": [
    "len(res2)"
   ]
  },
  {
   "cell_type": "code",
   "execution_count": null,
   "id": "83797a36-af78-4c9b-b152-029a8f057c44",
   "metadata": {
    "tags": []
   },
   "outputs": [],
   "source": [
    "len(result)"
   ]
  },
  {
   "cell_type": "code",
   "execution_count": null,
   "id": "915f3b43-0736-4f90-97ca-4060e784365c",
   "metadata": {
    "tags": []
   },
   "outputs": [],
   "source": [
    "result"
   ]
  },
  {
   "cell_type": "markdown",
   "id": "efbd1634-5f2b-4e43-b06d-1410d0ee3668",
   "metadata": {
    "jupyter": {
     "outputs_hidden": true
    }
   },
   "source": [
    "## subfish"
   ]
  },
  {
   "cell_type": "code",
   "execution_count": null,
   "id": "ba35539c-f9d8-4ca6-90c2-9bd559820cbd",
   "metadata": {
    "tags": []
   },
   "outputs": [],
   "source": [
    "#import sys\n",
    "#sys.path+=[r\"c:\\gitproj\\sunfish\"]"
   ]
  },
  {
   "cell_type": "code",
   "execution_count": null,
   "id": "52f11346-ce4b-4d25-bcd4-ac1eeb3562dd",
   "metadata": {
    "tags": []
   },
   "outputs": [],
   "source": [
    "from sunfish.tools import uci\n",
    "from sunfish.tools.uci import *\n",
    "from sunfish import sunfish\n",
    "\n",
    "fen='r2Rr1k1/pp3pp1/2p2bbp/4n3/4pBP1/2Q1P1NP/PPP2P2/1K3B1R b - - 0 17'\n",
    "uci.sunfish=sunfish\n",
    "\n",
    "\n",
    "\n",
    "pos=uci.from_fen(*fen.split(\" \"))\n",
    "\n",
    "\n",
    "\n",
    "\n",
    "hist = [pos] if uci.get_color(pos) == WHITE else [pos.rotate(), pos]\n",
    "\n",
    "searcher = sunfish.Searcher()\n",
    "\n",
    "\n",
    "\n",
    "#for depth, gamma, score, mov  in searcher.search(hist):\n",
    "#    print(f\"info depth {depth} score cp {score} nodes {searcher.nodes} mov {mov}\")\n",
    "#    if depth ==7 :\n",
    "#        break "
   ]
  },
  {
   "cell_type": "code",
   "execution_count": null,
   "id": "5d355505-5e3c-42a6-b716-0fa131bb7d32",
   "metadata": {
    "tags": []
   },
   "outputs": [],
   "source": [
    "pos"
   ]
  },
  {
   "cell_type": "code",
   "execution_count": null,
   "id": "6792b6cb-023f-4aac-ab3c-0ff46ee7505e",
   "metadata": {
    "tags": []
   },
   "outputs": [],
   "source": [
    "searcher.top_moves[pos]"
   ]
  },
  {
   "cell_type": "code",
   "execution_count": null,
   "id": "eda07969-6901-49df-b32d-44c35f627814",
   "metadata": {
    "tags": []
   },
   "outputs": [],
   "source": [
    "res=searcher.bound(hist[-1], 0, 5, can_null=False)"
   ]
  },
  {
   "cell_type": "code",
   "execution_count": null,
   "id": "e42604cb-ce01-4a6a-964e-65e81d681aa1",
   "metadata": {
    "tags": []
   },
   "outputs": [],
   "source": [
    "searcher"
   ]
  },
  {
   "cell_type": "code",
   "execution_count": null,
   "id": "7351097e-6e7c-4f41-aad9-021d737059fe",
   "metadata": {
    "tags": []
   },
   "outputs": [],
   "source": [
    "b"
   ]
  },
  {
   "cell_type": "code",
   "execution_count": null,
   "id": "0d588d25-e262-455e-958b-7e3be91fb30a",
   "metadata": {
    "tags": []
   },
   "outputs": [],
   "source": [
    "def convmovlist(b,y):\n",
    "    list(map(lambda x: convit(b,'w',x[0]),y))"
   ]
  },
  {
   "cell_type": "code",
   "execution_count": null,
   "id": "4626631b-b33a-4d83-8b82-cfeecaf1aff4",
   "metadata": {
    "tags": []
   },
   "outputs": [],
   "source": [
    "convit(bb,'w',searcher.top_moves[pp][5][0])"
   ]
  },
  {
   "cell_type": "code",
   "execution_count": null,
   "id": "0d25a9e2-978a-46e6-83a6-4ba1aa37e2d7",
   "metadata": {
    "tags": []
   },
   "outputs": [],
   "source": [
    "pp=pos.move(searcher.top_moves[pos][0][0])"
   ]
  },
  {
   "cell_type": "code",
   "execution_count": null,
   "id": "cb7920b1-25de-4e59-ba1c-a40c599a930c",
   "metadata": {
    "tags": []
   },
   "outputs": [],
   "source": [
    "bb=chess.Board( to_fen(pp,'b'))"
   ]
  },
  {
   "cell_type": "code",
   "execution_count": null,
   "id": "e09a0c1b-4d64-4c9d-bec5-2b34093bfe2f",
   "metadata": {
    "tags": []
   },
   "outputs": [],
   "source": [
    "bb"
   ]
  },
  {
   "cell_type": "code",
   "execution_count": null,
   "id": "65e4dd2d-d3ed-4f4e-b614-2cc6603e0c63",
   "metadata": {
    "tags": []
   },
   "outputs": [],
   "source": [
    "print(convmovlist(bb,searcher.top_moves[pp]))"
   ]
  },
  {
   "cell_type": "code",
   "execution_count": null,
   "id": "45addecc-b5e9-4ce0-8269-36a8439c6f0c",
   "metadata": {
    "tags": []
   },
   "outputs": [],
   "source": [
    "pp=pos.move(searcher.top_moves[pos][0][0])"
   ]
  },
  {
   "cell_type": "code",
   "execution_count": null,
   "id": "313c1e4b-ba99-4673-bdcd-bda341933cf4",
   "metadata": {
    "tags": []
   },
   "outputs": [],
   "source": [
    "pp2=pp.move(searcher.top_moves[pp2][0][0])"
   ]
  },
  {
   "cell_type": "code",
   "execution_count": null,
   "id": "a4c3edba-3509-4c5e-8fcc-0a25828962ae",
   "metadata": {
    "tags": []
   },
   "outputs": [],
   "source": [
    "pp.score"
   ]
  },
  {
   "cell_type": "code",
   "execution_count": null,
   "id": "dec837d7-f6f5-4b80-a3bb-2da7901adac9",
   "metadata": {
    "tags": []
   },
   "outputs": [],
   "source": [
    "searcher.top_moves[pp2][0][0]"
   ]
  },
  {
   "cell_type": "code",
   "execution_count": null,
   "id": "da7f8b01-674a-4887-9f2e-487ba3de8ca5",
   "metadata": {},
   "outputs": [],
   "source": [
    "convi"
   ]
  },
  {
   "cell_type": "code",
   "execution_count": null,
   "id": "84124fc0-8f62-4882-8fb4-34498ce5fd42",
   "metadata": {
    "tags": []
   },
   "outputs": [],
   "source": [
    "searcher.top_moves[pp]"
   ]
  },
  {
   "cell_type": "code",
   "execution_count": null,
   "id": "b51f48f3-ff2f-4d14-babd-b29c1eb76305",
   "metadata": {
    "tags": []
   },
   "outputs": [],
   "source": [
    "searcher.top_moves[pos]"
   ]
  },
  {
   "cell_type": "code",
   "execution_count": null,
   "id": "235793d1-e211-4c89-8fc4-9419e674452a",
   "metadata": {
    "tags": []
   },
   "outputs": [],
   "source": [
    "%run C:\\gitproj\\sunfish\\src\\tools\\uci.py\n",
    "def to_fen(pos,color):\n",
    "    if color == 'b':\n",
    "        pos=pos.rotate()\n",
    "    \n",
    "    board = pos.board\n",
    "    fen = []\n",
    "    empty = 0\n",
    "    for c in board:\n",
    "        if c == \"\\n\":\n",
    "            if empty > 0:\n",
    "                fen.append(str(empty))\n",
    "                empty = 0\n",
    "            fen.append('/')\n",
    "        if c.isspace():\n",
    "            continue\n",
    "        if c == '.':\n",
    "            empty += 1\n",
    "        else:\n",
    "            if empty > 0:\n",
    "                fen.append(str(empty))\n",
    "                empty = 0\n",
    "            fen.append(c)\n",
    "        \n",
    "    fen = ''.join(fen)\n",
    "    if empty > 0:\n",
    "        fen += str(empty)\n",
    "    fen += ' '+color\n",
    "    \n",
    "    castling = ''\n",
    "    if pos.wc[0]: castling += 'Q'\n",
    "    if pos.wc[1]: castling += 'K'\n",
    "    if pos.bc[0]: castling += 'q'\n",
    "    if pos.bc[1]: castling += 'k'\n",
    "    if castling == '': castling = '-'\n",
    "\n",
    "    fen += ' '+ castling\n",
    "    fen += ' ' + (sunfish.render(pos.ep) if pos.ep else '-') + ' 0 1'\n",
    "    return fen.replace(\"///\",\"\").replace(\"//\",\"\")\n",
    "\n",
    "to_fen(pos,'b')"
   ]
  },
  {
   "cell_type": "code",
   "execution_count": null,
   "id": "538d42b7-55bc-4c30-94b7-fb2a6e9f8a0a",
   "metadata": {
    "tags": []
   },
   "outputs": [],
   "source": [
    "split(fen,\" \")"
   ]
  },
  {
   "cell_type": "code",
   "execution_count": null,
   "id": "7abd4662-4688-4c07-8015-a686ebdac46b",
   "metadata": {
    "tags": []
   },
   "outputs": [],
   "source": [
    "pos.bc"
   ]
  },
  {
   "cell_type": "code",
   "execution_count": null,
   "id": "fa7180fd-3c9f-4843-920a-206cbf8ecc99",
   "metadata": {
    "tags": []
   },
   "outputs": [],
   "source": [
    "fen"
   ]
  },
  {
   "cell_type": "code",
   "execution_count": null,
   "id": "b18949c8-be45-484b-9311-a4ec3b526f10",
   "metadata": {
    "tags": []
   },
   "outputs": [],
   "source": [
    "pos.fen()"
   ]
  },
  {
   "cell_type": "code",
   "execution_count": null,
   "id": "90be0a3a-c1e2-4366-9630-ab456317a529",
   "metadata": {
    "tags": []
   },
   "outputs": [],
   "source": [
    "b"
   ]
  },
  {
   "cell_type": "code",
   "execution_count": null,
   "id": "9a204965-e56e-4d26-8352-1db5976aed40",
   "metadata": {
    "tags": []
   },
   "outputs": [],
   "source": [
    "uci.pv(searcher,pos,include_scores=False)"
   ]
  },
  {
   "cell_type": "code",
   "execution_count": null,
   "id": "ce52eea4-3c60-4816-8cd7-8119937fe10d",
   "metadata": {},
   "outputs": [],
   "source": []
  },
  {
   "cell_type": "code",
   "execution_count": null,
   "id": "fb507550-1e67-45f9-95f1-acfa3fb6c993",
   "metadata": {
    "tags": []
   },
   "outputs": [],
   "source": [
    "\" \".join(map(str,pos))"
   ]
  },
  {
   "cell_type": "code",
   "execution_count": null,
   "id": "7fdd3613-957a-4eac-9426-2dd91efef38b",
   "metadata": {
    "tags": []
   },
   "outputs": [],
   "source": [
    "lll=list(map(lambda x: to_fen(x[0],'w') ,res['sequences']))"
   ]
  },
  {
   "cell_type": "code",
   "execution_count": null,
   "id": "abca949b-901a-4107-abf9-2684244a823c",
   "metadata": {
    "tags": []
   },
   "outputs": [],
   "source": [
    "display_board( lll[6],simp=True)"
   ]
  },
  {
   "cell_type": "code",
   "execution_count": null,
   "id": "fdf745f5-9ec3-4278-853a-ffa826f3b038",
   "metadata": {
    "tags": []
   },
   "outputs": [],
   "source": [
    "b"
   ]
  },
  {
   "cell_type": "code",
   "execution_count": null,
   "id": "713bc96c-9bf1-4385-927f-1487a26f76e5",
   "metadata": {
    "tags": []
   },
   "outputs": [],
   "source": [
    "nfen = ' r2Rr1k1/pp3pp1/2p2bbp/4n3/4pBP1/4P1NP/PPP2P2/1K1Q1B1R b - - 0 17'"
   ]
  },
  {
   "cell_type": "code",
   "execution_count": null,
   "id": "0a009973-f2c8-472b-a9b3-1943134cfb95",
   "metadata": {
    "tags": []
   },
   "outputs": [],
   "source": [
    "display_board(nfen)"
   ]
  },
  {
   "cell_type": "code",
   "execution_count": null,
   "id": "e71c8129-95d0-4591-8ce2-74edd188ef22",
   "metadata": {
    "tags": []
   },
   "outputs": [],
   "source": [
    "pv(searcher, pos,include_scores=True)"
   ]
  },
  {
   "cell_type": "code",
   "execution_count": null,
   "id": "40d5fe85-7235-422b-a330-cfb7a3def892",
   "metadata": {
    "tags": []
   },
   "outputs": [],
   "source": [
    "zz=[(val,convtrans(move)) for val, move in sorted(((pos.value(m), m) for m in pos.gen_moves()), reverse=True)]\n",
    "    "
   ]
  },
  {
   "cell_type": "code",
   "execution_count": null,
   "id": "74ce0b11-9bb9-45e2-9f95-a9d406254d32",
   "metadata": {},
   "outputs": [],
   "source": []
  },
  {
   "cell_type": "code",
   "execution_count": null,
   "id": "b3ca0abc-caac-40fa-b279-08b4420bf1ec",
   "metadata": {
    "tags": []
   },
   "outputs": [],
   "source": [
    "b"
   ]
  },
  {
   "cell_type": "code",
   "execution_count": null,
   "id": "332cfb69-b4c1-4bad-a6d2-e181f4e5e99a",
   "metadata": {},
   "outputs": [],
   "source": []
  },
  {
   "cell_type": "code",
   "execution_count": null,
   "id": "889f21f2-c0c8-422a-887f-fac96352773b",
   "metadata": {
    "tags": []
   },
   "outputs": [],
   "source": [
    "zz"
   ]
  },
  {
   "cell_type": "code",
   "execution_count": null,
   "id": "6fd86fea-c74b-4eec-9467-e37bdce9b8ec",
   "metadata": {
    "tags": []
   },
   "outputs": [],
   "source": [
    "move = chess.Move.from_uci(\"g1f3\")"
   ]
  },
  {
   "cell_type": "code",
   "execution_count": null,
   "id": "1a8fd875-64c8-4182-b39b-cd78526ec533",
   "metadata": {
    "tags": []
   },
   "outputs": [],
   "source": [
    "move."
   ]
  },
  {
   "cell_type": "code",
   "execution_count": null,
   "id": "f51856e1-871a-463e-801f-004aacebd09f",
   "metadata": {
    "tags": []
   },
   "outputs": [],
   "source": [
    "searcher.search?"
   ]
  },
  {
   "cell_type": "code",
   "execution_count": null,
   "id": "81df7fd4-712f-4132-bb36-8b71e85dff81",
   "metadata": {},
   "outputs": [],
   "source": []
  },
  {
   "cell_type": "code",
   "execution_count": null,
   "id": "3f385b6a-8b8f-4745-87b8-c6d6e13274a4",
   "metadata": {
    "tags": []
   },
   "outputs": [],
   "source": [
    "conv(mov)"
   ]
  },
  {
   "cell_type": "code",
   "execution_count": null,
   "id": "cbbed0c1-0ab3-48b4-9af9-2dd684c09176",
   "metadata": {
    "tags": []
   },
   "outputs": [],
   "source": [
    "mov"
   ]
  },
  {
   "cell_type": "code",
   "execution_count": null,
   "id": "cc3034f9-3dba-48af-9ee2-ef32f38fa463",
   "metadata": {
    "tags": []
   },
   "outputs": [],
   "source": [
    "display_board(fen)"
   ]
  },
  {
   "cell_type": "code",
   "execution_count": null,
   "id": "c0f52769-f304-4833-b3d4-4186e53092c5",
   "metadata": {
    "tags": []
   },
   "outputs": [],
   "source": [
    "def display_board2(fen,iswhite=None):\n",
    "    mycalc=Calculator(engine,engine)\n",
    "    b=chess.Board(fen)\n",
    "    if iswhite is None:\n",
    "        iswhite= b.turn\n",
    "    display( widgets.HTML(str(b._repr_svg_())))\n",
    "    mycalc.print_stats(b,iswhite)\n",
    "    "
   ]
  },
  {
   "cell_type": "code",
   "execution_count": null,
   "id": "4fe4959d-d425-4cf3-a4ff-8507a1dd6fdb",
   "metadata": {
    "tags": []
   },
   "outputs": [],
   "source": [
    "display_board2(fen)"
   ]
  },
  {
   "cell_type": "code",
   "execution_count": null,
   "id": "2b17a0d8-37fa-4ed5-a1da-47656392d988",
   "metadata": {},
   "outputs": [],
   "source": []
  }
 ],
 "metadata": {
  "kernelspec": {
   "display_name": "Python 3 (ipykernel)",
   "language": "python",
   "name": "python3"
  },
  "language_info": {
   "codemirror_mode": {
    "name": "ipython",
    "version": 3
   },
   "file_extension": ".py",
   "mimetype": "text/x-python",
   "name": "python",
   "nbconvert_exporter": "python",
   "pygments_lexer": "ipython3",
   "version": "3.10.0rc2"
  }
 },
 "nbformat": 4,
 "nbformat_minor": 5
}
