{
 "cells": [
  {
   "cell_type": "markdown",
   "id": "0c8dd292-906b-425d-a559-c58399613fca",
   "metadata": {},
   "source": [
    "## init "
   ]
  },
  {
   "cell_type": "code",
   "execution_count": null,
   "id": "f3886389-74b6-4076-bdc4-87a1e78afeb2",
   "metadata": {},
   "outputs": [],
   "source": [
    "!pip uninstall timer-decorator"
   ]
  },
  {
   "cell_type": "code",
   "execution_count": null,
   "id": "77f856b1-68d4-4245-80bb-eef9d7772de2",
   "metadata": {
    "tags": []
   },
   "outputs": [],
   "source": [
    "import execution_timer"
   ]
  },
  {
   "cell_type": "code",
   "execution_count": 24,
   "id": "193c46d7-97a8-4ca5-877d-b554a8cbf05f",
   "metadata": {
    "ExecuteTime": {
     "end_time": "2023-12-06T23:06:31.759346400Z",
     "start_time": "2023-12-06T23:06:31.578343200Z"
    },
    "tags": []
   },
   "outputs": [
    {
     "name": "stdout",
     "output_type": "stream",
     "text": [
      "The autoreload extension is already loaded. To reload it, use:\n",
      "  %reload_ext autoreload\n"
     ]
    }
   ],
   "source": [
    "%load_ext autoreload\n",
    "%autoreload 2\n",
    "\n",
    "import chess\n",
    "import ipywidgets as widgets\n",
    "import chess.pgn\n",
    "import numpy as np\n",
    "import io\n",
    "import sys\n",
    "\n",
    "\n",
    "\n",
    "if sys.platform=='win32':\n",
    "    STOCKFISHPATH=r'c:/gitproj/stockfish/stockfish-windows-x86-64-avx2.exe'\n",
    "else:\n",
    "    STOCKFISHPATH='/home/jovyan/stockfish/src/stockfish'\n",
    "\n",
    "engine = chess.engine.SimpleEngine.popen_uci(STOCKFISHPATH)\n",
    "\n",
    "#this after engine\n",
    "import nest_asyncio\n",
    "nest_asyncio.apply()\n",
    "\n",
    "from ipywidgets import interact, interactive, fixed, interact_manual, SelectMultiple, Combobox, HBox, VBox\n",
    "import ipywidgets as widgets\n",
    "import chess.engine\n",
    "mycalc=None\n",
    "global mycalc\n",
    "\n",
    "from calc import Calculator\n",
    "from chess._interactive import InteractiveViewer\n",
    "from IPython.display import clear_output\n",
    "import asyncio\n",
    "from random import randrange\n",
    "gbuf=\"\"\n",
    "class GameDispCalc(InteractiveViewer):    \n",
    "    @staticmethod\n",
    "    def get_game(pgn):\n",
    "        p=chess.pgn.read_game(io.StringIO(pgn))\n",
    "        gam=p.game()\n",
    "\n",
    "        return gam \n",
    "    @classmethod\n",
    "    def get_me(cls,pgn):\n",
    "        iv=GameDispCalc.get_game(pgn)._interactive_viewer()\n",
    "        iv.__class__=cls\n",
    "        iv.patch()\n",
    "        return iv\n",
    "\n",
    "    def patch(self):\n",
    "        from copy import deepcopy\n",
    "        gam= deepcopy(self.game)\n",
    "\n",
    "        ls=[]\n",
    "        for i,k in enumerate(self._InteractiveViewer__moves):\n",
    "            san=gam.board().san(k)\n",
    "            gam=gam.next()\n",
    "            ls+=[san]\n",
    "        self._InteractiveViewer__white_moves = [str(move) for (i, move) in enumerate(ls) if i % 2 == 0]\n",
    "        self._InteractiveViewer__black_moves = [str(move) for (i, move) in enumerate(ls) if i % 2 == 1]\n",
    "        self.moves=ls\n",
    "        self.calc= Calculator( STOCKFISHPATH)\n",
    "        self.task=None\n",
    "        \n",
    "        self.w= widgets.Output(layout={'border': '1px solid black'}) #widgets.interactive_output(f, {'a': 1, 'b': 2, 'c': 3})\n",
    "    \n",
    "    async def create_task(self,b):\n",
    "        #if asyncio.get_event_loop() is None:\n",
    "        #    asyncio.set_event_loop(asyncio.new_event_loop())\n",
    "\n",
    "        #def upd(res):\n",
    "        global gbuf\n",
    "        gbuf+=\"ab\"\n",
    "        \n",
    "        res = await self.calc.async_ret_stats(b,b.turn)\n",
    "\n",
    "        #self.w= widgets.Output(layout={'border': '1px solid black'})\n",
    "        nm=self._InteractiveViewer__next_move\n",
    "        #self.w.clear_output(True)\n",
    "        if nm>0:\n",
    "            self.w.append_stdout(self.moves[nm-1])\n",
    "        #self.w.append_stdout(str(randrange(3,100)))\n",
    "        \n",
    "        self.w.append_stdout(str(res))\n",
    "        #InteractiveViewer.show(self)\n",
    "        #with self._InteractiveViewer__out:\n",
    "        #    display('bbb')\n",
    "        #self._InteractiveViewer__out.            display(self.w)\n",
    "            \n",
    "        #if self.w:\n",
    "        #    self.w.clear_output()\n",
    "            #self._InteractiveViewer__out.outputs=self._InteractiveViewer__out.outputs[:-1] #+ [ w]\n",
    "        #self.w=w\n",
    "        #with self._InteractiveViewer__out:\n",
    "        #    display(self.w)\n",
    "        #self.show(fut=False)\n",
    "        #elf._InteractiveViewer__out.append_display_data(self.w)\n",
    "        #self._InteractiveViewer__out.clear_output()\n",
    "        self.show(False)\n",
    "        #display(self.w)\n",
    "       \n",
    "        \n",
    "        \n",
    "            \n",
    "            #print(str(res))\n",
    "            #print(randrange(3,100))\n",
    "            #gbuf+=str(randrange(3,100))\n",
    "            #gbuf+=str(res)\n",
    "        #print(\"fff\")\n",
    "        #st=asyncio.run()\n",
    "        #self.task.add_done_callback(upd) \n",
    "        \n",
    "    def show(self,fut=True):\n",
    "        global gbuf\n",
    "        clear_output()\n",
    "        #self.calc.observe= lambda x: \n",
    "        #self._InteractiveViewer__white_moves = [str(move) for (i, move) in enumerate(self._InteractiveViewer__moves) if i % 2 == 0]\n",
    "        #self._InteractiveViewer__black_moves = [str(move) for (i, move) in enumerate(self._InteractiveViewer__moves) if i % 2 == 1]\n",
    "        #self._InteractiveViewer__out.append_stdout('bbbb')\n",
    "        InteractiveViewer.show(self)\n",
    "        #self._InteractiveViewer__out.append_stdout(\"fff\")\n",
    "        #from IPython.display import clear_output\n",
    "        \n",
    "        \n",
    "        #if self.task:\n",
    "        #    self.task.cancel()\n",
    "        b=self.game.board()\n",
    "        loop = asyncio.get_event_loop()\n",
    "        #loop.run_in_executor(None, self.create_task)\n",
    "        #asyncio.run(self.task)\n",
    "        \n",
    "        \n",
    "        #self._InteractiveViewer__out.outputs=self._InteractiveViewer__out.outputs[:-1]\n",
    "        \n",
    "        b=self._InteractiveViewer__board\n",
    "        # with self._InteractiveViewer__out:\n",
    "        #     try:\n",
    "        #         y=self._InteractiveViewer__out.outputs[-1]['data']['text/plain'].startswith(\"Output\")\n",
    "        #         if y:\n",
    "        #             self._InteractiveViewer__out.outputs=iv._InteractiveViewer__out.outputs[:-1]\n",
    "        #             gbuf+=('bfghfgh')\n",
    "        #     except:\n",
    "        #         pass\n",
    "        #     try:\n",
    "        #         y=self._InteractiveViewer__out.outputs[-1]['data']['text/plain'].startswith(\"Output\")\n",
    "        #         if y:\n",
    "        #             self._InteractiveViewer__out.outputs=iv._InteractiveViewer__out.outputs[:-1]\n",
    "        #             gbuf+=('aaa')\n",
    "        #     except:\n",
    "        #         pass\n",
    "        if fut:\n",
    "            self.w= widgets.Output(layout={'border': '1px solid black'})\n",
    "        with self._InteractiveViewer__out:\n",
    "            display(self.w)\n",
    "                \n",
    "        # def tt(xx):\n",
    "        #     with self._InteractiveViewer__out:\n",
    "        #         display('bbb')\n",
    "        #     with self._InteractiveViewer__out:\n",
    "        #         display(self.w)\n",
    "        if fut:\n",
    "            self.task=asyncio.create_task(self.create_task(b))\n",
    "            #self.task.add_done_callback(tt)\n",
    "                \n",
    "        \n",
    "        #print('hhgf')\n",
    "        #self._InteractiveViewer__out.append_display_data(self.w)\n",
    "        #return self._InteractiveViewer__out\n",
    "        \n",
    "    import asyncio\n",
    "    def wait_for_change(widget, value):\n",
    "        future = asyncio.Future()\n",
    "        def getvalue(change):\n",
    "            # make the new value available\n",
    "            future.set_result(change.new)\n",
    "            widget.unobserve(getvalue, value)\n",
    "        widget.observe(getvalue, value)\n",
    "        return future\n",
    "        \n",
    "    \n",
    "    \n",
    "        \n",
    "        \n",
    "        \n",
    "            \n",
    "            \n",
    "        \n",
    "#     def display_game(self):      \n",
    "#         pgn=self.pgn\n",
    "#         def rev(x):\n",
    "#             a.value=(a.value-1)\n",
    "#         def adv(x):\n",
    "#             a.value=(a.value+1)\n",
    "\n",
    "#         from ipywidgets import Layout, Button, Box, FloatText, Textarea, Dropdown, Label, IntSlider\n",
    "#         gam = GameDispCalc.get_game(pgn)\n",
    "\n",
    "#         butl=Layout(width='35px',justify_content='center')\n",
    "#         ba=widgets.Button(description='<',layout=butl)\n",
    "#         ba.on_click(rev)\n",
    "#         ne=widgets.Button(description='>',layout=butl)\n",
    "#         ne.on_click(adv)\n",
    "#         mmax=len(list(gam.mainline_moves()))\n",
    "#         a = widgets.IntSlider(value=0, min=0, max=mmax)\n",
    "#         items = [ba,ne, widgets.Button(description='R',layout=butl),a]\n",
    "\n",
    "\n",
    "#         gb2 = widgets.HBox(items,layout=Layout(display='flex',\n",
    "#                 flex_flow='row',\n",
    "#                 align_items='stretch',\n",
    "#                 width='100%'))\n",
    "#         def f2(a):\n",
    "#             #update game progress\n",
    "#             cur=gam\n",
    "#             for k in range(a):\n",
    "#                 cur=cur.next()\n",
    "#             display( widgets.HTML(str(cur.board()._repr_svg_())))\n",
    "\n",
    "\n",
    "#         def f3(a):\n",
    "#             #update stability calc\n",
    "#             cur=gam\n",
    "#             for k in range(a):\n",
    "#                 cur=cur.next()\n",
    "\n",
    "#             iswhite= (a%2 ==0)\n",
    "\n",
    "#             curb=cur.board()\n",
    "#             #display(list(curb.generate_legal_moves()))\n",
    "\n",
    "#             self.print_stats(curb,iswhite,full=(a>5))\n",
    "\n",
    "#         return VBox([gb2,widgets.interactive_output(f2,{'a':a}),widgets.interactive_output(f3,{'a':a})],layout=Layout(\n",
    "#             display='flex',\n",
    "#             flex_flow='column',\n",
    "#             align_items='stretch',\n",
    "#             width='90%'\n",
    "#        ) )\n",
    "def display_game(pgn):\n",
    "    return GameDispCalc(pgn).display_game()\n",
    "\n",
    "def display_board(fen,iswhite=None,simp=False):\n",
    "    mycalc=Calculator(STOCKFISHPATH)\n",
    "    b=chess.Board(fen)\n",
    "    if iswhite is None:\n",
    "        iswhite= b.turn\n",
    "    display( widgets.HTML(str(b._repr_svg_())))\n",
    "    if not simp:\n",
    "        mycalc.print_stats(b,iswhite)\n",
    "        mycalc.printtimer() \n",
    "    return mycalc\n",
    "    \n",
    "fen='r2Rr1k1/pp3pp1/2p2bbp/4n3/4pBP1/2Q1P1NP/PPP2P2/1K3B1R b - - 0 17'\n",
    "#mycalc=Calculator(engine,None)\n",
    "b=chess.Board(fen)\n"
   ]
  },
  {
   "cell_type": "code",
   "execution_count": 8,
   "id": "d5a8829c-a655-44ba-af74-627dcf7f1730",
   "metadata": {
    "tags": []
   },
   "outputs": [
    {
     "data": {
      "text/plain": [
       "['_Output__counter',\n",
       " '__annotations__',\n",
       " '__class__',\n",
       " '__del__',\n",
       " '__delattr__',\n",
       " '__dict__',\n",
       " '__dir__',\n",
       " '__doc__',\n",
       " '__enter__',\n",
       " '__eq__',\n",
       " '__exit__',\n",
       " '__format__',\n",
       " '__ge__',\n",
       " '__getattribute__',\n",
       " '__getstate__',\n",
       " '__gt__',\n",
       " '__hash__',\n",
       " '__init__',\n",
       " '__init_subclass__',\n",
       " '__le__',\n",
       " '__lt__',\n",
       " '__module__',\n",
       " '__ne__',\n",
       " '__new__',\n",
       " '__reduce__',\n",
       " '__reduce_ex__',\n",
       " '__repr__',\n",
       " '__setattr__',\n",
       " '__setstate__',\n",
       " '__sizeof__',\n",
       " '__str__',\n",
       " '__subclasshook__',\n",
       " '__weakref__',\n",
       " '_active_widgets',\n",
       " '_add_notifiers',\n",
       " '_all_trait_default_generators',\n",
       " '_append_stream_output',\n",
       " '_call_widget_constructed',\n",
       " '_comm_changed',\n",
       " '_compare',\n",
       " '_control_comm',\n",
       " '_cross_validation_lock',\n",
       " '_default_keys',\n",
       " '_descriptors',\n",
       " '_dom_classes',\n",
       " '_flush',\n",
       " '_gen_repr_from_keys',\n",
       " '_get_embed_state',\n",
       " '_get_trait_default_generator',\n",
       " '_handle_control_comm_msg',\n",
       " '_handle_custom_msg',\n",
       " '_handle_msg',\n",
       " '_holding_sync',\n",
       " '_instance_inits',\n",
       " '_is_numpy',\n",
       " '_lock_property',\n",
       " '_log_default',\n",
       " '_model_id',\n",
       " '_model_module',\n",
       " '_model_module_version',\n",
       " '_model_name',\n",
       " '_msg_callbacks',\n",
       " '_notify_observers',\n",
       " '_notify_trait',\n",
       " '_property_lock',\n",
       " '_register_validator',\n",
       " '_remove_notifiers',\n",
       " '_repr_keys',\n",
       " '_repr_mimebundle_',\n",
       " '_send',\n",
       " '_should_send_property',\n",
       " '_states_to_send',\n",
       " '_static_immutable_initial_values',\n",
       " '_trait_default_generators',\n",
       " '_trait_from_json',\n",
       " '_trait_notifiers',\n",
       " '_trait_to_json',\n",
       " '_trait_validators',\n",
       " '_trait_values',\n",
       " '_traits',\n",
       " '_view_count',\n",
       " '_view_module',\n",
       " '_view_module_version',\n",
       " '_view_name',\n",
       " '_widget_construction_callback',\n",
       " '_widget_types',\n",
       " 'add_class',\n",
       " 'add_traits',\n",
       " 'append_display_data',\n",
       " 'append_stderr',\n",
       " 'append_stdout',\n",
       " 'blur',\n",
       " 'capture',\n",
       " 'class_own_trait_events',\n",
       " 'class_own_traits',\n",
       " 'class_trait_names',\n",
       " 'class_traits',\n",
       " 'clear_output',\n",
       " 'close',\n",
       " 'close_all',\n",
       " 'comm',\n",
       " 'cross_validation_lock',\n",
       " 'focus',\n",
       " 'get_manager_state',\n",
       " 'get_state',\n",
       " 'get_view_spec',\n",
       " 'handle_comm_opened',\n",
       " 'handle_control_comm_opened',\n",
       " 'has_trait',\n",
       " 'hold_sync',\n",
       " 'hold_trait_notifications',\n",
       " 'keys',\n",
       " 'layout',\n",
       " 'log',\n",
       " 'model_id',\n",
       " 'msg_id',\n",
       " 'notify_change',\n",
       " 'observe',\n",
       " 'on_msg',\n",
       " 'on_trait_change',\n",
       " 'on_widget_constructed',\n",
       " 'open',\n",
       " 'outputs',\n",
       " 'remove_class',\n",
       " 'send',\n",
       " 'send_state',\n",
       " 'set_state',\n",
       " 'set_trait',\n",
       " 'setup_instance',\n",
       " 'tabbable',\n",
       " 'tooltip',\n",
       " 'trait_defaults',\n",
       " 'trait_events',\n",
       " 'trait_has_value',\n",
       " 'trait_metadata',\n",
       " 'trait_names',\n",
       " 'trait_values',\n",
       " 'traits',\n",
       " 'unobserve',\n",
       " 'unobserve_all',\n",
       " 'widget_types',\n",
       " 'widgets']"
      ]
     },
     "execution_count": 8,
     "metadata": {},
     "output_type": "execute_result"
    }
   ],
   "source": [
    "dir(iv._InteractiveViewer__out)"
   ]
  },
  {
   "cell_type": "code",
   "execution_count": 14,
   "id": "ce526cc5-64eb-4278-8895-edebe9044635",
   "metadata": {
    "tags": []
   },
   "outputs": [
    {
     "data": {
      "text/plain": [
       "({'output_type': 'display_data',\n",
       "  'data': {'text/plain': \"GridBox(children=(Button(icon='step-forward', layout=Layout(grid_area='right', width='60px'), style=ButtonStyl…\",\n",
       "   'application/vnd.jupyter.widget-view+json': {'version_major': 2,\n",
       "    'version_minor': 0,\n",
       "    'model_id': 'b4f15e48a3b84e9a8f4ba1e3f80957f7'}},\n",
       "  'metadata': {}},)"
      ]
     },
     "execution_count": 14,
     "metadata": {},
     "output_type": "execute_result"
    }
   ],
   "source": [
    "iv._InteractiveViewer__out.outputs"
   ]
  },
  {
   "cell_type": "code",
   "execution_count": 6,
   "id": "cb5893f9-4875-4628-8811-d9b5dfd6c9cb",
   "metadata": {
    "tags": []
   },
   "outputs": [],
   "source": [
    "import ipywidgets"
   ]
  },
  {
   "cell_type": "code",
   "execution_count": 7,
   "id": "ecf54880-baa4-42c8-a360-fb48f77014e4",
   "metadata": {
    "tags": []
   },
   "outputs": [
    {
     "data": {
      "text/plain": [
       "<module 'ipywidgets' from 'C:\\\\Users\\\\ekarni\\\\.pyenv\\\\pyenv-win\\\\versions\\\\3.10\\\\lib\\\\site-packages\\\\ipywidgets\\\\__init__.py'>"
      ]
     },
     "execution_count": 7,
     "metadata": {},
     "output_type": "execute_result"
    }
   ],
   "source": [
    "ipywidgets"
   ]
  },
  {
   "cell_type": "code",
   "execution_count": 16,
   "id": "d0d7435d-9912-4fc2-8427-8e6f77ff5e7e",
   "metadata": {
    "tags": []
   },
   "outputs": [
    {
     "data": {
      "application/vnd.jupyter.widget-view+json": {
       "model_id": "eaca1ab35346482e88dbbfe33b734432",
       "version_major": 2,
       "version_minor": 0
      },
      "text/plain": [
       "IntSlider(value=0)"
      ]
     },
     "execution_count": 16,
     "metadata": {},
     "output_type": "execute_result"
    }
   ],
   "source": [
    "import asyncio\n",
    "def wait_for_change(widget, value):\n",
    "    future = asyncio.Future()\n",
    "    def getvalue(change):\n",
    "        # make the new value available\n",
    "        future.set_result(change.new)\n",
    "        widget.unobserve(getvalue, value)\n",
    "    widget.observe(getvalue, value)\n",
    "    return future\n",
    "from ipywidgets import IntSlider, Output\n",
    "slider = IntSlider()\n",
    "out = Output()\n",
    "\n",
    "async def f():\n",
    "    for i in range(10):\n",
    "        out.append_stdout('did work ' + str(i) + '\\n')\n",
    "        x = await wait_for_change(slider, 'value')\n",
    "        out.append_stdout('async function continued with value ' + str(x) + '\\n')\n",
    "asyncio.ensure_future(f())\n",
    "\n",
    "slider\n"
   ]
  },
  {
   "cell_type": "code",
   "execution_count": 17,
   "id": "f178c2dd-5877-474f-8473-967806bc6999",
   "metadata": {
    "tags": []
   },
   "outputs": [
    {
     "data": {
      "application/vnd.jupyter.widget-view+json": {
       "model_id": "ec18206a5dbf4602a4ded30f3077970b",
       "version_major": 2,
       "version_minor": 0
      },
      "text/plain": [
       "Output(outputs=({'output_type': 'stream', 'name': 'stdout', 'text': 'did work 0\\n'},))"
      ]
     },
     "execution_count": 17,
     "metadata": {},
     "output_type": "execute_result"
    }
   ],
   "source": [
    "out"
   ]
  },
  {
   "cell_type": "code",
   "execution_count": 14,
   "id": "09f57c7a-b485-4063-8023-fc466338b2bd",
   "metadata": {
    "tags": []
   },
   "outputs": [
    {
     "name": "stdout",
     "output_type": "stream",
     "text": [
      "zz\n",
      "xx\n"
     ]
    },
    {
     "data": {
      "application/vnd.jupyter.widget-view+json": {
       "model_id": "56587a75c2b4478cae490a33175eb9ec",
       "version_major": 2,
       "version_minor": 0
      },
      "text/plain": [
       "Output()"
      ]
     },
     "execution_count": 14,
     "metadata": {},
     "output_type": "execute_result"
    }
   ],
   "source": [
    "async def async_function(b):\n",
    "    await asyncio.sleep(5)\n",
    "    print(\"Async function completed\")\n",
    "    b('aa')\n",
    "    \n",
    "class P:\n",
    "    def observe(a,b,c):\n",
    "         print('zz')\n",
    "         t=asyncio.create_task(async_function(b))\n",
    "    @property\n",
    "    def value(self):\n",
    "        print(\"xx\")\n",
    "        \n",
    "def f(a):\n",
    "    print(a)\n",
    "widgets.interactive_output(f, {'a': P()} )"
   ]
  },
  {
   "cell_type": "code",
   "execution_count": 18,
   "id": "299c8df8-6b0b-4c68-b042-a607e80f528a",
   "metadata": {
    "tags": []
   },
   "outputs": [],
   "source": [
    "import asyncio\n",
    "# Define an async function\n",
    "async def async_function():\n",
    "    await asyncio.sleep(5)\n",
    "    print(\"Async function completed\")\n",
    "# Define a regular function\n",
    "def regular_function():\n",
    "    loop = asyncio.get_event_loop()\n",
    "    t=asyncio.create_task(async_function())\n",
    "    #loop.run_in_executor(None, async_function())\n",
    "    #loop.call_soon(asyncio.ensure_future(t))\n",
    "    #loop.run_forever()\n",
    "    \n",
    "    print('bbb')\n",
    "# Call the regular function\n",
    "#regular_function()\n"
   ]
  },
  {
   "cell_type": "code",
   "execution_count": 3,
   "id": "e0f81786-9c77-4a1b-a5ff-e25c430f072b",
   "metadata": {
    "tags": []
   },
   "outputs": [],
   "source": [
    "dd=iv._InteractiveViewer__out"
   ]
  },
  {
   "cell_type": "code",
   "execution_count": 4,
   "id": "925bb67d-5fe5-48e8-b055-9557aedf6603",
   "metadata": {
    "tags": []
   },
   "outputs": [
    {
     "data": {
      "text/plain": [
       "\u001b[1;31mSignature:\u001b[0m \u001b[0mdd\u001b[0m\u001b[1;33m.\u001b[0m\u001b[0mnotify_change\u001b[0m\u001b[1;33m(\u001b[0m\u001b[0mchange\u001b[0m\u001b[1;33m)\u001b[0m\u001b[1;33m\u001b[0m\u001b[1;33m\u001b[0m\u001b[0m\n",
       "\u001b[1;31mDocstring:\u001b[0m Called when a property has changed.\n",
       "\u001b[1;31mFile:\u001b[0m      c:\\users\\ekarni\\.pyenv\\pyenv-win\\versions\\3.10\\lib\\site-packages\\ipywidgets\\widgets\\widget.py\n",
       "\u001b[1;31mType:\u001b[0m      method"
      ]
     },
     "metadata": {},
     "output_type": "display_data"
    }
   ],
   "source": [
    "dd.notify_ch"
   ]
  },
  {
   "cell_type": "code",
   "execution_count": 8,
   "id": "94039ef3-b29a-4320-9827-b026be7b59ba",
   "metadata": {
    "tags": []
   },
   "outputs": [
    {
     "data": {
      "application/vnd.jupyter.widget-view+json": {
       "model_id": "ab266ed707864801b967416dfc4bd4c1",
       "version_major": 2,
       "version_minor": 0
      },
      "text/plain": [
       "Output(outputs=({'output_type': 'display_data', 'data': {'text/plain': \"GridBox(children=(Button(icon='step-fo…"
      ]
     },
     "execution_count": 8,
     "metadata": {},
     "output_type": "execute_result"
    }
   ],
   "source": [
    "iv._InteractiveViewer__out"
   ]
  },
  {
   "cell_type": "code",
   "execution_count": 45,
   "id": "06cc191c-18f3-48e9-a161-5623c1395fbd",
   "metadata": {
    "tags": []
   },
   "outputs": [
    {
     "data": {
      "application/vnd.jupyter.widget-view+json": {
       "model_id": "24d9fef824604c02b48393f0b80b47eb",
       "version_major": 2,
       "version_minor": 0
      },
      "text/plain": [
       "Output(outputs=({'output_type': 'display_data', 'data': {'text/plain': \"GridBox(children=(Button(icon='step-fo…"
      ]
     },
     "metadata": {},
     "output_type": "display_data"
    }
   ],
   "source": [
    "iv.show()"
   ]
  },
  {
   "cell_type": "code",
   "execution_count": null,
   "id": "097d147c-a823-44ca-9012-8a7e9c5c220f",
   "metadata": {},
   "outputs": [],
   "source": []
  },
  {
   "cell_type": "code",
   "execution_count": null,
   "id": "5d7515dd-a965-4f03-bea1-18a694eb0335",
   "metadata": {
    "tags": []
   },
   "outputs": [],
   "source": [
    "display_board('r2r2k1/pp3pp1/2p2bbp/4n3/4NBP1/2Q1P2P/PPP2P2/1K3B1R b - - 0 18)"
   ]
  },
  {
   "cell_type": "code",
   "execution_count": null,
   "id": "656ec84d-cbf5-491b-a6c7-5bb3e929341c",
   "metadata": {
    "tags": []
   },
   "outputs": [],
   "source": [
    "display_board(fen)"
   ]
  },
  {
   "cell_type": "code",
   "execution_count": null,
   "id": "a238db56-e19f-45b0-bc5d-6e873fe5d5c3",
   "metadata": {
    "tags": []
   },
   "outputs": [],
   "source": [
    "ff='3rr1k1/pp3pp1/2p2bbp/4n3/4pBP1/2Q1P1NP/PPP2P2/1K3B1R w - - 0 18'"
   ]
  },
  {
   "cell_type": "code",
   "execution_count": null,
   "id": "41aba06c-bbaa-4980-9e5c-28ed90465e2f",
   "metadata": {
    "tags": []
   },
   "outputs": [],
   "source": [
    "chess.Board(ff)"
   ]
  },
  {
   "cell_type": "code",
   "execution_count": null,
   "id": "01811a77-cbfc-4a6c-bc9e-172d193f9d32",
   "metadata": {
    "tags": []
   },
   "outputs": [],
   "source": [
    "b"
   ]
  },
  {
   "cell_type": "code",
   "execution_count": null,
   "id": "56cdfa80-7e7c-4717-b049-95894f2b2006",
   "metadata": {
    "tags": []
   },
   "outputs": [],
   "source": [
    "deprel=1/3\n",
    "f= 2** (-10* deprel)\n",
    "l=chess.engine.Limit(depth=3, time=0.001 * f * 1000  ,nodes=800 * f * 1000)\n",
    "engine.analyse(b,l)"
   ]
  },
  {
   "cell_type": "code",
   "execution_count": null,
   "id": "ddb6ca24-081b-45e2-9908-2260120571cf",
   "metadata": {
    "tags": []
   },
   "outputs": [],
   "source": [
    "deprel=1/3\n",
    "f= 2** (-10* deprel)\n",
    "l=chess.engine.Limit(depth=3, time=0.001 * f * 1000  ,nodes=800 * f * 1000)\n",
    "engine.analyse(chess.Board(ff),l)"
   ]
  },
  {
   "cell_type": "code",
   "execution_count": null,
   "id": "64db3f9b-f13f-44b7-8aac-b97689b71061",
   "metadata": {
    "tags": []
   },
   "outputs": [],
   "source": [
    "uci.from_fen(*fen.split(\" \"))"
   ]
  },
  {
   "cell_type": "code",
   "execution_count": null,
   "id": "a2aab435-c1c0-470a-acdd-1e50c18162b0",
   "metadata": {
    "tags": []
   },
   "outputs": [],
   "source": [
    "fen =='r3R1k1/pp3pp1/2p2bbp/8/4pBP1/2Q1P1NP/PPP2P2/1K2nB1R w - - 1 17'"
   ]
  },
  {
   "cell_type": "code",
   "execution_count": null,
   "id": "8d28305c-ec63-4c7e-897f-7c060f821496",
   "metadata": {
    "tags": []
   },
   "outputs": [],
   "source": [
    "b"
   ]
  },
  {
   "cell_type": "code",
   "execution_count": null,
   "id": "bc6de26b-6ed4-4aee-ad7f-adfb5df59e31",
   "metadata": {
    "tags": []
   },
   "outputs": [],
   "source": [
    "display_board ('r3R1k1/pp3pp1/2p2bbp/8/4pBP1/2Q1P1NP/PnP2P2/1K3B1R w - - 0 19',simp=True)"
   ]
  },
  {
   "cell_type": "code",
   "execution_count": null,
   "id": "b115af7a-a233-4a95-824d-e451ddbef9b9",
   "metadata": {
    "tags": []
   },
   "outputs": [],
   "source": [
    "display_board('r2R2k1/pp2rpp1/2p2bbp/4n3/4pBP1/2Q1P1NP/PPP2P2/1K3B1R w - - 1 18',simp=True)"
   ]
  },
  {
   "cell_type": "code",
   "execution_count": null,
   "id": "e3e5a10c-61bb-4a0b-8ff2-6a0771b32746",
   "metadata": {
    "tags": []
   },
   "outputs": [],
   "source": [
    "display_board(fen)"
   ]
  },
  {
   "cell_type": "code",
   "execution_count": null,
   "id": "3b463e47-26b8-4b3c-8b82-fcd94e5b017e",
   "metadata": {},
   "outputs": [],
   "source": [
    "!pip uninstall chess"
   ]
  },
  {
   "cell_type": "code",
   "execution_count": null,
   "id": "8dabc75c-56ad-46af-bd76-49a26b912fa9",
   "metadata": {
    "tags": []
   },
   "outputs": [],
   "source": [
    "!pip install chess"
   ]
  },
  {
   "cell_type": "code",
   "execution_count": null,
   "id": "0d72f6b8-7c75-4b6a-bfe6-b75214f2857e",
   "metadata": {
    "tags": []
   },
   "outputs": [],
   "source": [
    "gam"
   ]
  },
  {
   "cell_type": "code",
   "execution_count": null,
   "id": "33cb5a30-07c6-4c16-a3c4-149396df1ca1",
   "metadata": {
    "tags": []
   },
   "outputs": [],
   "source": [
    "\n",
    "fen.split(' ')[1]"
   ]
  },
  {
   "cell_type": "code",
   "execution_count": null,
   "id": "0f70661d-3ef1-4719-a11a-c2b24af47a47",
   "metadata": {},
   "outputs": [],
   "source": []
  },
  {
   "cell_type": "markdown",
   "id": "595b7969-413a-47a9-b73f-e7121df81bc5",
   "metadata": {},
   "source": [
    "## Carlsen game"
   ]
  },
  {
   "cell_type": "code",
   "execution_count": 25,
   "id": "1267e63c-c7e8-4700-a3bf-4302d6905a9c",
   "metadata": {
    "tags": []
   },
   "outputs": [
    {
     "data": {
      "application/vnd.jupyter.widget-view+json": {
       "model_id": "bafa23dddab642719c05f178ad266e26",
       "version_major": 2,
       "version_minor": 0
      },
      "text/plain": [
       "Output()"
      ]
     },
     "metadata": {},
     "output_type": "display_data"
    }
   ],
   "source": [
    "pgn='''[Event \"CCT Finals KO 2023\"]\n",
    "[White \"Carlsen,Magnus\"]\n",
    "[Black \"Caruana,Fabiano\"]\n",
    "[Site \"Toronto\"]\n",
    "[Round \"1.1\"]\n",
    "[Annotator \"TA\"]\n",
    "[Result \"1-0\"]\n",
    "[Date \"2023.12.13\"]\n",
    "[WhiteElo \"2830\"]\n",
    "[BlackElo \"2794\"]\n",
    "[PlyCount \"181\"]\n",
    "[TimeControl \"900+3\"]\n",
    "\n",
    "{[%evp 25,181,0,0,0,0,-1,0,0,7,13,7,0,20,-8,6,0,0,0,0,0,0,0,77,0,76,59,61,72,193,0,0,0,8,8,5,0,0,0,0,0,0,0,0,0,0,0,0,0,0,0,0,0,0,0,0,0,0,0,0,0,0,0,0,0,0,0,0,0,0,0,0,0,0,-41,0,0,0,0,0,0,0,0,0,0,0,0,0,-243,-225,-179,-120,-136,-130,-564,-489,-719,-767,-838,-613,-580,-548,-448,-188,-256,-262,-412,-234,-279,-266,-491,-527,-493,-454,-401,-389,-391,0,-831,0,0,0,0,0,0,0,-29989,-29990,-29990,0,-1612,-1449,-29990,-29976,-6070,-5081,-4308,-4704,-5069,0,0,0,-5072,-5057,-1446,0,0,0,0,0,0,0,0,0,0,0,0,29991,29992]} 1. e4 {[%emt 0:0:3]} e5 {[%emt 0:0:1]} 2. Nf3 {[%emt 0:0:2]} Nc6 {[%emt 0:0:2]} 3. Bb5 {[%emt 0:0:2]} a6 {[%emt 0:0:2]} 4. Ba4 {[%emt 0:0:1]} Nf6 {[%emt 0:0:2]} 5. O-O {[%emt 0:0:4]} Bc5 {[%emt 0:0:2]} 6. c3 {[%emt 0:0:41]} b5 {[%emt 0:0:4]} 7. Bb3 {[%emt 0:0:2]} d6 {[%emt 0:0:2]} 8. d4 {[%emt 0:1:7]} Bb6 {[%emt 0:0:2]} 9. Be3 {[%emt 0:0:3]} O-O {[%emt 0:0:8]} 10. Nbd2 {[%emt 0:0:3]} h6 {[%emt 0:0:7]} 11. h3 {[%emt 0:1:7]} Re8 {[%emt 0:0:3]} 12. a3 {[%emt 0:1:32]} Rb8 {[%emt 0:2:48]} 13. Bc2 {[%emt 0:1:11]} a5 {[%emt 0:0:40]} 14. Re1 {[%emt 0:0:15]} a4 {[%emt 0:0:23]} 15. Bd3 {[%emt 0:0:11]} Bd7 {[%emt 0:0:48]} 16. Qe2 {[%emt 0:1:18]} exd4 {[%emt 0:3:5]} 17. cxd4 {[%emt 0:0:3]} Ne7 $1 {[%emt 0:0:1]} 18. Rac1 {[%emt 0:2:3]} Ng6 {[%emt 0:0:24]} 19. Qf1 {[%emt 0:0:17]} Ba5 {[%emt 0:0:36]} 20. Red1 {[%emt 0:0:6]} c6 {[%emt 0:0:25]} 21. e5 {[%emt 0:0:47]} Nd5 {[%emt 0:1:23]} 22. Bxg6 {[%emt 0:0:38]} fxg6 {[%emt 0:0:1]} 23. Ne4 {[%emt 0:0:1]} Rf8 {[%emt 0:1:1]} (23... dxe5 $1 $11 {keeps the balance.} 24. Nxe5 Bc7 )24. Nxd6 {[%emt 0:1:5]} (24. Qe2 $1 $16 )Bxh3 {[%emt 0:0:32]} (24... Rxf3 $1 $11 {remains equal.} 25. gxf3 Qh4 )25. gxh3 {[%emt 0:0:22]} (25. Qd3 {feels hotter.} Ne7 26. Nh4 g5 27. Ng6 )Rxf3 {[%emt 0:0:2]} 26. Qg2 {[%emt 0:0:1]} (26. Rxc6 $2 Nxe3 27. fxe3 Rxf1+ $19 )Nxe3 {[%emt 0:0:22]} (26... Rxe3 $16 27. fxe3 Nxe3 28. Qxg6 Nxd1 29. Rxd1 Qg5+ 30. Qxg5 hxg5 )27. Qxf3 $2 {[%emt 0:0:46]} (27. fxe3 $18 Qg5 28. Qxg5 (28. Rxc6 $2 Qxe3+ 29. Kh2 Rf2 $19 )hxg5 29. e4 (29. Rxc6 Rxe3 30. Rdc1 Rf8 $14 ))Nxd1 $11 {[%emt 0:0:2]} 28. Rxd1 {[%emt 0:0:2]} Bc7 {[%emt 0:1:30]} 29. Qxc6 {[%emt 0:0:43]} Bxd6 {[%emt 0:0:2]} 30. Qd5+ {[%emt 0:0:31]} Kh7 {[%emt 0:0:2]} 31. exd6 {[%emt 0:0:2]} Qd7 {[%emt 0:0:10]} 32. Kg2 {[%emt 0:0:49]} Rb6 {[%emt 0:0:5]} 33. Qe4 {[%emt 0:0:16]} Rxd6 {[%emt 0:0:2]} 34. d5 {[%emt 0:0:2]} Rf6 {[%emt 0:0:5]} 35. Rd3 {[%emt 0:0:9]} Rd6 {[%emt 0:0:52]} 36. Qe5 {[%emt 0:0:7]} Qd8 {[%emt 0:0:7]} 37. Kf1 {[%emt 0:0:13]} Qc7 {[%emt 0:0:15]} 38. Rc3 {[%emt 0:0:7]} Qd7 {[%emt 0:0:5]} 39. Rd3 {[%emt 0:0:0]} Qd8 {[%emt 0:0:10]} 40. Ke2 {[%emt 0:0:3]} Qb6 {[%emt 0:0:6]} 41. Qd4 {[%emt 0:0:5]} Qb7 {[%emt 0:0:2]} 42. Kd2 {[%emt 0:0:1]} Qf7 {[%emt 0:0:4]} 43. Kc2 {[%emt 0:0:2]} Rf6 {[%emt 0:0:5]} 44. f3 {[%emt 0:0:4]} Qc7+ {[%emt 0:0:2]} 45. Kb1 {[%emt 0:0:2]} Qd6 {[%emt 0:0:5]} 46. Ka2 {[%emt 0:0:5]} Rf4 {[%emt 0:0:1]} 47. Qe3 {[%emt 0:0:4]} b4 {[%emt 0:0:3]} 48. axb4 $1 {[%emt 0:0:1]} Rxb4 {[%emt 0:0:1]} 49. Qd2 {[%emt 0:0:4]} Rb8 {[%emt 0:0:7]} 50. Rd4 {[%emt 0:0:1]} Rb3 {[%emt 0:0:12]} 51. Rd3 {[%emt 0:0:7]} Rb8 {[%emt 0:0:3]} 52. Rd4 {[%emt 0:0:1]} Rb5 {[%emt 0:0:3]} 53. h4 {[%emt 0:0:4]} h5 {[%emt 0:0:1]} 54. Qd3 {[%emt 0:0:5]} Rb3 {[%emt 0:0:2]} 55. Qd1 {[%emt 0:0:0]} Qb6 {[%emt 0:0:5]} 56. Qd2 $2 {[%emt 0:0:2]} (56. Rd2 $11 {and White stays safe.} )Rxf3 $19 {[%emt 0:0:3]} (56... a3 57. bxa3 Rxf3 58. Qb4 Rf2+ 59. Kb3 )57. Rd3 {[%emt 0:0:0]} Rf2 {[%emt 0:0:4]} (57... Rf1 $1 $19 58. Qe3 Qxe3 59. Rxe3 Rd1 )58. Qc3 $17 {[%emt 0:0:1]} Qd6 $1 {[%emt 0:0:4]} 59. Qc6 $2 {[%emt 0:0:2][%mdl 8192]} (59. Rd4 $17 {is more resistant.} )Qh2 $19 {[%emt 0:0:5]} 60. Qb6 {[%emt 0:0:2]} (60. Qc1 $142 a3 61. Rxa3 )Qxh4 $19 {[%emt 0:0:4]} 61. Rd4 {[%emt 0:0:2]} Qg3 {[%emt 0:0:4]} 62. Qb4 {[%emt 0:0:4]} a3 {[%emt 0:0:2]} 63. Qxa3 {[%emt 0:0:1]} Qe5 {[%emt 0:0:2]} (63... Qxa3+ $142 64. Kxa3 Rf8 )64. Qd3 {[%emt 0:0:2]} (64. Qb4 {keeps fighting.} )Qd6 $19 {[%emt 0:0:2]} (64... Qb8 $2 65. Qa3 $19 )65. Ra4 {[%emt 0:0:4]} (65. Kb1 {was worth a try.} )Rf5 {[%emt 0:0:13]} (65... Qh2 $142 66. Qc3 Rc2 )66. Rd4 $19 {[%emt 0:0:3]} Rf8 {[%emt 0:0:0]} 67. b4 $2 {[%emt 0:0:1]} (67. Kb1 {is a better defense.} )Rf2+ $19 {[%emt 0:0:0]} 68. Kb3 {[%emt 0:0:1]} Qf6 {[%emt 0:0:0]} 69. Qc4 {[%emt 0:0:8]} Rf3+ {[%emt 0:0:1]} 70. Rd3 {[%emt 0:0:1]} Rf2 $2 {[%emt 0:0:2]} (70... Rf1 $19 {aiming for ...Qa1.} 71. Rc3 Rd1 )71. d6 $2 {[%emt 0:0:2][%mdl 8192]} (71. Rd4 $11 )Qb2+ $2 {[%emt 0:0:6]} ({Black should try} 71... Qa1 $19 {( -> ...Qa2+)} 72. Qc5 Qa2+ 73. Kc3 Rc2+ 74. Kd4 Qa1+ 75. Ke4 Qh1+ 76. Ke5 Qh2+ 77. Ke4 Qg2+ 78. Rf3 Re2+ 79. Qe3 h4 )72. Ka4 $11 {[%emt 0:0:1]} Qa1+ {[%emt 0:0:1]} 73. Kb5 {[%emt 0:0:1]} Qa8 {[%emt 0:0:7]} (73... Rf8 $5 74. d7 $8 Rf6 $11 )74. d7 $1 {[%emt 0:0:2]} Rf5+ {[%emt 0:0:0]} 75. Kb6 $2 {[%emt 0:0:1][%mdl 8192]} (75. Qc5 $11 Qb7+ 76. Ka5 Qa8+ 77. Kb5 Rxc5+ 78. bxc5 )Qb8+ {[%emt 0:0:2]} 76. Ka6 {[%emt 0:0:1]} Qa8+ {[%emt 0:0:2]} (76... Rf6+ $142 77. Ka5 Qa7+ 78. Kb5 Rb6+ 79. Kc5 Re6+ 80. Kd5 Qxd7+ 81. Kc5 Rc6+ 82. Kb5 Rd6+ {[%mdl 64] Discovered Attack} 83. Ka5 Qa7+ 84. Kb5 Qa6+ 85. Kc5 Qc6# )77. Kb6 $19 {[%emt 0:0:1] [#]} Rf6+ $1 {[%emt 0:0:5]} 78. Kc5 {[%emt 0:0:23]} Rc6+ {[%emt 0:0:2]} 79. Kd4 {[%emt 0:0:1]} Rxc4+ {[%emt 0:0:4]} 80. Kxc4 {[%emt 0:0:1]} Qd8 {[%emt 0:0:8]} 81. b5 {[%emt 0:0:1]} Qc7+ $2 {[%emt 0:0:3]} (81... g5 $19 82. b6 g4 )82. Kb3 $11 {[%emt 0:0:2]} Qd8 {[%emt 0:0:1]} 83. Ka4 $2 {[%emt 0:0:7][%mdl 8192]} (83. Kc4 $11 g5 84. b6 )h4 $19 {[%emt 0:0:4]} 84. b6 {[%emt 0:0:0] [#]} h3 $2 {[%emt 0:0:4]} ({And not} 84... Qxb6 85. d8=Q (85. d8=B {gets mated.} Qa6+ 86. Kb4 Qxd3 87. Bxh4 Qd4+ 88. Kb5 Qxh4 89. Kc6 Qe4+ 90. Kb6 g5 91. Kc7 g4 92. Kd6 g3 93. Kc5 g2 94. Kd6 g1=Q 95. Kd7 Qa7+ 96. Kd8 Qea8# )Qxd8 86. Rxd8 $11 )(84... g5 $1 $19 {[%cal Rg5g4] ...g4! would be deadly.} 85. b7 g4 )85. Rxh3+ $11 {[%emt 0:0:1]} Kg8 {[%emt 0:0:0]} 86. Rd3 {[%emt 0:0:2]} Kf7 {[%emt 0:0:1]} (86... Qxb6 87. d8=Q+ (87. d8=R+ $2 {loses.} Kf7 $19 )Qxd8 88. Rxd8+ $18 )87. b7 {[%emt 0:0:1]} Ke7 {[%emt 0:0:0]} 88. Kb5 {[%emt 0:0:1]} g5 {[%emt 0:0:3]} 89. Kc6 {[%emt 0:0:4]} g4 {[%emt 0:0:2]} 90. Re3+ {[%emt 0:0:13]} Kf6 $2 {[%emt 0:0:4][%mdl 8192]} (90... Kf7 $11 )91. Re8 {[%emt 0:0:2]} 1-0\n",
    "\n",
    "'''\n",
    "#display_game(pgn)\n",
    "\n",
    "iv=GameDispCalc.get_me(pgn)\n",
    "\n",
    "#iv.__class__ = GameDispCalc\n",
    "\n",
    "iv.show()\n",
    "\n"
   ]
  },
  {
   "cell_type": "code",
   "execution_count": 10,
   "id": "d06b40d3-ac21-499d-ab59-9715e32d2340",
   "metadata": {
    "tags": []
   },
   "outputs": [],
   "source": [
    "tt=iv._InteractiveViewer__out"
   ]
  },
  {
   "cell_type": "code",
   "execution_count": 14,
   "id": "253897a9-6865-49b8-9198-e07fddd68f1f",
   "metadata": {
    "tags": []
   },
   "outputs": [],
   "source": [
    "with tt:\n",
    "    print(tt.)"
   ]
  },
  {
   "cell_type": "code",
   "execution_count": 16,
   "id": "de3d8668-0732-4737-bb1a-6c2ca94dda2c",
   "metadata": {
    "tags": []
   },
   "outputs": [
    {
     "data": {
      "text/plain": [
       "{'output_type': 'display_data',\n",
       " 'data': {'text/plain': \"GridBox(children=(Button(icon='step-forward', layout=Layout(grid_area='right', width='60px'), style=ButtonStyl…\",\n",
       "  'application/vnd.jupyter.widget-view+json': {'version_major': 2,\n",
       "   'version_minor': 0,\n",
       "   'model_id': ''}},\n",
       " 'metadata': {}}"
      ]
     },
     "execution_count": 16,
     "metadata": {},
     "output_type": "execute_result"
    }
   ],
   "source": [
    "tt.outputs[0]"
   ]
  },
  {
   "cell_type": "code",
   "execution_count": 7,
   "id": "d81d661d-d68d-472e-932c-f8d1d6478ee7",
   "metadata": {
    "tags": []
   },
   "outputs": [
    {
     "data": {
      "text/plain": [
       "'ababbfghfghabbfghfghabbfghfghabbfghfghabbfghfghabbfghfghabbfghfghabbfghfghab'"
      ]
     },
     "execution_count": 7,
     "metadata": {},
     "output_type": "execute_result"
    }
   ],
   "source": [
    "gbuf"
   ]
  },
  {
   "cell_type": "code",
   "execution_count": 33,
   "id": "1588d085-7408-4d30-962f-3bffa464ced7",
   "metadata": {
    "tags": []
   },
   "outputs": [
    {
     "data": {
      "text/plain": [
       "'ab4score: -0.42\\nstability factor: 98.68%\\nnum of reasonable moves: 1366\\nmax(score) of reasonable: 2.13\\nmin(score) of reasonable: -0.6\\nfaraction method: False\\nmoves by depth: {1: 18, 2: 296, 3: 1366}\\nab37score: -0.42\\nstability factor: 98.68%\\nnum of reasonable moves: 1366\\nmax(score) of reasonable: 2.13\\nmin(score) of reasonable: -0.6\\nfaraction method: False\\nmoves by depth: {1: 18, 2: 296, 3: 1366}\\nab78score: -0.42\\nstability factor: 98.68%\\nnum of reasonable moves: 1366\\nmax(score) of reasonable: 2.13\\nmin(score) of reasonable: -0.6\\nfaraction method: False\\nmoves by depth: {1: 18, 2: 296, 3: 1366}\\nab84score: -0.42\\nstability factor: 98.68%\\nnum of reasonable moves: 1366\\nmax(score) of reasonable: 2.13\\nmin(score) of reasonable: -0.6\\nfaraction method: False\\nmoves by depth: {1: 18, 2: 296, 3: 1366}\\n'"
      ]
     },
     "execution_count": 33,
     "metadata": {},
     "output_type": "execute_result"
    }
   ],
   "source": [
    "iv."
   ]
  },
  {
   "cell_type": "code",
   "execution_count": 63,
   "id": "9b6874f2-2c8c-4083-b689-48479598a088",
   "metadata": {
    "tags": []
   },
   "outputs": [
    {
     "data": {
      "application/vnd.jupyter.widget-view+json": {
       "model_id": "134fe9f66cf849e398a5952a636fc443",
       "version_major": 2,
       "version_minor": 0
      },
      "text/plain": [
       "Output(outputs=({'output_type': 'display_data', 'data': {'text/plain': \"GridBox(children=(Button(icon='step-fo…"
      ]
     },
     "metadata": {},
     "output_type": "display_data"
    }
   ],
   "source": [
    "iv._Int"
   ]
  },
  {
   "cell_type": "code",
   "execution_count": 11,
   "id": "fea57128-43d1-40a3-86ba-4215c92ea0b9",
   "metadata": {
    "tags": []
   },
   "outputs": [],
   "source": [
    "gg=GameDispCalc.get_game(pgn)"
   ]
  },
  {
   "cell_type": "code",
   "execution_count": 13,
   "id": "ead825ed-00c4-4cfa-a678-5d60d295c5dd",
   "metadata": {
    "tags": []
   },
   "outputs": [],
   "source": []
  },
  {
   "cell_type": "code",
   "execution_count": 15,
   "id": "813fcdf1-bdd4-46a9-b4b6-11fd5e0661d3",
   "metadata": {
    "tags": []
   },
   "outputs": [
    {
     "data": {
      "text/plain": [
       "<ChildNode at 0x1b8342d0e80 (1. e4 ...)>"
      ]
     },
     "execution_count": 15,
     "metadata": {},
     "output_type": "execute_result"
    }
   ],
   "source": []
  },
  {
   "cell_type": "code",
   "execution_count": 2,
   "id": "491eec91-6e30-4d6c-89b8-aab591dff11b",
   "metadata": {
    "ExecuteTime": {
     "end_time": "2023-12-06T23:02:28.374557500Z",
     "start_time": "2023-12-06T23:02:28.281557200Z"
    },
    "tags": []
   },
   "outputs": [
    {
     "ename": "AttributeError",
     "evalue": "'GameDispCalc' object has no attribute 'display_game'",
     "output_type": "error",
     "traceback": [
      "\u001b[1;31m---------------------------------------------------------------------------\u001b[0m",
      "\u001b[1;31mAttributeError\u001b[0m                            Traceback (most recent call last)",
      "Cell \u001b[1;32mIn[2], line 19\u001b[0m\n\u001b[0;32m      1\u001b[0m pgn\u001b[38;5;241m=\u001b[39m\u001b[38;5;124m'''\u001b[39m\u001b[38;5;124m[Event \u001b[39m\u001b[38;5;124m\"\u001b[39m\u001b[38;5;124mBiel Chess Festival\u001b[39m\u001b[38;5;124m\"\u001b[39m\u001b[38;5;124m]\u001b[39m\n\u001b[0;32m      2\u001b[0m \u001b[38;5;124m[Site \u001b[39m\u001b[38;5;124m\"\u001b[39m\u001b[38;5;124mBiel SUI\u001b[39m\u001b[38;5;124m\"\u001b[39m\u001b[38;5;124m]\u001b[39m\n\u001b[0;32m      3\u001b[0m \u001b[38;5;124m[Date \u001b[39m\u001b[38;5;124m\"\u001b[39m\u001b[38;5;124m2007.08.02\u001b[39m\u001b[38;5;124m\"\u001b[39m\u001b[38;5;124m]\u001b[39m\n\u001b[1;32m   (...)\u001b[0m\n\u001b[0;32m     17\u001b[0m \u001b[38;5;124mfxg5 22. e6 Kxh6 23. e7 Qb6 24. exf8=Q+ Nxf8 25. c4 Nf4 26. Qd6 Kg7 27. Bxf4\u001b[39m\n\u001b[0;32m     18\u001b[0m \u001b[38;5;124mgxf4 28. Re7+ 1-0\u001b[39m\u001b[38;5;124m'''\u001b[39m\n\u001b[1;32m---> 19\u001b[0m \u001b[43mdisplay_game\u001b[49m\u001b[43m(\u001b[49m\u001b[43mpgn\u001b[49m\u001b[43m)\u001b[49m\n",
      "Cell \u001b[1;32mIn[1], line 115\u001b[0m, in \u001b[0;36mdisplay_game\u001b[1;34m(pgn)\u001b[0m\n\u001b[0;32m    114\u001b[0m \u001b[38;5;28;01mdef\u001b[39;00m \u001b[38;5;21mdisplay_game\u001b[39m(pgn):\n\u001b[1;32m--> 115\u001b[0m     \u001b[38;5;28;01mreturn\u001b[39;00m GameDispCalc(pgn)\u001b[38;5;241m.\u001b[39mdisplay_game()\n",
      "\u001b[1;31mAttributeError\u001b[0m: 'GameDispCalc' object has no attribute 'display_game'"
     ]
    }
   ],
   "source": [
    "pgn='''[Event \"Biel Chess Festival\"]\n",
    "[Site \"Biel SUI\"]\n",
    "[Date \"2007.08.02\"]\n",
    "[Round \"9\"]\n",
    "[White \"Magnus Carlsen\"]\n",
    "[Black \"Teimour Radjabov\"]\n",
    "[Result \"1-0\"]\n",
    "[EventDate \"?\"]\n",
    "[ECO \"B07\"]\n",
    "[WhiteElo \"2710\"]\n",
    "[BlackElo \"2747\"]\n",
    "[PlyCount \"55\"]\n",
    "\n",
    "1. e4 d6 2. d4 Nf6 3. Nc3 e5 4. Nge2 Nbd7 5. g3 c6 6. Bg2 b5 7. a3 Be7 8. O-O\n",
    "O-O 9. h3 a5 10. g4 Ba6 11. Ng3 b4 12. Nce2 bxa3 13. Rxa3 d5 14. Re3 dxe4 15.\n",
    "Re1 Qc7 16. Nf5 Bd8 17. g5 Nd5 18. Rxe4 f6 19. Neg3 g6 20. Nh6+ Kg7 21. dxe5\n",
    "fxg5 22. e6 Kxh6 23. e7 Qb6 24. exf8=Q+ Nxf8 25. c4 Nf4 26. Qd6 Kg7 27. Bxf4\n",
    "gxf4 28. Re7+ 1-0'''\n",
    "display_game(pgn)"
   ]
  },
  {
   "cell_type": "code",
   "execution_count": null,
   "id": "238e4d1f-2335-4855-aabc-d6359a503075",
   "metadata": {
    "tags": []
   },
   "outputs": [],
   "source": [
    "display_board(fen)"
   ]
  },
  {
   "cell_type": "markdown",
   "id": "2cdb0670-13da-423d-8a66-87304fde8228",
   "metadata": {},
   "source": [
    "## Najdorfg"
   ]
  },
  {
   "cell_type": "code",
   "execution_count": null,
   "id": "a6c8196d-b35a-4064-b880-590cf48f8936",
   "metadata": {
    "tags": []
   },
   "outputs": [],
   "source": [
    "naj='''\n",
    "1. e4 c5 2. Nf3 d6 3. d4 cxd4 4. Nxd4 Nf6 5. Nc3 a6 6. Be2 e6 7. O-O Nbd7 8. f4 b5 9. Bf3 Bb7 10. e5 Bxf3 11. Nxf3 Ng4 12. Qe2 b4 13. Ne4 d5 14. Nd6+ Bxd6 15. exd6 Qb6+ 16. Kh1 '''\n",
    "display_game(naj)"
   ]
  },
  {
   "cell_type": "markdown",
   "id": "9e116a25-b3d3-4502-906f-dbe8d2112d90",
   "metadata": {},
   "source": [
    "## my stupid game"
   ]
  },
  {
   "cell_type": "code",
   "execution_count": null,
   "id": "230db6a8-fcca-4d62-ba04-65c119507f7a",
   "metadata": {
    "tags": []
   },
   "outputs": [],
   "source": [
    "pgn2='''\n",
    "[Event \"Live Chess\"]\n",
    "[Site \"Chess.com\"]\n",
    "[Date \"2023.12.05\"]\n",
    "[Round \"?\"]\n",
    "[White \"nevertheless33\"]\n",
    "[Black \"andrewmoussa\"]\n",
    "[Result \"1-0\"]\n",
    "[ECO \"D01\"]\n",
    "[TimeControl \"300\"]\n",
    "[EndTime \"14:11:45 PST\"]\n",
    "[Termination \"nevertheless33 won by resignation\"]\n",
    "\n",
    "1. d4 d5 2. Nc3 Nf6 3. Bg5 Ne4 4. Nxe4 dxe4 5. Qd2 h6 6. Be3 Bf5 7. h3 e6 8. g4\n",
    "Bg6 9. O-O-O Be7 10. Kb1 O-O 11. Bf4 Nd7 12. Qc3 c6 13. e3 Bf6 14. Ne2 Re8 15.\n",
    "Ng3 e5 16. dxe5 Nxe5 17. Rxd8 Raxd8 18. Be2 Nc4 19. Qxc4 b5 20. Qxc6 Re6 21. Qc7\n",
    "Ra6 22. Rd1 Rxd1+ 23. Bxd1 Rb6 24. Bd6 Ra6 25. Qc8+ 1-0'''\n",
    "\n",
    "display_game(pgn2)"
   ]
  },
  {
   "cell_type": "code",
   "execution_count": null,
   "id": "64e483a3-c649-4ec8-ad29-e4f121bdacfc",
   "metadata": {
    "tags": []
   },
   "outputs": [],
   "source": [
    "%run C:\\gitproj\\chess_analyzer\\calc.py"
   ]
  },
  {
   "cell_type": "code",
   "execution_count": null,
   "id": "6bce5557-56e1-45a5-99a5-035b63fc827a",
   "metadata": {
    "tags": []
   },
   "outputs": [],
   "source": [
    "sys.executable"
   ]
  },
  {
   "cell_type": "markdown",
   "id": "eec0e7bce2f9590c",
   "metadata": {},
   "source": [
    "### Debug"
   ]
  },
  {
   "cell_type": "code",
   "execution_count": null,
   "id": "b75786b5-b8da-440c-a216-a05ca1af167b",
   "metadata": {},
   "outputs": [],
   "source": [
    "g=[-0.1, 0.63, -0.35, 0.28, -0.07, 0.73, 0.41, 0.64, 0.21, 0.46, 0.75, 0.2, 0.39, 0.72, 0.6, 0.49, -0.1, 0.31, 0.5, 0.01, 0.39, 0.18, -0.49, 0.9, 0.7, -0.01, 0.39, -0.64, 0.02, -0.88, -0.6, -0.56, -0.26, -0.07, -0.47, -0.3, -0.26, -0.68, -0.19, -0.43, -0.21, -0.19, -0.66, 0.0, -0.04, -0.15, -0.21, -0.51, -1.2, -0.75, -0.92, 0.02, -0.46, -0.33, -0.57, 0.41, -0.21, -0.53, -0.17, 0.05, -0.29, -1.18, 0.16, -0.49, 0.48, -0.13, -0.03, -0.67, 0.26, 0.09, -0.15, 0.09, -0.14, -1.21, -0.27, 0.57, 0.22, -0.69, -0.29, -0.04, 0.45, -0.39, 0.0, -0.1, 0.17, 0.48, -0.11, 0.15, 0.72, -0.25, 0.31, 0.2, 0.26, 0.32, 0.25, 0.29, 0.29, 0.18, 0.36, 0.16, -0.31, -0.25, 0.86, 0.47, -0.64, 0.02, -0.31, 0.16, -0.7, 0.09, -0.42, 0.15, -0.29, -0.03, 0.39, -0.46, 0.25, -0.09, -0.07, 0.19, -0.15, 0.06, -0.02, -0.04, 0.07, -0.22, -0.4, -0.41, 0.57, 0.2, -0.22, -0.23, -0.14, 0.07, -0.93, -0.39, -0.42, -0.17, 0.01, -0.32, -0.41, 0.04, -0.29, 0.05, -0.21, -0.07, -0.11, -0.53, -0.13, -0.21, -0.46, -0.18, -0.15, -0.77, -0.42, 0.52, 0.08, -0.21, -0.12, 0.55, 0.71, -0.48, 0.51, 0.12, 0.26, 0.17, 0.6, 1.05, 0.03, 0.62, 0.58, 0.52, 0.72, 0.26, 0.52, 0.42, 0.35, 0.64, 0.3, -0.21, 0.24, 1.25, 0.58, 0.2, 0.12, -0.47, -0.02, -0.88, -0.49, -0.51, -0.17, -0.45, -0.34, 0.4, -0.78, -0.05, -1.21, -0.17, -0.13, -0.91, -0.01, -0.16, -0.1, -0.13, -0.47, -0.61, -0.52, 0.44, 0.0, -1.07, -0.38, -0.24, 0.14, -0.76, -0.04, -0.27, -0.26, 0.09, -0.21, -0.36, 0.28, -0.45, -0.18, -0.21, 0.09, 0.09, -0.1, 0.18, -0.04, -0.16, 0.05, -0.04, -1.53, -0.42, 0.3, 0.11, -0.39, 0.07, -0.54, 0.22, -0.64, -0.09, -0.46, -0.29, -0.03, -0.38, -0.1, 0.12, -0.43, 0.15, -1.11, -0.01, -0.03, -0.32, 0.16, -0.13, -0.24, -0.12, -0.25, -0.69, -0.47, 0.25, 0.22, -0.53, -0.36, -0.17, 0.13, -0.66, -0.04, -0.37, 0.18, 0.06, -0.21, -0.19, 0.49, -0.58, 0.29, 0.03, -0.05, 0.06, -0.07, 0.1, -0.05, -0.19, 0.01, -0.17, -0.47, -0.47, 0.69, 0.4, -0.49, -0.19, -0.23, 0.13, -0.78, -0.21, -0.38, 0.04, 0.12, -0.13, -0.13, 0.33, -0.54, 0.14, -0.04, -0.16, 0.23, -0.42, 0.02, 0.05, -0.21, -0.08, -0.17, -0.57, -0.56, 0.58, 0.19, -0.52, -0.23, -0.29, 0.57, -0.66, 0.26, -0.06, 0.55, 0.47, -0.03, 0.35, 0.64, -0.1, 0.57, 0.48, 0.48, 0.41, -0.19, 0.54, 0.24, 0.06, 0.39, 0.19, -0.28, 0.89, 0.73, -0.21, 0.18, 0.26, 0.42, 0.7, 0.29, 1.57, 0.5, 0.67, 1.47, 0.89, 0.93, 1.13, 1.16, 1.05, 0.91, 0.82, 1.07, 0.65, 1.34, 1.18, 0.23, 0.7, 1.66, 1.28, 0.51, 1.2, 0.42, 0.4, -0.31, 0.26, 0.0, 0.26, 0.38, 0.27, 0.19, 0.41, -0.21, 0.12, -0.16, 0.12, 0.46, -0.05, 0.28, 0.24, 0.26, 0.36, 0.28, 0.04, -0.03, -0.44, 0.45, 0.04, 0.22, -0.75, -0.56, -0.78, -0.92, -0.33, -0.92, -0.03, 1.0, -0.33, -0.63, -0.4, 0.04, -0.04, -0.84, -0.51, -0.93, -0.19, -0.77, -0.95, -0.79, 0.05, -1.15, -0.46, -0.56, -0.29, -0.03, -0.4, -0.23, -0.2, -0.72, -0.31, -0.21, -0.18, -0.9, 0.0, -0.15, -0.35, -0.19, -0.48, -1.79, -0.79, -0.86, 0.1, -0.85, -0.35, -1.04, -0.27, -1.65, -0.77, -0.82, -1.11, -0.89, -0.67, -1.0, -0.09, -0.92, -1.45, 0.05, 0.32, -0.6, -0.5, -1.07, 0.0, -0.1, -0.79, -0.74, -0.77, -1.06, -1.03, -0.11, -0.16, -0.99, -0.87, 0.2, 0.48, -0.7, 0.35, -0.37, 0.5, 0.38, -0.05, 0.05, -0.06, -0.5, 0.83, -0.05, 0.1, 0.04, 0.08, 0.32, 0.42, -0.06, 0.3, 0.08, -0.21, -0.22, 0.85, 0.19, -0.53, 0.47, -0.28, 0.28, -0.55, -0.21, -0.43, 0.22, 0.2, -0.1, 0.13, 0.18, -0.15, 0.27, -0.09, 0.06, 0.08, -0.05, 0.25, 0.06, -0.14, 0.24, 0.01, -0.29, -0.31, 0.62, 0.36, -0.07]\n",
    "init=5.75"
   ]
  },
  {
   "cell_type": "code",
   "execution_count": null,
   "id": "94c29c02-45de-4a9d-8391-87e471123c02",
   "metadata": {},
   "outputs": [],
   "source": [
    " gb=np.array(g,dtype='float64')/(init/100) * FRACFACTOR"
   ]
  },
  {
   "cell_type": "code",
   "execution_count": null,
   "id": "a65eddb1-6b74-455d-a0a3-25eb15178b13",
   "metadata": {},
   "outputs": [],
   "source": [
    "gb"
   ]
  },
  {
   "cell_type": "code",
   "execution_count": null,
   "id": "91396c54-53d0-4515-af0a-71404ba25aa7",
   "metadata": {},
   "outputs": [],
   "source": [
    "gc[gc<0]=0"
   ]
  },
  {
   "cell_type": "code",
   "execution_count": null,
   "id": "d5cdfd35-8b54-4fdc-996d-bc487679f562",
   "metadata": {},
   "outputs": [],
   "source": [
    "gc= (-1)*np.square(gb) *SIGMA"
   ]
  },
  {
   "cell_type": "code",
   "execution_count": null,
   "id": "751e9672-e5bb-49b3-96a6-18148e99d448",
   "metadata": {},
   "outputs": [],
   "source": [
    "gc"
   ]
  },
  {
   "cell_type": "markdown",
   "id": "40a1ea86-86ae-419a-8aef-4be7ed71a5d4",
   "metadata": {},
   "source": [
    "### def board"
   ]
  },
  {
   "cell_type": "code",
   "execution_count": null,
   "id": "74c04c40-e59c-4d87-9b94-155874043c5f",
   "metadata": {
    "tags": []
   },
   "outputs": [],
   "source": []
  },
  {
   "cell_type": "code",
   "execution_count": null,
   "id": "354c313b-05e7-4b25-9742-c9aff1ac482c",
   "metadata": {
    "tags": []
   },
   "outputs": [],
   "source": [
    "display_board('r2Rr1k1/pp3pp1/2p2bbp/4n3/4pBP1/2Q1P1NP/PPP2P2/1K3B1R b - - 0 17',iswhite=False)"
   ]
  },
  {
   "cell_type": "code",
   "execution_count": null,
   "id": "1e029bea-3ec5-4cfa-85e8-9d53acb536d2",
   "metadata": {
    "tags": []
   },
   "outputs": [],
   "source": [
    "b"
   ]
  },
  {
   "cell_type": "code",
   "execution_count": null,
   "id": "841723cd-541a-4639-9e64-3fab2f56abcc",
   "metadata": {},
   "outputs": [],
   "source": [
    "def convit(b,color,mov):\n",
    "    from calc import conv,convtrans\n",
    "    f = conv if color=='w' else convtrans\n",
    "    return b.san(chess.Move.from_uci(f(mov)))"
   ]
  },
  {
   "cell_type": "code",
   "execution_count": null,
   "id": "ce3c81bb-a2ca-4f3c-9c77-07a4646cfc70",
   "metadata": {
    "tags": []
   },
   "outputs": [],
   "source": [
    "engine = chess.engine.SimpleEngine.popen_uci(STOCKFISHPATH)\n",
    "\n",
    "engine.configure( {\"UCI_LimitStrength\": True, \"UCI_Elo\": 1720} )\n",
    "# Use the 'go' method to compute the engine evaluation\n",
    "result = engine.analyse(b, chess.engine.Limit(depth=20,time=5000),multipv=30)\n",
    "# Fetch the three best moves and their scores\n",
    "for line in result:\n",
    "    print(f'Move: {line[0]}, Score: {line.score()}')\n"
   ]
  },
  {
   "cell_type": "code",
   "execution_count": null,
   "id": "01640bed-06cb-44ff-9257-5c7536a4cf5d",
   "metadata": {
    "tags": []
   },
   "outputs": [],
   "source": [
    "engine.analyse(b, chess.engine.Limit(depth=5,time=0.001),multipv=30)"
   ]
  },
  {
   "cell_type": "code",
   "execution_count": null,
   "id": "f2a0618a-eef8-4e2f-86dd-cb4339438c2d",
   "metadata": {
    "tags": []
   },
   "outputs": [],
   "source": [
    "chess.engine.Limit"
   ]
  },
  {
   "cell_type": "code",
   "execution_count": null,
   "id": "83e6cd34-6eef-4f56-99e7-e8475be68d33",
   "metadata": {
    "tags": []
   },
   "outputs": [],
   "source": [
    "result = engine.analyse(b, chess.engine.Limit(depth=3,time=100),multipv=5)\n"
   ]
  },
  {
   "cell_type": "code",
   "execution_count": null,
   "id": "f30c6899-52d4-49a1-ba52-67bf983ec5e0",
   "metadata": {
    "tags": []
   },
   "outputs": [],
   "source": [
    "b"
   ]
  },
  {
   "cell_type": "code",
   "execution_count": null,
   "id": "9cc6584b-e3a6-4146-8319-e9427c96b747",
   "metadata": {
    "tags": []
   },
   "outputs": [],
   "source": [
    "result"
   ]
  },
  {
   "cell_type": "code",
   "execution_count": null,
   "id": "878b7a91-dcbd-44df-94f7-0268f746db4b",
   "metadata": {
    "tags": []
   },
   "outputs": [],
   "source": [
    "domoves(b,result[1]['pv'])"
   ]
  },
  {
   "cell_type": "code",
   "execution_count": null,
   "id": "75527d7c-4db7-4809-8b98-d1d0a81a02ef",
   "metadata": {
    "tags": []
   },
   "outputs": [],
   "source": [
    "b"
   ]
  },
  {
   "cell_type": "code",
   "execution_count": null,
   "id": "0bf3a3d9-25cb-4659-be0f-80e8ffdfaf06",
   "metadata": {
    "tags": []
   },
   "outputs": [],
   "source": [
    "def domoves(b,movl):\n",
    "    for m in movl:\n",
    "        try:\n",
    "            b.push(m)\n",
    "            display( widgets.HTML(str(b._repr_svg_())))\n",
    "        except:\n",
    "            print('ilegal ' , m )\n",
    "            break"
   ]
  },
  {
   "cell_type": "code",
   "execution_count": null,
   "id": "f2d5ac28-0795-4962-9a68-b99f9b09790a",
   "metadata": {
    "tags": []
   },
   "outputs": [],
   "source": []
  },
  {
   "cell_type": "code",
   "execution_count": null,
   "id": "c0dd60d3-f058-4f21-a731-6cd5576508ef",
   "metadata": {
    "tags": []
   },
   "outputs": [],
   "source": [
    "result"
   ]
  },
  {
   "cell_type": "code",
   "execution_count": null,
   "id": "e90189f5-5b2d-49fa-a549-da9456079941",
   "metadata": {
    "tags": []
   },
   "outputs": [],
   "source": [
    "b"
   ]
  },
  {
   "cell_type": "code",
   "execution_count": null,
   "id": "9e3bda6b-42c6-4239-a96a-8581e7e62a29",
   "metadata": {
    "tags": []
   },
   "outputs": [],
   "source": [
    "res3"
   ]
  },
  {
   "cell_type": "code",
   "execution_count": null,
   "id": "2b5142a1-7b87-4316-9ab4-d8e1cf995f82",
   "metadata": {
    "tags": []
   },
   "outputs": [],
   "source": [
    "engine2 = chess.engine.SimpleEngine.popen_uci(STOCKFISHPATH,setpgrp=True)\n",
    "engine2.configure({\"UCI_LimitStrength\": True, \"UCI_Elo\":1500 })\n",
    "res3 = engine2.analyse(b, chess.engine.Limit(depth=13,time=1000),multipv=50,)\n"
   ]
  },
  {
   "cell_type": "code",
   "execution_count": null,
   "id": "5e93018d-f8a3-4bff-8e9a-cd38c7f12242",
   "metadata": {
    "tags": []
   },
   "outputs": [],
   "source": [
    "chess.engine.Limit?"
   ]
  },
  {
   "cell_type": "code",
   "execution_count": null,
   "id": "9aabc0a1-288a-4dbf-b696-78e4abc46df9",
   "metadata": {
    "tags": []
   },
   "outputs": [],
   "source": [
    "len(res3[12]['pv'])"
   ]
  },
  {
   "cell_type": "code",
   "execution_count": null,
   "id": "20a7d592-500d-4274-890d-582dc8201460",
   "metadata": {
    "tags": []
   },
   "outputs": [],
   "source": [
    "import pandas\n",
    "pandas.DataFrame(res3)"
   ]
  },
  {
   "cell_type": "code",
   "execution_count": null,
   "id": "fd19db55-35b0-4208-b843-42639ecc32bf",
   "metadata": {
    "tags": []
   },
   "outputs": [],
   "source": [
    "pandas.DataFrame(res)"
   ]
  },
  {
   "cell_type": "code",
   "execution_count": null,
   "id": "dae8f268-b757-4e7d-953c-dad3b51351a0",
   "metadata": {
    "tags": []
   },
   "outputs": [],
   "source": [
    "len(res3)"
   ]
  },
  {
   "cell_type": "code",
   "execution_count": null,
   "id": "67127141-d1b5-417f-9eb0-cf779dc28f45",
   "metadata": {
    "tags": []
   },
   "outputs": [],
   "source": [
    "res3"
   ]
  },
  {
   "cell_type": "code",
   "execution_count": null,
   "id": "97515653-c5f2-47ef-952c-11bb43d0a1f0",
   "metadata": {
    "tags": []
   },
   "outputs": [],
   "source": [
    "engine.configure({\"Skill Level\": 20})\n",
    "res = engine.analyse(b, chess.engine.Limit(depth=11,time=1000),multipv=500)\n"
   ]
  },
  {
   "cell_type": "code",
   "execution_count": null,
   "id": "b6a1b8f4-585b-4c6c-a7a8-1c2277dce62f",
   "metadata": {
    "tags": []
   },
   "outputs": [],
   "source": [
    "res"
   ]
  },
  {
   "cell_type": "code",
   "execution_count": null,
   "id": "dba584de-6a43-43ee-bfa1-187f25b0bcaa",
   "metadata": {
    "tags": []
   },
   "outputs": [],
   "source": [
    "res2 = engine.analyse(b, chess.engine.Limit(depth=11,time=1000),multipv=500)\n"
   ]
  },
  {
   "cell_type": "code",
   "execution_count": null,
   "id": "790b4c84-567a-4cd5-942c-26274038f5db",
   "metadata": {
    "tags": []
   },
   "outputs": [],
   "source": [
    "res2"
   ]
  },
  {
   "cell_type": "code",
   "execution_count": null,
   "id": "d34a44e4-ec7b-45a9-b122-b3f6bf0a5c1b",
   "metadata": {
    "tags": []
   },
   "outputs": [],
   "source": [
    "len(res2)"
   ]
  },
  {
   "cell_type": "code",
   "execution_count": null,
   "id": "15963eb5-efda-4153-8598-b2e253c272e0",
   "metadata": {},
   "outputs": [],
   "source": []
  },
  {
   "cell_type": "code",
   "execution_count": null,
   "id": "e488b2e9-0893-4fb4-8710-d1657ce480ac",
   "metadata": {
    "tags": []
   },
   "outputs": [],
   "source": [
    "len(res2)"
   ]
  },
  {
   "cell_type": "code",
   "execution_count": null,
   "id": "83797a36-af78-4c9b-b152-029a8f057c44",
   "metadata": {
    "tags": []
   },
   "outputs": [],
   "source": [
    "len(result)"
   ]
  },
  {
   "cell_type": "code",
   "execution_count": null,
   "id": "915f3b43-0736-4f90-97ca-4060e784365c",
   "metadata": {
    "tags": []
   },
   "outputs": [],
   "source": [
    "result"
   ]
  },
  {
   "cell_type": "markdown",
   "id": "efbd1634-5f2b-4e43-b06d-1410d0ee3668",
   "metadata": {
    "jupyter": {
     "outputs_hidden": true
    }
   },
   "source": [
    "## subfish"
   ]
  },
  {
   "cell_type": "code",
   "execution_count": null,
   "id": "ba35539c-f9d8-4ca6-90c2-9bd559820cbd",
   "metadata": {
    "tags": []
   },
   "outputs": [],
   "source": [
    "#import sys\n",
    "#sys.path+=[r\"c:\\gitproj\\sunfish\"]"
   ]
  },
  {
   "cell_type": "code",
   "execution_count": null,
   "id": "52f11346-ce4b-4d25-bcd4-ac1eeb3562dd",
   "metadata": {
    "tags": []
   },
   "outputs": [],
   "source": [
    "from sunfish.tools import uci\n",
    "from sunfish.tools.uci import *\n",
    "from sunfish import sunfish\n",
    "\n",
    "fen='r2Rr1k1/pp3pp1/2p2bbp/4n3/4pBP1/2Q1P1NP/PPP2P2/1K3B1R b - - 0 17'\n",
    "uci.sunfish=sunfish\n",
    "\n",
    "\n",
    "\n",
    "pos=uci.from_fen(*fen.split(\" \"))\n",
    "\n",
    "\n",
    "\n",
    "\n",
    "hist = [pos] if uci.get_color(pos) == WHITE else [pos.rotate(), pos]\n",
    "\n",
    "searcher = sunfish.Searcher()\n",
    "\n",
    "\n",
    "\n",
    "#for depth, gamma, score, mov  in searcher.search(hist):\n",
    "#    print(f\"info depth {depth} score cp {score} nodes {searcher.nodes} mov {mov}\")\n",
    "#    if depth ==7 :\n",
    "#        break "
   ]
  },
  {
   "cell_type": "code",
   "execution_count": null,
   "id": "5d355505-5e3c-42a6-b716-0fa131bb7d32",
   "metadata": {
    "tags": []
   },
   "outputs": [],
   "source": [
    "pos"
   ]
  },
  {
   "cell_type": "code",
   "execution_count": null,
   "id": "6792b6cb-023f-4aac-ab3c-0ff46ee7505e",
   "metadata": {
    "tags": []
   },
   "outputs": [],
   "source": [
    "searcher.top_moves[pos]"
   ]
  },
  {
   "cell_type": "code",
   "execution_count": null,
   "id": "eda07969-6901-49df-b32d-44c35f627814",
   "metadata": {
    "tags": []
   },
   "outputs": [],
   "source": [
    "res=searcher.bound(hist[-1], 0, 5, can_null=False)"
   ]
  },
  {
   "cell_type": "code",
   "execution_count": null,
   "id": "e42604cb-ce01-4a6a-964e-65e81d681aa1",
   "metadata": {
    "tags": []
   },
   "outputs": [],
   "source": [
    "searcher"
   ]
  },
  {
   "cell_type": "code",
   "execution_count": null,
   "id": "7351097e-6e7c-4f41-aad9-021d737059fe",
   "metadata": {
    "tags": []
   },
   "outputs": [],
   "source": [
    "b"
   ]
  },
  {
   "cell_type": "code",
   "execution_count": null,
   "id": "0d588d25-e262-455e-958b-7e3be91fb30a",
   "metadata": {
    "tags": []
   },
   "outputs": [],
   "source": [
    "def convmovlist(b,y):\n",
    "    list(map(lambda x: convit(b,'w',x[0]),y))"
   ]
  },
  {
   "cell_type": "code",
   "execution_count": null,
   "id": "4626631b-b33a-4d83-8b82-cfeecaf1aff4",
   "metadata": {
    "tags": []
   },
   "outputs": [],
   "source": [
    "convit(bb,'w',searcher.top_moves[pp][5][0])"
   ]
  },
  {
   "cell_type": "code",
   "execution_count": null,
   "id": "0d25a9e2-978a-46e6-83a6-4ba1aa37e2d7",
   "metadata": {
    "tags": []
   },
   "outputs": [],
   "source": [
    "pp=pos.move(searcher.top_moves[pos][0][0])"
   ]
  },
  {
   "cell_type": "code",
   "execution_count": null,
   "id": "cb7920b1-25de-4e59-ba1c-a40c599a930c",
   "metadata": {
    "tags": []
   },
   "outputs": [],
   "source": [
    "bb=chess.Board( to_fen(pp,'b'))"
   ]
  },
  {
   "cell_type": "code",
   "execution_count": null,
   "id": "e09a0c1b-4d64-4c9d-bec5-2b34093bfe2f",
   "metadata": {
    "tags": []
   },
   "outputs": [],
   "source": [
    "bb"
   ]
  },
  {
   "cell_type": "code",
   "execution_count": null,
   "id": "65e4dd2d-d3ed-4f4e-b614-2cc6603e0c63",
   "metadata": {
    "tags": []
   },
   "outputs": [],
   "source": [
    "print(convmovlist(bb,searcher.top_moves[pp]))"
   ]
  },
  {
   "cell_type": "code",
   "execution_count": null,
   "id": "45addecc-b5e9-4ce0-8269-36a8439c6f0c",
   "metadata": {
    "tags": []
   },
   "outputs": [],
   "source": [
    "pp=pos.move(searcher.top_moves[pos][0][0])"
   ]
  },
  {
   "cell_type": "code",
   "execution_count": null,
   "id": "313c1e4b-ba99-4673-bdcd-bda341933cf4",
   "metadata": {
    "tags": []
   },
   "outputs": [],
   "source": [
    "pp2=pp.move(searcher.top_moves[pp2][0][0])"
   ]
  },
  {
   "cell_type": "code",
   "execution_count": null,
   "id": "a4c3edba-3509-4c5e-8fcc-0a25828962ae",
   "metadata": {
    "tags": []
   },
   "outputs": [],
   "source": [
    "pp.score"
   ]
  },
  {
   "cell_type": "code",
   "execution_count": null,
   "id": "dec837d7-f6f5-4b80-a3bb-2da7901adac9",
   "metadata": {
    "tags": []
   },
   "outputs": [],
   "source": [
    "searcher.top_moves[pp2][0][0]"
   ]
  },
  {
   "cell_type": "code",
   "execution_count": null,
   "id": "da7f8b01-674a-4887-9f2e-487ba3de8ca5",
   "metadata": {},
   "outputs": [],
   "source": [
    "convi"
   ]
  },
  {
   "cell_type": "code",
   "execution_count": null,
   "id": "84124fc0-8f62-4882-8fb4-34498ce5fd42",
   "metadata": {
    "tags": []
   },
   "outputs": [],
   "source": [
    "searcher.top_moves[pp]"
   ]
  },
  {
   "cell_type": "code",
   "execution_count": null,
   "id": "b51f48f3-ff2f-4d14-babd-b29c1eb76305",
   "metadata": {
    "tags": []
   },
   "outputs": [],
   "source": [
    "searcher.top_moves[pos]"
   ]
  },
  {
   "cell_type": "code",
   "execution_count": null,
   "id": "235793d1-e211-4c89-8fc4-9419e674452a",
   "metadata": {
    "tags": []
   },
   "outputs": [],
   "source": [
    "%run C:\\gitproj\\sunfish\\src\\tools\\uci.py\n",
    "def to_fen(pos,color):\n",
    "    if color == 'b':\n",
    "        pos=pos.rotate()\n",
    "    \n",
    "    board = pos.board\n",
    "    fen = []\n",
    "    empty = 0\n",
    "    for c in board:\n",
    "        if c == \"\\n\":\n",
    "            if empty > 0:\n",
    "                fen.append(str(empty))\n",
    "                empty = 0\n",
    "            fen.append('/')\n",
    "        if c.isspace():\n",
    "            continue\n",
    "        if c == '.':\n",
    "            empty += 1\n",
    "        else:\n",
    "            if empty > 0:\n",
    "                fen.append(str(empty))\n",
    "                empty = 0\n",
    "            fen.append(c)\n",
    "        \n",
    "    fen = ''.join(fen)\n",
    "    if empty > 0:\n",
    "        fen += str(empty)\n",
    "    fen += ' '+color\n",
    "    \n",
    "    castling = ''\n",
    "    if pos.wc[0]: castling += 'Q'\n",
    "    if pos.wc[1]: castling += 'K'\n",
    "    if pos.bc[0]: castling += 'q'\n",
    "    if pos.bc[1]: castling += 'k'\n",
    "    if castling == '': castling = '-'\n",
    "\n",
    "    fen += ' '+ castling\n",
    "    fen += ' ' + (sunfish.render(pos.ep) if pos.ep else '-') + ' 0 1'\n",
    "    return fen.replace(\"///\",\"\").replace(\"//\",\"\")\n",
    "\n",
    "to_fen(pos,'b')"
   ]
  },
  {
   "cell_type": "code",
   "execution_count": null,
   "id": "538d42b7-55bc-4c30-94b7-fb2a6e9f8a0a",
   "metadata": {
    "tags": []
   },
   "outputs": [],
   "source": [
    "split(fen,\" \")"
   ]
  },
  {
   "cell_type": "code",
   "execution_count": null,
   "id": "7abd4662-4688-4c07-8015-a686ebdac46b",
   "metadata": {
    "tags": []
   },
   "outputs": [],
   "source": [
    "pos.bc"
   ]
  },
  {
   "cell_type": "code",
   "execution_count": null,
   "id": "fa7180fd-3c9f-4843-920a-206cbf8ecc99",
   "metadata": {
    "tags": []
   },
   "outputs": [],
   "source": [
    "fen"
   ]
  },
  {
   "cell_type": "code",
   "execution_count": null,
   "id": "b18949c8-be45-484b-9311-a4ec3b526f10",
   "metadata": {
    "tags": []
   },
   "outputs": [],
   "source": [
    "pos.fen()"
   ]
  },
  {
   "cell_type": "code",
   "execution_count": null,
   "id": "90be0a3a-c1e2-4366-9630-ab456317a529",
   "metadata": {
    "tags": []
   },
   "outputs": [],
   "source": [
    "b"
   ]
  },
  {
   "cell_type": "code",
   "execution_count": null,
   "id": "9a204965-e56e-4d26-8352-1db5976aed40",
   "metadata": {
    "tags": []
   },
   "outputs": [],
   "source": [
    "uci.pv(searcher,pos,include_scores=False)"
   ]
  },
  {
   "cell_type": "code",
   "execution_count": null,
   "id": "ce52eea4-3c60-4816-8cd7-8119937fe10d",
   "metadata": {},
   "outputs": [],
   "source": []
  },
  {
   "cell_type": "code",
   "execution_count": null,
   "id": "fb507550-1e67-45f9-95f1-acfa3fb6c993",
   "metadata": {
    "tags": []
   },
   "outputs": [],
   "source": [
    "\" \".join(map(str,pos))"
   ]
  },
  {
   "cell_type": "code",
   "execution_count": null,
   "id": "7fdd3613-957a-4eac-9426-2dd91efef38b",
   "metadata": {
    "tags": []
   },
   "outputs": [],
   "source": [
    "lll=list(map(lambda x: to_fen(x[0],'w') ,res['sequences']))"
   ]
  },
  {
   "cell_type": "code",
   "execution_count": null,
   "id": "abca949b-901a-4107-abf9-2684244a823c",
   "metadata": {
    "tags": []
   },
   "outputs": [],
   "source": [
    "display_board( lll[6],simp=True)"
   ]
  },
  {
   "cell_type": "code",
   "execution_count": null,
   "id": "fdf745f5-9ec3-4278-853a-ffa826f3b038",
   "metadata": {
    "tags": []
   },
   "outputs": [],
   "source": [
    "b"
   ]
  },
  {
   "cell_type": "code",
   "execution_count": null,
   "id": "713bc96c-9bf1-4385-927f-1487a26f76e5",
   "metadata": {
    "tags": []
   },
   "outputs": [],
   "source": [
    "nfen = ' r2Rr1k1/pp3pp1/2p2bbp/4n3/4pBP1/4P1NP/PPP2P2/1K1Q1B1R b - - 0 17'"
   ]
  },
  {
   "cell_type": "code",
   "execution_count": null,
   "id": "0a009973-f2c8-472b-a9b3-1943134cfb95",
   "metadata": {
    "tags": []
   },
   "outputs": [],
   "source": [
    "display_board(nfen)"
   ]
  },
  {
   "cell_type": "code",
   "execution_count": null,
   "id": "e71c8129-95d0-4591-8ce2-74edd188ef22",
   "metadata": {
    "tags": []
   },
   "outputs": [],
   "source": [
    "pv(searcher, pos,include_scores=True)"
   ]
  },
  {
   "cell_type": "code",
   "execution_count": null,
   "id": "40d5fe85-7235-422b-a330-cfb7a3def892",
   "metadata": {
    "tags": []
   },
   "outputs": [],
   "source": [
    "zz=[(val,convtrans(move)) for val, move in sorted(((pos.value(m), m) for m in pos.gen_moves()), reverse=True)]\n",
    "    "
   ]
  },
  {
   "cell_type": "code",
   "execution_count": null,
   "id": "74ce0b11-9bb9-45e2-9f95-a9d406254d32",
   "metadata": {},
   "outputs": [],
   "source": []
  },
  {
   "cell_type": "code",
   "execution_count": null,
   "id": "b3ca0abc-caac-40fa-b279-08b4420bf1ec",
   "metadata": {
    "tags": []
   },
   "outputs": [],
   "source": [
    "b"
   ]
  },
  {
   "cell_type": "code",
   "execution_count": null,
   "id": "332cfb69-b4c1-4bad-a6d2-e181f4e5e99a",
   "metadata": {},
   "outputs": [],
   "source": []
  },
  {
   "cell_type": "code",
   "execution_count": null,
   "id": "889f21f2-c0c8-422a-887f-fac96352773b",
   "metadata": {
    "tags": []
   },
   "outputs": [],
   "source": [
    "zz"
   ]
  },
  {
   "cell_type": "code",
   "execution_count": null,
   "id": "6fd86fea-c74b-4eec-9467-e37bdce9b8ec",
   "metadata": {
    "tags": []
   },
   "outputs": [],
   "source": [
    "move = chess.Move.from_uci(\"g1f3\")"
   ]
  },
  {
   "cell_type": "code",
   "execution_count": null,
   "id": "1a8fd875-64c8-4182-b39b-cd78526ec533",
   "metadata": {
    "tags": []
   },
   "outputs": [],
   "source": [
    "move."
   ]
  },
  {
   "cell_type": "code",
   "execution_count": null,
   "id": "f51856e1-871a-463e-801f-004aacebd09f",
   "metadata": {
    "tags": []
   },
   "outputs": [],
   "source": [
    "searcher.search?"
   ]
  },
  {
   "cell_type": "code",
   "execution_count": null,
   "id": "81df7fd4-712f-4132-bb36-8b71e85dff81",
   "metadata": {},
   "outputs": [],
   "source": []
  },
  {
   "cell_type": "code",
   "execution_count": null,
   "id": "3f385b6a-8b8f-4745-87b8-c6d6e13274a4",
   "metadata": {
    "tags": []
   },
   "outputs": [],
   "source": [
    "conv(mov)"
   ]
  },
  {
   "cell_type": "code",
   "execution_count": null,
   "id": "cbbed0c1-0ab3-48b4-9af9-2dd684c09176",
   "metadata": {
    "tags": []
   },
   "outputs": [],
   "source": [
    "mov"
   ]
  },
  {
   "cell_type": "code",
   "execution_count": null,
   "id": "cc3034f9-3dba-48af-9ee2-ef32f38fa463",
   "metadata": {
    "tags": []
   },
   "outputs": [],
   "source": [
    "display_board(fen)"
   ]
  },
  {
   "cell_type": "code",
   "execution_count": null,
   "id": "c0f52769-f304-4833-b3d4-4186e53092c5",
   "metadata": {
    "tags": []
   },
   "outputs": [],
   "source": [
    "def display_board2(fen,iswhite=None):\n",
    "    mycalc=Calculator(engine,engine)\n",
    "    b=chess.Board(fen)\n",
    "    if iswhite is None:\n",
    "        iswhite= b.turn\n",
    "    display( widgets.HTML(str(b._repr_svg_())))\n",
    "    mycalc.print_stats(b,iswhite)\n",
    "    "
   ]
  },
  {
   "cell_type": "code",
   "execution_count": null,
   "id": "4fe4959d-d425-4cf3-a4ff-8507a1dd6fdb",
   "metadata": {
    "tags": []
   },
   "outputs": [],
   "source": [
    "display_board2(fen)"
   ]
  },
  {
   "cell_type": "code",
   "execution_count": null,
   "id": "2b17a0d8-37fa-4ed5-a1da-47656392d988",
   "metadata": {},
   "outputs": [],
   "source": []
  }
 ],
 "metadata": {
  "kernelspec": {
   "display_name": "Python 3 (ipykernel)",
   "language": "python",
   "name": "python3"
  },
  "language_info": {
   "codemirror_mode": {
    "name": "ipython",
    "version": 3
   },
   "file_extension": ".py",
   "mimetype": "text/x-python",
   "name": "python",
   "nbconvert_exporter": "python",
   "pygments_lexer": "ipython3",
   "version": "3.10.0rc2"
  }
 },
 "nbformat": 4,
 "nbformat_minor": 5
}
