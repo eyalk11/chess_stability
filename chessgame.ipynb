{
 "cells": [
  {
   "cell_type": "code",
   "execution_count": 20,
   "id": "5d6512f9-d432-4735-b07d-536748bb6266",
   "metadata": {
    "ExecuteTime": {
     "end_time": "2023-12-05T02:03:15.483343200Z",
     "start_time": "2023-12-05T02:03:15.325344700Z"
    }
   },
   "outputs": [],
   "source": [
    "import chess\n",
    "\n",
    "import ipywidgets as widgets\n",
    "import chess.pgn\n",
    "import numpy as np\n",
    "import io\n",
    "pgn='''[Event \"Biel Chess Festival\"]\n",
    "[Site \"Biel SUI\"]\n",
    "[Date \"2007.08.02\"]\n",
    "[Round \"9\"]\n",
    "[White \"Magnus Carlsen\"]\n",
    "[Black \"Teimour Radjabov\"]\n",
    "[Result \"1-0\"]\n",
    "[EventDate \"?\"]\n",
    "[ECO \"B07\"]\n",
    "[WhiteElo \"2710\"]\n",
    "[BlackElo \"2747\"]\n",
    "[PlyCount \"55\"]\n",
    "\n",
    "1. e4 d6 2. d4 Nf6 3. Nc3 e5 4. Nge2 Nbd7 5. g3 c6 6. Bg2 b5 7. a3 Be7 8. O-O\n",
    "O-O 9. h3 a5 10. g4 Ba6 11. Ng3 b4 12. Nce2 bxa3 13. Rxa3 d5 14. Re3 dxe4 15.\n",
    "Re1 Qc7 16. Nf5 Bd8 17. g5 Nd5 18. Rxe4 f6 19. Neg3 g6 20. Nh6+ Kg7 21. dxe5\n",
    "fxg5 22. e6 Kxh6 23. e7 Qb6 24. exf8=Q+ Nxf8 25. c4 Nf4 26. Qd6 Kg7 27. Bxf4\n",
    "gxf4 28. Re7+ 1-0'''"
   ]
  },
  {
   "cell_type": "code",
   "execution_count": 80,
   "id": "193c46d7-97a8-4ca5-877d-b554a8cbf05f",
   "metadata": {
    "ExecuteTime": {
     "end_time": "2023-12-05T02:08:48.108171400Z",
     "start_time": "2023-12-05T02:08:40.546175400Z"
    }
   },
   "outputs": [],
   "source": [
    "SIGMA= 5\n",
    "FRACFACTOR=2\n",
    "SCORECUTOFF=200\n",
    "STOCKFISHPATH=r'c:/gitproj/stockfish/stockfish-windows-x86-64-avx2.exe'\n",
    "STOCKFISHDEPTH=10\n",
    "import nest_asyncio\n",
    "nest_asyncio.apply()\n",
    "from ipywidgets import interact, interactive, fixed, interact_manual, SelectMultiple, Combobox, HBox, VBox\n",
    "import ipywidgets as widgets\n",
    "from collections import defaultdict\n",
    "import asyncio\n",
    "#b = Button(description='HideShow')\n",
    "import chess.engine\n",
    "from chess import Board \n",
    "def get_score(b,white):\n",
    "    cc= engine.analyse(b, chess.engine.Limit(depth=STOCKFISHDEPTH))['score']\n",
    "    \n",
    "    if type(cc.relative) is chess.engine.Mate or  type(cc.relative) is chess.engine.MateGiven:\n",
    "        if cc.relative< chess.engine.Cp(-500):\n",
    "            return -5000\n",
    "        else:\n",
    "            return 5000\n",
    "    \n",
    "    \n",
    "    if cc.relative.score() is None:\n",
    "        print(cc)\n",
    "        print(cc.score())\n",
    "        breakpoint()\n",
    "    return cc.relative.score() * (1 if white else (-1))\n",
    "    \n",
    "#Box( current_board\n",
    "from stockfish import Stockfish\n",
    "engine = chess.engine.SimpleEngine.popen_uci(STOCKFISHPATH)\n",
    "\n",
    "\n",
    "\n",
    "async def calc_moves_score_int(cur, white, curdep, maxdepth, oldeval, l):\n",
    "    from aiostream import stream\n",
    "    fen=cur.fen()\n",
    "    from aiostream import stream, pipe\n",
    "\n",
    "    async with stream.iterate(cur.generate_legal_moves()).stream() as it:\n",
    "        async for z in it: #stream.list(cur.generate_legal_moves()):\n",
    "            cur=Board(fen=fen)\n",
    "            cur.push(z)\n",
    "            ev = get_score(cur, not white)\n",
    "            g = ev - oldeval\n",
    "            if white and g < (-1) * SCORECUTOFF: #too bad\n",
    "                cur.pop()\n",
    "                continue \n",
    "            elif g > SCORECUTOFF:\n",
    "                cur.pop()\n",
    "                continue\n",
    "            \n",
    "            l[curdep] += 1\n",
    "            \n",
    "            if curdep == maxdepth:\n",
    "                yield ev\n",
    "            else:\n",
    "                async for k in  calc_moves_score_int(cur, not white, curdep + 1, maxdepth, ev, l):\n",
    "                    yield k\n",
    "            \n",
    "            cur.pop()\n",
    "def print_stats(curb,iswhite):\n",
    "    try:\n",
    "      \n",
    "        init,origg,stab,b,lev =  calc_stability(curb,iswhite)\n",
    "        ls=['score','stability factor' , 'num of reasonable moves' , 'max(score) of reasonable','min(score)  of reasonable','faraction method','moves by depth']\n",
    "        tup=('%.2f' % (init/100),('%.2f' % (stab*100))+'%',len(origg),max(origg),min(origg),b,dict(lev))\n",
    "        for a,b in zip(ls,tup):\n",
    "            print(a+ ': '+str(b))\n",
    "    except Exception as e:\n",
    "        import traceback\n",
    "        print(traceback.format_exc())\n",
    "\n",
    "def calc_moves_score(cur,white,oldeval,depth=2):\n",
    "    from aiostream import stream\n",
    "\n",
    "    async def tmp():\n",
    "        xx=  await stream.list(calc_moves_score_int(cur, white, 1, depth, oldeval, lev))\n",
    "        return xx\n",
    "        \n",
    "    lev= defaultdict(int)\n",
    "    ll = asyncio.run(tmp())\n",
    "    return ll,lev\n",
    "\n",
    "def calc_stability(cur_board,iswhite):\n",
    "    '''\n",
    "    calcs stability by first getting score of all reasonable moves, then apply calculation(see readme). \n",
    "    returns initial score, vector of diff vs initial score, stability factor, if fraction method\n",
    "    '''\n",
    "    init=get_score(cur_board,iswhite)\n",
    "    arr,lev=calc_moves_score(cur_board,iswhite,init)\n",
    "    g=np.array(arr,dtype=\"float64\")\n",
    "    g-=init\n",
    "    g/=100\n",
    "    \n",
    "    orig_vec=np.copy(g)\n",
    "    b=False\n",
    "    if abs(init)>200:\n",
    "        b=True\n",
    "        g=g/(init/100) * FRACFACTOR #TODO:to make continous...\n",
    "    else:\n",
    "        b=False\n",
    "    \n",
    "    g= (-1)*np.square(g) *SIGMA\n",
    "    g=np.exp(g)\n",
    "    stab=np.sum(g)/len(g)\n",
    "    return init,orig_vec,stab,b,lev\n",
    "    \n",
    "def display_game(pgn):      \n",
    "    def rev(x):\n",
    "        a.value=(a.value-1)\n",
    "    def adv(x):\n",
    "        a.value=(a.value+1)\n",
    "    p=chess.pgn.read_game(io.StringIO(pgn))\n",
    "    gam=p.game()\n",
    "    current_board= widgets.HTML( str(gam.board()._repr_svg_())) \n",
    "    from ipywidgets import Layout, Button, Box, FloatText, Textarea, Dropdown, Label, IntSlider\n",
    "    \n",
    "    butl=Layout(width='35px',justify_content='center')\n",
    "    ba=widgets.Button(description='<',layout=butl)\n",
    "    ba.on_click(rev)\n",
    "    ne=widgets.Button(description='>',layout=butl)\n",
    "    ne.on_click(adv)\n",
    "    mmax=len(list(gam.mainline_moves()))\n",
    "    a = widgets.IntSlider(value=0, min=0, max=mmax)\n",
    "    items = [ba,ne, widgets.Button(description='R',layout=butl),a]\n",
    "    \n",
    "\n",
    "    gb2 = widgets.HBox(items,layout=Layout(display='flex',\n",
    "            flex_flow='row',\n",
    "            align_items='stretch',\n",
    "            width='100%'))\n",
    "    def f2(a):\n",
    "        cur=gam\n",
    "        for k in range(a):\n",
    "            cur=cur.next()\n",
    "        display( widgets.HTML(str(cur.board()._repr_svg_())))\n",
    "    \n",
    "                \n",
    "    def f3(a):\n",
    "        cur=gam\n",
    "        for k in range(a):\n",
    "            cur=cur.next()\n",
    "        \n",
    "        iswhite= (a%2 ==0)\n",
    "        \n",
    "        curb=cur.board()\n",
    "        #display(list(curb.generate_legal_moves()))\n",
    "        print_stats(curb,iswhite)\n",
    "            \n",
    "        \n",
    "        \n",
    "        \n",
    "    \n",
    "    return VBox([gb2,widgets.interactive_output(f2,{'a':a}),widgets.interactive_output(f3,{'a':a})],layout=Layout(\n",
    "        display='flex',\n",
    "        flex_flow='column',\n",
    "        align_items='stretch',\n",
    "        width='90%'\n",
    "    ) )\n",
    "\n",
    "def display_board(fen,iswhite=None):\n",
    "    b=chess.Board(fen)\n",
    "    if iswhite is None:\n",
    "        iswhite= b.turn\n",
    "    display( widgets.HTML(str(b._repr_svg_())))\n",
    "    print_stats(b,iswhite)\n",
    "    \n",
    "    \n",
    "p=chess.pgn.read_game(io.StringIO(pgn))\n",
    "gg=p.game()\n",
    "#list(calc_b(gg.next().next().next(),False,-55))\n"
   ]
  },
  {
   "cell_type": "code",
   "execution_count": 68,
   "id": "491eec91-6e30-4d6c-89b8-aab591dff11b",
   "metadata": {
    "ExecuteTime": {
     "end_time": "2023-12-05T01:12:45.126342800Z",
     "start_time": "2023-12-05T01:12:41.170346500Z"
    }
   },
   "outputs": [
    {
     "data": {
      "application/vnd.jupyter.widget-view+json": {
       "model_id": "d1fa0abde1de4ecd8c11e6fe5c897825",
       "version_major": 2,
       "version_minor": 0
      },
      "text/plain": [
       "VBox(children=(HBox(children=(Button(description='<', layout=Layout(justify_content='center', width='35px'), s…"
      ]
     },
     "execution_count": 68,
     "metadata": {},
     "output_type": "execute_result"
    }
   ],
   "source": [
    "display_game(pgn)"
   ]
  },
  {
   "cell_type": "code",
   "execution_count": null,
   "id": "01b72468-5032-4c06-ade8-f0417ba23d08",
   "metadata": {
    "collapsed": true,
    "jupyter": {
     "outputs_hidden": true
    }
   },
   "outputs": [],
   "source": [
    "\n",
    "\n",
    "display_game(pgn)"
   ]
  },
  {
   "cell_type": "markdown",
   "id": "9e116a25-b3d3-4502-906f-dbe8d2112d90",
   "metadata": {
    "collapsed": true,
    "jupyter": {
     "outputs_hidden": true
    }
   },
   "source": [
    "## my stupid game"
   ]
  },
  {
   "cell_type": "code",
   "execution_count": 23,
   "id": "d8b9d5df-12ce-4492-a882-8ed6924721a7",
   "metadata": {},
   "outputs": [],
   "source": [
    "pgn2='''\n",
    "[Event \"Live Chess\"]\n",
    "[Site \"Chess.com\"]\n",
    "[Date \"2023.12.05\"]\n",
    "[Round \"?\"]\n",
    "[White \"nevertheless33\"]\n",
    "[Black \"andrewmoussa\"]\n",
    "[Result \"1-0\"]\n",
    "[ECO \"D01\"]\n",
    "[TimeControl \"300\"]\n",
    "[EndTime \"14:11:45 PST\"]\n",
    "[Termination \"nevertheless33 won by resignation\"]\n",
    "\n",
    "1. d4 d5 2. Nc3 Nf6 3. Bg5 Ne4 4. Nxe4 dxe4 5. Qd2 h6 6. Be3 Bf5 7. h3 e6 8. g4\n",
    "Bg6 9. O-O-O Be7 10. Kb1 O-O 11. Bf4 Nd7 12. Qc3 c6 13. e3 Bf6 14. Ne2 Re8 15.\n",
    "Ng3 e5 16. dxe5 Nxe5 17. Rxd8 Raxd8 18. Be2 Nc4 19. Qxc4 b5 20. Qxc6 Re6 21. Qc7\n",
    "Ra6 22. Rd1 Rxd1+ 23. Bxd1 Rb6 24. Bd6 Ra6 25. Qc8+ 1-0'''"
   ]
  },
  {
   "cell_type": "code",
   "execution_count": 81,
   "id": "8f41d22e-5f3b-41a8-9307-2081ae654830",
   "metadata": {},
   "outputs": [
    {
     "data": {
      "application/vnd.jupyter.widget-view+json": {
       "model_id": "2358dbae88f345618dc892059700c3de",
       "version_major": 2,
       "version_minor": 0
      },
      "text/plain": [
       "VBox(children=(HBox(children=(Button(description='<', layout=Layout(justify_content='center', width='35px'), s…"
      ]
     },
     "execution_count": 81,
     "metadata": {},
     "output_type": "execute_result"
    }
   ],
   "source": [
    "display_game(pgn2)"
   ]
  },
  {
   "cell_type": "code",
   "execution_count": 79,
   "id": "354c313b-05e7-4b25-9742-c9aff1ac482c",
   "metadata": {},
   "outputs": [
    {
     "data": {
      "application/vnd.jupyter.widget-view+json": {
       "model_id": "52c66fd5cc4047b388a949b22501897b",
       "version_major": 2,
       "version_minor": 0
      },
      "text/plain": [
       "HTML(value='<svg xmlns=\"http://www.w3.org/2000/svg\" xmlns:xlink=\"http://www.w3.org/1999/xlink\" viewBox=\"0 0 39…"
      ]
     },
     "metadata": {},
     "output_type": "display_data"
    },
    {
     "name": "stdout",
     "output_type": "stream",
     "text": [
      "score: -3.72\n",
      "stability factor: 38.85%\n",
      "num of reasonable moves: 14\n",
      "max(score) of reasonable: 2.25\n",
      "min(score)  of reasonable: -0.12\n",
      "faraction method: True\n",
      "moves by depth: {1: 2, 2: 14}\n"
     ]
    }
   ],
   "source": [
    "display_board('r2Rr1k1/pp3pp1/2p2bbp/4n3/4pBP1/2Q1P1NP/PPP2P2/1K3B1R b - - 0 17',True)"
   ]
  }
 ],
 "metadata": {
  "kernelspec": {
   "display_name": "Python 3 (ipykernel)",
   "language": "python",
   "name": "python3"
  },
  "language_info": {
   "codemirror_mode": {
    "name": "ipython",
    "version": 3
   },
   "file_extension": ".py",
   "mimetype": "text/x-python",
   "name": "python",
   "nbconvert_exporter": "python",
   "pygments_lexer": "ipython3",
   "version": "3.10.0rc2"
  }
 },
 "nbformat": 4,
 "nbformat_minor": 5
}
